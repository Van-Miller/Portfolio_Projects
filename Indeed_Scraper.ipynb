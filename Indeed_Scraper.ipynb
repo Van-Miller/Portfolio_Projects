{
 "cells": [
  {
   "cell_type": "code",
   "execution_count": 11,
   "id": "770c9308",
   "metadata": {},
   "outputs": [
    {
     "name": "stdout",
     "output_type": "stream",
     "text": [
      "Enter job query: math\n",
      "Enter job location: lake charles la\n",
      "Number of pages: 1\n"
     ]
    }
   ],
   "source": [
    "# Import required libraries\n",
    "\n",
    "import time\n",
    "from selenium import webdriver\n",
    "from selenium.webdriver.chrome.service import Service\n",
    "import csv\n",
    "from webdriver_manager.chrome import ChromeDriverManager\n",
    "from bs4 import BeautifulSoup\n",
    "\n",
    "# User Input\n",
    "\n",
    "query = input(\"Enter job search term: \")\n",
    "location = input(\"Enter job location: \")\n",
    "num_pages = int(input(\"Enter the number of pages to scrape: \"))\n",
    "\n",
    "\n",
    "start_list = [page * 10 for page in range(num_pages)]\n",
    "base_url = \"https://www.indeed.com\"\n",
    "\n",
    "#driver = webdriver.Chrome(ChromeDriverManager().install())\n",
    "driver = webdriver.Chrome(service=Service(ChromeDriverManager().install()))\n",
    "\n",
    "\n",
    "for start in start_list:\n",
    "    url = base_url + f'/jobs?q={query}&l={location}&start={start}'\n",
    "    driver.execute_script(f\"window.open('{url}', 'tab{start}');\")\n",
    "    time.sleep(1)\n",
    "\n",
    "with open(f'{query}_{location}_job_results.csv', 'w', newline='', encoding='utf-8') as csvfile:\n",
    "    writer = csv.writer(csvfile)\n",
    "    writer.writerow(['Job Title', 'Company', 'Location', 'Job Link', 'Salary'])\n",
    "    for start in start_list:\n",
    "        driver.switch_to.window(f'tab{start}')\n",
    "\n",
    "        soup = BeautifulSoup(driver.page_source, 'html.parser')\n",
    "        items = soup.find_all('td', {'class': 'resultContent'})\n",
    "\n",
    "        for job in items:\n",
    "            s_link = job.find('a').get('href')\n",
    "            job_title = job.find('span', title=True).text.strip()\n",
    "            company = job.find('span', class_='companyName').text.strip()\n",
    "            location = job.find('div', class_='companyLocation').text.strip()\n",
    "            if job.find('div', class_='metadata salary-snippet-container'):\n",
    "                salary = job.find('div', class_='metadata salary-snippet-container').text\n",
    "            elif job.find('div', class_='metadata estimated-salary-container'):\n",
    "                salary = job.find('div', class_='metadata estimated-salary-container').text\n",
    "            else:\n",
    "                salary = \"\"\n",
    "\n",
    "            job_link = base_url + s_link\n",
    "\n",
    "            writer.writerow([job_title, company, location, job_link, salary])\n",
    "\n",
    "        driver.close()\n",
    "\n",
    "\n",
    "driver.quit()"
   ]
  },
  {
   "cell_type": "code",
   "execution_count": null,
   "id": "93597722",
   "metadata": {},
   "outputs": [],
   "source": []
  }
 ],
 "metadata": {
  "kernelspec": {
   "display_name": "Python 3 (ipykernel)",
   "language": "python",
   "name": "python3"
  },
  "language_info": {
   "codemirror_mode": {
    "name": "ipython",
    "version": 3
   },
   "file_extension": ".py",
   "mimetype": "text/x-python",
   "name": "python",
   "nbconvert_exporter": "python",
   "pygments_lexer": "ipython3",
   "version": "3.10.9"
  }
 },
 "nbformat": 4,
 "nbformat_minor": 5
}
