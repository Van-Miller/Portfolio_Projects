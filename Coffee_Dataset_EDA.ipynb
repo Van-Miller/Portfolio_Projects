{
 "cells": [
  {
   "cell_type": "markdown",
   "id": "30b32380",
   "metadata": {},
   "source": [
    "<font size=\"5\">Initial Exploratory Data Analysis (EDA) of Domestic Consumption Coffee Data</font><br /><br />\n",
    "The data was collected from the official International Coffee Organization website: https://www.ico.org/new_historical.asp.<br /> <br />"
   ]
  },
  {
   "cell_type": "code",
   "execution_count": 49,
   "id": "73080845",
   "metadata": {},
   "outputs": [],
   "source": [
    "# Import packages\n",
    "\n",
    "import numpy as np\n",
    "import pandas as pd\n",
    "\n",
    "import matplotlib.pyplot as plt\n",
    "import seaborn as sns\n",
    "import plotly.express as px\n",
    "\n",
    "\n",
    "# Display all columns in dataframes\n",
    "pd.set_option('display.max_columns', None)\n"
   ]
  },
  {
   "cell_type": "code",
   "execution_count": 50,
   "id": "f450b562",
   "metadata": {},
   "outputs": [],
   "source": [
    "# Load dataset into dataframe\n",
    "\n",
    "coffee_domestic_consumption_0 = pd.read_csv(r\"C:\\Users\\Vanja\\OneDrive\\Desktop\\Datasets\\Coffee EDA\\Coffee_domestic_consumption.csv\")\n"
   ]
  },
  {
   "cell_type": "markdown",
   "id": "ef2e95d0",
   "metadata": {},
   "source": [
    "<font size=\"5\">Domestic Consumption:</font><br /> <br />\n",
    "In this analysis, domestic consumption references the amount of coffee in grams that are bought and used in the same country that grew it."
   ]
  },
  {
   "cell_type": "code",
   "execution_count": 51,
   "id": "07651343",
   "metadata": {},
   "outputs": [
    {
     "data": {
      "text/html": [
       "<div>\n",
       "<style scoped>\n",
       "    .dataframe tbody tr th:only-of-type {\n",
       "        vertical-align: middle;\n",
       "    }\n",
       "\n",
       "    .dataframe tbody tr th {\n",
       "        vertical-align: top;\n",
       "    }\n",
       "\n",
       "    .dataframe thead th {\n",
       "        text-align: right;\n",
       "    }\n",
       "</style>\n",
       "<table border=\"1\" class=\"dataframe\">\n",
       "  <thead>\n",
       "    <tr style=\"text-align: right;\">\n",
       "      <th></th>\n",
       "      <th>Country</th>\n",
       "      <th>Coffee type</th>\n",
       "      <th>1990/91</th>\n",
       "      <th>1991/92</th>\n",
       "      <th>1992/93</th>\n",
       "      <th>1993/94</th>\n",
       "      <th>1994/95</th>\n",
       "      <th>1995/96</th>\n",
       "      <th>1996/97</th>\n",
       "      <th>1997/98</th>\n",
       "      <th>1998/99</th>\n",
       "      <th>1999/00</th>\n",
       "      <th>2000/01</th>\n",
       "      <th>2001/02</th>\n",
       "      <th>2002/03</th>\n",
       "      <th>2003/04</th>\n",
       "      <th>2004/05</th>\n",
       "      <th>2005/06</th>\n",
       "      <th>2006/07</th>\n",
       "      <th>2007/08</th>\n",
       "      <th>2008/09</th>\n",
       "      <th>2009/10</th>\n",
       "      <th>2010/11</th>\n",
       "      <th>2011/12</th>\n",
       "      <th>2012/13</th>\n",
       "      <th>2013/14</th>\n",
       "      <th>2014/15</th>\n",
       "      <th>2015/16</th>\n",
       "      <th>2016/17</th>\n",
       "      <th>2017/18</th>\n",
       "      <th>2018/19</th>\n",
       "      <th>2019/20</th>\n",
       "      <th>Total_domestic_consumption</th>\n",
       "    </tr>\n",
       "  </thead>\n",
       "  <tbody>\n",
       "    <tr>\n",
       "      <th>0</th>\n",
       "      <td>Angola</td>\n",
       "      <td>Robusta/Arabica</td>\n",
       "      <td>1200000</td>\n",
       "      <td>1800000</td>\n",
       "      <td>2100000</td>\n",
       "      <td>1200000</td>\n",
       "      <td>1500000</td>\n",
       "      <td>600000</td>\n",
       "      <td>1200000</td>\n",
       "      <td>2400000</td>\n",
       "      <td>1800000</td>\n",
       "      <td>1200000</td>\n",
       "      <td>1200000</td>\n",
       "      <td>1200000</td>\n",
       "      <td>1200000</td>\n",
       "      <td>900000</td>\n",
       "      <td>900000</td>\n",
       "      <td>900000</td>\n",
       "      <td>1800000</td>\n",
       "      <td>1800000</td>\n",
       "      <td>1800000</td>\n",
       "      <td>1800000</td>\n",
       "      <td>1800000</td>\n",
       "      <td>1800000</td>\n",
       "      <td>1800000</td>\n",
       "      <td>1800000</td>\n",
       "      <td>1800000</td>\n",
       "      <td>1800000</td>\n",
       "      <td>1800000</td>\n",
       "      <td>1800000</td>\n",
       "      <td>1800000</td>\n",
       "      <td>1800000</td>\n",
       "      <td>46500000</td>\n",
       "    </tr>\n",
       "    <tr>\n",
       "      <th>1</th>\n",
       "      <td>Bolivia (Plurinational State of)</td>\n",
       "      <td>Arabica</td>\n",
       "      <td>1500000</td>\n",
       "      <td>1620000</td>\n",
       "      <td>1650000</td>\n",
       "      <td>1710000</td>\n",
       "      <td>1770000</td>\n",
       "      <td>1830000</td>\n",
       "      <td>1890000</td>\n",
       "      <td>1950000</td>\n",
       "      <td>1980000</td>\n",
       "      <td>2040000</td>\n",
       "      <td>2100000</td>\n",
       "      <td>2190000</td>\n",
       "      <td>2250000</td>\n",
       "      <td>2310000</td>\n",
       "      <td>2700000</td>\n",
       "      <td>2460000</td>\n",
       "      <td>2520000</td>\n",
       "      <td>2610000</td>\n",
       "      <td>2700000</td>\n",
       "      <td>2760000</td>\n",
       "      <td>2850000</td>\n",
       "      <td>2940000</td>\n",
       "      <td>3030000</td>\n",
       "      <td>3120000</td>\n",
       "      <td>3210000</td>\n",
       "      <td>3300000</td>\n",
       "      <td>3420000</td>\n",
       "      <td>3510000</td>\n",
       "      <td>3600000</td>\n",
       "      <td>3660000</td>\n",
       "      <td>75180000</td>\n",
       "    </tr>\n",
       "  </tbody>\n",
       "</table>\n",
       "</div>"
      ],
      "text/plain": [
       "                            Country      Coffee type  1990/91  1991/92  \\\n",
       "0                            Angola  Robusta/Arabica  1200000  1800000   \n",
       "1  Bolivia (Plurinational State of)          Arabica  1500000  1620000   \n",
       "\n",
       "   1992/93  1993/94  1994/95  1995/96  1996/97  1997/98  1998/99  1999/00  \\\n",
       "0  2100000  1200000  1500000   600000  1200000  2400000  1800000  1200000   \n",
       "1  1650000  1710000  1770000  1830000  1890000  1950000  1980000  2040000   \n",
       "\n",
       "   2000/01  2001/02  2002/03  2003/04  2004/05  2005/06  2006/07  2007/08  \\\n",
       "0  1200000  1200000  1200000   900000   900000   900000  1800000  1800000   \n",
       "1  2100000  2190000  2250000  2310000  2700000  2460000  2520000  2610000   \n",
       "\n",
       "   2008/09  2009/10  2010/11  2011/12  2012/13  2013/14  2014/15  2015/16  \\\n",
       "0  1800000  1800000  1800000  1800000  1800000  1800000  1800000  1800000   \n",
       "1  2700000  2760000  2850000  2940000  3030000  3120000  3210000  3300000   \n",
       "\n",
       "   2016/17  2017/18  2018/19  2019/20  Total_domestic_consumption  \n",
       "0  1800000  1800000  1800000  1800000                    46500000  \n",
       "1  3420000  3510000  3600000  3660000                    75180000  "
      ]
     },
     "execution_count": 51,
     "metadata": {},
     "output_type": "execute_result"
    }
   ],
   "source": [
    "# Lets take a small look at each dataframe\n",
    "\n",
    "coffee_domestic_consumption_0.head(2)"
   ]
  },
  {
   "cell_type": "code",
   "execution_count": 52,
   "id": "35192459",
   "metadata": {},
   "outputs": [
    {
     "name": "stdout",
     "output_type": "stream",
     "text": [
      "<class 'pandas.core.frame.DataFrame'>\n",
      "RangeIndex: 55 entries, 0 to 54\n",
      "Data columns (total 33 columns):\n",
      " #   Column                      Non-Null Count  Dtype \n",
      "---  ------                      --------------  ----- \n",
      " 0   Country                     55 non-null     object\n",
      " 1   Coffee type                 55 non-null     object\n",
      " 2   1990/91                     55 non-null     int64 \n",
      " 3   1991/92                     55 non-null     int64 \n",
      " 4   1992/93                     55 non-null     int64 \n",
      " 5   1993/94                     55 non-null     int64 \n",
      " 6   1994/95                     55 non-null     int64 \n",
      " 7   1995/96                     55 non-null     int64 \n",
      " 8   1996/97                     55 non-null     int64 \n",
      " 9   1997/98                     55 non-null     int64 \n",
      " 10  1998/99                     55 non-null     int64 \n",
      " 11  1999/00                     55 non-null     int64 \n",
      " 12  2000/01                     55 non-null     int64 \n",
      " 13  2001/02                     55 non-null     int64 \n",
      " 14  2002/03                     55 non-null     int64 \n",
      " 15  2003/04                     55 non-null     int64 \n",
      " 16  2004/05                     55 non-null     int64 \n",
      " 17  2005/06                     55 non-null     int64 \n",
      " 18  2006/07                     55 non-null     int64 \n",
      " 19  2007/08                     55 non-null     int64 \n",
      " 20  2008/09                     55 non-null     int64 \n",
      " 21  2009/10                     55 non-null     int64 \n",
      " 22  2010/11                     55 non-null     int64 \n",
      " 23  2011/12                     55 non-null     int64 \n",
      " 24  2012/13                     55 non-null     int64 \n",
      " 25  2013/14                     55 non-null     int64 \n",
      " 26  2014/15                     55 non-null     int64 \n",
      " 27  2015/16                     55 non-null     int64 \n",
      " 28  2016/17                     55 non-null     int64 \n",
      " 29  2017/18                     55 non-null     int64 \n",
      " 30  2018/19                     55 non-null     int64 \n",
      " 31  2019/20                     55 non-null     int64 \n",
      " 32  Total_domestic_consumption  55 non-null     int64 \n",
      "dtypes: int64(31), object(2)\n",
      "memory usage: 14.3+ KB\n"
     ]
    }
   ],
   "source": [
    "# Lets get some basic information about each dataframe\n",
    "\n",
    "coffee_domestic_consumption_0.info()"
   ]
  },
  {
   "cell_type": "code",
   "execution_count": 53,
   "id": "71fe1bc4",
   "metadata": {},
   "outputs": [
    {
     "data": {
      "text/plain": [
       "count    5.500000e+01\n",
       "mean     1.112487e+09\n",
       "std      3.834783e+09\n",
       "min      0.000000e+00\n",
       "25%      9.586920e+06\n",
       "50%      1.216200e+08\n",
       "75%      5.897930e+08\n",
       "max      2.782470e+10\n",
       "Name: Total_domestic_consumption, dtype: float64"
      ]
     },
     "execution_count": 53,
     "metadata": {},
     "output_type": "execute_result"
    }
   ],
   "source": [
    "# Descriptive Statistics\n",
    "\n",
    "coffee_domestic_consumption_0['Total_domestic_consumption'].describe()"
   ]
  },
  {
   "cell_type": "code",
   "execution_count": 54,
   "id": "425eed38",
   "metadata": {},
   "outputs": [
    {
     "data": {
      "text/plain": [
       "Index(['country', 'coffee_type', '1990/91', '1991/92', '1992/93', '1993/94',\n",
       "       '1994/95', '1995/96', '1996/97', '1997/98', '1998/99', '1999/00',\n",
       "       '2000/01', '2001/02', '2002/03', '2003/04', '2004/05', '2005/06',\n",
       "       '2006/07', '2007/08', '2008/09', '2009/10', '2010/11', '2011/12',\n",
       "       '2012/13', '2013/14', '2014/15', '2015/16', '2016/17', '2017/18',\n",
       "       '2018/19', '2019/20', 'total_domestic_consumption'],\n",
       "      dtype='object')"
      ]
     },
     "execution_count": 54,
     "metadata": {},
     "output_type": "execute_result"
    }
   ],
   "source": [
    "# Standardize columns names for ease of use; snake_case\n",
    "\n",
    "coffee_domestic_consumption_0.columns\n",
    "coffee_domestic_consumption_0 = coffee_domestic_consumption_0.rename(columns = {'Country': 'country', \n",
    "                                'Coffee type': 'coffee_type', 'Total_domestic_consumption': 'total_domestic_consumption'})\n",
    "coffee_domestic_consumption_0.columns"
   ]
  },
  {
   "cell_type": "code",
   "execution_count": 55,
   "id": "cbe572f8",
   "metadata": {},
   "outputs": [
    {
     "data": {
      "text/plain": [
       "country                       0\n",
       "coffee_type                   0\n",
       "1990/91                       0\n",
       "1991/92                       0\n",
       "1992/93                       0\n",
       "1993/94                       0\n",
       "1994/95                       0\n",
       "1995/96                       0\n",
       "1996/97                       0\n",
       "1997/98                       0\n",
       "1998/99                       0\n",
       "1999/00                       0\n",
       "2000/01                       0\n",
       "2001/02                       0\n",
       "2002/03                       0\n",
       "2003/04                       0\n",
       "2004/05                       0\n",
       "2005/06                       0\n",
       "2006/07                       0\n",
       "2007/08                       0\n",
       "2008/09                       0\n",
       "2009/10                       0\n",
       "2010/11                       0\n",
       "2011/12                       0\n",
       "2012/13                       0\n",
       "2013/14                       0\n",
       "2014/15                       0\n",
       "2015/16                       0\n",
       "2016/17                       0\n",
       "2017/18                       0\n",
       "2018/19                       0\n",
       "2019/20                       0\n",
       "total_domestic_consumption    0\n",
       "dtype: int64"
      ]
     },
     "execution_count": 55,
     "metadata": {},
     "output_type": "execute_result"
    }
   ],
   "source": [
    "# Check for missing values\n",
    "\n",
    "coffee_domestic_consumption_0.isna().sum()"
   ]
  },
  {
   "cell_type": "code",
   "execution_count": 56,
   "id": "6b2836e1",
   "metadata": {},
   "outputs": [
    {
     "data": {
      "text/plain": [
       "0"
      ]
     },
     "execution_count": 56,
     "metadata": {},
     "output_type": "execute_result"
    }
   ],
   "source": [
    "# Check for duplicates\n",
    "\n",
    "coffee_domestic_consumption_0.duplicated().sum()"
   ]
  },
  {
   "cell_type": "markdown",
   "id": "ebfefe70",
   "metadata": {},
   "source": [
    "<font size=\"5\">Outliers:</font> <br /> <br />\n",
    "\n",
    "I am demonstrating how to check for outliers but in this analysis this step is not needed. <br/>"
   ]
  },
  {
   "cell_type": "code",
   "execution_count": 57,
   "id": "bea2830c",
   "metadata": {},
   "outputs": [
    {
     "data": {
      "image/png": "[encoded data removed]",
      "text/plain": [
       "<Figure size 600x600 with 1 Axes>"
      ]
     },
     "metadata": {},
     "output_type": "display_data"
    }
   ],
   "source": [
    "# Lets check for outliers\n",
    "\n",
    "plt.figure(figsize=(6,6))\n",
    "plt.title('Boxplot to detect outliers for total domestic consumption', fontsize=12)\n",
    "plt.xticks(fontsize=12)\n",
    "plt.yticks(fontsize=12)\n",
    "sns.boxplot(x=coffee_domestic_consumption_0['total_domestic_consumption'])\n",
    "plt.show()"
   ]
  },
  {
   "cell_type": "code",
   "execution_count": 58,
   "id": "a6385650",
   "metadata": {},
   "outputs": [
    {
     "name": "stdout",
     "output_type": "stream",
     "text": [
      "Lower limit: 879896010.0\n",
      "Upper limit: 1460102070.0\n",
      "Number of rows in the dataframe containing outliers in total_domestic_consumption:  54\n"
     ]
    }
   ],
   "source": [
    "# Identify subset of data containing outliers\n",
    "\n",
    "percentile_25 = coffee_domestic_consumption_0['total_domestic_consumption'].quantile(0.25)\n",
    "percentile_75 = coffee_domestic_consumption_0['total_domestic_consumption'].quantile(0.75)\n",
    "\n",
    "# Compute Interquartile Range\n",
    "\n",
    "iqr = percentile_75 - percentile_25\n",
    "\n",
    "# Define upper and lower limits for non-outlier values\n",
    "\n",
    "upper_lim = percentile_75 + 1.5*iqr\n",
    "lower_lim = percentile_25 + 1.5*iqr\n",
    "print(\"Lower limit:\", lower_lim)\n",
    "print(\"Upper limit:\", upper_lim)\n",
    "\n",
    "# Identify outlier subset\n",
    "\n",
    "outliers = coffee_domestic_consumption_0[(coffee_domestic_consumption_0['total_domestic_consumption'] > upper_lim) | (coffee_domestic_consumption_0['total_domestic_consumption'] < lower_lim)]\n",
    "\n",
    "print(\"Number of rows in the dataframe containing outliers in total_domestic_consumption: \", len(outliers))\n"
   ]
  },
  {
   "cell_type": "code",
   "execution_count": 59,
   "id": "93a2135d",
   "metadata": {},
   "outputs": [],
   "source": [
    "# Look at countries with most domestic consumption\n",
    "\n",
    "top_dom_consumption_countries = coffee_domestic_consumption_0[['country', 'total_domestic_consumption']]\n",
    "top_dom_consumption_countries = top_dom_consumption_countries.sort_values(by='total_domestic_consumption', ascending=False).head(10)\n"
   ]
  },
  {
   "cell_type": "code",
   "execution_count": 60,
   "id": "76f71f5e",
   "metadata": {},
   "outputs": [
    {
     "data": {
      "application/vnd.plotly.v1+json": {
       "config": {
        "plotlyServerURL": "https://plot.ly"
       },
       "data": [
        {
         "alignmentgroup": "True",
         "hovertemplate": "Country=%{x}<br>Total Domestic Consumption=%{y}<extra></extra>",
         "legendgroup": "Brazil",
         "marker": {
          "color": "rgb(136, 204, 238)",
          "pattern": {
           "shape": ""
          }
         },
         "name": "Brazil",
         "offsetgroup": "Brazil",
         "orientation": "v",
         "showlegend": true,
         "textposition": "auto",
         "type": "bar",
         "x": [
          "Brazil"
         ],
         "xaxis": "x",
         "y": [
          27824700000
         ],
         "yaxis": "y"
        },
        {
         "alignmentgroup": "True",
         "hovertemplate": "Country=%{x}<br>Total Domestic Consumption=%{y}<extra></extra>",
         "legendgroup": "Indonesia",
         "marker": {
          "color": "rgb(204, 102, 119)",
          "pattern": {
           "shape": ""
          }
         },
         "name": "Indonesia",
         "offsetgroup": "Indonesia",
         "orientation": "v",
         "showlegend": true,
         "textposition": "auto",
         "type": "bar",
         "x": [
          "Indonesia"
         ],
         "xaxis": "x",
         "y": [
          4920480000
         ],
         "yaxis": "y"
        },
        {
         "alignmentgroup": "True",
         "hovertemplate": "Country=%{x}<br>Total Domestic Consumption=%{y}<extra></extra>",
         "legendgroup": "Ethiopia",
         "marker": {
          "color": "rgb(221, 204, 119)",
          "pattern": {
           "shape": ""
          }
         },
         "name": "Ethiopia",
         "offsetgroup": "Ethiopia",
         "orientation": "v",
         "showlegend": true,
         "textposition": "auto",
         "type": "bar",
         "x": [
          "Ethiopia"
         ],
         "xaxis": "x",
         "y": [
          4536540000
         ],
         "yaxis": "y"
        },
        {
         "alignmentgroup": "True",
         "hovertemplate": "Country=%{x}<br>Total Domestic Consumption=%{y}<extra></extra>",
         "legendgroup": "Mexico",
         "marker": {
          "color": "rgb(17, 119, 51)",
          "pattern": {
           "shape": ""
          }
         },
         "name": "Mexico",
         "offsetgroup": "Mexico",
         "orientation": "v",
         "showlegend": true,
         "textposition": "auto",
         "type": "bar",
         "x": [
          "Mexico"
         ],
         "xaxis": "x",
         "y": [
          3189660000
         ],
         "yaxis": "y"
        },
        {
         "alignmentgroup": "True",
         "hovertemplate": "Country=%{x}<br>Total Domestic Consumption=%{y}<extra></extra>",
         "legendgroup": "Philippines",
         "marker": {
          "color": "rgb(51, 34, 136)",
          "pattern": {
           "shape": ""
          }
         },
         "name": "Philippines",
         "offsetgroup": "Philippines",
         "orientation": "v",
         "showlegend": true,
         "textposition": "auto",
         "type": "bar",
         "x": [
          "Philippines"
         ],
         "xaxis": "x",
         "y": [
          2807280000
         ],
         "yaxis": "y"
        },
        {
         "alignmentgroup": "True",
         "hovertemplate": "Country=%{x}<br>Total Domestic Consumption=%{y}<extra></extra>",
         "legendgroup": "Colombia",
         "marker": {
          "color": "rgb(170, 68, 153)",
          "pattern": {
           "shape": ""
          }
         },
         "name": "Colombia",
         "offsetgroup": "Colombia",
         "orientation": "v",
         "showlegend": true,
         "textposition": "auto",
         "type": "bar",
         "x": [
          "Colombia"
         ],
         "xaxis": "x",
         "y": [
          2536776384
         ],
         "yaxis": "y"
        },
        {
         "alignmentgroup": "True",
         "hovertemplate": "Country=%{x}<br>Total Domestic Consumption=%{y}<extra></extra>",
         "legendgroup": "Venezuela",
         "marker": {
          "color": "rgb(68, 170, 153)",
          "pattern": {
           "shape": ""
          }
         },
         "name": "Venezuela",
         "offsetgroup": "Venezuela",
         "orientation": "v",
         "showlegend": true,
         "textposition": "auto",
         "type": "bar",
         "x": [
          "Venezuela"
         ],
         "xaxis": "x",
         "y": [
          2386067999
         ],
         "yaxis": "y"
        },
        {
         "alignmentgroup": "True",
         "hovertemplate": "Country=%{x}<br>Total Domestic Consumption=%{y}<extra></extra>",
         "legendgroup": "India",
         "marker": {
          "color": "rgb(153, 153, 51)",
          "pattern": {
           "shape": ""
          }
         },
         "name": "India",
         "offsetgroup": "India",
         "orientation": "v",
         "showlegend": true,
         "textposition": "auto",
         "type": "bar",
         "x": [
          "India"
         ],
         "xaxis": "x",
         "y": [
          2093460000
         ],
         "yaxis": "y"
        },
        {
         "alignmentgroup": "True",
         "hovertemplate": "Country=%{x}<br>Total Domestic Consumption=%{y}<extra></extra>",
         "legendgroup": "Viet Nam",
         "marker": {
          "color": "rgb(136, 34, 85)",
          "pattern": {
           "shape": ""
          }
         },
         "name": "Viet Nam",
         "offsetgroup": "Viet Nam",
         "orientation": "v",
         "showlegend": true,
         "textposition": "auto",
         "type": "bar",
         "x": [
          "Viet Nam"
         ],
         "xaxis": "x",
         "y": [
          1920928320
         ],
         "yaxis": "y"
        },
        {
         "alignmentgroup": "True",
         "hovertemplate": "Country=%{x}<br>Total Domestic Consumption=%{y}<extra></extra>",
         "legendgroup": "Thailand",
         "marker": {
          "color": "rgb(102, 17, 0)",
          "pattern": {
           "shape": ""
          }
         },
         "name": "Thailand",
         "offsetgroup": "Thailand",
         "orientation": "v",
         "showlegend": true,
         "textposition": "auto",
         "type": "bar",
         "x": [
          "Thailand"
         ],
         "xaxis": "x",
         "y": [
          1248600000
         ],
         "yaxis": "y"
        }
       ],
       "layout": {
        "barmode": "relative",
        "height": 600,
        "legend": {
         "title": {
          "text": "Country"
         },
         "tracegroupgap": 0
        },
        "template": {
         "data": {
          "bar": [
           {
            "error_x": {
             "color": "#2a3f5f"
            },
            "error_y": {
             "color": "#2a3f5f"
            },
            "marker": {
             "line": {
              "color": "#E5ECF6",
              "width": 0.5
             },
             "pattern": {
              "fillmode": "overlay",
              "size": 10,
              "solidity": 0.2
             }
            },
            "type": "bar"
           }
          ],
          "barpolar": [
           {
            "marker": {
             "line": {
              "color": "#E5ECF6",
              "width": 0.5
             },
             "pattern": {
              "fillmode": "overlay",
              "size": 10,
              "solidity": 0.2
             }
            },
            "type": "barpolar"
           }
          ],
          "carpet": [
           {
            "aaxis": {
             "endlinecolor": "#2a3f5f",
             "gridcolor": "white",
             "linecolor": "white",
             "minorgridcolor": "white",
             "startlinecolor": "#2a3f5f"
            },
            "baxis": {
             "endlinecolor": "#2a3f5f",
             "gridcolor": "white",
             "linecolor": "white",
             "minorgridcolor": "white",
             "startlinecolor": "#2a3f5f"
            },
            "type": "carpet"
           }
          ],
          "choropleth": [
           {
            "colorbar": {
             "outlinewidth": 0,
             "ticks": ""
            },
            "type": "choropleth"
           }
          ],
          "contour": [
           {
            "colorbar": {
             "outlinewidth": 0,
             "ticks": ""
            },
            "colorscale": [
             [
              0,
              "#0d0887"
             ],
             [
              0.1111111111111111,
              "#46039f"
             ],
             [
              0.2222222222222222,
              "#7201a8"
             ],
             [
              0.3333333333333333,
              "#9c179e"
             ],
             [
              0.4444444444444444,
              "#bd3786"
             ],
             [
              0.5555555555555556,
              "#d8576b"
             ],
             [
              0.6666666666666666,
              "#ed7953"
             ],
             [
              0.7777777777777778,
              "#fb9f3a"
             ],
             [
              0.8888888888888888,
              "#fdca26"
             ],
             [
              1,
              "#f0f921"
             ]
            ],
            "type": "contour"
           }
          ],
          "contourcarpet": [
           {
            "colorbar": {
             "outlinewidth": 0,
             "ticks": ""
            },
            "type": "contourcarpet"
           }
          ],
          "heatmap": [
           {
            "colorbar": {
             "outlinewidth": 0,
             "ticks": ""
            },
            "colorscale": [
             [
              0,
              "#0d0887"
             ],
             [
              0.1111111111111111,
              "#46039f"
             ],
             [
              0.2222222222222222,
              "#7201a8"
             ],
             [
              0.3333333333333333,
              "#9c179e"
             ],
             [
              0.4444444444444444,
              "#bd3786"
             ],
             [
              0.5555555555555556,
              "#d8576b"
             ],
             [
              0.6666666666666666,
              "#ed7953"
             ],
             [
              0.7777777777777778,
              "#fb9f3a"
             ],
             [
              0.8888888888888888,
              "#fdca26"
             ],
             [
              1,
              "#f0f921"
             ]
            ],
            "type": "heatmap"
           }
          ],
          "heatmapgl": [
           {
            "colorbar": {
             "outlinewidth": 0,
             "ticks": ""
            },
            "colorscale": [
             [
              0,
              "#0d0887"
             ],
             [
              0.1111111111111111,
              "#46039f"
             ],
             [
              0.2222222222222222,
              "#7201a8"
             ],
             [
              0.3333333333333333,
              "#9c179e"
             ],
             [
              0.4444444444444444,
              "#bd3786"
             ],
             [
              0.5555555555555556,
              "#d8576b"
             ],
             [
              0.6666666666666666,
              "#ed7953"
             ],
             [
              0.7777777777777778,
              "#fb9f3a"
             ],
             [
              0.8888888888888888,
              "#fdca26"
             ],
             [
              1,
              "#f0f921"
             ]
            ],
            "type": "heatmapgl"
           }
          ],
          "histogram": [
           {
            "marker": {
             "pattern": {
              "fillmode": "overlay",
              "size": 10,
              "solidity": 0.2
             }
            },
            "type": "histogram"
           }
          ],
          "histogram2d": [
           {
            "colorbar": {
             "outlinewidth": 0,
             "ticks": ""
            },
            "colorscale": [
             [
              0,
              "#0d0887"
             ],
             [
              0.1111111111111111,
              "#46039f"
             ],
             [
              0.2222222222222222,
              "#7201a8"
             ],
             [
              0.3333333333333333,
              "#9c179e"
             ],
             [
              0.4444444444444444,
              "#bd3786"
             ],
             [
              0.5555555555555556,
              "#d8576b"
             ],
             [
              0.6666666666666666,
              "#ed7953"
             ],
             [
              0.7777777777777778,
              "#fb9f3a"
             ],
             [
              0.8888888888888888,
              "#fdca26"
             ],
             [
              1,
              "#f0f921"
             ]
            ],
            "type": "histogram2d"
           }
          ],
          "histogram2dcontour": [
           {
            "colorbar": {
             "outlinewidth": 0,
             "ticks": ""
            },
            "colorscale": [
             [
              0,
              "#0d0887"
             ],
             [
              0.1111111111111111,
              "#46039f"
             ],
             [
              0.2222222222222222,
              "#7201a8"
             ],
             [
              0.3333333333333333,
              "#9c179e"
             ],
             [
              0.4444444444444444,
              "#bd3786"
             ],
             [
              0.5555555555555556,
              "#d8576b"
             ],
             [
              0.6666666666666666,
              "#ed7953"
             ],
             [
              0.7777777777777778,
              "#fb9f3a"
             ],
             [
              0.8888888888888888,
              "#fdca26"
             ],
             [
              1,
              "#f0f921"
             ]
            ],
            "type": "histogram2dcontour"
           }
          ],
          "mesh3d": [
           {
            "colorbar": {
             "outlinewidth": 0,
             "ticks": ""
            },
            "type": "mesh3d"
           }
          ],
          "parcoords": [
           {
            "line": {
             "colorbar": {
              "outlinewidth": 0,
              "ticks": ""
             }
            },
            "type": "parcoords"
           }
          ],
          "pie": [
           {
            "automargin": true,
            "type": "pie"
           }
          ],
          "scatter": [
           {
            "fillpattern": {
             "fillmode": "overlay",
             "size": 10,
             "solidity": 0.2
            },
            "type": "scatter"
           }
          ],
          "scatter3d": [
           {
            "line": {
             "colorbar": {
              "outlinewidth": 0,
              "ticks": ""
             }
            },
            "marker": {
             "colorbar": {
              "outlinewidth": 0,
              "ticks": ""
             }
            },
            "type": "scatter3d"
           }
          ],
          "scattercarpet": [
           {
            "marker": {
             "colorbar": {
              "outlinewidth": 0,
              "ticks": ""
             }
            },
            "type": "scattercarpet"
           }
          ],
          "scattergeo": [
           {
            "marker": {
             "colorbar": {
              "outlinewidth": 0,
              "ticks": ""
             }
            },
            "type": "scattergeo"
           }
          ],
          "scattergl": [
           {
            "marker": {
             "colorbar": {
              "outlinewidth": 0,
              "ticks": ""
             }
            },
            "type": "scattergl"
           }
          ],
          "scattermapbox": [
           {
            "marker": {
             "colorbar": {
              "outlinewidth": 0,
              "ticks": ""
             }
            },
            "type": "scattermapbox"
           }
          ],
          "scatterpolar": [
           {
            "marker": {
             "colorbar": {
              "outlinewidth": 0,
              "ticks": ""
             }
            },
            "type": "scatterpolar"
           }
          ],
          "scatterpolargl": [
           {
            "marker": {
             "colorbar": {
              "outlinewidth": 0,
              "ticks": ""
             }
            },
            "type": "scatterpolargl"
           }
          ],
          "scatterternary": [
           {
            "marker": {
             "colorbar": {
              "outlinewidth": 0,
              "ticks": ""
             }
            },
            "type": "scatterternary"
           }
          ],
          "surface": [
           {
            "colorbar": {
             "outlinewidth": 0,
             "ticks": ""
            },
            "colorscale": [
             [
              0,
              "#0d0887"
             ],
             [
              0.1111111111111111,
              "#46039f"
             ],
             [
              0.2222222222222222,
              "#7201a8"
             ],
             [
              0.3333333333333333,
              "#9c179e"
             ],
             [
              0.4444444444444444,
              "#bd3786"
             ],
             [
              0.5555555555555556,
              "#d8576b"
             ],
             [
              0.6666666666666666,
              "#ed7953"
             ],
             [
              0.7777777777777778,
              "#fb9f3a"
             ],
             [
              0.8888888888888888,
              "#fdca26"
             ],
             [
              1,
              "#f0f921"
             ]
            ],
            "type": "surface"
           }
          ],
          "table": [
           {
            "cells": {
             "fill": {
              "color": "#EBF0F8"
             },
             "line": {
              "color": "white"
             }
            },
            "header": {
             "fill": {
              "color": "#C8D4E3"
             },
             "line": {
              "color": "white"
             }
            },
            "type": "table"
           }
          ]
         },
         "layout": {
          "annotationdefaults": {
           "arrowcolor": "#2a3f5f",
           "arrowhead": 0,
           "arrowwidth": 1
          },
          "autotypenumbers": "strict",
          "coloraxis": {
           "colorbar": {
            "outlinewidth": 0,
            "ticks": ""
           }
          },
          "colorscale": {
           "diverging": [
            [
             0,
             "#8e0152"
            ],
            [
             0.1,
             "#c51b7d"
            ],
            [
             0.2,
             "#de77ae"
            ],
            [
             0.3,
             "#f1b6da"
            ],
            [
             0.4,
             "#fde0ef"
            ],
            [
             0.5,
             "#f7f7f7"
            ],
            [
             0.6,
             "#e6f5d0"
            ],
            [
             0.7,
             "#b8e186"
            ],
            [
             0.8,
             "#7fbc41"
            ],
            [
             0.9,
             "#4d9221"
            ],
            [
             1,
             "#276419"
            ]
           ],
           "sequential": [
            [
             0,
             "#0d0887"
            ],
            [
             0.1111111111111111,
             "#46039f"
            ],
            [
             0.2222222222222222,
             "#7201a8"
            ],
            [
             0.3333333333333333,
             "#9c179e"
            ],
            [
             0.4444444444444444,
             "#bd3786"
            ],
            [
             0.5555555555555556,
             "#d8576b"
            ],
            [
             0.6666666666666666,
             "#ed7953"
            ],
            [
             0.7777777777777778,
             "#fb9f3a"
            ],
            [
             0.8888888888888888,
             "#fdca26"
            ],
            [
             1,
             "#f0f921"
            ]
           ],
           "sequentialminus": [
            [
             0,
             "#0d0887"
            ],
            [
             0.1111111111111111,
             "#46039f"
            ],
            [
             0.2222222222222222,
             "#7201a8"
            ],
            [
             0.3333333333333333,
             "#9c179e"
            ],
            [
             0.4444444444444444,
             "#bd3786"
            ],
            [
             0.5555555555555556,
             "#d8576b"
            ],
            [
             0.6666666666666666,
             "#ed7953"
            ],
            [
             0.7777777777777778,
             "#fb9f3a"
            ],
            [
             0.8888888888888888,
             "#fdca26"
            ],
            [
             1,
             "#f0f921"
            ]
           ]
          },
          "colorway": [
           "#636efa",
           "#EF553B",
           "#00cc96",
           "#ab63fa",
           "#FFA15A",
           "#19d3f3",
           "#FF6692",
           "#B6E880",
           "#FF97FF",
           "#FECB52"
          ],
          "font": {
           "color": "#2a3f5f"
          },
          "geo": {
           "bgcolor": "white",
           "lakecolor": "white",
           "landcolor": "#E5ECF6",
           "showlakes": true,
           "showland": true,
           "subunitcolor": "white"
          },
          "hoverlabel": {
           "align": "left"
          },
          "hovermode": "closest",
          "mapbox": {
           "style": "light"
          },
          "paper_bgcolor": "white",
          "plot_bgcolor": "#E5ECF6",
          "polar": {
           "angularaxis": {
            "gridcolor": "white",
            "linecolor": "white",
            "ticks": ""
           },
           "bgcolor": "#E5ECF6",
           "radialaxis": {
            "gridcolor": "white",
            "linecolor": "white",
            "ticks": ""
           }
          },
          "scene": {
           "xaxis": {
            "backgroundcolor": "#E5ECF6",
            "gridcolor": "white",
            "gridwidth": 2,
            "linecolor": "white",
            "showbackground": true,
            "ticks": "",
            "zerolinecolor": "white"
           },
           "yaxis": {
            "backgroundcolor": "#E5ECF6",
            "gridcolor": "white",
            "gridwidth": 2,
            "linecolor": "white",
            "showbackground": true,
            "ticks": "",
            "zerolinecolor": "white"
           },
           "zaxis": {
            "backgroundcolor": "#E5ECF6",
            "gridcolor": "white",
            "gridwidth": 2,
            "linecolor": "white",
            "showbackground": true,
            "ticks": "",
            "zerolinecolor": "white"
           }
          },
          "shapedefaults": {
           "line": {
            "color": "#2a3f5f"
           }
          },
          "ternary": {
           "aaxis": {
            "gridcolor": "white",
            "linecolor": "white",
            "ticks": ""
           },
           "baxis": {
            "gridcolor": "white",
            "linecolor": "white",
            "ticks": ""
           },
           "bgcolor": "#E5ECF6",
           "caxis": {
            "gridcolor": "white",
            "linecolor": "white",
            "ticks": ""
           }
          },
          "title": {
           "x": 0.05
          },
          "xaxis": {
           "automargin": true,
           "gridcolor": "white",
           "linecolor": "white",
           "ticks": "",
           "title": {
            "standoff": 15
           },
           "zerolinecolor": "white",
           "zerolinewidth": 2
          },
          "yaxis": {
           "automargin": true,
           "gridcolor": "white",
           "linecolor": "white",
           "ticks": "",
           "title": {
            "standoff": 15
           },
           "zerolinecolor": "white",
           "zerolinewidth": 2
          }
         }
        },
        "title": {
         "text": "Top 10 Domestic Consumers of Coffee by Country",
         "x": 0.5
        },
        "width": 800,
        "xaxis": {
         "anchor": "y",
         "categoryarray": [
          "Brazil",
          "Indonesia",
          "Ethiopia",
          "Mexico",
          "Philippines",
          "Colombia",
          "Venezuela",
          "India",
          "Viet Nam",
          "Thailand"
         ],
         "categoryorder": "array",
         "domain": [
          0,
          1
         ],
         "title": {
          "text": "Country"
         }
        },
        "yaxis": {
         "anchor": "x",
         "domain": [
          0,
          1
         ],
         "title": {
          "text": "Total Domestic Consumption"
         }
        }
       }
      },
      "text/html": [
       "<div>                            <div id=\"756c2694-4346-4c51-8f56-fab18e20371d\" class=\"plotly-graph-div\" style=\"height:600px; width:800px;\"></div>            <script type=\"text/javascript\">                require([\"plotly\"], function(Plotly) {                    window.PLOTLYENV=window.PLOTLYENV || {};                                    if (document.getElementById(\"756c2694-4346-4c51-8f56-fab18e20371d\")) {                    Plotly.newPlot(                        \"756c2694-4346-4c51-8f56-fab18e20371d\",                        [{\"alignmentgroup\":\"True\",\"hovertemplate\":\"Country=%{x}<br>Total Domestic Consumption=%{y}<extra></extra>\",\"legendgroup\":\"Brazil\",\"marker\":{\"color\":\"rgb(136, 204, 238)\",\"pattern\":{\"shape\":\"\"}},\"name\":\"Brazil\",\"offsetgroup\":\"Brazil\",\"orientation\":\"v\",\"showlegend\":true,\"textposition\":\"auto\",\"x\":[\"Brazil\"],\"xaxis\":\"x\",\"y\":[27824700000],\"yaxis\":\"y\",\"type\":\"bar\"},{\"alignmentgroup\":\"True\",\"hovertemplate\":\"Country=%{x}<br>Total Domestic Consumption=%{y}<extra></extra>\",\"legendgroup\":\"Indonesia\",\"marker\":{\"color\":\"rgb(204, 102, 119)\",\"pattern\":{\"shape\":\"\"}},\"name\":\"Indonesia\",\"offsetgroup\":\"Indonesia\",\"orientation\":\"v\",\"showlegend\":true,\"textposition\":\"auto\",\"x\":[\"Indonesia\"],\"xaxis\":\"x\",\"y\":[4920480000],\"yaxis\":\"y\",\"type\":\"bar\"},{\"alignmentgroup\":\"True\",\"hovertemplate\":\"Country=%{x}<br>Total Domestic Consumption=%{y}<extra></extra>\",\"legendgroup\":\"Ethiopia\",\"marker\":{\"color\":\"rgb(221, 204, 119)\",\"pattern\":{\"shape\":\"\"}},\"name\":\"Ethiopia\",\"offsetgroup\":\"Ethiopia\",\"orientation\":\"v\",\"showlegend\":true,\"textposition\":\"auto\",\"x\":[\"Ethiopia\"],\"xaxis\":\"x\",\"y\":[4536540000],\"yaxis\":\"y\",\"type\":\"bar\"},{\"alignmentgroup\":\"True\",\"hovertemplate\":\"Country=%{x}<br>Total Domestic Consumption=%{y}<extra></extra>\",\"legendgroup\":\"Mexico\",\"marker\":{\"color\":\"rgb(17, 119, 51)\",\"pattern\":{\"shape\":\"\"}},\"name\":\"Mexico\",\"offsetgroup\":\"Mexico\",\"orientation\":\"v\",\"showlegend\":true,\"textposition\":\"auto\",\"x\":[\"Mexico\"],\"xaxis\":\"x\",\"y\":[3189660000],\"yaxis\":\"y\",\"type\":\"bar\"},{\"alignmentgroup\":\"True\",\"hovertemplate\":\"Country=%{x}<br>Total Domestic Consumption=%{y}<extra></extra>\",\"legendgroup\":\"Philippines\",\"marker\":{\"color\":\"rgb(51, 34, 136)\",\"pattern\":{\"shape\":\"\"}},\"name\":\"Philippines\",\"offsetgroup\":\"Philippines\",\"orientation\":\"v\",\"showlegend\":true,\"textposition\":\"auto\",\"x\":[\"Philippines\"],\"xaxis\":\"x\",\"y\":[2807280000],\"yaxis\":\"y\",\"type\":\"bar\"},{\"alignmentgroup\":\"True\",\"hovertemplate\":\"Country=%{x}<br>Total Domestic Consumption=%{y}<extra></extra>\",\"legendgroup\":\"Colombia\",\"marker\":{\"color\":\"rgb(170, 68, 153)\",\"pattern\":{\"shape\":\"\"}},\"name\":\"Colombia\",\"offsetgroup\":\"Colombia\",\"orientation\":\"v\",\"showlegend\":true,\"textposition\":\"auto\",\"x\":[\"Colombia\"],\"xaxis\":\"x\",\"y\":[2536776384],\"yaxis\":\"y\",\"type\":\"bar\"},{\"alignmentgroup\":\"True\",\"hovertemplate\":\"Country=%{x}<br>Total Domestic Consumption=%{y}<extra></extra>\",\"legendgroup\":\"Venezuela\",\"marker\":{\"color\":\"rgb(68, 170, 153)\",\"pattern\":{\"shape\":\"\"}},\"name\":\"Venezuela\",\"offsetgroup\":\"Venezuela\",\"orientation\":\"v\",\"showlegend\":true,\"textposition\":\"auto\",\"x\":[\"Venezuela\"],\"xaxis\":\"x\",\"y\":[2386067999],\"yaxis\":\"y\",\"type\":\"bar\"},{\"alignmentgroup\":\"True\",\"hovertemplate\":\"Country=%{x}<br>Total Domestic Consumption=%{y}<extra></extra>\",\"legendgroup\":\"India\",\"marker\":{\"color\":\"rgb(153, 153, 51)\",\"pattern\":{\"shape\":\"\"}},\"name\":\"India\",\"offsetgroup\":\"India\",\"orientation\":\"v\",\"showlegend\":true,\"textposition\":\"auto\",\"x\":[\"India\"],\"xaxis\":\"x\",\"y\":[2093460000],\"yaxis\":\"y\",\"type\":\"bar\"},{\"alignmentgroup\":\"True\",\"hovertemplate\":\"Country=%{x}<br>Total Domestic Consumption=%{y}<extra></extra>\",\"legendgroup\":\"Viet Nam\",\"marker\":{\"color\":\"rgb(136, 34, 85)\",\"pattern\":{\"shape\":\"\"}},\"name\":\"Viet Nam\",\"offsetgroup\":\"Viet Nam\",\"orientation\":\"v\",\"showlegend\":true,\"textposition\":\"auto\",\"x\":[\"Viet Nam\"],\"xaxis\":\"x\",\"y\":[1920928320],\"yaxis\":\"y\",\"type\":\"bar\"},{\"alignmentgroup\":\"True\",\"hovertemplate\":\"Country=%{x}<br>Total Domestic Consumption=%{y}<extra></extra>\",\"legendgroup\":\"Thailand\",\"marker\":{\"color\":\"rgb(102, 17, 0)\",\"pattern\":{\"shape\":\"\"}},\"name\":\"Thailand\",\"offsetgroup\":\"Thailand\",\"orientation\":\"v\",\"showlegend\":true,\"textposition\":\"auto\",\"x\":[\"Thailand\"],\"xaxis\":\"x\",\"y\":[1248600000],\"yaxis\":\"y\",\"type\":\"bar\"}],                        {\"template\":{\"data\":{\"histogram2dcontour\":[{\"type\":\"histogram2dcontour\",\"colorbar\":{\"outlinewidth\":0,\"ticks\":\"\"},\"colorscale\":[[0.0,\"#0d0887\"],[0.1111111111111111,\"#46039f\"],[0.2222222222222222,\"#7201a8\"],[0.3333333333333333,\"#9c179e\"],[0.4444444444444444,\"#bd3786\"],[0.5555555555555556,\"#d8576b\"],[0.6666666666666666,\"#ed7953\"],[0.7777777777777778,\"#fb9f3a\"],[0.8888888888888888,\"#fdca26\"],[1.0,\"#f0f921\"]]}],\"choropleth\":[{\"type\":\"choropleth\",\"colorbar\":{\"outlinewidth\":0,\"ticks\":\"\"}}],\"histogram2d\":[{\"type\":\"histogram2d\",\"colorbar\":{\"outlinewidth\":0,\"ticks\":\"\"},\"colorscale\":[[0.0,\"#0d0887\"],[0.1111111111111111,\"#46039f\"],[0.2222222222222222,\"#7201a8\"],[0.3333333333333333,\"#9c179e\"],[0.4444444444444444,\"#bd3786\"],[0.5555555555555556,\"#d8576b\"],[0.6666666666666666,\"#ed7953\"],[0.7777777777777778,\"#fb9f3a\"],[0.8888888888888888,\"#fdca26\"],[1.0,\"#f0f921\"]]}],\"heatmap\":[{\"type\":\"heatmap\",\"colorbar\":{\"outlinewidth\":0,\"ticks\":\"\"},\"colorscale\":[[0.0,\"#0d0887\"],[0.1111111111111111,\"#46039f\"],[0.2222222222222222,\"#7201a8\"],[0.3333333333333333,\"#9c179e\"],[0.4444444444444444,\"#bd3786\"],[0.5555555555555556,\"#d8576b\"],[0.6666666666666666,\"#ed7953\"],[0.7777777777777778,\"#fb9f3a\"],[0.8888888888888888,\"#fdca26\"],[1.0,\"#f0f921\"]]}],\"heatmapgl\":[{\"type\":\"heatmapgl\",\"colorbar\":{\"outlinewidth\":0,\"ticks\":\"\"},\"colorscale\":[[0.0,\"#0d0887\"],[0.1111111111111111,\"#46039f\"],[0.2222222222222222,\"#7201a8\"],[0.3333333333333333,\"#9c179e\"],[0.4444444444444444,\"#bd3786\"],[0.5555555555555556,\"#d8576b\"],[0.6666666666666666,\"#ed7953\"],[0.7777777777777778,\"#fb9f3a\"],[0.8888888888888888,\"#fdca26\"],[1.0,\"#f0f921\"]]}],\"contourcarpet\":[{\"type\":\"contourcarpet\",\"colorbar\":{\"outlinewidth\":0,\"ticks\":\"\"}}],\"contour\":[{\"type\":\"contour\",\"colorbar\":{\"outlinewidth\":0,\"ticks\":\"\"},\"colorscale\":[[0.0,\"#0d0887\"],[0.1111111111111111,\"#46039f\"],[0.2222222222222222,\"#7201a8\"],[0.3333333333333333,\"#9c179e\"],[0.4444444444444444,\"#bd3786\"],[0.5555555555555556,\"#d8576b\"],[0.6666666666666666,\"#ed7953\"],[0.7777777777777778,\"#fb9f3a\"],[0.8888888888888888,\"#fdca26\"],[1.0,\"#f0f921\"]]}],\"surface\":[{\"type\":\"surface\",\"colorbar\":{\"outlinewidth\":0,\"ticks\":\"\"},\"colorscale\":[[0.0,\"#0d0887\"],[0.1111111111111111,\"#46039f\"],[0.2222222222222222,\"#7201a8\"],[0.3333333333333333,\"#9c179e\"],[0.4444444444444444,\"#bd3786\"],[0.5555555555555556,\"#d8576b\"],[0.6666666666666666,\"#ed7953\"],[0.7777777777777778,\"#fb9f3a\"],[0.8888888888888888,\"#fdca26\"],[1.0,\"#f0f921\"]]}],\"mesh3d\":[{\"type\":\"mesh3d\",\"colorbar\":{\"outlinewidth\":0,\"ticks\":\"\"}}],\"scatter\":[{\"fillpattern\":{\"fillmode\":\"overlay\",\"size\":10,\"solidity\":0.2},\"type\":\"scatter\"}],\"parcoords\":[{\"type\":\"parcoords\",\"line\":{\"colorbar\":{\"outlinewidth\":0,\"ticks\":\"\"}}}],\"scatterpolargl\":[{\"type\":\"scatterpolargl\",\"marker\":{\"colorbar\":{\"outlinewidth\":0,\"ticks\":\"\"}}}],\"bar\":[{\"error_x\":{\"color\":\"#2a3f5f\"},\"error_y\":{\"color\":\"#2a3f5f\"},\"marker\":{\"line\":{\"color\":\"#E5ECF6\",\"width\":0.5},\"pattern\":{\"fillmode\":\"overlay\",\"size\":10,\"solidity\":0.2}},\"type\":\"bar\"}],\"scattergeo\":[{\"type\":\"scattergeo\",\"marker\":{\"colorbar\":{\"outlinewidth\":0,\"ticks\":\"\"}}}],\"scatterpolar\":[{\"type\":\"scatterpolar\",\"marker\":{\"colorbar\":{\"outlinewidth\":0,\"ticks\":\"\"}}}],\"histogram\":[{\"marker\":{\"pattern\":{\"fillmode\":\"overlay\",\"size\":10,\"solidity\":0.2}},\"type\":\"histogram\"}],\"scattergl\":[{\"type\":\"scattergl\",\"marker\":{\"colorbar\":{\"outlinewidth\":0,\"ticks\":\"\"}}}],\"scatter3d\":[{\"type\":\"scatter3d\",\"line\":{\"colorbar\":{\"outlinewidth\":0,\"ticks\":\"\"}},\"marker\":{\"colorbar\":{\"outlinewidth\":0,\"ticks\":\"\"}}}],\"scattermapbox\":[{\"type\":\"scattermapbox\",\"marker\":{\"colorbar\":{\"outlinewidth\":0,\"ticks\":\"\"}}}],\"scatterternary\":[{\"type\":\"scatterternary\",\"marker\":{\"colorbar\":{\"outlinewidth\":0,\"ticks\":\"\"}}}],\"scattercarpet\":[{\"type\":\"scattercarpet\",\"marker\":{\"colorbar\":{\"outlinewidth\":0,\"ticks\":\"\"}}}],\"carpet\":[{\"aaxis\":{\"endlinecolor\":\"#2a3f5f\",\"gridcolor\":\"white\",\"linecolor\":\"white\",\"minorgridcolor\":\"white\",\"startlinecolor\":\"#2a3f5f\"},\"baxis\":{\"endlinecolor\":\"#2a3f5f\",\"gridcolor\":\"white\",\"linecolor\":\"white\",\"minorgridcolor\":\"white\",\"startlinecolor\":\"#2a3f5f\"},\"type\":\"carpet\"}],\"table\":[{\"cells\":{\"fill\":{\"color\":\"#EBF0F8\"},\"line\":{\"color\":\"white\"}},\"header\":{\"fill\":{\"color\":\"#C8D4E3\"},\"line\":{\"color\":\"white\"}},\"type\":\"table\"}],\"barpolar\":[{\"marker\":{\"line\":{\"color\":\"#E5ECF6\",\"width\":0.5},\"pattern\":{\"fillmode\":\"overlay\",\"size\":10,\"solidity\":0.2}},\"type\":\"barpolar\"}],\"pie\":[{\"automargin\":true,\"type\":\"pie\"}]},\"layout\":{\"autotypenumbers\":\"strict\",\"colorway\":[\"#636efa\",\"#EF553B\",\"#00cc96\",\"#ab63fa\",\"#FFA15A\",\"#19d3f3\",\"#FF6692\",\"#B6E880\",\"#FF97FF\",\"#FECB52\"],\"font\":{\"color\":\"#2a3f5f\"},\"hovermode\":\"closest\",\"hoverlabel\":{\"align\":\"left\"},\"paper_bgcolor\":\"white\",\"plot_bgcolor\":\"#E5ECF6\",\"polar\":{\"bgcolor\":\"#E5ECF6\",\"angularaxis\":{\"gridcolor\":\"white\",\"linecolor\":\"white\",\"ticks\":\"\"},\"radialaxis\":{\"gridcolor\":\"white\",\"linecolor\":\"white\",\"ticks\":\"\"}},\"ternary\":{\"bgcolor\":\"#E5ECF6\",\"aaxis\":{\"gridcolor\":\"white\",\"linecolor\":\"white\",\"ticks\":\"\"},\"baxis\":{\"gridcolor\":\"white\",\"linecolor\":\"white\",\"ticks\":\"\"},\"caxis\":{\"gridcolor\":\"white\",\"linecolor\":\"white\",\"ticks\":\"\"}},\"coloraxis\":{\"colorbar\":{\"outlinewidth\":0,\"ticks\":\"\"}},\"colorscale\":{\"sequential\":[[0.0,\"#0d0887\"],[0.1111111111111111,\"#46039f\"],[0.2222222222222222,\"#7201a8\"],[0.3333333333333333,\"#9c179e\"],[0.4444444444444444,\"#bd3786\"],[0.5555555555555556,\"#d8576b\"],[0.6666666666666666,\"#ed7953\"],[0.7777777777777778,\"#fb9f3a\"],[0.8888888888888888,\"#fdca26\"],[1.0,\"#f0f921\"]],\"sequentialminus\":[[0.0,\"#0d0887\"],[0.1111111111111111,\"#46039f\"],[0.2222222222222222,\"#7201a8\"],[0.3333333333333333,\"#9c179e\"],[0.4444444444444444,\"#bd3786\"],[0.5555555555555556,\"#d8576b\"],[0.6666666666666666,\"#ed7953\"],[0.7777777777777778,\"#fb9f3a\"],[0.8888888888888888,\"#fdca26\"],[1.0,\"#f0f921\"]],\"diverging\":[[0,\"#8e0152\"],[0.1,\"#c51b7d\"],[0.2,\"#de77ae\"],[0.3,\"#f1b6da\"],[0.4,\"#fde0ef\"],[0.5,\"#f7f7f7\"],[0.6,\"#e6f5d0\"],[0.7,\"#b8e186\"],[0.8,\"#7fbc41\"],[0.9,\"#4d9221\"],[1,\"#276419\"]]},\"xaxis\":{\"gridcolor\":\"white\",\"linecolor\":\"white\",\"ticks\":\"\",\"title\":{\"standoff\":15},\"zerolinecolor\":\"white\",\"automargin\":true,\"zerolinewidth\":2},\"yaxis\":{\"gridcolor\":\"white\",\"linecolor\":\"white\",\"ticks\":\"\",\"title\":{\"standoff\":15},\"zerolinecolor\":\"white\",\"automargin\":true,\"zerolinewidth\":2},\"scene\":{\"xaxis\":{\"backgroundcolor\":\"#E5ECF6\",\"gridcolor\":\"white\",\"linecolor\":\"white\",\"showbackground\":true,\"ticks\":\"\",\"zerolinecolor\":\"white\",\"gridwidth\":2},\"yaxis\":{\"backgroundcolor\":\"#E5ECF6\",\"gridcolor\":\"white\",\"linecolor\":\"white\",\"showbackground\":true,\"ticks\":\"\",\"zerolinecolor\":\"white\",\"gridwidth\":2},\"zaxis\":{\"backgroundcolor\":\"#E5ECF6\",\"gridcolor\":\"white\",\"linecolor\":\"white\",\"showbackground\":true,\"ticks\":\"\",\"zerolinecolor\":\"white\",\"gridwidth\":2}},\"shapedefaults\":{\"line\":{\"color\":\"#2a3f5f\"}},\"annotationdefaults\":{\"arrowcolor\":\"#2a3f5f\",\"arrowhead\":0,\"arrowwidth\":1},\"geo\":{\"bgcolor\":\"white\",\"landcolor\":\"#E5ECF6\",\"subunitcolor\":\"white\",\"showland\":true,\"showlakes\":true,\"lakecolor\":\"white\"},\"title\":{\"x\":0.05},\"mapbox\":{\"style\":\"light\"}}},\"xaxis\":{\"anchor\":\"y\",\"domain\":[0.0,1.0],\"title\":{\"text\":\"Country\"},\"categoryorder\":\"array\",\"categoryarray\":[\"Brazil\",\"Indonesia\",\"Ethiopia\",\"Mexico\",\"Philippines\",\"Colombia\",\"Venezuela\",\"India\",\"Viet Nam\",\"Thailand\"]},\"yaxis\":{\"anchor\":\"x\",\"domain\":[0.0,1.0],\"title\":{\"text\":\"Total Domestic Consumption\"}},\"legend\":{\"title\":{\"text\":\"Country\"},\"tracegroupgap\":0},\"title\":{\"text\":\"Top 10 Domestic Consumers of Coffee by Country\",\"x\":0.5},\"barmode\":\"relative\",\"height\":600,\"width\":800},                        {\"responsive\": true}                    ).then(function(){\n",
       "                            \n",
       "var gd = document.getElementById('756c2694-4346-4c51-8f56-fab18e20371d');\n",
       "var x = new MutationObserver(function (mutations, observer) {{\n",
       "        var display = window.getComputedStyle(gd).display;\n",
       "        if (!display || display === 'none') {{\n",
       "            console.log([gd, 'removed!']);\n",
       "            Plotly.purge(gd);\n",
       "            observer.disconnect();\n",
       "        }}\n",
       "}});\n",
       "\n",
       "// Listen for the removal of the full notebook cells\n",
       "var notebookContainer = gd.closest('#notebook-container');\n",
       "if (notebookContainer) {{\n",
       "    x.observe(notebookContainer, {childList: true});\n",
       "}}\n",
       "\n",
       "// Listen for the clearing of the current output cell\n",
       "var outputEl = gd.closest('.output');\n",
       "if (outputEl) {{\n",
       "    x.observe(outputEl, {childList: true});\n",
       "}}\n",
       "\n",
       "                        })                };                });            </script>        </div>"
      ]
     },
     "metadata": {},
     "output_type": "display_data"
    }
   ],
   "source": [
    "# Lets graph the countries with the most domestic consumption\n",
    "\n",
    "fig1 = px.bar(top_dom_consumption_countries, x = 'country', y = 'total_domestic_consumption', color = 'country',\n",
    "                color_discrete_sequence = px.colors.qualitative.Safe, labels = {\"country\": \"Country\",\n",
    "                \"total_domestic_consumption\": \"Total Domestic Consumption\"},\n",
    "                title=\"Top 10 Domestic Consumers of Coffee by Country\", width=800, height=600)\n",
    "\n",
    "fig1.update_layout(title_x=0.5)\n",
    "fig1.show()"
   ]
  },
  {
   "cell_type": "code",
   "execution_count": 61,
   "id": "ab7343ac",
   "metadata": {},
   "outputs": [
    {
     "data": {
      "text/plain": [
       "Arabica            22\n",
       "Robusta            15\n",
       "Robusta/Arabica    10\n",
       "Arabica/Robusta     8\n",
       "Name: coffee_type, dtype: int64"
      ]
     },
     "execution_count": 61,
     "metadata": {},
     "output_type": "execute_result"
    }
   ],
   "source": [
    "# Lets inspect coffee type\n",
    "\n",
    "dom_con_coffee_type = coffee_domestic_consumption_0['coffee_type'].value_counts()\n",
    "dom_con_coffee_type\n"
   ]
  },
  {
   "cell_type": "code",
   "execution_count": 62,
   "id": "d37873a5",
   "metadata": {},
   "outputs": [
    {
     "data": {
      "application/vnd.plotly.v1+json": {
       "config": {
        "plotlyServerURL": "https://plot.ly"
       },
       "data": [
        {
         "alignmentgroup": "True",
         "hovertemplate": "coffee_type=Arabica/Robusta<br>Country=%{x}<br>Total Domestic Consumption=%{y}<extra></extra>",
         "legendgroup": "Arabica/Robusta",
         "marker": {
          "color": "rgb(136, 204, 238)",
          "pattern": {
           "shape": ""
          }
         },
         "name": "Arabica/Robusta",
         "offsetgroup": "Arabica/Robusta",
         "orientation": "v",
         "showlegend": true,
         "textposition": "auto",
         "type": "bar",
         "x": [
          "Brazil",
          "Mexico",
          "Dominican Republic",
          "Guatemala"
         ],
         "xaxis": "x",
         "y": [
          27824700000,
          3189660000,
          642823380,
          590880000
         ],
         "yaxis": "y"
        },
        {
         "alignmentgroup": "True",
         "hovertemplate": "coffee_type=Robusta/Arabica<br>Country=%{x}<br>Total Domestic Consumption=%{y}<extra></extra>",
         "legendgroup": "Robusta/Arabica",
         "marker": {
          "color": "rgb(204, 102, 119)",
          "pattern": {
           "shape": ""
          }
         },
         "name": "Robusta/Arabica",
         "offsetgroup": "Robusta/Arabica",
         "orientation": "v",
         "showlegend": true,
         "textposition": "auto",
         "type": "bar",
         "x": [
          "Indonesia",
          "Philippines",
          "India",
          "Viet Nam",
          "Thailand"
         ],
         "xaxis": "x",
         "y": [
          4920480000,
          2807280000,
          2093460000,
          1920928320,
          1248600000
         ],
         "yaxis": "y"
        },
        {
         "alignmentgroup": "True",
         "hovertemplate": "coffee_type=Arabica<br>Country=%{x}<br>Total Domestic Consumption=%{y}<extra></extra>",
         "legendgroup": "Arabica",
         "marker": {
          "color": "rgb(221, 204, 119)",
          "pattern": {
           "shape": ""
          }
         },
         "name": "Arabica",
         "offsetgroup": "Arabica",
         "orientation": "v",
         "showlegend": true,
         "textposition": "auto",
         "type": "bar",
         "x": [
          "Ethiopia",
          "Colombia",
          "Venezuela",
          "Costa Rica",
          "Haiti",
          "Honduras",
          "El Salvador",
          "Peru",
          "Cuba"
         ],
         "xaxis": "x",
         "y": [
          4536540000,
          2536776384,
          2386067999,
          665335200,
          600600000,
          471850680,
          417242040,
          402000000,
          384006000
         ],
         "yaxis": "y"
        },
        {
         "alignmentgroup": "True",
         "hovertemplate": "coffee_type=Robusta<br>Country=%{x}<br>Total Domestic Consumption=%{y}<extra></extra>",
         "legendgroup": "Robusta",
         "marker": {
          "color": "rgb(17, 119, 51)",
          "pattern": {
           "shape": ""
          }
         },
         "name": "Robusta",
         "offsetgroup": "Robusta",
         "orientation": "v",
         "showlegend": true,
         "textposition": "auto",
         "type": "bar",
         "x": [
          "Madagascar",
          "Côte d'Ivoire"
         ],
         "xaxis": "x",
         "y": [
          588705960,
          410260140
         ],
         "yaxis": "y"
        }
       ],
       "layout": {
        "barmode": "relative",
        "height": 600,
        "legend": {
         "title": {
          "text": "coffee_type"
         },
         "tracegroupgap": 0
        },
        "template": {
         "data": {
          "bar": [
           {
            "error_x": {
             "color": "#2a3f5f"
            },
            "error_y": {
             "color": "#2a3f5f"
            },
            "marker": {
             "line": {
              "color": "#E5ECF6",
              "width": 0.5
             },
             "pattern": {
              "fillmode": "overlay",
              "size": 10,
              "solidity": 0.2
             }
            },
            "type": "bar"
           }
          ],
          "barpolar": [
           {
            "marker": {
             "line": {
              "color": "#E5ECF6",
              "width": 0.5
             },
             "pattern": {
              "fillmode": "overlay",
              "size": 10,
              "solidity": 0.2
             }
            },
            "type": "barpolar"
           }
          ],
          "carpet": [
           {
            "aaxis": {
             "endlinecolor": "#2a3f5f",
             "gridcolor": "white",
             "linecolor": "white",
             "minorgridcolor": "white",
             "startlinecolor": "#2a3f5f"
            },
            "baxis": {
             "endlinecolor": "#2a3f5f",
             "gridcolor": "white",
             "linecolor": "white",
             "minorgridcolor": "white",
             "startlinecolor": "#2a3f5f"
            },
            "type": "carpet"
           }
          ],
          "choropleth": [
           {
            "colorbar": {
             "outlinewidth": 0,
             "ticks": ""
            },
            "type": "choropleth"
           }
          ],
          "contour": [
           {
            "colorbar": {
             "outlinewidth": 0,
             "ticks": ""
            },
            "colorscale": [
             [
              0,
              "#0d0887"
             ],
             [
              0.1111111111111111,
              "#46039f"
             ],
             [
              0.2222222222222222,
              "#7201a8"
             ],
             [
              0.3333333333333333,
              "#9c179e"
             ],
             [
              0.4444444444444444,
              "#bd3786"
             ],
             [
              0.5555555555555556,
              "#d8576b"
             ],
             [
              0.6666666666666666,
              "#ed7953"
             ],
             [
              0.7777777777777778,
              "#fb9f3a"
             ],
             [
              0.8888888888888888,
              "#fdca26"
             ],
             [
              1,
              "#f0f921"
             ]
            ],
            "type": "contour"
           }
          ],
          "contourcarpet": [
           {
            "colorbar": {
             "outlinewidth": 0,
             "ticks": ""
            },
            "type": "contourcarpet"
           }
          ],
          "heatmap": [
           {
            "colorbar": {
             "outlinewidth": 0,
             "ticks": ""
            },
            "colorscale": [
             [
              0,
              "#0d0887"
             ],
             [
              0.1111111111111111,
              "#46039f"
             ],
             [
              0.2222222222222222,
              "#7201a8"
             ],
             [
              0.3333333333333333,
              "#9c179e"
             ],
             [
              0.4444444444444444,
              "#bd3786"
             ],
             [
              0.5555555555555556,
              "#d8576b"
             ],
             [
              0.6666666666666666,
              "#ed7953"
             ],
             [
              0.7777777777777778,
              "#fb9f3a"
             ],
             [
              0.8888888888888888,
              "#fdca26"
             ],
             [
              1,
              "#f0f921"
             ]
            ],
            "type": "heatmap"
           }
          ],
          "heatmapgl": [
           {
            "colorbar": {
             "outlinewidth": 0,
             "ticks": ""
            },
            "colorscale": [
             [
              0,
              "#0d0887"
             ],
             [
              0.1111111111111111,
              "#46039f"
             ],
             [
              0.2222222222222222,
              "#7201a8"
             ],
             [
              0.3333333333333333,
              "#9c179e"
             ],
             [
              0.4444444444444444,
              "#bd3786"
             ],
             [
              0.5555555555555556,
              "#d8576b"
             ],
             [
              0.6666666666666666,
              "#ed7953"
             ],
             [
              0.7777777777777778,
              "#fb9f3a"
             ],
             [
              0.8888888888888888,
              "#fdca26"
             ],
             [
              1,
              "#f0f921"
             ]
            ],
            "type": "heatmapgl"
           }
          ],
          "histogram": [
           {
            "marker": {
             "pattern": {
              "fillmode": "overlay",
              "size": 10,
              "solidity": 0.2
             }
            },
            "type": "histogram"
           }
          ],
          "histogram2d": [
           {
            "colorbar": {
             "outlinewidth": 0,
             "ticks": ""
            },
            "colorscale": [
             [
              0,
              "#0d0887"
             ],
             [
              0.1111111111111111,
              "#46039f"
             ],
             [
              0.2222222222222222,
              "#7201a8"
             ],
             [
              0.3333333333333333,
              "#9c179e"
             ],
             [
              0.4444444444444444,
              "#bd3786"
             ],
             [
              0.5555555555555556,
              "#d8576b"
             ],
             [
              0.6666666666666666,
              "#ed7953"
             ],
             [
              0.7777777777777778,
              "#fb9f3a"
             ],
             [
              0.8888888888888888,
              "#fdca26"
             ],
             [
              1,
              "#f0f921"
             ]
            ],
            "type": "histogram2d"
           }
          ],
          "histogram2dcontour": [
           {
            "colorbar": {
             "outlinewidth": 0,
             "ticks": ""
            },
            "colorscale": [
             [
              0,
              "#0d0887"
             ],
             [
              0.1111111111111111,
              "#46039f"
             ],
             [
              0.2222222222222222,
              "#7201a8"
             ],
             [
              0.3333333333333333,
              "#9c179e"
             ],
             [
              0.4444444444444444,
              "#bd3786"
             ],
             [
              0.5555555555555556,
              "#d8576b"
             ],
             [
              0.6666666666666666,
              "#ed7953"
             ],
             [
              0.7777777777777778,
              "#fb9f3a"
             ],
             [
              0.8888888888888888,
              "#fdca26"
             ],
             [
              1,
              "#f0f921"
             ]
            ],
            "type": "histogram2dcontour"
           }
          ],
          "mesh3d": [
           {
            "colorbar": {
             "outlinewidth": 0,
             "ticks": ""
            },
            "type": "mesh3d"
           }
          ],
          "parcoords": [
           {
            "line": {
             "colorbar": {
              "outlinewidth": 0,
              "ticks": ""
             }
            },
            "type": "parcoords"
           }
          ],
          "pie": [
           {
            "automargin": true,
            "type": "pie"
           }
          ],
          "scatter": [
           {
            "fillpattern": {
             "fillmode": "overlay",
             "size": 10,
             "solidity": 0.2
            },
            "type": "scatter"
           }
          ],
          "scatter3d": [
           {
            "line": {
             "colorbar": {
              "outlinewidth": 0,
              "ticks": ""
             }
            },
            "marker": {
             "colorbar": {
              "outlinewidth": 0,
              "ticks": ""
             }
            },
            "type": "scatter3d"
           }
          ],
          "scattercarpet": [
           {
            "marker": {
             "colorbar": {
              "outlinewidth": 0,
              "ticks": ""
             }
            },
            "type": "scattercarpet"
           }
          ],
          "scattergeo": [
           {
            "marker": {
             "colorbar": {
              "outlinewidth": 0,
              "ticks": ""
             }
            },
            "type": "scattergeo"
           }
          ],
          "scattergl": [
           {
            "marker": {
             "colorbar": {
              "outlinewidth": 0,
              "ticks": ""
             }
            },
            "type": "scattergl"
           }
          ],
          "scattermapbox": [
           {
            "marker": {
             "colorbar": {
              "outlinewidth": 0,
              "ticks": ""
             }
            },
            "type": "scattermapbox"
           }
          ],
          "scatterpolar": [
           {
            "marker": {
             "colorbar": {
              "outlinewidth": 0,
              "ticks": ""
             }
            },
            "type": "scatterpolar"
           }
          ],
          "scatterpolargl": [
           {
            "marker": {
             "colorbar": {
              "outlinewidth": 0,
              "ticks": ""
             }
            },
            "type": "scatterpolargl"
           }
          ],
          "scatterternary": [
           {
            "marker": {
             "colorbar": {
              "outlinewidth": 0,
              "ticks": ""
             }
            },
            "type": "scatterternary"
           }
          ],
          "surface": [
           {
            "colorbar": {
             "outlinewidth": 0,
             "ticks": ""
            },
            "colorscale": [
             [
              0,
              "#0d0887"
             ],
             [
              0.1111111111111111,
              "#46039f"
             ],
             [
              0.2222222222222222,
              "#7201a8"
             ],
             [
              0.3333333333333333,
              "#9c179e"
             ],
             [
              0.4444444444444444,
              "#bd3786"
             ],
             [
              0.5555555555555556,
              "#d8576b"
             ],
             [
              0.6666666666666666,
              "#ed7953"
             ],
             [
              0.7777777777777778,
              "#fb9f3a"
             ],
             [
              0.8888888888888888,
              "#fdca26"
             ],
             [
              1,
              "#f0f921"
             ]
            ],
            "type": "surface"
           }
          ],
          "table": [
           {
            "cells": {
             "fill": {
              "color": "#EBF0F8"
             },
             "line": {
              "color": "white"
             }
            },
            "header": {
             "fill": {
              "color": "#C8D4E3"
             },
             "line": {
              "color": "white"
             }
            },
            "type": "table"
           }
          ]
         },
         "layout": {
          "annotationdefaults": {
           "arrowcolor": "#2a3f5f",
           "arrowhead": 0,
           "arrowwidth": 1
          },
          "autotypenumbers": "strict",
          "coloraxis": {
           "colorbar": {
            "outlinewidth": 0,
            "ticks": ""
           }
          },
          "colorscale": {
           "diverging": [
            [
             0,
             "#8e0152"
            ],
            [
             0.1,
             "#c51b7d"
            ],
            [
             0.2,
             "#de77ae"
            ],
            [
             0.3,
             "#f1b6da"
            ],
            [
             0.4,
             "#fde0ef"
            ],
            [
             0.5,
             "#f7f7f7"
            ],
            [
             0.6,
             "#e6f5d0"
            ],
            [
             0.7,
             "#b8e186"
            ],
            [
             0.8,
             "#7fbc41"
            ],
            [
             0.9,
             "#4d9221"
            ],
            [
             1,
             "#276419"
            ]
           ],
           "sequential": [
            [
             0,
             "#0d0887"
            ],
            [
             0.1111111111111111,
             "#46039f"
            ],
            [
             0.2222222222222222,
             "#7201a8"
            ],
            [
             0.3333333333333333,
             "#9c179e"
            ],
            [
             0.4444444444444444,
             "#bd3786"
            ],
            [
             0.5555555555555556,
             "#d8576b"
            ],
            [
             0.6666666666666666,
             "#ed7953"
            ],
            [
             0.7777777777777778,
             "#fb9f3a"
            ],
            [
             0.8888888888888888,
             "#fdca26"
            ],
            [
             1,
             "#f0f921"
            ]
           ],
           "sequentialminus": [
            [
             0,
             "#0d0887"
            ],
            [
             0.1111111111111111,
             "#46039f"
            ],
            [
             0.2222222222222222,
             "#7201a8"
            ],
            [
             0.3333333333333333,
             "#9c179e"
            ],
            [
             0.4444444444444444,
             "#bd3786"
            ],
            [
             0.5555555555555556,
             "#d8576b"
            ],
            [
             0.6666666666666666,
             "#ed7953"
            ],
            [
             0.7777777777777778,
             "#fb9f3a"
            ],
            [
             0.8888888888888888,
             "#fdca26"
            ],
            [
             1,
             "#f0f921"
            ]
           ]
          },
          "colorway": [
           "#636efa",
           "#EF553B",
           "#00cc96",
           "#ab63fa",
           "#FFA15A",
           "#19d3f3",
           "#FF6692",
           "#B6E880",
           "#FF97FF",
           "#FECB52"
          ],
          "font": {
           "color": "#2a3f5f"
          },
          "geo": {
           "bgcolor": "white",
           "lakecolor": "white",
           "landcolor": "#E5ECF6",
           "showlakes": true,
           "showland": true,
           "subunitcolor": "white"
          },
          "hoverlabel": {
           "align": "left"
          },
          "hovermode": "closest",
          "mapbox": {
           "style": "light"
          },
          "paper_bgcolor": "white",
          "plot_bgcolor": "#E5ECF6",
          "polar": {
           "angularaxis": {
            "gridcolor": "white",
            "linecolor": "white",
            "ticks": ""
           },
           "bgcolor": "#E5ECF6",
           "radialaxis": {
            "gridcolor": "white",
            "linecolor": "white",
            "ticks": ""
           }
          },
          "scene": {
           "xaxis": {
            "backgroundcolor": "#E5ECF6",
            "gridcolor": "white",
            "gridwidth": 2,
            "linecolor": "white",
            "showbackground": true,
            "ticks": "",
            "zerolinecolor": "white"
           },
           "yaxis": {
            "backgroundcolor": "#E5ECF6",
            "gridcolor": "white",
            "gridwidth": 2,
            "linecolor": "white",
            "showbackground": true,
            "ticks": "",
            "zerolinecolor": "white"
           },
           "zaxis": {
            "backgroundcolor": "#E5ECF6",
            "gridcolor": "white",
            "gridwidth": 2,
            "linecolor": "white",
            "showbackground": true,
            "ticks": "",
            "zerolinecolor": "white"
           }
          },
          "shapedefaults": {
           "line": {
            "color": "#2a3f5f"
           }
          },
          "ternary": {
           "aaxis": {
            "gridcolor": "white",
            "linecolor": "white",
            "ticks": ""
           },
           "baxis": {
            "gridcolor": "white",
            "linecolor": "white",
            "ticks": ""
           },
           "bgcolor": "#E5ECF6",
           "caxis": {
            "gridcolor": "white",
            "linecolor": "white",
            "ticks": ""
           }
          },
          "title": {
           "x": 0.05
          },
          "xaxis": {
           "automargin": true,
           "gridcolor": "white",
           "linecolor": "white",
           "ticks": "",
           "title": {
            "standoff": 15
           },
           "zerolinecolor": "white",
           "zerolinewidth": 2
          },
          "yaxis": {
           "automargin": true,
           "gridcolor": "white",
           "linecolor": "white",
           "ticks": "",
           "title": {
            "standoff": 15
           },
           "zerolinecolor": "white",
           "zerolinewidth": 2
          }
         }
        },
        "title": {
         "text": "Top 20 Domestic Consumers of Coffee by Coffee Type",
         "x": 0.5
        },
        "width": 1000,
        "xaxis": {
         "anchor": "y",
         "domain": [
          0,
          1
         ],
         "title": {
          "text": "Country"
         }
        },
        "yaxis": {
         "anchor": "x",
         "domain": [
          0,
          1
         ],
         "title": {
          "text": "Total Domestic Consumption"
         }
        }
       }
      },
      "text/html": [
       "<div>                            <div id=\"be8f6b31-1371-4acf-bb1e-5294bc212b7a\" class=\"plotly-graph-div\" style=\"height:600px; width:1000px;\"></div>            <script type=\"text/javascript\">                require([\"plotly\"], function(Plotly) {                    window.PLOTLYENV=window.PLOTLYENV || {};                                    if (document.getElementById(\"be8f6b31-1371-4acf-bb1e-5294bc212b7a\")) {                    Plotly.newPlot(                        \"be8f6b31-1371-4acf-bb1e-5294bc212b7a\",                        [{\"alignmentgroup\":\"True\",\"hovertemplate\":\"coffee_type=Arabica/Robusta<br>Country=%{x}<br>Total Domestic Consumption=%{y}<extra></extra>\",\"legendgroup\":\"Arabica/Robusta\",\"marker\":{\"color\":\"rgb(136, 204, 238)\",\"pattern\":{\"shape\":\"\"}},\"name\":\"Arabica/Robusta\",\"offsetgroup\":\"Arabica/Robusta\",\"orientation\":\"v\",\"showlegend\":true,\"textposition\":\"auto\",\"x\":[\"Brazil\",\"Mexico\",\"Dominican Republic\",\"Guatemala\"],\"xaxis\":\"x\",\"y\":[27824700000,3189660000,642823380,590880000],\"yaxis\":\"y\",\"type\":\"bar\"},{\"alignmentgroup\":\"True\",\"hovertemplate\":\"coffee_type=Robusta/Arabica<br>Country=%{x}<br>Total Domestic Consumption=%{y}<extra></extra>\",\"legendgroup\":\"Robusta/Arabica\",\"marker\":{\"color\":\"rgb(204, 102, 119)\",\"pattern\":{\"shape\":\"\"}},\"name\":\"Robusta/Arabica\",\"offsetgroup\":\"Robusta/Arabica\",\"orientation\":\"v\",\"showlegend\":true,\"textposition\":\"auto\",\"x\":[\"Indonesia\",\"Philippines\",\"India\",\"Viet Nam\",\"Thailand\"],\"xaxis\":\"x\",\"y\":[4920480000,2807280000,2093460000,1920928320,1248600000],\"yaxis\":\"y\",\"type\":\"bar\"},{\"alignmentgroup\":\"True\",\"hovertemplate\":\"coffee_type=Arabica<br>Country=%{x}<br>Total Domestic Consumption=%{y}<extra></extra>\",\"legendgroup\":\"Arabica\",\"marker\":{\"color\":\"rgb(221, 204, 119)\",\"pattern\":{\"shape\":\"\"}},\"name\":\"Arabica\",\"offsetgroup\":\"Arabica\",\"orientation\":\"v\",\"showlegend\":true,\"textposition\":\"auto\",\"x\":[\"Ethiopia\",\"Colombia\",\"Venezuela\",\"Costa Rica\",\"Haiti\",\"Honduras\",\"El Salvador\",\"Peru\",\"Cuba\"],\"xaxis\":\"x\",\"y\":[4536540000,2536776384,2386067999,665335200,600600000,471850680,417242040,402000000,384006000],\"yaxis\":\"y\",\"type\":\"bar\"},{\"alignmentgroup\":\"True\",\"hovertemplate\":\"coffee_type=Robusta<br>Country=%{x}<br>Total Domestic Consumption=%{y}<extra></extra>\",\"legendgroup\":\"Robusta\",\"marker\":{\"color\":\"rgb(17, 119, 51)\",\"pattern\":{\"shape\":\"\"}},\"name\":\"Robusta\",\"offsetgroup\":\"Robusta\",\"orientation\":\"v\",\"showlegend\":true,\"textposition\":\"auto\",\"x\":[\"Madagascar\",\"C\\u00f4te d'Ivoire\"],\"xaxis\":\"x\",\"y\":[588705960,410260140],\"yaxis\":\"y\",\"type\":\"bar\"}],                        {\"template\":{\"data\":{\"histogram2dcontour\":[{\"type\":\"histogram2dcontour\",\"colorbar\":{\"outlinewidth\":0,\"ticks\":\"\"},\"colorscale\":[[0.0,\"#0d0887\"],[0.1111111111111111,\"#46039f\"],[0.2222222222222222,\"#7201a8\"],[0.3333333333333333,\"#9c179e\"],[0.4444444444444444,\"#bd3786\"],[0.5555555555555556,\"#d8576b\"],[0.6666666666666666,\"#ed7953\"],[0.7777777777777778,\"#fb9f3a\"],[0.8888888888888888,\"#fdca26\"],[1.0,\"#f0f921\"]]}],\"choropleth\":[{\"type\":\"choropleth\",\"colorbar\":{\"outlinewidth\":0,\"ticks\":\"\"}}],\"histogram2d\":[{\"type\":\"histogram2d\",\"colorbar\":{\"outlinewidth\":0,\"ticks\":\"\"},\"colorscale\":[[0.0,\"#0d0887\"],[0.1111111111111111,\"#46039f\"],[0.2222222222222222,\"#7201a8\"],[0.3333333333333333,\"#9c179e\"],[0.4444444444444444,\"#bd3786\"],[0.5555555555555556,\"#d8576b\"],[0.6666666666666666,\"#ed7953\"],[0.7777777777777778,\"#fb9f3a\"],[0.8888888888888888,\"#fdca26\"],[1.0,\"#f0f921\"]]}],\"heatmap\":[{\"type\":\"heatmap\",\"colorbar\":{\"outlinewidth\":0,\"ticks\":\"\"},\"colorscale\":[[0.0,\"#0d0887\"],[0.1111111111111111,\"#46039f\"],[0.2222222222222222,\"#7201a8\"],[0.3333333333333333,\"#9c179e\"],[0.4444444444444444,\"#bd3786\"],[0.5555555555555556,\"#d8576b\"],[0.6666666666666666,\"#ed7953\"],[0.7777777777777778,\"#fb9f3a\"],[0.8888888888888888,\"#fdca26\"],[1.0,\"#f0f921\"]]}],\"heatmapgl\":[{\"type\":\"heatmapgl\",\"colorbar\":{\"outlinewidth\":0,\"ticks\":\"\"},\"colorscale\":[[0.0,\"#0d0887\"],[0.1111111111111111,\"#46039f\"],[0.2222222222222222,\"#7201a8\"],[0.3333333333333333,\"#9c179e\"],[0.4444444444444444,\"#bd3786\"],[0.5555555555555556,\"#d8576b\"],[0.6666666666666666,\"#ed7953\"],[0.7777777777777778,\"#fb9f3a\"],[0.8888888888888888,\"#fdca26\"],[1.0,\"#f0f921\"]]}],\"contourcarpet\":[{\"type\":\"contourcarpet\",\"colorbar\":{\"outlinewidth\":0,\"ticks\":\"\"}}],\"contour\":[{\"type\":\"contour\",\"colorbar\":{\"outlinewidth\":0,\"ticks\":\"\"},\"colorscale\":[[0.0,\"#0d0887\"],[0.1111111111111111,\"#46039f\"],[0.2222222222222222,\"#7201a8\"],[0.3333333333333333,\"#9c179e\"],[0.4444444444444444,\"#bd3786\"],[0.5555555555555556,\"#d8576b\"],[0.6666666666666666,\"#ed7953\"],[0.7777777777777778,\"#fb9f3a\"],[0.8888888888888888,\"#fdca26\"],[1.0,\"#f0f921\"]]}],\"surface\":[{\"type\":\"surface\",\"colorbar\":{\"outlinewidth\":0,\"ticks\":\"\"},\"colorscale\":[[0.0,\"#0d0887\"],[0.1111111111111111,\"#46039f\"],[0.2222222222222222,\"#7201a8\"],[0.3333333333333333,\"#9c179e\"],[0.4444444444444444,\"#bd3786\"],[0.5555555555555556,\"#d8576b\"],[0.6666666666666666,\"#ed7953\"],[0.7777777777777778,\"#fb9f3a\"],[0.8888888888888888,\"#fdca26\"],[1.0,\"#f0f921\"]]}],\"mesh3d\":[{\"type\":\"mesh3d\",\"colorbar\":{\"outlinewidth\":0,\"ticks\":\"\"}}],\"scatter\":[{\"fillpattern\":{\"fillmode\":\"overlay\",\"size\":10,\"solidity\":0.2},\"type\":\"scatter\"}],\"parcoords\":[{\"type\":\"parcoords\",\"line\":{\"colorbar\":{\"outlinewidth\":0,\"ticks\":\"\"}}}],\"scatterpolargl\":[{\"type\":\"scatterpolargl\",\"marker\":{\"colorbar\":{\"outlinewidth\":0,\"ticks\":\"\"}}}],\"bar\":[{\"error_x\":{\"color\":\"#2a3f5f\"},\"error_y\":{\"color\":\"#2a3f5f\"},\"marker\":{\"line\":{\"color\":\"#E5ECF6\",\"width\":0.5},\"pattern\":{\"fillmode\":\"overlay\",\"size\":10,\"solidity\":0.2}},\"type\":\"bar\"}],\"scattergeo\":[{\"type\":\"scattergeo\",\"marker\":{\"colorbar\":{\"outlinewidth\":0,\"ticks\":\"\"}}}],\"scatterpolar\":[{\"type\":\"scatterpolar\",\"marker\":{\"colorbar\":{\"outlinewidth\":0,\"ticks\":\"\"}}}],\"histogram\":[{\"marker\":{\"pattern\":{\"fillmode\":\"overlay\",\"size\":10,\"solidity\":0.2}},\"type\":\"histogram\"}],\"scattergl\":[{\"type\":\"scattergl\",\"marker\":{\"colorbar\":{\"outlinewidth\":0,\"ticks\":\"\"}}}],\"scatter3d\":[{\"type\":\"scatter3d\",\"line\":{\"colorbar\":{\"outlinewidth\":0,\"ticks\":\"\"}},\"marker\":{\"colorbar\":{\"outlinewidth\":0,\"ticks\":\"\"}}}],\"scattermapbox\":[{\"type\":\"scattermapbox\",\"marker\":{\"colorbar\":{\"outlinewidth\":0,\"ticks\":\"\"}}}],\"scatterternary\":[{\"type\":\"scatterternary\",\"marker\":{\"colorbar\":{\"outlinewidth\":0,\"ticks\":\"\"}}}],\"scattercarpet\":[{\"type\":\"scattercarpet\",\"marker\":{\"colorbar\":{\"outlinewidth\":0,\"ticks\":\"\"}}}],\"carpet\":[{\"aaxis\":{\"endlinecolor\":\"#2a3f5f\",\"gridcolor\":\"white\",\"linecolor\":\"white\",\"minorgridcolor\":\"white\",\"startlinecolor\":\"#2a3f5f\"},\"baxis\":{\"endlinecolor\":\"#2a3f5f\",\"gridcolor\":\"white\",\"linecolor\":\"white\",\"minorgridcolor\":\"white\",\"startlinecolor\":\"#2a3f5f\"},\"type\":\"carpet\"}],\"table\":[{\"cells\":{\"fill\":{\"color\":\"#EBF0F8\"},\"line\":{\"color\":\"white\"}},\"header\":{\"fill\":{\"color\":\"#C8D4E3\"},\"line\":{\"color\":\"white\"}},\"type\":\"table\"}],\"barpolar\":[{\"marker\":{\"line\":{\"color\":\"#E5ECF6\",\"width\":0.5},\"pattern\":{\"fillmode\":\"overlay\",\"size\":10,\"solidity\":0.2}},\"type\":\"barpolar\"}],\"pie\":[{\"automargin\":true,\"type\":\"pie\"}]},\"layout\":{\"autotypenumbers\":\"strict\",\"colorway\":[\"#636efa\",\"#EF553B\",\"#00cc96\",\"#ab63fa\",\"#FFA15A\",\"#19d3f3\",\"#FF6692\",\"#B6E880\",\"#FF97FF\",\"#FECB52\"],\"font\":{\"color\":\"#2a3f5f\"},\"hovermode\":\"closest\",\"hoverlabel\":{\"align\":\"left\"},\"paper_bgcolor\":\"white\",\"plot_bgcolor\":\"#E5ECF6\",\"polar\":{\"bgcolor\":\"#E5ECF6\",\"angularaxis\":{\"gridcolor\":\"white\",\"linecolor\":\"white\",\"ticks\":\"\"},\"radialaxis\":{\"gridcolor\":\"white\",\"linecolor\":\"white\",\"ticks\":\"\"}},\"ternary\":{\"bgcolor\":\"#E5ECF6\",\"aaxis\":{\"gridcolor\":\"white\",\"linecolor\":\"white\",\"ticks\":\"\"},\"baxis\":{\"gridcolor\":\"white\",\"linecolor\":\"white\",\"ticks\":\"\"},\"caxis\":{\"gridcolor\":\"white\",\"linecolor\":\"white\",\"ticks\":\"\"}},\"coloraxis\":{\"colorbar\":{\"outlinewidth\":0,\"ticks\":\"\"}},\"colorscale\":{\"sequential\":[[0.0,\"#0d0887\"],[0.1111111111111111,\"#46039f\"],[0.2222222222222222,\"#7201a8\"],[0.3333333333333333,\"#9c179e\"],[0.4444444444444444,\"#bd3786\"],[0.5555555555555556,\"#d8576b\"],[0.6666666666666666,\"#ed7953\"],[0.7777777777777778,\"#fb9f3a\"],[0.8888888888888888,\"#fdca26\"],[1.0,\"#f0f921\"]],\"sequentialminus\":[[0.0,\"#0d0887\"],[0.1111111111111111,\"#46039f\"],[0.2222222222222222,\"#7201a8\"],[0.3333333333333333,\"#9c179e\"],[0.4444444444444444,\"#bd3786\"],[0.5555555555555556,\"#d8576b\"],[0.6666666666666666,\"#ed7953\"],[0.7777777777777778,\"#fb9f3a\"],[0.8888888888888888,\"#fdca26\"],[1.0,\"#f0f921\"]],\"diverging\":[[0,\"#8e0152\"],[0.1,\"#c51b7d\"],[0.2,\"#de77ae\"],[0.3,\"#f1b6da\"],[0.4,\"#fde0ef\"],[0.5,\"#f7f7f7\"],[0.6,\"#e6f5d0\"],[0.7,\"#b8e186\"],[0.8,\"#7fbc41\"],[0.9,\"#4d9221\"],[1,\"#276419\"]]},\"xaxis\":{\"gridcolor\":\"white\",\"linecolor\":\"white\",\"ticks\":\"\",\"title\":{\"standoff\":15},\"zerolinecolor\":\"white\",\"automargin\":true,\"zerolinewidth\":2},\"yaxis\":{\"gridcolor\":\"white\",\"linecolor\":\"white\",\"ticks\":\"\",\"title\":{\"standoff\":15},\"zerolinecolor\":\"white\",\"automargin\":true,\"zerolinewidth\":2},\"scene\":{\"xaxis\":{\"backgroundcolor\":\"#E5ECF6\",\"gridcolor\":\"white\",\"linecolor\":\"white\",\"showbackground\":true,\"ticks\":\"\",\"zerolinecolor\":\"white\",\"gridwidth\":2},\"yaxis\":{\"backgroundcolor\":\"#E5ECF6\",\"gridcolor\":\"white\",\"linecolor\":\"white\",\"showbackground\":true,\"ticks\":\"\",\"zerolinecolor\":\"white\",\"gridwidth\":2},\"zaxis\":{\"backgroundcolor\":\"#E5ECF6\",\"gridcolor\":\"white\",\"linecolor\":\"white\",\"showbackground\":true,\"ticks\":\"\",\"zerolinecolor\":\"white\",\"gridwidth\":2}},\"shapedefaults\":{\"line\":{\"color\":\"#2a3f5f\"}},\"annotationdefaults\":{\"arrowcolor\":\"#2a3f5f\",\"arrowhead\":0,\"arrowwidth\":1},\"geo\":{\"bgcolor\":\"white\",\"landcolor\":\"#E5ECF6\",\"subunitcolor\":\"white\",\"showland\":true,\"showlakes\":true,\"lakecolor\":\"white\"},\"title\":{\"x\":0.05},\"mapbox\":{\"style\":\"light\"}}},\"xaxis\":{\"anchor\":\"y\",\"domain\":[0.0,1.0],\"title\":{\"text\":\"Country\"}},\"yaxis\":{\"anchor\":\"x\",\"domain\":[0.0,1.0],\"title\":{\"text\":\"Total Domestic Consumption\"}},\"legend\":{\"title\":{\"text\":\"coffee_type\"},\"tracegroupgap\":0},\"title\":{\"text\":\"Top 20 Domestic Consumers of Coffee by Coffee Type\",\"x\":0.5},\"barmode\":\"relative\",\"height\":600,\"width\":1000},                        {\"responsive\": true}                    ).then(function(){\n",
       "                            \n",
       "var gd = document.getElementById('be8f6b31-1371-4acf-bb1e-5294bc212b7a');\n",
       "var x = new MutationObserver(function (mutations, observer) {{\n",
       "        var display = window.getComputedStyle(gd).display;\n",
       "        if (!display || display === 'none') {{\n",
       "            console.log([gd, 'removed!']);\n",
       "            Plotly.purge(gd);\n",
       "            observer.disconnect();\n",
       "        }}\n",
       "}});\n",
       "\n",
       "// Listen for the removal of the full notebook cells\n",
       "var notebookContainer = gd.closest('#notebook-container');\n",
       "if (notebookContainer) {{\n",
       "    x.observe(notebookContainer, {childList: true});\n",
       "}}\n",
       "\n",
       "// Listen for the clearing of the current output cell\n",
       "var outputEl = gd.closest('.output');\n",
       "if (outputEl) {{\n",
       "    x.observe(outputEl, {childList: true});\n",
       "}}\n",
       "\n",
       "                        })                };                });            </script>        </div>"
      ]
     },
     "metadata": {},
     "output_type": "display_data"
    }
   ],
   "source": [
    "# Lets graph top consumers by coffee type\n",
    "top_dom_con_by_coffee_type = coffee_domestic_consumption_0[['country', 'total_domestic_consumption', 'coffee_type']]\n",
    "top_dom_con_by_coffee_type = top_dom_con_by_coffee_type.sort_values(by=['total_domestic_consumption'], ascending = False)\n",
    "top_dom_con_by_coffee_type = top_dom_con_by_coffee_type.head(20)\n",
    "\n",
    "fig2 = px.bar(top_dom_con_by_coffee_type, x = 'country', y = 'total_domestic_consumption', color = 'coffee_type',\n",
    "                color_discrete_sequence = px.colors.qualitative.Safe, labels = {\"country\": \"Country\",\n",
    "                \"total_domestic_consumption\": \"Total Domestic Consumption\"},\n",
    "                title=\"Top 20 Domestic Consumers of Coffee by Coffee Type\", width=1000, height=600)\n",
    "\n",
    "fig2.update_layout(title_x=0.5)\n",
    "fig2.show()\n",
    "\n",
    "\n"
   ]
  },
  {
   "cell_type": "code",
   "execution_count": 63,
   "id": "59dbb3a5",
   "metadata": {},
   "outputs": [
    {
     "data": {
      "text/html": [
       "<div>\n",
       "<style scoped>\n",
       "    .dataframe tbody tr th:only-of-type {\n",
       "        vertical-align: middle;\n",
       "    }\n",
       "\n",
       "    .dataframe tbody tr th {\n",
       "        vertical-align: top;\n",
       "    }\n",
       "\n",
       "    .dataframe thead th {\n",
       "        text-align: right;\n",
       "    }\n",
       "</style>\n",
       "<table border=\"1\" class=\"dataframe\">\n",
       "  <thead>\n",
       "    <tr style=\"text-align: right;\">\n",
       "      <th></th>\n",
       "      <th>Brazil</th>\n",
       "      <th>Indonesia</th>\n",
       "      <th>Ethiopia</th>\n",
       "      <th>Mexico</th>\n",
       "      <th>Philippines</th>\n",
       "      <th>Colombia</th>\n",
       "      <th>Venezuela</th>\n",
       "      <th>India</th>\n",
       "      <th>Viet Nam</th>\n",
       "      <th>Thailand</th>\n",
       "    </tr>\n",
       "    <tr>\n",
       "      <th>Year</th>\n",
       "      <th></th>\n",
       "      <th></th>\n",
       "      <th></th>\n",
       "      <th></th>\n",
       "      <th></th>\n",
       "      <th></th>\n",
       "      <th></th>\n",
       "      <th></th>\n",
       "      <th></th>\n",
       "      <th></th>\n",
       "    </tr>\n",
       "  </thead>\n",
       "  <tbody>\n",
       "    <tr>\n",
       "      <th>1990/91</th>\n",
       "      <td>492000000</td>\n",
       "      <td>74520000</td>\n",
       "      <td>43200000</td>\n",
       "      <td>74100000</td>\n",
       "      <td>72000000</td>\n",
       "      <td>54180000</td>\n",
       "      <td>82440000</td>\n",
       "      <td>11280000</td>\n",
       "      <td>46943400</td>\n",
       "      <td>9000000</td>\n",
       "    </tr>\n",
       "    <tr>\n",
       "      <th>1991/92</th>\n",
       "      <td>510000000</td>\n",
       "      <td>76800000</td>\n",
       "      <td>45000000</td>\n",
       "      <td>76140000</td>\n",
       "      <td>75840000</td>\n",
       "      <td>55000020</td>\n",
       "      <td>72000000</td>\n",
       "      <td>13200000</td>\n",
       "      <td>48928800</td>\n",
       "      <td>13800000</td>\n",
       "    </tr>\n",
       "    <tr>\n",
       "      <th>1992/93</th>\n",
       "      <td>534000000</td>\n",
       "      <td>79140000</td>\n",
       "      <td>45000000</td>\n",
       "      <td>78180000</td>\n",
       "      <td>79860000</td>\n",
       "      <td>55020000</td>\n",
       "      <td>78000000</td>\n",
       "      <td>13980000</td>\n",
       "      <td>50998200</td>\n",
       "      <td>15000000</td>\n",
       "    </tr>\n",
       "    <tr>\n",
       "      <th>1993/94</th>\n",
       "      <td>546000000</td>\n",
       "      <td>81540000</td>\n",
       "      <td>46200000</td>\n",
       "      <td>80340000</td>\n",
       "      <td>84120000</td>\n",
       "      <td>49999980</td>\n",
       "      <td>64200000</td>\n",
       "      <td>15000000</td>\n",
       "      <td>53155800</td>\n",
       "      <td>16020000</td>\n",
       "    </tr>\n",
       "    <tr>\n",
       "      <th>1994/95</th>\n",
       "      <td>558000000</td>\n",
       "      <td>84000000</td>\n",
       "      <td>47400000</td>\n",
       "      <td>82500000</td>\n",
       "      <td>88560000</td>\n",
       "      <td>50100000</td>\n",
       "      <td>61200000</td>\n",
       "      <td>16980000</td>\n",
       "      <td>55404000</td>\n",
       "      <td>16020000</td>\n",
       "    </tr>\n",
       "    <tr>\n",
       "      <th>1995/96</th>\n",
       "      <td>606000000</td>\n",
       "      <td>86580000</td>\n",
       "      <td>48600000</td>\n",
       "      <td>81540000</td>\n",
       "      <td>93300000</td>\n",
       "      <td>50220000</td>\n",
       "      <td>70740000</td>\n",
       "      <td>25020000</td>\n",
       "      <td>57747600</td>\n",
       "      <td>16910700</td>\n",
       "    </tr>\n",
       "    <tr>\n",
       "      <th>1996/97</th>\n",
       "      <td>660000000</td>\n",
       "      <td>89160000</td>\n",
       "      <td>49860000</td>\n",
       "      <td>80580000</td>\n",
       "      <td>98220000</td>\n",
       "      <td>50280000</td>\n",
       "      <td>74100000</td>\n",
       "      <td>19980000</td>\n",
       "      <td>60190800</td>\n",
       "      <td>17850960</td>\n",
       "    </tr>\n",
       "    <tr>\n",
       "      <th>1997/98</th>\n",
       "      <td>690000000</td>\n",
       "      <td>91920000</td>\n",
       "      <td>51180000</td>\n",
       "      <td>79680000</td>\n",
       "      <td>103440000</td>\n",
       "      <td>50340000</td>\n",
       "      <td>72060000</td>\n",
       "      <td>23400000</td>\n",
       "      <td>62736599</td>\n",
       "      <td>18843480</td>\n",
       "    </tr>\n",
       "    <tr>\n",
       "      <th>1998/99</th>\n",
       "      <td>732000000</td>\n",
       "      <td>94680000</td>\n",
       "      <td>48600000</td>\n",
       "      <td>78720000</td>\n",
       "      <td>108960000</td>\n",
       "      <td>54000000</td>\n",
       "      <td>66480000</td>\n",
       "      <td>25980000</td>\n",
       "      <td>65390400</td>\n",
       "      <td>19891140</td>\n",
       "    </tr>\n",
       "    <tr>\n",
       "      <th>1999/00</th>\n",
       "      <td>762000000</td>\n",
       "      <td>97560000</td>\n",
       "      <td>51720000</td>\n",
       "      <td>77820000</td>\n",
       "      <td>114720000</td>\n",
       "      <td>55500000</td>\n",
       "      <td>69000000</td>\n",
       "      <td>25980000</td>\n",
       "      <td>68156400</td>\n",
       "      <td>21000000</td>\n",
       "    </tr>\n",
       "    <tr>\n",
       "      <th>2000/01</th>\n",
       "      <td>792000000</td>\n",
       "      <td>100560000</td>\n",
       "      <td>49200000</td>\n",
       "      <td>76920000</td>\n",
       "      <td>120840000</td>\n",
       "      <td>58500000</td>\n",
       "      <td>78300000</td>\n",
       "      <td>30000000</td>\n",
       "      <td>71039400</td>\n",
       "      <td>24097500</td>\n",
       "    </tr>\n",
       "    <tr>\n",
       "      <th>2001/02</th>\n",
       "      <td>815400000</td>\n",
       "      <td>120000000</td>\n",
       "      <td>49260000</td>\n",
       "      <td>76020000</td>\n",
       "      <td>127260000</td>\n",
       "      <td>64020000</td>\n",
       "      <td>90000000</td>\n",
       "      <td>30000000</td>\n",
       "      <td>74044200</td>\n",
       "      <td>27651900</td>\n",
       "    </tr>\n",
       "    <tr>\n",
       "      <th>2002/03</th>\n",
       "      <td>825000000</td>\n",
       "      <td>106740000</td>\n",
       "      <td>49740000</td>\n",
       "      <td>75120000</td>\n",
       "      <td>134040000</td>\n",
       "      <td>67980000</td>\n",
       "      <td>90000000</td>\n",
       "      <td>30000000</td>\n",
       "      <td>77176200</td>\n",
       "      <td>31130520</td>\n",
       "    </tr>\n",
       "    <tr>\n",
       "      <th>2003/04</th>\n",
       "      <td>852000000</td>\n",
       "      <td>109980000</td>\n",
       "      <td>55020000</td>\n",
       "      <td>74220000</td>\n",
       "      <td>141180000</td>\n",
       "      <td>70020000</td>\n",
       "      <td>90000000</td>\n",
       "      <td>30000000</td>\n",
       "      <td>80440800</td>\n",
       "      <td>36410760</td>\n",
       "    </tr>\n",
       "    <tr>\n",
       "      <th>2004/05</th>\n",
       "      <td>896760000</td>\n",
       "      <td>120000000</td>\n",
       "      <td>61200000</td>\n",
       "      <td>73380000</td>\n",
       "      <td>148680000</td>\n",
       "      <td>72120000</td>\n",
       "      <td>90000000</td>\n",
       "      <td>30000000</td>\n",
       "      <td>83843400</td>\n",
       "      <td>41781360</td>\n",
       "    </tr>\n",
       "    <tr>\n",
       "      <th>2005/06</th>\n",
       "      <td>932280000</td>\n",
       "      <td>150000000</td>\n",
       "      <td>62400000</td>\n",
       "      <td>72540000</td>\n",
       "      <td>156540000</td>\n",
       "      <td>74280000</td>\n",
       "      <td>103500000</td>\n",
       "      <td>30000000</td>\n",
       "      <td>87390000</td>\n",
       "      <td>48000000</td>\n",
       "    </tr>\n",
       "    <tr>\n",
       "      <th>2006/07</th>\n",
       "      <td>979860000</td>\n",
       "      <td>169980000</td>\n",
       "      <td>63600000</td>\n",
       "      <td>71677980</td>\n",
       "      <td>164880000</td>\n",
       "      <td>76500000</td>\n",
       "      <td>120000000</td>\n",
       "      <td>30000000</td>\n",
       "      <td>91086600</td>\n",
       "      <td>55020000</td>\n",
       "    </tr>\n",
       "    <tr>\n",
       "      <th>2007/08</th>\n",
       "      <td>1026600000</td>\n",
       "      <td>199980000</td>\n",
       "      <td>63600000</td>\n",
       "      <td>76855380</td>\n",
       "      <td>173640000</td>\n",
       "      <td>81000000</td>\n",
       "      <td>132000000</td>\n",
       "      <td>33000000</td>\n",
       "      <td>94939800</td>\n",
       "      <td>56280000</td>\n",
       "    </tr>\n",
       "    <tr>\n",
       "      <th>2008/09</th>\n",
       "      <td>1059600000</td>\n",
       "      <td>199980000</td>\n",
       "      <td>103200000</td>\n",
       "      <td>77430000</td>\n",
       "      <td>182880000</td>\n",
       "      <td>76500000</td>\n",
       "      <td>132000000</td>\n",
       "      <td>36000000</td>\n",
       "      <td>98955600</td>\n",
       "      <td>61260000</td>\n",
       "    </tr>\n",
       "    <tr>\n",
       "      <th>2009/10</th>\n",
       "      <td>1103400000</td>\n",
       "      <td>199980000</td>\n",
       "      <td>109200000</td>\n",
       "      <td>76468740</td>\n",
       "      <td>186540000</td>\n",
       "      <td>79500000</td>\n",
       "      <td>132000000</td>\n",
       "      <td>42000000</td>\n",
       "      <td>99000000</td>\n",
       "      <td>72480000</td>\n",
       "    </tr>\n",
       "    <tr>\n",
       "      <th>2010/11</th>\n",
       "      <td>1147920000</td>\n",
       "      <td>199980000</td>\n",
       "      <td>127500000</td>\n",
       "      <td>78661440</td>\n",
       "      <td>190260000</td>\n",
       "      <td>79500000</td>\n",
       "      <td>141240000</td>\n",
       "      <td>46500000</td>\n",
       "      <td>99000000</td>\n",
       "      <td>94980000</td>\n",
       "    </tr>\n",
       "    <tr>\n",
       "      <th>2011/12</th>\n",
       "      <td>1183200000</td>\n",
       "      <td>220020000</td>\n",
       "      <td>130500000</td>\n",
       "      <td>86103900</td>\n",
       "      <td>194100000</td>\n",
       "      <td>79500000</td>\n",
       "      <td>141240000</td>\n",
       "      <td>66000000</td>\n",
       "      <td>99000000</td>\n",
       "      <td>99000000</td>\n",
       "    </tr>\n",
       "    <tr>\n",
       "      <th>2012/13</th>\n",
       "      <td>1219800000</td>\n",
       "      <td>234000000</td>\n",
       "      <td>139500000</td>\n",
       "      <td>90854520</td>\n",
       "      <td>197940000</td>\n",
       "      <td>82500000</td>\n",
       "      <td>141240000</td>\n",
       "      <td>67800000</td>\n",
       "      <td>99000000</td>\n",
       "      <td>109500000</td>\n",
       "    </tr>\n",
       "    <tr>\n",
       "      <th>2013/14</th>\n",
       "      <td>1205100000</td>\n",
       "      <td>255000000</td>\n",
       "      <td>153000000</td>\n",
       "      <td>97021200</td>\n",
       "      <td>201900000</td>\n",
       "      <td>84000000</td>\n",
       "      <td>139260000</td>\n",
       "      <td>72000000</td>\n",
       "      <td>99000000</td>\n",
       "      <td>120000000</td>\n",
       "    </tr>\n",
       "    <tr>\n",
       "      <th>2014/15</th>\n",
       "      <td>1219980000</td>\n",
       "      <td>265020000</td>\n",
       "      <td>168000000</td>\n",
       "      <td>99927060</td>\n",
       "      <td>205980000</td>\n",
       "      <td>85800000</td>\n",
       "      <td>140820000</td>\n",
       "      <td>75000000</td>\n",
       "      <td>99000000</td>\n",
       "      <td>132000000</td>\n",
       "    </tr>\n",
       "    <tr>\n",
       "      <th>2015/16</th>\n",
       "      <td>1230480000</td>\n",
       "      <td>273000000</td>\n",
       "      <td>180000000</td>\n",
       "      <td>103222380</td>\n",
       "      <td>210060000</td>\n",
       "      <td>87000000</td>\n",
       "      <td>139740000</td>\n",
       "      <td>78000000</td>\n",
       "      <td>99000000</td>\n",
       "      <td>138000000</td>\n",
       "    </tr>\n",
       "    <tr>\n",
       "      <th>2016/17</th>\n",
       "      <td>1273500000</td>\n",
       "      <td>279000000</td>\n",
       "      <td>181800000</td>\n",
       "      <td>104186484</td>\n",
       "      <td>214260000</td>\n",
       "      <td>86400000</td>\n",
       "      <td>141600000</td>\n",
       "      <td>81000000</td>\n",
       "      <td>99000000</td>\n",
       "      <td>144000000</td>\n",
       "    </tr>\n",
       "    <tr>\n",
       "      <th>2017/18</th>\n",
       "      <td>1319820000</td>\n",
       "      <td>285000000</td>\n",
       "      <td>190800000</td>\n",
       "      <td>107596260</td>\n",
       "      <td>218580000</td>\n",
       "      <td>88200000</td>\n",
       "      <td>144000000</td>\n",
       "      <td>82500000</td>\n",
       "      <td>96000000</td>\n",
       "      <td>150000000</td>\n",
       "    </tr>\n",
       "    <tr>\n",
       "      <th>2018/19</th>\n",
       "      <td>1332000000</td>\n",
       "      <td>288000000</td>\n",
       "      <td>198000000</td>\n",
       "      <td>107484600</td>\n",
       "      <td>221100000</td>\n",
       "      <td>88500000</td>\n",
       "      <td>147000000</td>\n",
       "      <td>84000000</td>\n",
       "      <td>93000000</td>\n",
       "      <td>156000000</td>\n",
       "    </tr>\n",
       "    <tr>\n",
       "      <th>2019/20</th>\n",
       "      <td>1320000000</td>\n",
       "      <td>288360000</td>\n",
       "      <td>195000000</td>\n",
       "      <td>121486440</td>\n",
       "      <td>226860000</td>\n",
       "      <td>87000000</td>\n",
       "      <td>145500000</td>\n",
       "      <td>84000000</td>\n",
       "      <td>76500000</td>\n",
       "      <td>159000000</td>\n",
       "    </tr>\n",
       "  </tbody>\n",
       "</table>\n",
       "</div>"
      ],
      "text/plain": [
       "             Brazil  Indonesia   Ethiopia     Mexico Philippines  Colombia  \\\n",
       "Year                                                                         \n",
       "1990/91   492000000   74520000   43200000   74100000    72000000  54180000   \n",
       "1991/92   510000000   76800000   45000000   76140000    75840000  55000020   \n",
       "1992/93   534000000   79140000   45000000   78180000    79860000  55020000   \n",
       "1993/94   546000000   81540000   46200000   80340000    84120000  49999980   \n",
       "1994/95   558000000   84000000   47400000   82500000    88560000  50100000   \n",
       "1995/96   606000000   86580000   48600000   81540000    93300000  50220000   \n",
       "1996/97   660000000   89160000   49860000   80580000    98220000  50280000   \n",
       "1997/98   690000000   91920000   51180000   79680000   103440000  50340000   \n",
       "1998/99   732000000   94680000   48600000   78720000   108960000  54000000   \n",
       "1999/00   762000000   97560000   51720000   77820000   114720000  55500000   \n",
       "2000/01   792000000  100560000   49200000   76920000   120840000  58500000   \n",
       "2001/02   815400000  120000000   49260000   76020000   127260000  64020000   \n",
       "2002/03   825000000  106740000   49740000   75120000   134040000  67980000   \n",
       "2003/04   852000000  109980000   55020000   74220000   141180000  70020000   \n",
       "2004/05   896760000  120000000   61200000   73380000   148680000  72120000   \n",
       "2005/06   932280000  150000000   62400000   72540000   156540000  74280000   \n",
       "2006/07   979860000  169980000   63600000   71677980   164880000  76500000   \n",
       "2007/08  1026600000  199980000   63600000   76855380   173640000  81000000   \n",
       "2008/09  1059600000  199980000  103200000   77430000   182880000  76500000   \n",
       "2009/10  1103400000  199980000  109200000   76468740   186540000  79500000   \n",
       "2010/11  1147920000  199980000  127500000   78661440   190260000  79500000   \n",
       "2011/12  1183200000  220020000  130500000   86103900   194100000  79500000   \n",
       "2012/13  1219800000  234000000  139500000   90854520   197940000  82500000   \n",
       "2013/14  1205100000  255000000  153000000   97021200   201900000  84000000   \n",
       "2014/15  1219980000  265020000  168000000   99927060   205980000  85800000   \n",
       "2015/16  1230480000  273000000  180000000  103222380   210060000  87000000   \n",
       "2016/17  1273500000  279000000  181800000  104186484   214260000  86400000   \n",
       "2017/18  1319820000  285000000  190800000  107596260   218580000  88200000   \n",
       "2018/19  1332000000  288000000  198000000  107484600   221100000  88500000   \n",
       "2019/20  1320000000  288360000  195000000  121486440   226860000  87000000   \n",
       "\n",
       "         Venezuela     India  Viet Nam   Thailand  \n",
       "Year                                               \n",
       "1990/91   82440000  11280000  46943400    9000000  \n",
       "1991/92   72000000  13200000  48928800   13800000  \n",
       "1992/93   78000000  13980000  50998200   15000000  \n",
       "1993/94   64200000  15000000  53155800   16020000  \n",
       "1994/95   61200000  16980000  55404000   16020000  \n",
       "1995/96   70740000  25020000  57747600   16910700  \n",
       "1996/97   74100000  19980000  60190800   17850960  \n",
       "1997/98   72060000  23400000  62736599   18843480  \n",
       "1998/99   66480000  25980000  65390400   19891140  \n",
       "1999/00   69000000  25980000  68156400   21000000  \n",
       "2000/01   78300000  30000000  71039400   24097500  \n",
       "2001/02   90000000  30000000  74044200   27651900  \n",
       "2002/03   90000000  30000000  77176200   31130520  \n",
       "2003/04   90000000  30000000  80440800   36410760  \n",
       "2004/05   90000000  30000000  83843400   41781360  \n",
       "2005/06  103500000  30000000  87390000   48000000  \n",
       "2006/07  120000000  30000000  91086600   55020000  \n",
       "2007/08  132000000  33000000  94939800   56280000  \n",
       "2008/09  132000000  36000000  98955600   61260000  \n",
       "2009/10  132000000  42000000  99000000   72480000  \n",
       "2010/11  141240000  46500000  99000000   94980000  \n",
       "2011/12  141240000  66000000  99000000   99000000  \n",
       "2012/13  141240000  67800000  99000000  109500000  \n",
       "2013/14  139260000  72000000  99000000  120000000  \n",
       "2014/15  140820000  75000000  99000000  132000000  \n",
       "2015/16  139740000  78000000  99000000  138000000  \n",
       "2016/17  141600000  81000000  99000000  144000000  \n",
       "2017/18  144000000  82500000  96000000  150000000  \n",
       "2018/19  147000000  84000000  93000000  156000000  \n",
       "2019/20  145500000  84000000  76500000  159000000  "
      ]
     },
     "execution_count": 63,
     "metadata": {},
     "output_type": "execute_result"
    }
   ],
   "source": [
    "coffee_domestic_consumption_1 = coffee_domestic_consumption_0[['country', 'total_domestic_consumption']].sort_values(by=['total_domestic_consumption'], ascending=False).head(10)\n",
    "coffee_domestic_consumption_2 = coffee_domestic_consumption_0[coffee_domestic_consumption_0.country.isin(top_consumption1['country'].unique())]\n",
    "\n",
    "coffee_domestic_consumption_2 = coffee_domestic_consumption_2.T\n",
    "coffee_domestic_consumption_2.drop(['country', 'total_domestic_consumption', 'coffee_type'], axis=0, inplace=True)\n",
    "coffee_domestic_consumption_2.index.name = 'Year'\n",
    "coffee_domestic_consumption_2.columns = coffee_domestic_consumption_1['country'].values\n",
    "coffee_domestic_consumption_2"
   ]
  },
  {
   "cell_type": "code",
   "execution_count": 64,
   "id": "513c33a2",
   "metadata": {
    "scrolled": false
   },
   "outputs": [
    {
     "data": {
      "application/vnd.plotly.v1+json": {
       "config": {
        "plotlyServerURL": "https://plot.ly"
       },
       "data": [
        {
         "hovertemplate": "Country=Brazil<br>Year=%{x}<br>Total Domestic Consumption=%{y}<extra></extra>",
         "legendgroup": "Brazil",
         "line": {
          "color": "rgb(136, 204, 238)",
          "dash": "solid"
         },
         "marker": {
          "symbol": "circle"
         },
         "mode": "lines",
         "name": "Brazil",
         "orientation": "v",
         "showlegend": true,
         "type": "scatter",
         "x": [
          "1990/91",
          "1991/92",
          "1992/93",
          "1993/94",
          "1994/95",
          "1995/96",
          "1996/97",
          "1997/98",
          "1998/99",
          "1999/00",
          "2000/01",
          "2001/02",
          "2002/03",
          "2003/04",
          "2004/05",
          "2005/06",
          "2006/07",
          "2007/08",
          "2008/09",
          "2009/10",
          "2010/11",
          "2011/12",
          "2012/13",
          "2013/14",
          "2014/15",
          "2015/16",
          "2016/17",
          "2017/18",
          "2018/19",
          "2019/20"
         ],
         "xaxis": "x",
         "y": [
          492000000,
          510000000,
          534000000,
          546000000,
          558000000,
          606000000,
          660000000,
          690000000,
          732000000,
          762000000,
          792000000,
          815400000,
          825000000,
          852000000,
          896760000,
          932280000,
          979860000,
          1026600000,
          1059600000,
          1103400000,
          1147920000,
          1183200000,
          1219800000,
          1205100000,
          1219980000,
          1230480000,
          1273500000,
          1319820000,
          1332000000,
          1320000000
         ],
         "yaxis": "y"
        },
        {
         "hovertemplate": "Country=Indonesia<br>Year=%{x}<br>Total Domestic Consumption=%{y}<extra></extra>",
         "legendgroup": "Indonesia",
         "line": {
          "color": "rgb(204, 102, 119)",
          "dash": "solid"
         },
         "marker": {
          "symbol": "circle"
         },
         "mode": "lines",
         "name": "Indonesia",
         "orientation": "v",
         "showlegend": true,
         "type": "scatter",
         "x": [
          "1990/91",
          "1991/92",
          "1992/93",
          "1993/94",
          "1994/95",
          "1995/96",
          "1996/97",
          "1997/98",
          "1998/99",
          "1999/00",
          "2000/01",
          "2001/02",
          "2002/03",
          "2003/04",
          "2004/05",
          "2005/06",
          "2006/07",
          "2007/08",
          "2008/09",
          "2009/10",
          "2010/11",
          "2011/12",
          "2012/13",
          "2013/14",
          "2014/15",
          "2015/16",
          "2016/17",
          "2017/18",
          "2018/19",
          "2019/20"
         ],
         "xaxis": "x",
         "y": [
          74520000,
          76800000,
          79140000,
          81540000,
          84000000,
          86580000,
          89160000,
          91920000,
          94680000,
          97560000,
          100560000,
          120000000,
          106740000,
          109980000,
          120000000,
          150000000,
          169980000,
          199980000,
          199980000,
          199980000,
          199980000,
          220020000,
          234000000,
          255000000,
          265020000,
          273000000,
          279000000,
          285000000,
          288000000,
          288360000
         ],
         "yaxis": "y"
        },
        {
         "hovertemplate": "Country=Ethiopia<br>Year=%{x}<br>Total Domestic Consumption=%{y}<extra></extra>",
         "legendgroup": "Ethiopia",
         "line": {
          "color": "rgb(221, 204, 119)",
          "dash": "solid"
         },
         "marker": {
          "symbol": "circle"
         },
         "mode": "lines",
         "name": "Ethiopia",
         "orientation": "v",
         "showlegend": true,
         "type": "scatter",
         "x": [
          "1990/91",
          "1991/92",
          "1992/93",
          "1993/94",
          "1994/95",
          "1995/96",
          "1996/97",
          "1997/98",
          "1998/99",
          "1999/00",
          "2000/01",
          "2001/02",
          "2002/03",
          "2003/04",
          "2004/05",
          "2005/06",
          "2006/07",
          "2007/08",
          "2008/09",
          "2009/10",
          "2010/11",
          "2011/12",
          "2012/13",
          "2013/14",
          "2014/15",
          "2015/16",
          "2016/17",
          "2017/18",
          "2018/19",
          "2019/20"
         ],
         "xaxis": "x",
         "y": [
          43200000,
          45000000,
          45000000,
          46200000,
          47400000,
          48600000,
          49860000,
          51180000,
          48600000,
          51720000,
          49200000,
          49260000,
          49740000,
          55020000,
          61200000,
          62400000,
          63600000,
          63600000,
          103200000,
          109200000,
          127500000,
          130500000,
          139500000,
          153000000,
          168000000,
          180000000,
          181800000,
          190800000,
          198000000,
          195000000
         ],
         "yaxis": "y"
        },
        {
         "hovertemplate": "Country=Mexico<br>Year=%{x}<br>Total Domestic Consumption=%{y}<extra></extra>",
         "legendgroup": "Mexico",
         "line": {
          "color": "rgb(17, 119, 51)",
          "dash": "solid"
         },
         "marker": {
          "symbol": "circle"
         },
         "mode": "lines",
         "name": "Mexico",
         "orientation": "v",
         "showlegend": true,
         "type": "scatter",
         "x": [
          "1990/91",
          "1991/92",
          "1992/93",
          "1993/94",
          "1994/95",
          "1995/96",
          "1996/97",
          "1997/98",
          "1998/99",
          "1999/00",
          "2000/01",
          "2001/02",
          "2002/03",
          "2003/04",
          "2004/05",
          "2005/06",
          "2006/07",
          "2007/08",
          "2008/09",
          "2009/10",
          "2010/11",
          "2011/12",
          "2012/13",
          "2013/14",
          "2014/15",
          "2015/16",
          "2016/17",
          "2017/18",
          "2018/19",
          "2019/20"
         ],
         "xaxis": "x",
         "y": [
          74100000,
          76140000,
          78180000,
          80340000,
          82500000,
          81540000,
          80580000,
          79680000,
          78720000,
          77820000,
          76920000,
          76020000,
          75120000,
          74220000,
          73380000,
          72540000,
          71677980,
          76855380,
          77430000,
          76468740,
          78661440,
          86103900,
          90854520,
          97021200,
          99927060,
          103222380,
          104186484,
          107596260,
          107484600,
          121486440
         ],
         "yaxis": "y"
        },
        {
         "hovertemplate": "Country=Philippines<br>Year=%{x}<br>Total Domestic Consumption=%{y}<extra></extra>",
         "legendgroup": "Philippines",
         "line": {
          "color": "rgb(51, 34, 136)",
          "dash": "solid"
         },
         "marker": {
          "symbol": "circle"
         },
         "mode": "lines",
         "name": "Philippines",
         "orientation": "v",
         "showlegend": true,
         "type": "scatter",
         "x": [
          "1990/91",
          "1991/92",
          "1992/93",
          "1993/94",
          "1994/95",
          "1995/96",
          "1996/97",
          "1997/98",
          "1998/99",
          "1999/00",
          "2000/01",
          "2001/02",
          "2002/03",
          "2003/04",
          "2004/05",
          "2005/06",
          "2006/07",
          "2007/08",
          "2008/09",
          "2009/10",
          "2010/11",
          "2011/12",
          "2012/13",
          "2013/14",
          "2014/15",
          "2015/16",
          "2016/17",
          "2017/18",
          "2018/19",
          "2019/20"
         ],
         "xaxis": "x",
         "y": [
          72000000,
          75840000,
          79860000,
          84120000,
          88560000,
          93300000,
          98220000,
          103440000,
          108960000,
          114720000,
          120840000,
          127260000,
          134040000,
          141180000,
          148680000,
          156540000,
          164880000,
          173640000,
          182880000,
          186540000,
          190260000,
          194100000,
          197940000,
          201900000,
          205980000,
          210060000,
          214260000,
          218580000,
          221100000,
          226860000
         ],
         "yaxis": "y"
        },
        {
         "hovertemplate": "Country=Colombia<br>Year=%{x}<br>Total Domestic Consumption=%{y}<extra></extra>",
         "legendgroup": "Colombia",
         "line": {
          "color": "rgb(170, 68, 153)",
          "dash": "solid"
         },
         "marker": {
          "symbol": "circle"
         },
         "mode": "lines",
         "name": "Colombia",
         "orientation": "v",
         "showlegend": true,
         "type": "scatter",
         "x": [
          "1990/91",
          "1991/92",
          "1992/93",
          "1993/94",
          "1994/95",
          "1995/96",
          "1996/97",
          "1997/98",
          "1998/99",
          "1999/00",
          "2000/01",
          "2001/02",
          "2002/03",
          "2003/04",
          "2004/05",
          "2005/06",
          "2006/07",
          "2007/08",
          "2008/09",
          "2009/10",
          "2010/11",
          "2011/12",
          "2012/13",
          "2013/14",
          "2014/15",
          "2015/16",
          "2016/17",
          "2017/18",
          "2018/19",
          "2019/20"
         ],
         "xaxis": "x",
         "y": [
          54180000,
          55000020,
          55020000,
          49999980,
          50100000,
          50220000,
          50280000,
          50340000,
          54000000,
          55500000,
          58500000,
          64020000,
          67980000,
          70020000,
          72120000,
          74280000,
          76500000,
          81000000,
          76500000,
          79500000,
          79500000,
          79500000,
          82500000,
          84000000,
          85800000,
          87000000,
          86400000,
          88200000,
          88500000,
          87000000
         ],
         "yaxis": "y"
        },
        {
         "hovertemplate": "Country=Venezuela<br>Year=%{x}<br>Total Domestic Consumption=%{y}<extra></extra>",
         "legendgroup": "Venezuela",
         "line": {
          "color": "rgb(68, 170, 153)",
          "dash": "solid"
         },
         "marker": {
          "symbol": "circle"
         },
         "mode": "lines",
         "name": "Venezuela",
         "orientation": "v",
         "showlegend": true,
         "type": "scatter",
         "x": [
          "1990/91",
          "1991/92",
          "1992/93",
          "1993/94",
          "1994/95",
          "1995/96",
          "1996/97",
          "1997/98",
          "1998/99",
          "1999/00",
          "2000/01",
          "2001/02",
          "2002/03",
          "2003/04",
          "2004/05",
          "2005/06",
          "2006/07",
          "2007/08",
          "2008/09",
          "2009/10",
          "2010/11",
          "2011/12",
          "2012/13",
          "2013/14",
          "2014/15",
          "2015/16",
          "2016/17",
          "2017/18",
          "2018/19",
          "2019/20"
         ],
         "xaxis": "x",
         "y": [
          82440000,
          72000000,
          78000000,
          64200000,
          61200000,
          70740000,
          74100000,
          72060000,
          66480000,
          69000000,
          78300000,
          90000000,
          90000000,
          90000000,
          90000000,
          103500000,
          120000000,
          132000000,
          132000000,
          132000000,
          141240000,
          141240000,
          141240000,
          139260000,
          140820000,
          139740000,
          141600000,
          144000000,
          147000000,
          145500000
         ],
         "yaxis": "y"
        },
        {
         "hovertemplate": "Country=India<br>Year=%{x}<br>Total Domestic Consumption=%{y}<extra></extra>",
         "legendgroup": "India",
         "line": {
          "color": "rgb(153, 153, 51)",
          "dash": "solid"
         },
         "marker": {
          "symbol": "circle"
         },
         "mode": "lines",
         "name": "India",
         "orientation": "v",
         "showlegend": true,
         "type": "scatter",
         "x": [
          "1990/91",
          "1991/92",
          "1992/93",
          "1993/94",
          "1994/95",
          "1995/96",
          "1996/97",
          "1997/98",
          "1998/99",
          "1999/00",
          "2000/01",
          "2001/02",
          "2002/03",
          "2003/04",
          "2004/05",
          "2005/06",
          "2006/07",
          "2007/08",
          "2008/09",
          "2009/10",
          "2010/11",
          "2011/12",
          "2012/13",
          "2013/14",
          "2014/15",
          "2015/16",
          "2016/17",
          "2017/18",
          "2018/19",
          "2019/20"
         ],
         "xaxis": "x",
         "y": [
          11280000,
          13200000,
          13980000,
          15000000,
          16980000,
          25020000,
          19980000,
          23400000,
          25980000,
          25980000,
          30000000,
          30000000,
          30000000,
          30000000,
          30000000,
          30000000,
          30000000,
          33000000,
          36000000,
          42000000,
          46500000,
          66000000,
          67800000,
          72000000,
          75000000,
          78000000,
          81000000,
          82500000,
          84000000,
          84000000
         ],
         "yaxis": "y"
        },
        {
         "hovertemplate": "Country=Viet Nam<br>Year=%{x}<br>Total Domestic Consumption=%{y}<extra></extra>",
         "legendgroup": "Viet Nam",
         "line": {
          "color": "rgb(136, 34, 85)",
          "dash": "solid"
         },
         "marker": {
          "symbol": "circle"
         },
         "mode": "lines",
         "name": "Viet Nam",
         "orientation": "v",
         "showlegend": true,
         "type": "scatter",
         "x": [
          "1990/91",
          "1991/92",
          "1992/93",
          "1993/94",
          "1994/95",
          "1995/96",
          "1996/97",
          "1997/98",
          "1998/99",
          "1999/00",
          "2000/01",
          "2001/02",
          "2002/03",
          "2003/04",
          "2004/05",
          "2005/06",
          "2006/07",
          "2007/08",
          "2008/09",
          "2009/10",
          "2010/11",
          "2011/12",
          "2012/13",
          "2013/14",
          "2014/15",
          "2015/16",
          "2016/17",
          "2017/18",
          "2018/19",
          "2019/20"
         ],
         "xaxis": "x",
         "y": [
          46943400,
          48928800,
          50998200,
          53155800,
          55404000,
          57747600,
          60190800,
          62736599,
          65390400,
          68156400,
          71039400,
          74044200,
          77176200,
          80440800,
          83843400,
          87390000,
          91086600,
          94939800,
          98955600,
          99000000,
          99000000,
          99000000,
          99000000,
          99000000,
          99000000,
          99000000,
          99000000,
          96000000,
          93000000,
          76500000
         ],
         "yaxis": "y"
        },
        {
         "hovertemplate": "Country=Thailand<br>Year=%{x}<br>Total Domestic Consumption=%{y}<extra></extra>",
         "legendgroup": "Thailand",
         "line": {
          "color": "rgb(102, 17, 0)",
          "dash": "solid"
         },
         "marker": {
          "symbol": "circle"
         },
         "mode": "lines",
         "name": "Thailand",
         "orientation": "v",
         "showlegend": true,
         "type": "scatter",
         "x": [
          "1990/91",
          "1991/92",
          "1992/93",
          "1993/94",
          "1994/95",
          "1995/96",
          "1996/97",
          "1997/98",
          "1998/99",
          "1999/00",
          "2000/01",
          "2001/02",
          "2002/03",
          "2003/04",
          "2004/05",
          "2005/06",
          "2006/07",
          "2007/08",
          "2008/09",
          "2009/10",
          "2010/11",
          "2011/12",
          "2012/13",
          "2013/14",
          "2014/15",
          "2015/16",
          "2016/17",
          "2017/18",
          "2018/19",
          "2019/20"
         ],
         "xaxis": "x",
         "y": [
          9000000,
          13800000,
          15000000,
          16020000,
          16020000,
          16910700,
          17850960,
          18843480,
          19891140,
          21000000,
          24097500,
          27651900,
          31130520,
          36410760,
          41781360,
          48000000,
          55020000,
          56280000,
          61260000,
          72480000,
          94980000,
          99000000,
          109500000,
          120000000,
          132000000,
          138000000,
          144000000,
          150000000,
          156000000,
          159000000
         ],
         "yaxis": "y"
        }
       ],
       "layout": {
        "height": 600,
        "legend": {
         "title": {
          "text": "Country"
         },
         "tracegroupgap": 0
        },
        "template": {
         "data": {
          "bar": [
           {
            "error_x": {
             "color": "#2a3f5f"
            },
            "error_y": {
             "color": "#2a3f5f"
            },
            "marker": {
             "line": {
              "color": "#E5ECF6",
              "width": 0.5
             },
             "pattern": {
              "fillmode": "overlay",
              "size": 10,
              "solidity": 0.2
             }
            },
            "type": "bar"
           }
          ],
          "barpolar": [
           {
            "marker": {
             "line": {
              "color": "#E5ECF6",
              "width": 0.5
             },
             "pattern": {
              "fillmode": "overlay",
              "size": 10,
              "solidity": 0.2
             }
            },
            "type": "barpolar"
           }
          ],
          "carpet": [
           {
            "aaxis": {
             "endlinecolor": "#2a3f5f",
             "gridcolor": "white",
             "linecolor": "white",
             "minorgridcolor": "white",
             "startlinecolor": "#2a3f5f"
            },
            "baxis": {
             "endlinecolor": "#2a3f5f",
             "gridcolor": "white",
             "linecolor": "white",
             "minorgridcolor": "white",
             "startlinecolor": "#2a3f5f"
            },
            "type": "carpet"
           }
          ],
          "choropleth": [
           {
            "colorbar": {
             "outlinewidth": 0,
             "ticks": ""
            },
            "type": "choropleth"
           }
          ],
          "contour": [
           {
            "colorbar": {
             "outlinewidth": 0,
             "ticks": ""
            },
            "colorscale": [
             [
              0,
              "#0d0887"
             ],
             [
              0.1111111111111111,
              "#46039f"
             ],
             [
              0.2222222222222222,
              "#7201a8"
             ],
             [
              0.3333333333333333,
              "#9c179e"
             ],
             [
              0.4444444444444444,
              "#bd3786"
             ],
             [
              0.5555555555555556,
              "#d8576b"
             ],
             [
              0.6666666666666666,
              "#ed7953"
             ],
             [
              0.7777777777777778,
              "#fb9f3a"
             ],
             [
              0.8888888888888888,
              "#fdca26"
             ],
             [
              1,
              "#f0f921"
             ]
            ],
            "type": "contour"
           }
          ],
          "contourcarpet": [
           {
            "colorbar": {
             "outlinewidth": 0,
             "ticks": ""
            },
            "type": "contourcarpet"
           }
          ],
          "heatmap": [
           {
            "colorbar": {
             "outlinewidth": 0,
             "ticks": ""
            },
            "colorscale": [
             [
              0,
              "#0d0887"
             ],
             [
              0.1111111111111111,
              "#46039f"
             ],
             [
              0.2222222222222222,
              "#7201a8"
             ],
             [
              0.3333333333333333,
              "#9c179e"
             ],
             [
              0.4444444444444444,
              "#bd3786"
             ],
             [
              0.5555555555555556,
              "#d8576b"
             ],
             [
              0.6666666666666666,
              "#ed7953"
             ],
             [
              0.7777777777777778,
              "#fb9f3a"
             ],
             [
              0.8888888888888888,
              "#fdca26"
             ],
             [
              1,
              "#f0f921"
             ]
            ],
            "type": "heatmap"
           }
          ],
          "heatmapgl": [
           {
            "colorbar": {
             "outlinewidth": 0,
             "ticks": ""
            },
            "colorscale": [
             [
              0,
              "#0d0887"
             ],
             [
              0.1111111111111111,
              "#46039f"
             ],
             [
              0.2222222222222222,
              "#7201a8"
             ],
             [
              0.3333333333333333,
              "#9c179e"
             ],
             [
              0.4444444444444444,
              "#bd3786"
             ],
             [
              0.5555555555555556,
              "#d8576b"
             ],
             [
              0.6666666666666666,
              "#ed7953"
             ],
             [
              0.7777777777777778,
              "#fb9f3a"
             ],
             [
              0.8888888888888888,
              "#fdca26"
             ],
             [
              1,
              "#f0f921"
             ]
            ],
            "type": "heatmapgl"
           }
          ],
          "histogram": [
           {
            "marker": {
             "pattern": {
              "fillmode": "overlay",
              "size": 10,
              "solidity": 0.2
             }
            },
            "type": "histogram"
           }
          ],
          "histogram2d": [
           {
            "colorbar": {
             "outlinewidth": 0,
             "ticks": ""
            },
            "colorscale": [
             [
              0,
              "#0d0887"
             ],
             [
              0.1111111111111111,
              "#46039f"
             ],
             [
              0.2222222222222222,
              "#7201a8"
             ],
             [
              0.3333333333333333,
              "#9c179e"
             ],
             [
              0.4444444444444444,
              "#bd3786"
             ],
             [
              0.5555555555555556,
              "#d8576b"
             ],
             [
              0.6666666666666666,
              "#ed7953"
             ],
             [
              0.7777777777777778,
              "#fb9f3a"
             ],
             [
              0.8888888888888888,
              "#fdca26"
             ],
             [
              1,
              "#f0f921"
             ]
            ],
            "type": "histogram2d"
           }
          ],
          "histogram2dcontour": [
           {
            "colorbar": {
             "outlinewidth": 0,
             "ticks": ""
            },
            "colorscale": [
             [
              0,
              "#0d0887"
             ],
             [
              0.1111111111111111,
              "#46039f"
             ],
             [
              0.2222222222222222,
              "#7201a8"
             ],
             [
              0.3333333333333333,
              "#9c179e"
             ],
             [
              0.4444444444444444,
              "#bd3786"
             ],
             [
              0.5555555555555556,
              "#d8576b"
             ],
             [
              0.6666666666666666,
              "#ed7953"
             ],
             [
              0.7777777777777778,
              "#fb9f3a"
             ],
             [
              0.8888888888888888,
              "#fdca26"
             ],
             [
              1,
              "#f0f921"
             ]
            ],
            "type": "histogram2dcontour"
           }
          ],
          "mesh3d": [
           {
            "colorbar": {
             "outlinewidth": 0,
             "ticks": ""
            },
            "type": "mesh3d"
           }
          ],
          "parcoords": [
           {
            "line": {
             "colorbar": {
              "outlinewidth": 0,
              "ticks": ""
             }
            },
            "type": "parcoords"
           }
          ],
          "pie": [
           {
            "automargin": true,
            "type": "pie"
           }
          ],
          "scatter": [
           {
            "fillpattern": {
             "fillmode": "overlay",
             "size": 10,
             "solidity": 0.2
            },
            "type": "scatter"
           }
          ],
          "scatter3d": [
           {
            "line": {
             "colorbar": {
              "outlinewidth": 0,
              "ticks": ""
             }
            },
            "marker": {
             "colorbar": {
              "outlinewidth": 0,
              "ticks": ""
             }
            },
            "type": "scatter3d"
           }
          ],
          "scattercarpet": [
           {
            "marker": {
             "colorbar": {
              "outlinewidth": 0,
              "ticks": ""
             }
            },
            "type": "scattercarpet"
           }
          ],
          "scattergeo": [
           {
            "marker": {
             "colorbar": {
              "outlinewidth": 0,
              "ticks": ""
             }
            },
            "type": "scattergeo"
           }
          ],
          "scattergl": [
           {
            "marker": {
             "colorbar": {
              "outlinewidth": 0,
              "ticks": ""
             }
            },
            "type": "scattergl"
           }
          ],
          "scattermapbox": [
           {
            "marker": {
             "colorbar": {
              "outlinewidth": 0,
              "ticks": ""
             }
            },
            "type": "scattermapbox"
           }
          ],
          "scatterpolar": [
           {
            "marker": {
             "colorbar": {
              "outlinewidth": 0,
              "ticks": ""
             }
            },
            "type": "scatterpolar"
           }
          ],
          "scatterpolargl": [
           {
            "marker": {
             "colorbar": {
              "outlinewidth": 0,
              "ticks": ""
             }
            },
            "type": "scatterpolargl"
           }
          ],
          "scatterternary": [
           {
            "marker": {
             "colorbar": {
              "outlinewidth": 0,
              "ticks": ""
             }
            },
            "type": "scatterternary"
           }
          ],
          "surface": [
           {
            "colorbar": {
             "outlinewidth": 0,
             "ticks": ""
            },
            "colorscale": [
             [
              0,
              "#0d0887"
             ],
             [
              0.1111111111111111,
              "#46039f"
             ],
             [
              0.2222222222222222,
              "#7201a8"
             ],
             [
              0.3333333333333333,
              "#9c179e"
             ],
             [
              0.4444444444444444,
              "#bd3786"
             ],
             [
              0.5555555555555556,
              "#d8576b"
             ],
             [
              0.6666666666666666,
              "#ed7953"
             ],
             [
              0.7777777777777778,
              "#fb9f3a"
             ],
             [
              0.8888888888888888,
              "#fdca26"
             ],
             [
              1,
              "#f0f921"
             ]
            ],
            "type": "surface"
           }
          ],
          "table": [
           {
            "cells": {
             "fill": {
              "color": "#EBF0F8"
             },
             "line": {
              "color": "white"
             }
            },
            "header": {
             "fill": {
              "color": "#C8D4E3"
             },
             "line": {
              "color": "white"
             }
            },
            "type": "table"
           }
          ]
         },
         "layout": {
          "annotationdefaults": {
           "arrowcolor": "#2a3f5f",
           "arrowhead": 0,
           "arrowwidth": 1
          },
          "autotypenumbers": "strict",
          "coloraxis": {
           "colorbar": {
            "outlinewidth": 0,
            "ticks": ""
           }
          },
          "colorscale": {
           "diverging": [
            [
             0,
             "#8e0152"
            ],
            [
             0.1,
             "#c51b7d"
            ],
            [
             0.2,
             "#de77ae"
            ],
            [
             0.3,
             "#f1b6da"
            ],
            [
             0.4,
             "#fde0ef"
            ],
            [
             0.5,
             "#f7f7f7"
            ],
            [
             0.6,
             "#e6f5d0"
            ],
            [
             0.7,
             "#b8e186"
            ],
            [
             0.8,
             "#7fbc41"
            ],
            [
             0.9,
             "#4d9221"
            ],
            [
             1,
             "#276419"
            ]
           ],
           "sequential": [
            [
             0,
             "#0d0887"
            ],
            [
             0.1111111111111111,
             "#46039f"
            ],
            [
             0.2222222222222222,
             "#7201a8"
            ],
            [
             0.3333333333333333,
             "#9c179e"
            ],
            [
             0.4444444444444444,
             "#bd3786"
            ],
            [
             0.5555555555555556,
             "#d8576b"
            ],
            [
             0.6666666666666666,
             "#ed7953"
            ],
            [
             0.7777777777777778,
             "#fb9f3a"
            ],
            [
             0.8888888888888888,
             "#fdca26"
            ],
            [
             1,
             "#f0f921"
            ]
           ],
           "sequentialminus": [
            [
             0,
             "#0d0887"
            ],
            [
             0.1111111111111111,
             "#46039f"
            ],
            [
             0.2222222222222222,
             "#7201a8"
            ],
            [
             0.3333333333333333,
             "#9c179e"
            ],
            [
             0.4444444444444444,
             "#bd3786"
            ],
            [
             0.5555555555555556,
             "#d8576b"
            ],
            [
             0.6666666666666666,
             "#ed7953"
            ],
            [
             0.7777777777777778,
             "#fb9f3a"
            ],
            [
             0.8888888888888888,
             "#fdca26"
            ],
            [
             1,
             "#f0f921"
            ]
           ]
          },
          "colorway": [
           "#636efa",
           "#EF553B",
           "#00cc96",
           "#ab63fa",
           "#FFA15A",
           "#19d3f3",
           "#FF6692",
           "#B6E880",
           "#FF97FF",
           "#FECB52"
          ],
          "font": {
           "color": "#2a3f5f"
          },
          "geo": {
           "bgcolor": "white",
           "lakecolor": "white",
           "landcolor": "#E5ECF6",
           "showlakes": true,
           "showland": true,
           "subunitcolor": "white"
          },
          "hoverlabel": {
           "align": "left"
          },
          "hovermode": "closest",
          "mapbox": {
           "style": "light"
          },
          "paper_bgcolor": "white",
          "plot_bgcolor": "#E5ECF6",
          "polar": {
           "angularaxis": {
            "gridcolor": "white",
            "linecolor": "white",
            "ticks": ""
           },
           "bgcolor": "#E5ECF6",
           "radialaxis": {
            "gridcolor": "white",
            "linecolor": "white",
            "ticks": ""
           }
          },
          "scene": {
           "xaxis": {
            "backgroundcolor": "#E5ECF6",
            "gridcolor": "white",
            "gridwidth": 2,
            "linecolor": "white",
            "showbackground": true,
            "ticks": "",
            "zerolinecolor": "white"
           },
           "yaxis": {
            "backgroundcolor": "#E5ECF6",
            "gridcolor": "white",
            "gridwidth": 2,
            "linecolor": "white",
            "showbackground": true,
            "ticks": "",
            "zerolinecolor": "white"
           },
           "zaxis": {
            "backgroundcolor": "#E5ECF6",
            "gridcolor": "white",
            "gridwidth": 2,
            "linecolor": "white",
            "showbackground": true,
            "ticks": "",
            "zerolinecolor": "white"
           }
          },
          "shapedefaults": {
           "line": {
            "color": "#2a3f5f"
           }
          },
          "ternary": {
           "aaxis": {
            "gridcolor": "white",
            "linecolor": "white",
            "ticks": ""
           },
           "baxis": {
            "gridcolor": "white",
            "linecolor": "white",
            "ticks": ""
           },
           "bgcolor": "#E5ECF6",
           "caxis": {
            "gridcolor": "white",
            "linecolor": "white",
            "ticks": ""
           }
          },
          "title": {
           "x": 0.05
          },
          "xaxis": {
           "automargin": true,
           "gridcolor": "white",
           "linecolor": "white",
           "ticks": "",
           "title": {
            "standoff": 15
           },
           "zerolinecolor": "white",
           "zerolinewidth": 2
          },
          "yaxis": {
           "automargin": true,
           "gridcolor": "white",
           "linecolor": "white",
           "ticks": "",
           "title": {
            "standoff": 15
           },
           "zerolinecolor": "white",
           "zerolinewidth": 2
          }
         }
        },
        "title": {
         "text": "Domestic Consumption Rates over Time (Top 10 Countries)",
         "x": 0.45
        },
        "width": 1000,
        "xaxis": {
         "anchor": "y",
         "domain": [
          0,
          1
         ],
         "title": {
          "text": "Year"
         }
        },
        "yaxis": {
         "anchor": "x",
         "domain": [
          0,
          1
         ],
         "title": {
          "text": "Total Domestic Consumption"
         }
        }
       }
      },
      "text/html": [
       "<div>                            <div id=\"ed6e9dd1-ee31-4f8a-915c-1f2287f2d4fd\" class=\"plotly-graph-div\" style=\"height:600px; width:1000px;\"></div>            <script type=\"text/javascript\">                require([\"plotly\"], function(Plotly) {                    window.PLOTLYENV=window.PLOTLYENV || {};                                    if (document.getElementById(\"ed6e9dd1-ee31-4f8a-915c-1f2287f2d4fd\")) {                    Plotly.newPlot(                        \"ed6e9dd1-ee31-4f8a-915c-1f2287f2d4fd\",                        [{\"hovertemplate\":\"Country=Brazil<br>Year=%{x}<br>Total Domestic Consumption=%{y}<extra></extra>\",\"legendgroup\":\"Brazil\",\"line\":{\"color\":\"rgb(136, 204, 238)\",\"dash\":\"solid\"},\"marker\":{\"symbol\":\"circle\"},\"mode\":\"lines\",\"name\":\"Brazil\",\"orientation\":\"v\",\"showlegend\":true,\"x\":[\"1990/91\",\"1991/92\",\"1992/93\",\"1993/94\",\"1994/95\",\"1995/96\",\"1996/97\",\"1997/98\",\"1998/99\",\"1999/00\",\"2000/01\",\"2001/02\",\"2002/03\",\"2003/04\",\"2004/05\",\"2005/06\",\"2006/07\",\"2007/08\",\"2008/09\",\"2009/10\",\"2010/11\",\"2011/12\",\"2012/13\",\"2013/14\",\"2014/15\",\"2015/16\",\"2016/17\",\"2017/18\",\"2018/19\",\"2019/20\"],\"xaxis\":\"x\",\"y\":[492000000,510000000,534000000,546000000,558000000,606000000,660000000,690000000,732000000,762000000,792000000,815400000,825000000,852000000,896760000,932280000,979860000,1026600000,1059600000,1103400000,1147920000,1183200000,1219800000,1205100000,1219980000,1230480000,1273500000,1319820000,1332000000,1320000000],\"yaxis\":\"y\",\"type\":\"scatter\"},{\"hovertemplate\":\"Country=Indonesia<br>Year=%{x}<br>Total Domestic Consumption=%{y}<extra></extra>\",\"legendgroup\":\"Indonesia\",\"line\":{\"color\":\"rgb(204, 102, 119)\",\"dash\":\"solid\"},\"marker\":{\"symbol\":\"circle\"},\"mode\":\"lines\",\"name\":\"Indonesia\",\"orientation\":\"v\",\"showlegend\":true,\"x\":[\"1990/91\",\"1991/92\",\"1992/93\",\"1993/94\",\"1994/95\",\"1995/96\",\"1996/97\",\"1997/98\",\"1998/99\",\"1999/00\",\"2000/01\",\"2001/02\",\"2002/03\",\"2003/04\",\"2004/05\",\"2005/06\",\"2006/07\",\"2007/08\",\"2008/09\",\"2009/10\",\"2010/11\",\"2011/12\",\"2012/13\",\"2013/14\",\"2014/15\",\"2015/16\",\"2016/17\",\"2017/18\",\"2018/19\",\"2019/20\"],\"xaxis\":\"x\",\"y\":[74520000,76800000,79140000,81540000,84000000,86580000,89160000,91920000,94680000,97560000,100560000,120000000,106740000,109980000,120000000,150000000,169980000,199980000,199980000,199980000,199980000,220020000,234000000,255000000,265020000,273000000,279000000,285000000,288000000,288360000],\"yaxis\":\"y\",\"type\":\"scatter\"},{\"hovertemplate\":\"Country=Ethiopia<br>Year=%{x}<br>Total Domestic Consumption=%{y}<extra></extra>\",\"legendgroup\":\"Ethiopia\",\"line\":{\"color\":\"rgb(221, 204, 119)\",\"dash\":\"solid\"},\"marker\":{\"symbol\":\"circle\"},\"mode\":\"lines\",\"name\":\"Ethiopia\",\"orientation\":\"v\",\"showlegend\":true,\"x\":[\"1990/91\",\"1991/92\",\"1992/93\",\"1993/94\",\"1994/95\",\"1995/96\",\"1996/97\",\"1997/98\",\"1998/99\",\"1999/00\",\"2000/01\",\"2001/02\",\"2002/03\",\"2003/04\",\"2004/05\",\"2005/06\",\"2006/07\",\"2007/08\",\"2008/09\",\"2009/10\",\"2010/11\",\"2011/12\",\"2012/13\",\"2013/14\",\"2014/15\",\"2015/16\",\"2016/17\",\"2017/18\",\"2018/19\",\"2019/20\"],\"xaxis\":\"x\",\"y\":[43200000,45000000,45000000,46200000,47400000,48600000,49860000,51180000,48600000,51720000,49200000,49260000,49740000,55020000,61200000,62400000,63600000,63600000,103200000,109200000,127500000,130500000,139500000,153000000,168000000,180000000,181800000,190800000,198000000,195000000],\"yaxis\":\"y\",\"type\":\"scatter\"},{\"hovertemplate\":\"Country=Mexico<br>Year=%{x}<br>Total Domestic Consumption=%{y}<extra></extra>\",\"legendgroup\":\"Mexico\",\"line\":{\"color\":\"rgb(17, 119, 51)\",\"dash\":\"solid\"},\"marker\":{\"symbol\":\"circle\"},\"mode\":\"lines\",\"name\":\"Mexico\",\"orientation\":\"v\",\"showlegend\":true,\"x\":[\"1990/91\",\"1991/92\",\"1992/93\",\"1993/94\",\"1994/95\",\"1995/96\",\"1996/97\",\"1997/98\",\"1998/99\",\"1999/00\",\"2000/01\",\"2001/02\",\"2002/03\",\"2003/04\",\"2004/05\",\"2005/06\",\"2006/07\",\"2007/08\",\"2008/09\",\"2009/10\",\"2010/11\",\"2011/12\",\"2012/13\",\"2013/14\",\"2014/15\",\"2015/16\",\"2016/17\",\"2017/18\",\"2018/19\",\"2019/20\"],\"xaxis\":\"x\",\"y\":[74100000,76140000,78180000,80340000,82500000,81540000,80580000,79680000,78720000,77820000,76920000,76020000,75120000,74220000,73380000,72540000,71677980,76855380,77430000,76468740,78661440,86103900,90854520,97021200,99927060,103222380,104186484,107596260,107484600,121486440],\"yaxis\":\"y\",\"type\":\"scatter\"},{\"hovertemplate\":\"Country=Philippines<br>Year=%{x}<br>Total Domestic Consumption=%{y}<extra></extra>\",\"legendgroup\":\"Philippines\",\"line\":{\"color\":\"rgb(51, 34, 136)\",\"dash\":\"solid\"},\"marker\":{\"symbol\":\"circle\"},\"mode\":\"lines\",\"name\":\"Philippines\",\"orientation\":\"v\",\"showlegend\":true,\"x\":[\"1990/91\",\"1991/92\",\"1992/93\",\"1993/94\",\"1994/95\",\"1995/96\",\"1996/97\",\"1997/98\",\"1998/99\",\"1999/00\",\"2000/01\",\"2001/02\",\"2002/03\",\"2003/04\",\"2004/05\",\"2005/06\",\"2006/07\",\"2007/08\",\"2008/09\",\"2009/10\",\"2010/11\",\"2011/12\",\"2012/13\",\"2013/14\",\"2014/15\",\"2015/16\",\"2016/17\",\"2017/18\",\"2018/19\",\"2019/20\"],\"xaxis\":\"x\",\"y\":[72000000,75840000,79860000,84120000,88560000,93300000,98220000,103440000,108960000,114720000,120840000,127260000,134040000,141180000,148680000,156540000,164880000,173640000,182880000,186540000,190260000,194100000,197940000,201900000,205980000,210060000,214260000,218580000,221100000,226860000],\"yaxis\":\"y\",\"type\":\"scatter\"},{\"hovertemplate\":\"Country=Colombia<br>Year=%{x}<br>Total Domestic Consumption=%{y}<extra></extra>\",\"legendgroup\":\"Colombia\",\"line\":{\"color\":\"rgb(170, 68, 153)\",\"dash\":\"solid\"},\"marker\":{\"symbol\":\"circle\"},\"mode\":\"lines\",\"name\":\"Colombia\",\"orientation\":\"v\",\"showlegend\":true,\"x\":[\"1990/91\",\"1991/92\",\"1992/93\",\"1993/94\",\"1994/95\",\"1995/96\",\"1996/97\",\"1997/98\",\"1998/99\",\"1999/00\",\"2000/01\",\"2001/02\",\"2002/03\",\"2003/04\",\"2004/05\",\"2005/06\",\"2006/07\",\"2007/08\",\"2008/09\",\"2009/10\",\"2010/11\",\"2011/12\",\"2012/13\",\"2013/14\",\"2014/15\",\"2015/16\",\"2016/17\",\"2017/18\",\"2018/19\",\"2019/20\"],\"xaxis\":\"x\",\"y\":[54180000,55000020,55020000,49999980,50100000,50220000,50280000,50340000,54000000,55500000,58500000,64020000,67980000,70020000,72120000,74280000,76500000,81000000,76500000,79500000,79500000,79500000,82500000,84000000,85800000,87000000,86400000,88200000,88500000,87000000],\"yaxis\":\"y\",\"type\":\"scatter\"},{\"hovertemplate\":\"Country=Venezuela<br>Year=%{x}<br>Total Domestic Consumption=%{y}<extra></extra>\",\"legendgroup\":\"Venezuela\",\"line\":{\"color\":\"rgb(68, 170, 153)\",\"dash\":\"solid\"},\"marker\":{\"symbol\":\"circle\"},\"mode\":\"lines\",\"name\":\"Venezuela\",\"orientation\":\"v\",\"showlegend\":true,\"x\":[\"1990/91\",\"1991/92\",\"1992/93\",\"1993/94\",\"1994/95\",\"1995/96\",\"1996/97\",\"1997/98\",\"1998/99\",\"1999/00\",\"2000/01\",\"2001/02\",\"2002/03\",\"2003/04\",\"2004/05\",\"2005/06\",\"2006/07\",\"2007/08\",\"2008/09\",\"2009/10\",\"2010/11\",\"2011/12\",\"2012/13\",\"2013/14\",\"2014/15\",\"2015/16\",\"2016/17\",\"2017/18\",\"2018/19\",\"2019/20\"],\"xaxis\":\"x\",\"y\":[82440000,72000000,78000000,64200000,61200000,70740000,74100000,72060000,66480000,69000000,78300000,90000000,90000000,90000000,90000000,103500000,120000000,132000000,132000000,132000000,141240000,141240000,141240000,139260000,140820000,139740000,141600000,144000000,147000000,145500000],\"yaxis\":\"y\",\"type\":\"scatter\"},{\"hovertemplate\":\"Country=India<br>Year=%{x}<br>Total Domestic Consumption=%{y}<extra></extra>\",\"legendgroup\":\"India\",\"line\":{\"color\":\"rgb(153, 153, 51)\",\"dash\":\"solid\"},\"marker\":{\"symbol\":\"circle\"},\"mode\":\"lines\",\"name\":\"India\",\"orientation\":\"v\",\"showlegend\":true,\"x\":[\"1990/91\",\"1991/92\",\"1992/93\",\"1993/94\",\"1994/95\",\"1995/96\",\"1996/97\",\"1997/98\",\"1998/99\",\"1999/00\",\"2000/01\",\"2001/02\",\"2002/03\",\"2003/04\",\"2004/05\",\"2005/06\",\"2006/07\",\"2007/08\",\"2008/09\",\"2009/10\",\"2010/11\",\"2011/12\",\"2012/13\",\"2013/14\",\"2014/15\",\"2015/16\",\"2016/17\",\"2017/18\",\"2018/19\",\"2019/20\"],\"xaxis\":\"x\",\"y\":[11280000,13200000,13980000,15000000,16980000,25020000,19980000,23400000,25980000,25980000,30000000,30000000,30000000,30000000,30000000,30000000,30000000,33000000,36000000,42000000,46500000,66000000,67800000,72000000,75000000,78000000,81000000,82500000,84000000,84000000],\"yaxis\":\"y\",\"type\":\"scatter\"},{\"hovertemplate\":\"Country=Viet Nam<br>Year=%{x}<br>Total Domestic Consumption=%{y}<extra></extra>\",\"legendgroup\":\"Viet Nam\",\"line\":{\"color\":\"rgb(136, 34, 85)\",\"dash\":\"solid\"},\"marker\":{\"symbol\":\"circle\"},\"mode\":\"lines\",\"name\":\"Viet Nam\",\"orientation\":\"v\",\"showlegend\":true,\"x\":[\"1990/91\",\"1991/92\",\"1992/93\",\"1993/94\",\"1994/95\",\"1995/96\",\"1996/97\",\"1997/98\",\"1998/99\",\"1999/00\",\"2000/01\",\"2001/02\",\"2002/03\",\"2003/04\",\"2004/05\",\"2005/06\",\"2006/07\",\"2007/08\",\"2008/09\",\"2009/10\",\"2010/11\",\"2011/12\",\"2012/13\",\"2013/14\",\"2014/15\",\"2015/16\",\"2016/17\",\"2017/18\",\"2018/19\",\"2019/20\"],\"xaxis\":\"x\",\"y\":[46943400,48928800,50998200,53155800,55404000,57747600,60190800,62736599,65390400,68156400,71039400,74044200,77176200,80440800,83843400,87390000,91086600,94939800,98955600,99000000,99000000,99000000,99000000,99000000,99000000,99000000,99000000,96000000,93000000,76500000],\"yaxis\":\"y\",\"type\":\"scatter\"},{\"hovertemplate\":\"Country=Thailand<br>Year=%{x}<br>Total Domestic Consumption=%{y}<extra></extra>\",\"legendgroup\":\"Thailand\",\"line\":{\"color\":\"rgb(102, 17, 0)\",\"dash\":\"solid\"},\"marker\":{\"symbol\":\"circle\"},\"mode\":\"lines\",\"name\":\"Thailand\",\"orientation\":\"v\",\"showlegend\":true,\"x\":[\"1990/91\",\"1991/92\",\"1992/93\",\"1993/94\",\"1994/95\",\"1995/96\",\"1996/97\",\"1997/98\",\"1998/99\",\"1999/00\",\"2000/01\",\"2001/02\",\"2002/03\",\"2003/04\",\"2004/05\",\"2005/06\",\"2006/07\",\"2007/08\",\"2008/09\",\"2009/10\",\"2010/11\",\"2011/12\",\"2012/13\",\"2013/14\",\"2014/15\",\"2015/16\",\"2016/17\",\"2017/18\",\"2018/19\",\"2019/20\"],\"xaxis\":\"x\",\"y\":[9000000,13800000,15000000,16020000,16020000,16910700,17850960,18843480,19891140,21000000,24097500,27651900,31130520,36410760,41781360,48000000,55020000,56280000,61260000,72480000,94980000,99000000,109500000,120000000,132000000,138000000,144000000,150000000,156000000,159000000],\"yaxis\":\"y\",\"type\":\"scatter\"}],                        {\"template\":{\"data\":{\"histogram2dcontour\":[{\"type\":\"histogram2dcontour\",\"colorbar\":{\"outlinewidth\":0,\"ticks\":\"\"},\"colorscale\":[[0.0,\"#0d0887\"],[0.1111111111111111,\"#46039f\"],[0.2222222222222222,\"#7201a8\"],[0.3333333333333333,\"#9c179e\"],[0.4444444444444444,\"#bd3786\"],[0.5555555555555556,\"#d8576b\"],[0.6666666666666666,\"#ed7953\"],[0.7777777777777778,\"#fb9f3a\"],[0.8888888888888888,\"#fdca26\"],[1.0,\"#f0f921\"]]}],\"choropleth\":[{\"type\":\"choropleth\",\"colorbar\":{\"outlinewidth\":0,\"ticks\":\"\"}}],\"histogram2d\":[{\"type\":\"histogram2d\",\"colorbar\":{\"outlinewidth\":0,\"ticks\":\"\"},\"colorscale\":[[0.0,\"#0d0887\"],[0.1111111111111111,\"#46039f\"],[0.2222222222222222,\"#7201a8\"],[0.3333333333333333,\"#9c179e\"],[0.4444444444444444,\"#bd3786\"],[0.5555555555555556,\"#d8576b\"],[0.6666666666666666,\"#ed7953\"],[0.7777777777777778,\"#fb9f3a\"],[0.8888888888888888,\"#fdca26\"],[1.0,\"#f0f921\"]]}],\"heatmap\":[{\"type\":\"heatmap\",\"colorbar\":{\"outlinewidth\":0,\"ticks\":\"\"},\"colorscale\":[[0.0,\"#0d0887\"],[0.1111111111111111,\"#46039f\"],[0.2222222222222222,\"#7201a8\"],[0.3333333333333333,\"#9c179e\"],[0.4444444444444444,\"#bd3786\"],[0.5555555555555556,\"#d8576b\"],[0.6666666666666666,\"#ed7953\"],[0.7777777777777778,\"#fb9f3a\"],[0.8888888888888888,\"#fdca26\"],[1.0,\"#f0f921\"]]}],\"heatmapgl\":[{\"type\":\"heatmapgl\",\"colorbar\":{\"outlinewidth\":0,\"ticks\":\"\"},\"colorscale\":[[0.0,\"#0d0887\"],[0.1111111111111111,\"#46039f\"],[0.2222222222222222,\"#7201a8\"],[0.3333333333333333,\"#9c179e\"],[0.4444444444444444,\"#bd3786\"],[0.5555555555555556,\"#d8576b\"],[0.6666666666666666,\"#ed7953\"],[0.7777777777777778,\"#fb9f3a\"],[0.8888888888888888,\"#fdca26\"],[1.0,\"#f0f921\"]]}],\"contourcarpet\":[{\"type\":\"contourcarpet\",\"colorbar\":{\"outlinewidth\":0,\"ticks\":\"\"}}],\"contour\":[{\"type\":\"contour\",\"colorbar\":{\"outlinewidth\":0,\"ticks\":\"\"},\"colorscale\":[[0.0,\"#0d0887\"],[0.1111111111111111,\"#46039f\"],[0.2222222222222222,\"#7201a8\"],[0.3333333333333333,\"#9c179e\"],[0.4444444444444444,\"#bd3786\"],[0.5555555555555556,\"#d8576b\"],[0.6666666666666666,\"#ed7953\"],[0.7777777777777778,\"#fb9f3a\"],[0.8888888888888888,\"#fdca26\"],[1.0,\"#f0f921\"]]}],\"surface\":[{\"type\":\"surface\",\"colorbar\":{\"outlinewidth\":0,\"ticks\":\"\"},\"colorscale\":[[0.0,\"#0d0887\"],[0.1111111111111111,\"#46039f\"],[0.2222222222222222,\"#7201a8\"],[0.3333333333333333,\"#9c179e\"],[0.4444444444444444,\"#bd3786\"],[0.5555555555555556,\"#d8576b\"],[0.6666666666666666,\"#ed7953\"],[0.7777777777777778,\"#fb9f3a\"],[0.8888888888888888,\"#fdca26\"],[1.0,\"#f0f921\"]]}],\"mesh3d\":[{\"type\":\"mesh3d\",\"colorbar\":{\"outlinewidth\":0,\"ticks\":\"\"}}],\"scatter\":[{\"fillpattern\":{\"fillmode\":\"overlay\",\"size\":10,\"solidity\":0.2},\"type\":\"scatter\"}],\"parcoords\":[{\"type\":\"parcoords\",\"line\":{\"colorbar\":{\"outlinewidth\":0,\"ticks\":\"\"}}}],\"scatterpolargl\":[{\"type\":\"scatterpolargl\",\"marker\":{\"colorbar\":{\"outlinewidth\":0,\"ticks\":\"\"}}}],\"bar\":[{\"error_x\":{\"color\":\"#2a3f5f\"},\"error_y\":{\"color\":\"#2a3f5f\"},\"marker\":{\"line\":{\"color\":\"#E5ECF6\",\"width\":0.5},\"pattern\":{\"fillmode\":\"overlay\",\"size\":10,\"solidity\":0.2}},\"type\":\"bar\"}],\"scattergeo\":[{\"type\":\"scattergeo\",\"marker\":{\"colorbar\":{\"outlinewidth\":0,\"ticks\":\"\"}}}],\"scatterpolar\":[{\"type\":\"scatterpolar\",\"marker\":{\"colorbar\":{\"outlinewidth\":0,\"ticks\":\"\"}}}],\"histogram\":[{\"marker\":{\"pattern\":{\"fillmode\":\"overlay\",\"size\":10,\"solidity\":0.2}},\"type\":\"histogram\"}],\"scattergl\":[{\"type\":\"scattergl\",\"marker\":{\"colorbar\":{\"outlinewidth\":0,\"ticks\":\"\"}}}],\"scatter3d\":[{\"type\":\"scatter3d\",\"line\":{\"colorbar\":{\"outlinewidth\":0,\"ticks\":\"\"}},\"marker\":{\"colorbar\":{\"outlinewidth\":0,\"ticks\":\"\"}}}],\"scattermapbox\":[{\"type\":\"scattermapbox\",\"marker\":{\"colorbar\":{\"outlinewidth\":0,\"ticks\":\"\"}}}],\"scatterternary\":[{\"type\":\"scatterternary\",\"marker\":{\"colorbar\":{\"outlinewidth\":0,\"ticks\":\"\"}}}],\"scattercarpet\":[{\"type\":\"scattercarpet\",\"marker\":{\"colorbar\":{\"outlinewidth\":0,\"ticks\":\"\"}}}],\"carpet\":[{\"aaxis\":{\"endlinecolor\":\"#2a3f5f\",\"gridcolor\":\"white\",\"linecolor\":\"white\",\"minorgridcolor\":\"white\",\"startlinecolor\":\"#2a3f5f\"},\"baxis\":{\"endlinecolor\":\"#2a3f5f\",\"gridcolor\":\"white\",\"linecolor\":\"white\",\"minorgridcolor\":\"white\",\"startlinecolor\":\"#2a3f5f\"},\"type\":\"carpet\"}],\"table\":[{\"cells\":{\"fill\":{\"color\":\"#EBF0F8\"},\"line\":{\"color\":\"white\"}},\"header\":{\"fill\":{\"color\":\"#C8D4E3\"},\"line\":{\"color\":\"white\"}},\"type\":\"table\"}],\"barpolar\":[{\"marker\":{\"line\":{\"color\":\"#E5ECF6\",\"width\":0.5},\"pattern\":{\"fillmode\":\"overlay\",\"size\":10,\"solidity\":0.2}},\"type\":\"barpolar\"}],\"pie\":[{\"automargin\":true,\"type\":\"pie\"}]},\"layout\":{\"autotypenumbers\":\"strict\",\"colorway\":[\"#636efa\",\"#EF553B\",\"#00cc96\",\"#ab63fa\",\"#FFA15A\",\"#19d3f3\",\"#FF6692\",\"#B6E880\",\"#FF97FF\",\"#FECB52\"],\"font\":{\"color\":\"#2a3f5f\"},\"hovermode\":\"closest\",\"hoverlabel\":{\"align\":\"left\"},\"paper_bgcolor\":\"white\",\"plot_bgcolor\":\"#E5ECF6\",\"polar\":{\"bgcolor\":\"#E5ECF6\",\"angularaxis\":{\"gridcolor\":\"white\",\"linecolor\":\"white\",\"ticks\":\"\"},\"radialaxis\":{\"gridcolor\":\"white\",\"linecolor\":\"white\",\"ticks\":\"\"}},\"ternary\":{\"bgcolor\":\"#E5ECF6\",\"aaxis\":{\"gridcolor\":\"white\",\"linecolor\":\"white\",\"ticks\":\"\"},\"baxis\":{\"gridcolor\":\"white\",\"linecolor\":\"white\",\"ticks\":\"\"},\"caxis\":{\"gridcolor\":\"white\",\"linecolor\":\"white\",\"ticks\":\"\"}},\"coloraxis\":{\"colorbar\":{\"outlinewidth\":0,\"ticks\":\"\"}},\"colorscale\":{\"sequential\":[[0.0,\"#0d0887\"],[0.1111111111111111,\"#46039f\"],[0.2222222222222222,\"#7201a8\"],[0.3333333333333333,\"#9c179e\"],[0.4444444444444444,\"#bd3786\"],[0.5555555555555556,\"#d8576b\"],[0.6666666666666666,\"#ed7953\"],[0.7777777777777778,\"#fb9f3a\"],[0.8888888888888888,\"#fdca26\"],[1.0,\"#f0f921\"]],\"sequentialminus\":[[0.0,\"#0d0887\"],[0.1111111111111111,\"#46039f\"],[0.2222222222222222,\"#7201a8\"],[0.3333333333333333,\"#9c179e\"],[0.4444444444444444,\"#bd3786\"],[0.5555555555555556,\"#d8576b\"],[0.6666666666666666,\"#ed7953\"],[0.7777777777777778,\"#fb9f3a\"],[0.8888888888888888,\"#fdca26\"],[1.0,\"#f0f921\"]],\"diverging\":[[0,\"#8e0152\"],[0.1,\"#c51b7d\"],[0.2,\"#de77ae\"],[0.3,\"#f1b6da\"],[0.4,\"#fde0ef\"],[0.5,\"#f7f7f7\"],[0.6,\"#e6f5d0\"],[0.7,\"#b8e186\"],[0.8,\"#7fbc41\"],[0.9,\"#4d9221\"],[1,\"#276419\"]]},\"xaxis\":{\"gridcolor\":\"white\",\"linecolor\":\"white\",\"ticks\":\"\",\"title\":{\"standoff\":15},\"zerolinecolor\":\"white\",\"automargin\":true,\"zerolinewidth\":2},\"yaxis\":{\"gridcolor\":\"white\",\"linecolor\":\"white\",\"ticks\":\"\",\"title\":{\"standoff\":15},\"zerolinecolor\":\"white\",\"automargin\":true,\"zerolinewidth\":2},\"scene\":{\"xaxis\":{\"backgroundcolor\":\"#E5ECF6\",\"gridcolor\":\"white\",\"linecolor\":\"white\",\"showbackground\":true,\"ticks\":\"\",\"zerolinecolor\":\"white\",\"gridwidth\":2},\"yaxis\":{\"backgroundcolor\":\"#E5ECF6\",\"gridcolor\":\"white\",\"linecolor\":\"white\",\"showbackground\":true,\"ticks\":\"\",\"zerolinecolor\":\"white\",\"gridwidth\":2},\"zaxis\":{\"backgroundcolor\":\"#E5ECF6\",\"gridcolor\":\"white\",\"linecolor\":\"white\",\"showbackground\":true,\"ticks\":\"\",\"zerolinecolor\":\"white\",\"gridwidth\":2}},\"shapedefaults\":{\"line\":{\"color\":\"#2a3f5f\"}},\"annotationdefaults\":{\"arrowcolor\":\"#2a3f5f\",\"arrowhead\":0,\"arrowwidth\":1},\"geo\":{\"bgcolor\":\"white\",\"landcolor\":\"#E5ECF6\",\"subunitcolor\":\"white\",\"showland\":true,\"showlakes\":true,\"lakecolor\":\"white\"},\"title\":{\"x\":0.05},\"mapbox\":{\"style\":\"light\"}}},\"xaxis\":{\"anchor\":\"y\",\"domain\":[0.0,1.0],\"title\":{\"text\":\"Year\"}},\"yaxis\":{\"anchor\":\"x\",\"domain\":[0.0,1.0],\"title\":{\"text\":\"Total Domestic Consumption\"}},\"legend\":{\"title\":{\"text\":\"Country\"},\"tracegroupgap\":0},\"title\":{\"text\":\"Domestic Consumption Rates over Time (Top 10 Countries)\",\"x\":0.45},\"height\":600,\"width\":1000},                        {\"responsive\": true}                    ).then(function(){\n",
       "                            \n",
       "var gd = document.getElementById('ed6e9dd1-ee31-4f8a-915c-1f2287f2d4fd');\n",
       "var x = new MutationObserver(function (mutations, observer) {{\n",
       "        var display = window.getComputedStyle(gd).display;\n",
       "        if (!display || display === 'none') {{\n",
       "            console.log([gd, 'removed!']);\n",
       "            Plotly.purge(gd);\n",
       "            observer.disconnect();\n",
       "        }}\n",
       "}});\n",
       "\n",
       "// Listen for the removal of the full notebook cells\n",
       "var notebookContainer = gd.closest('#notebook-container');\n",
       "if (notebookContainer) {{\n",
       "    x.observe(notebookContainer, {childList: true});\n",
       "}}\n",
       "\n",
       "// Listen for the clearing of the current output cell\n",
       "var outputEl = gd.closest('.output');\n",
       "if (outputEl) {{\n",
       "    x.observe(outputEl, {childList: true});\n",
       "}}\n",
       "\n",
       "                        })                };                });            </script>        </div>"
      ]
     },
     "metadata": {},
     "output_type": "display_data"
    }
   ],
   "source": [
    "# Lets graph a time series of domestic consumption by country\n",
    "\n",
    "fig3 = px.line(coffee_domestic_consumption_2, x = coffee_domestic_consumption_2.index,\n",
    "               y = coffee_domestic_consumption_2.columns[0:],color_discrete_sequence = px.colors.qualitative.Safe,\n",
    "               labels = {\"year\": \"Year\", \"value\": \"Total Domestic Consumption\", \"variable\": \"Country\"},\n",
    "               title=\"Domestic Consumption Rates over Time (Top 10 Countries)\", width=1000, height=600)\n",
    "\n",
    "fig3.update_layout(title_x=0.45)\n",
    "fig3.show()\n"
   ]
  }
 ],
 "metadata": {
  "kernelspec": {
   "display_name": "Python 3 (ipykernel)",
   "language": "python",
   "name": "python3"
  },
  "language_info": {
   "codemirror_mode": {
    "name": "ipython",
    "version": 3
   },
   "file_extension": ".py",
   "mimetype": "text/x-python",
   "name": "python",
   "nbconvert_exporter": "python",
   "pygments_lexer": "ipython3",
   "version": "3.10.9"
  }
 },
 "nbformat": 4,
 "nbformat_minor": 5
}
