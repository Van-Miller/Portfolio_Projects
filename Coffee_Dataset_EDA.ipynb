{
 "cells": [
  {
   "cell_type": "markdown",
   "id": "30b32380",
   "metadata": {},
   "source": [
    "<font size=\"5\">Intro info here</font>"
   ]
  },
  {
   "cell_type": "code",
   "execution_count": 33,
   "id": "73080845",
   "metadata": {},
   "outputs": [],
   "source": [
    "# Import packages\n",
    "\n",
    "import numpy as np\n",
    "import pandas as pd\n",
    "\n",
    "import matplotlib.pyplot as plt\n",
    "import seaborn as sns\n",
    "import plotly.express as px\n",
    "\n",
    "\n",
    "# Display all columns in dataframes\n",
    "pd.set_option('display.max_columns', None)\n"
   ]
  },
  {
   "cell_type": "code",
   "execution_count": 15,
   "id": "f450b562",
   "metadata": {},
   "outputs": [],
   "source": [
    "# Load datasets into dataframes\n",
    "\n",
    "coffee_domestic_consumption_0 = pd.read_csv(r\"C:\\Users\\Vanja\\OneDrive\\Desktop\\Datasets\\Coffee EDA\\Coffee_domestic_consumption.csv\")\n",
    "coffee_export_0 = pd.read_csv(r\"C:\\Users\\Vanja\\OneDrive\\Desktop\\Datasets\\Coffee EDA\\Coffee_export.csv\")\n",
    "green_coffee_inventory_0 = pd.read_csv(r\"C:\\Users\\Vanja\\OneDrive\\Desktop\\Datasets\\Coffee EDA\\Coffee_green_coffee_inventorie.csv\")\n",
    "coffee_import_0 = pd.read_csv(r\"C:\\Users\\Vanja\\OneDrive\\Desktop\\Datasets\\Coffee EDA\\Coffee_import.csv\")\n",
    "import_consumption_0 = pd.read_csv(r\"C:\\Users\\Vanja\\OneDrive\\Desktop\\Datasets\\Coffee EDA\\Coffee_importers_consumption.csv\")\n",
    "coffee_production_0 = pd.read_csv(r\"C:\\Users\\Vanja\\OneDrive\\Desktop\\Datasets\\Coffee EDA\\Coffee_production.csv\")\n",
    "coffee_re_export_0 = pd.read_csv(r\"C:\\Users\\Vanja\\OneDrive\\Desktop\\Datasets\\Coffee EDA\\Coffee_re_export.csv\")"
   ]
  },
  {
   "cell_type": "markdown",
   "id": "ef2e95d0",
   "metadata": {},
   "source": [
    "<font size=\"5\">Domestic Consumption info here</font>"
   ]
  },
  {
   "cell_type": "code",
   "execution_count": 16,
   "id": "07651343",
   "metadata": {},
   "outputs": [
    {
     "data": {
      "text/html": [
       "<div>\n",
       "<style scoped>\n",
       "    .dataframe tbody tr th:only-of-type {\n",
       "        vertical-align: middle;\n",
       "    }\n",
       "\n",
       "    .dataframe tbody tr th {\n",
       "        vertical-align: top;\n",
       "    }\n",
       "\n",
       "    .dataframe thead th {\n",
       "        text-align: right;\n",
       "    }\n",
       "</style>\n",
       "<table border=\"1\" class=\"dataframe\">\n",
       "  <thead>\n",
       "    <tr style=\"text-align: right;\">\n",
       "      <th></th>\n",
       "      <th>Country</th>\n",
       "      <th>Coffee type</th>\n",
       "      <th>1990/91</th>\n",
       "      <th>1991/92</th>\n",
       "      <th>1992/93</th>\n",
       "      <th>1993/94</th>\n",
       "      <th>1994/95</th>\n",
       "      <th>1995/96</th>\n",
       "      <th>1996/97</th>\n",
       "      <th>1997/98</th>\n",
       "      <th>1998/99</th>\n",
       "      <th>1999/00</th>\n",
       "      <th>2000/01</th>\n",
       "      <th>2001/02</th>\n",
       "      <th>2002/03</th>\n",
       "      <th>2003/04</th>\n",
       "      <th>2004/05</th>\n",
       "      <th>2005/06</th>\n",
       "      <th>2006/07</th>\n",
       "      <th>2007/08</th>\n",
       "      <th>2008/09</th>\n",
       "      <th>2009/10</th>\n",
       "      <th>2010/11</th>\n",
       "      <th>2011/12</th>\n",
       "      <th>2012/13</th>\n",
       "      <th>2013/14</th>\n",
       "      <th>2014/15</th>\n",
       "      <th>2015/16</th>\n",
       "      <th>2016/17</th>\n",
       "      <th>2017/18</th>\n",
       "      <th>2018/19</th>\n",
       "      <th>2019/20</th>\n",
       "      <th>Total_domestic_consumption</th>\n",
       "    </tr>\n",
       "  </thead>\n",
       "  <tbody>\n",
       "    <tr>\n",
       "      <th>0</th>\n",
       "      <td>Angola</td>\n",
       "      <td>Robusta/Arabica</td>\n",
       "      <td>1200000</td>\n",
       "      <td>1800000</td>\n",
       "      <td>2100000</td>\n",
       "      <td>1200000</td>\n",
       "      <td>1500000</td>\n",
       "      <td>600000</td>\n",
       "      <td>1200000</td>\n",
       "      <td>2400000</td>\n",
       "      <td>1800000</td>\n",
       "      <td>1200000</td>\n",
       "      <td>1200000</td>\n",
       "      <td>1200000</td>\n",
       "      <td>1200000</td>\n",
       "      <td>900000</td>\n",
       "      <td>900000</td>\n",
       "      <td>900000</td>\n",
       "      <td>1800000</td>\n",
       "      <td>1800000</td>\n",
       "      <td>1800000</td>\n",
       "      <td>1800000</td>\n",
       "      <td>1800000</td>\n",
       "      <td>1800000</td>\n",
       "      <td>1800000</td>\n",
       "      <td>1800000</td>\n",
       "      <td>1800000</td>\n",
       "      <td>1800000</td>\n",
       "      <td>1800000</td>\n",
       "      <td>1800000</td>\n",
       "      <td>1800000</td>\n",
       "      <td>1800000</td>\n",
       "      <td>46500000</td>\n",
       "    </tr>\n",
       "    <tr>\n",
       "      <th>1</th>\n",
       "      <td>Bolivia (Plurinational State of)</td>\n",
       "      <td>Arabica</td>\n",
       "      <td>1500000</td>\n",
       "      <td>1620000</td>\n",
       "      <td>1650000</td>\n",
       "      <td>1710000</td>\n",
       "      <td>1770000</td>\n",
       "      <td>1830000</td>\n",
       "      <td>1890000</td>\n",
       "      <td>1950000</td>\n",
       "      <td>1980000</td>\n",
       "      <td>2040000</td>\n",
       "      <td>2100000</td>\n",
       "      <td>2190000</td>\n",
       "      <td>2250000</td>\n",
       "      <td>2310000</td>\n",
       "      <td>2700000</td>\n",
       "      <td>2460000</td>\n",
       "      <td>2520000</td>\n",
       "      <td>2610000</td>\n",
       "      <td>2700000</td>\n",
       "      <td>2760000</td>\n",
       "      <td>2850000</td>\n",
       "      <td>2940000</td>\n",
       "      <td>3030000</td>\n",
       "      <td>3120000</td>\n",
       "      <td>3210000</td>\n",
       "      <td>3300000</td>\n",
       "      <td>3420000</td>\n",
       "      <td>3510000</td>\n",
       "      <td>3600000</td>\n",
       "      <td>3660000</td>\n",
       "      <td>75180000</td>\n",
       "    </tr>\n",
       "  </tbody>\n",
       "</table>\n",
       "</div>"
      ],
      "text/plain": [
       "                            Country      Coffee type  1990/91  1991/92  \\\n",
       "0                            Angola  Robusta/Arabica  1200000  1800000   \n",
       "1  Bolivia (Plurinational State of)          Arabica  1500000  1620000   \n",
       "\n",
       "   1992/93  1993/94  1994/95  1995/96  1996/97  1997/98  1998/99  1999/00  \\\n",
       "0  2100000  1200000  1500000   600000  1200000  2400000  1800000  1200000   \n",
       "1  1650000  1710000  1770000  1830000  1890000  1950000  1980000  2040000   \n",
       "\n",
       "   2000/01  2001/02  2002/03  2003/04  2004/05  2005/06  2006/07  2007/08  \\\n",
       "0  1200000  1200000  1200000   900000   900000   900000  1800000  1800000   \n",
       "1  2100000  2190000  2250000  2310000  2700000  2460000  2520000  2610000   \n",
       "\n",
       "   2008/09  2009/10  2010/11  2011/12  2012/13  2013/14  2014/15  2015/16  \\\n",
       "0  1800000  1800000  1800000  1800000  1800000  1800000  1800000  1800000   \n",
       "1  2700000  2760000  2850000  2940000  3030000  3120000  3210000  3300000   \n",
       "\n",
       "   2016/17  2017/18  2018/19  2019/20  Total_domestic_consumption  \n",
       "0  1800000  1800000  1800000  1800000                    46500000  \n",
       "1  3420000  3510000  3600000  3660000                    75180000  "
      ]
     },
     "execution_count": 16,
     "metadata": {},
     "output_type": "execute_result"
    }
   ],
   "source": [
    "# Lets take a small look at each dataframe\n",
    "\n",
    "coffee_domestic_consumption_0.head(2)"
   ]
  },
  {
   "cell_type": "code",
   "execution_count": 17,
   "id": "35192459",
   "metadata": {},
   "outputs": [
    {
     "name": "stdout",
     "output_type": "stream",
     "text": [
      "<class 'pandas.core.frame.DataFrame'>\n",
      "RangeIndex: 55 entries, 0 to 54\n",
      "Data columns (total 33 columns):\n",
      " #   Column                      Non-Null Count  Dtype \n",
      "---  ------                      --------------  ----- \n",
      " 0   Country                     55 non-null     object\n",
      " 1   Coffee type                 55 non-null     object\n",
      " 2   1990/91                     55 non-null     int64 \n",
      " 3   1991/92                     55 non-null     int64 \n",
      " 4   1992/93                     55 non-null     int64 \n",
      " 5   1993/94                     55 non-null     int64 \n",
      " 6   1994/95                     55 non-null     int64 \n",
      " 7   1995/96                     55 non-null     int64 \n",
      " 8   1996/97                     55 non-null     int64 \n",
      " 9   1997/98                     55 non-null     int64 \n",
      " 10  1998/99                     55 non-null     int64 \n",
      " 11  1999/00                     55 non-null     int64 \n",
      " 12  2000/01                     55 non-null     int64 \n",
      " 13  2001/02                     55 non-null     int64 \n",
      " 14  2002/03                     55 non-null     int64 \n",
      " 15  2003/04                     55 non-null     int64 \n",
      " 16  2004/05                     55 non-null     int64 \n",
      " 17  2005/06                     55 non-null     int64 \n",
      " 18  2006/07                     55 non-null     int64 \n",
      " 19  2007/08                     55 non-null     int64 \n",
      " 20  2008/09                     55 non-null     int64 \n",
      " 21  2009/10                     55 non-null     int64 \n",
      " 22  2010/11                     55 non-null     int64 \n",
      " 23  2011/12                     55 non-null     int64 \n",
      " 24  2012/13                     55 non-null     int64 \n",
      " 25  2013/14                     55 non-null     int64 \n",
      " 26  2014/15                     55 non-null     int64 \n",
      " 27  2015/16                     55 non-null     int64 \n",
      " 28  2016/17                     55 non-null     int64 \n",
      " 29  2017/18                     55 non-null     int64 \n",
      " 30  2018/19                     55 non-null     int64 \n",
      " 31  2019/20                     55 non-null     int64 \n",
      " 32  Total_domestic_consumption  55 non-null     int64 \n",
      "dtypes: int64(31), object(2)\n",
      "memory usage: 14.3+ KB\n"
     ]
    }
   ],
   "source": [
    "# Lets get some basic information about each dataframe\n",
    "\n",
    "coffee_domestic_consumption_0.info()"
   ]
  },
  {
   "cell_type": "code",
   "execution_count": 18,
   "id": "71fe1bc4",
   "metadata": {},
   "outputs": [
    {
     "data": {
      "text/plain": [
       "count    5.500000e+01\n",
       "mean     1.112487e+09\n",
       "std      3.834783e+09\n",
       "min      0.000000e+00\n",
       "25%      9.586920e+06\n",
       "50%      1.216200e+08\n",
       "75%      5.897930e+08\n",
       "max      2.782470e+10\n",
       "Name: Total_domestic_consumption, dtype: float64"
      ]
     },
     "execution_count": 18,
     "metadata": {},
     "output_type": "execute_result"
    }
   ],
   "source": [
    "# Descriptive Statistics\n",
    "\n",
    "coffee_domestic_consumption_0['Total_domestic_consumption'].describe()"
   ]
  },
  {
   "cell_type": "code",
   "execution_count": 19,
   "id": "425eed38",
   "metadata": {},
   "outputs": [
    {
     "data": {
      "text/plain": [
       "Index(['country', 'coffee_type', '1990/91', '1991/92', '1992/93', '1993/94',\n",
       "       '1994/95', '1995/96', '1996/97', '1997/98', '1998/99', '1999/00',\n",
       "       '2000/01', '2001/02', '2002/03', '2003/04', '2004/05', '2005/06',\n",
       "       '2006/07', '2007/08', '2008/09', '2009/10', '2010/11', '2011/12',\n",
       "       '2012/13', '2013/14', '2014/15', '2015/16', '2016/17', '2017/18',\n",
       "       '2018/19', '2019/20', 'total_domestic_consumption'],\n",
       "      dtype='object')"
      ]
     },
     "execution_count": 19,
     "metadata": {},
     "output_type": "execute_result"
    }
   ],
   "source": [
    "# Standardize columns names for ease of use; snake_case\n",
    "\n",
    "coffee_domestic_consumption_0.columns\n",
    "coffee_domestic_consumption_0 = coffee_domestic_consumption_0.rename(columns = {'Country': 'country', \n",
    "                                'Coffee type': 'coffee_type', 'Total_domestic_consumption': 'total_domestic_consumption'})\n",
    "coffee_domestic_consumption_0.columns"
   ]
  },
  {
   "cell_type": "code",
   "execution_count": 20,
   "id": "cbe572f8",
   "metadata": {},
   "outputs": [
    {
     "data": {
      "text/plain": [
       "country                       0\n",
       "coffee_type                   0\n",
       "1990/91                       0\n",
       "1991/92                       0\n",
       "1992/93                       0\n",
       "1993/94                       0\n",
       "1994/95                       0\n",
       "1995/96                       0\n",
       "1996/97                       0\n",
       "1997/98                       0\n",
       "1998/99                       0\n",
       "1999/00                       0\n",
       "2000/01                       0\n",
       "2001/02                       0\n",
       "2002/03                       0\n",
       "2003/04                       0\n",
       "2004/05                       0\n",
       "2005/06                       0\n",
       "2006/07                       0\n",
       "2007/08                       0\n",
       "2008/09                       0\n",
       "2009/10                       0\n",
       "2010/11                       0\n",
       "2011/12                       0\n",
       "2012/13                       0\n",
       "2013/14                       0\n",
       "2014/15                       0\n",
       "2015/16                       0\n",
       "2016/17                       0\n",
       "2017/18                       0\n",
       "2018/19                       0\n",
       "2019/20                       0\n",
       "total_domestic_consumption    0\n",
       "dtype: int64"
      ]
     },
     "execution_count": 20,
     "metadata": {},
     "output_type": "execute_result"
    }
   ],
   "source": [
    "# Check for missing values\n",
    "\n",
    "coffee_domestic_consumption_0.isna().sum()"
   ]
  },
  {
   "cell_type": "code",
   "execution_count": 21,
   "id": "6b2836e1",
   "metadata": {},
   "outputs": [
    {
     "data": {
      "text/plain": [
       "0"
      ]
     },
     "execution_count": 21,
     "metadata": {},
     "output_type": "execute_result"
    }
   ],
   "source": [
    "# Check for duplicates\n",
    "\n",
    "coffee_domestic_consumption_0.duplicated().sum()"
   ]
  },
  {
   "cell_type": "code",
   "execution_count": 22,
   "id": "bea2830c",
   "metadata": {},
   "outputs": [
    {
     "data": {
      "image/png": "[encoded data removed]",
      "text/plain": [
       "<Figure size 600x600 with 1 Axes>"
      ]
     },
     "metadata": {},
     "output_type": "display_data"
    }
   ],
   "source": [
    "# Lets check for outliers\n",
    "\n",
    "plt.figure(figsize=(6,6))\n",
    "plt.title('Boxplot to detect outliers for total domestic consumption', fontsize=12)\n",
    "plt.xticks(fontsize=12)\n",
    "plt.yticks(fontsize=12)\n",
    "sns.boxplot(x=coffee_domestic_consumption_0['total_domestic_consumption'])\n",
    "plt.show()"
   ]
  },
  {
   "cell_type": "code",
   "execution_count": 23,
   "id": "a6385650",
   "metadata": {},
   "outputs": [
    {
     "name": "stdout",
     "output_type": "stream",
     "text": [
      "Lower limit: 879896010.0\n",
      "Upper limit: 1460102070.0\n",
      "Number of rows in the dataframe containing outliers in total_domestic_consumption:  54\n"
     ]
    }
   ],
   "source": [
    "# Identify subset of data containing outliers\n",
    "\n",
    "percentile_25 = coffee_domestic_consumption_0['total_domestic_consumption'].quantile(0.25)\n",
    "percentile_75 = coffee_domestic_consumption_0['total_domestic_consumption'].quantile(0.75)\n",
    "\n",
    "# Compute Interquartile Range\n",
    "\n",
    "iqr = percentile_75 - percentile_25\n",
    "\n",
    "# Define upper and lower limits for non-outlier values\n",
    "\n",
    "upper_lim = percentile_75 + 1.5*iqr\n",
    "lower_lim = percentile_25 + 1.5*iqr\n",
    "print(\"Lower limit:\", lower_lim)\n",
    "print(\"Upper limit:\", upper_lim)\n",
    "\n",
    "# Identify outlier subset\n",
    "\n",
    "outliers = coffee_domestic_consumption_0[(coffee_domestic_consumption_0['total_domestic_consumption'] > upper_lim) | (coffee_domestic_consumption_0['total_domestic_consumption'] < lower_lim)]\n",
    "\n",
    "print(\"Number of rows in the dataframe containing outliers in total_domestic_consumption: \", len(outliers))\n"
   ]
  },
  {
   "cell_type": "markdown",
   "id": "c409eabb",
   "metadata": {},
   "source": [
    "<font size=\"5\">Outliers doesn't make sense.. only 56 rows of data in dataset</font>"
   ]
  },
  {
   "cell_type": "code",
   "execution_count": 35,
   "id": "93a2135d",
   "metadata": {},
   "outputs": [],
   "source": [
    "# Look at countries with most domestic consumption\n",
    "\n",
    "top_dom_consumption_countries = coffee_domestic_consumption_0[['country', 'total_domestic_consumption']]\n",
    "top_dom_consumption_countries = top_dom_consumption_countries.sort_values(by='total_domestic_consumption', ascending=False).head(10)\n"
   ]
  },
  {
   "cell_type": "code",
   "execution_count": 47,
   "id": "76f71f5e",
   "metadata": {},
   "outputs": [
    {
     "data": {
      "application/vnd.plotly.v1+json": {
       "config": {
        "plotlyServerURL": "https://plot.ly"
       },
       "data": [
        {
         "alignmentgroup": "True",
         "hovertemplate": "Country=%{x}<br>Total Domestic Consumption=%{y}<extra></extra>",
         "legendgroup": "Brazil",
         "marker": {
          "color": "rgb(136, 204, 238)",
          "pattern": {
           "shape": ""
          }
         },
         "name": "Brazil",
         "offsetgroup": "Brazil",
         "orientation": "v",
         "showlegend": true,
         "textposition": "auto",
         "type": "bar",
         "x": [
          "Brazil"
         ],
         "xaxis": "x",
         "y": [
          27824700000
         ],
         "yaxis": "y"
        },
        {
         "alignmentgroup": "True",
         "hovertemplate": "Country=%{x}<br>Total Domestic Consumption=%{y}<extra></extra>",
         "legendgroup": "Indonesia",
         "marker": {
          "color": "rgb(204, 102, 119)",
          "pattern": {
           "shape": ""
          }
         },
         "name": "Indonesia",
         "offsetgroup": "Indonesia",
         "orientation": "v",
         "showlegend": true,
         "textposition": "auto",
         "type": "bar",
         "x": [
          "Indonesia"
         ],
         "xaxis": "x",
         "y": [
          4920480000
         ],
         "yaxis": "y"
        },
        {
         "alignmentgroup": "True",
         "hovertemplate": "Country=%{x}<br>Total Domestic Consumption=%{y}<extra></extra>",
         "legendgroup": "Ethiopia",
         "marker": {
          "color": "rgb(221, 204, 119)",
          "pattern": {
           "shape": ""
          }
         },
         "name": "Ethiopia",
         "offsetgroup": "Ethiopia",
         "orientation": "v",
         "showlegend": true,
         "textposition": "auto",
         "type": "bar",
         "x": [
          "Ethiopia"
         ],
         "xaxis": "x",
         "y": [
          4536540000
         ],
         "yaxis": "y"
        },
        {
         "alignmentgroup": "True",
         "hovertemplate": "Country=%{x}<br>Total Domestic Consumption=%{y}<extra></extra>",
         "legendgroup": "Mexico",
         "marker": {
          "color": "rgb(17, 119, 51)",
          "pattern": {
           "shape": ""
          }
         },
         "name": "Mexico",
         "offsetgroup": "Mexico",
         "orientation": "v",
         "showlegend": true,
         "textposition": "auto",
         "type": "bar",
         "x": [
          "Mexico"
         ],
         "xaxis": "x",
         "y": [
          3189660000
         ],
         "yaxis": "y"
        },
        {
         "alignmentgroup": "True",
         "hovertemplate": "Country=%{x}<br>Total Domestic Consumption=%{y}<extra></extra>",
         "legendgroup": "Philippines",
         "marker": {
          "color": "rgb(51, 34, 136)",
          "pattern": {
           "shape": ""
          }
         },
         "name": "Philippines",
         "offsetgroup": "Philippines",
         "orientation": "v",
         "showlegend": true,
         "textposition": "auto",
         "type": "bar",
         "x": [
          "Philippines"
         ],
         "xaxis": "x",
         "y": [
          2807280000
         ],
         "yaxis": "y"
        },
        {
         "alignmentgroup": "True",
         "hovertemplate": "Country=%{x}<br>Total Domestic Consumption=%{y}<extra></extra>",
         "legendgroup": "Colombia",
         "marker": {
          "color": "rgb(170, 68, 153)",
          "pattern": {
           "shape": ""
          }
         },
         "name": "Colombia",
         "offsetgroup": "Colombia",
         "orientation": "v",
         "showlegend": true,
         "textposition": "auto",
         "type": "bar",
         "x": [
          "Colombia"
         ],
         "xaxis": "x",
         "y": [
          2536776384
         ],
         "yaxis": "y"
        },
        {
         "alignmentgroup": "True",
         "hovertemplate": "Country=%{x}<br>Total Domestic Consumption=%{y}<extra></extra>",
         "legendgroup": "Venezuela",
         "marker": {
          "color": "rgb(68, 170, 153)",
          "pattern": {
           "shape": ""
          }
         },
         "name": "Venezuela",
         "offsetgroup": "Venezuela",
         "orientation": "v",
         "showlegend": true,
         "textposition": "auto",
         "type": "bar",
         "x": [
          "Venezuela"
         ],
         "xaxis": "x",
         "y": [
          2386067999
         ],
         "yaxis": "y"
        },
        {
         "alignmentgroup": "True",
         "hovertemplate": "Country=%{x}<br>Total Domestic Consumption=%{y}<extra></extra>",
         "legendgroup": "India",
         "marker": {
          "color": "rgb(153, 153, 51)",
          "pattern": {
           "shape": ""
          }
         },
         "name": "India",
         "offsetgroup": "India",
         "orientation": "v",
         "showlegend": true,
         "textposition": "auto",
         "type": "bar",
         "x": [
          "India"
         ],
         "xaxis": "x",
         "y": [
          2093460000
         ],
         "yaxis": "y"
        },
        {
         "alignmentgroup": "True",
         "hovertemplate": "Country=%{x}<br>Total Domestic Consumption=%{y}<extra></extra>",
         "legendgroup": "Viet Nam",
         "marker": {
          "color": "rgb(136, 34, 85)",
          "pattern": {
           "shape": ""
          }
         },
         "name": "Viet Nam",
         "offsetgroup": "Viet Nam",
         "orientation": "v",
         "showlegend": true,
         "textposition": "auto",
         "type": "bar",
         "x": [
          "Viet Nam"
         ],
         "xaxis": "x",
         "y": [
          1920928320
         ],
         "yaxis": "y"
        },
        {
         "alignmentgroup": "True",
         "hovertemplate": "Country=%{x}<br>Total Domestic Consumption=%{y}<extra></extra>",
         "legendgroup": "Thailand",
         "marker": {
          "color": "rgb(102, 17, 0)",
          "pattern": {
           "shape": ""
          }
         },
         "name": "Thailand",
         "offsetgroup": "Thailand",
         "orientation": "v",
         "showlegend": true,
         "textposition": "auto",
         "type": "bar",
         "x": [
          "Thailand"
         ],
         "xaxis": "x",
         "y": [
          1248600000
         ],
         "yaxis": "y"
        }
       ],
       "layout": {
        "barmode": "relative",
        "height": 600,
        "legend": {
         "title": {
          "text": "Country"
         },
         "tracegroupgap": 0
        },
        "template": {
         "data": {
          "bar": [
           {
            "error_x": {
             "color": "#2a3f5f"
            },
            "error_y": {
             "color": "#2a3f5f"
            },
            "marker": {
             "line": {
              "color": "#E5ECF6",
              "width": 0.5
             },
             "pattern": {
              "fillmode": "overlay",
              "size": 10,
              "solidity": 0.2
             }
            },
            "type": "bar"
           }
          ],
          "barpolar": [
           {
            "marker": {
             "line": {
              "color": "#E5ECF6",
              "width": 0.5
             },
             "pattern": {
              "fillmode": "overlay",
              "size": 10,
              "solidity": 0.2
             }
            },
            "type": "barpolar"
           }
          ],
          "carpet": [
           {
            "aaxis": {
             "endlinecolor": "#2a3f5f",
             "gridcolor": "white",
             "linecolor": "white",
             "minorgridcolor": "white",
             "startlinecolor": "#2a3f5f"
            },
            "baxis": {
             "endlinecolor": "#2a3f5f",
             "gridcolor": "white",
             "linecolor": "white",
             "minorgridcolor": "white",
             "startlinecolor": "#2a3f5f"
            },
            "type": "carpet"
           }
          ],
          "choropleth": [
           {
            "colorbar": {
             "outlinewidth": 0,
             "ticks": ""
            },
            "type": "choropleth"
           }
          ],
          "contour": [
           {
            "colorbar": {
             "outlinewidth": 0,
             "ticks": ""
            },
            "colorscale": [
             [
              0,
              "#0d0887"
             ],
             [
              0.1111111111111111,
              "#46039f"
             ],
             [
              0.2222222222222222,
              "#7201a8"
             ],
             [
              0.3333333333333333,
              "#9c179e"
             ],
             [
              0.4444444444444444,
              "#bd3786"
             ],
             [
              0.5555555555555556,
              "#d8576b"
             ],
             [
              0.6666666666666666,
              "#ed7953"
             ],
             [
              0.7777777777777778,
              "#fb9f3a"
             ],
             [
              0.8888888888888888,
              "#fdca26"
             ],
             [
              1,
              "#f0f921"
             ]
            ],
            "type": "contour"
           }
          ],
          "contourcarpet": [
           {
            "colorbar": {
             "outlinewidth": 0,
             "ticks": ""
            },
            "type": "contourcarpet"
           }
          ],
          "heatmap": [
           {
            "colorbar": {
             "outlinewidth": 0,
             "ticks": ""
            },
            "colorscale": [
             [
              0,
              "#0d0887"
             ],
             [
              0.1111111111111111,
              "#46039f"
             ],
             [
              0.2222222222222222,
              "#7201a8"
             ],
             [
              0.3333333333333333,
              "#9c179e"
             ],
             [
              0.4444444444444444,
              "#bd3786"
             ],
             [
              0.5555555555555556,
              "#d8576b"
             ],
             [
              0.6666666666666666,
              "#ed7953"
             ],
             [
              0.7777777777777778,
              "#fb9f3a"
             ],
             [
              0.8888888888888888,
              "#fdca26"
             ],
             [
              1,
              "#f0f921"
             ]
            ],
            "type": "heatmap"
           }
          ],
          "heatmapgl": [
           {
            "colorbar": {
             "outlinewidth": 0,
             "ticks": ""
            },
            "colorscale": [
             [
              0,
              "#0d0887"
             ],
             [
              0.1111111111111111,
              "#46039f"
             ],
             [
              0.2222222222222222,
              "#7201a8"
             ],
             [
              0.3333333333333333,
              "#9c179e"
             ],
             [
              0.4444444444444444,
              "#bd3786"
             ],
             [
              0.5555555555555556,
              "#d8576b"
             ],
             [
              0.6666666666666666,
              "#ed7953"
             ],
             [
              0.7777777777777778,
              "#fb9f3a"
             ],
             [
              0.8888888888888888,
              "#fdca26"
             ],
             [
              1,
              "#f0f921"
             ]
            ],
            "type": "heatmapgl"
           }
          ],
          "histogram": [
           {
            "marker": {
             "pattern": {
              "fillmode": "overlay",
              "size": 10,
              "solidity": 0.2
             }
            },
            "type": "histogram"
           }
          ],
          "histogram2d": [
           {
            "colorbar": {
             "outlinewidth": 0,
             "ticks": ""
            },
            "colorscale": [
             [
              0,
              "#0d0887"
             ],
             [
              0.1111111111111111,
              "#46039f"
             ],
             [
              0.2222222222222222,
              "#7201a8"
             ],
             [
              0.3333333333333333,
              "#9c179e"
             ],
             [
              0.4444444444444444,
              "#bd3786"
             ],
             [
              0.5555555555555556,
              "#d8576b"
             ],
             [
              0.6666666666666666,
              "#ed7953"
             ],
             [
              0.7777777777777778,
              "#fb9f3a"
             ],
             [
              0.8888888888888888,
              "#fdca26"
             ],
             [
              1,
              "#f0f921"
             ]
            ],
            "type": "histogram2d"
           }
          ],
          "histogram2dcontour": [
           {
            "colorbar": {
             "outlinewidth": 0,
             "ticks": ""
            },
            "colorscale": [
             [
              0,
              "#0d0887"
             ],
             [
              0.1111111111111111,
              "#46039f"
             ],
             [
              0.2222222222222222,
              "#7201a8"
             ],
             [
              0.3333333333333333,
              "#9c179e"
             ],
             [
              0.4444444444444444,
              "#bd3786"
             ],
             [
              0.5555555555555556,
              "#d8576b"
             ],
             [
              0.6666666666666666,
              "#ed7953"
             ],
             [
              0.7777777777777778,
              "#fb9f3a"
             ],
             [
              0.8888888888888888,
              "#fdca26"
             ],
             [
              1,
              "#f0f921"
             ]
            ],
            "type": "histogram2dcontour"
           }
          ],
          "mesh3d": [
           {
            "colorbar": {
             "outlinewidth": 0,
             "ticks": ""
            },
            "type": "mesh3d"
           }
          ],
          "parcoords": [
           {
            "line": {
             "colorbar": {
              "outlinewidth": 0,
              "ticks": ""
             }
            },
            "type": "parcoords"
           }
          ],
          "pie": [
           {
            "automargin": true,
            "type": "pie"
           }
          ],
          "scatter": [
           {
            "fillpattern": {
             "fillmode": "overlay",
             "size": 10,
             "solidity": 0.2
            },
            "type": "scatter"
           }
          ],
          "scatter3d": [
           {
            "line": {
             "colorbar": {
              "outlinewidth": 0,
              "ticks": ""
             }
            },
            "marker": {
             "colorbar": {
              "outlinewidth": 0,
              "ticks": ""
             }
            },
            "type": "scatter3d"
           }
          ],
          "scattercarpet": [
           {
            "marker": {
             "colorbar": {
              "outlinewidth": 0,
              "ticks": ""
             }
            },
            "type": "scattercarpet"
           }
          ],
          "scattergeo": [
           {
            "marker": {
             "colorbar": {
              "outlinewidth": 0,
              "ticks": ""
             }
            },
            "type": "scattergeo"
           }
          ],
          "scattergl": [
           {
            "marker": {
             "colorbar": {
              "outlinewidth": 0,
              "ticks": ""
             }
            },
            "type": "scattergl"
           }
          ],
          "scattermapbox": [
           {
            "marker": {
             "colorbar": {
              "outlinewidth": 0,
              "ticks": ""
             }
            },
            "type": "scattermapbox"
           }
          ],
          "scatterpolar": [
           {
            "marker": {
             "colorbar": {
              "outlinewidth": 0,
              "ticks": ""
             }
            },
            "type": "scatterpolar"
           }
          ],
          "scatterpolargl": [
           {
            "marker": {
             "colorbar": {
              "outlinewidth": 0,
              "ticks": ""
             }
            },
            "type": "scatterpolargl"
           }
          ],
          "scatterternary": [
           {
            "marker": {
             "colorbar": {
              "outlinewidth": 0,
              "ticks": ""
             }
            },
            "type": "scatterternary"
           }
          ],
          "surface": [
           {
            "colorbar": {
             "outlinewidth": 0,
             "ticks": ""
            },
            "colorscale": [
             [
              0,
              "#0d0887"
             ],
             [
              0.1111111111111111,
              "#46039f"
             ],
             [
              0.2222222222222222,
              "#7201a8"
             ],
             [
              0.3333333333333333,
              "#9c179e"
             ],
             [
              0.4444444444444444,
              "#bd3786"
             ],
             [
              0.5555555555555556,
              "#d8576b"
             ],
             [
              0.6666666666666666,
              "#ed7953"
             ],
             [
              0.7777777777777778,
              "#fb9f3a"
             ],
             [
              0.8888888888888888,
              "#fdca26"
             ],
             [
              1,
              "#f0f921"
             ]
            ],
            "type": "surface"
           }
          ],
          "table": [
           {
            "cells": {
             "fill": {
              "color": "#EBF0F8"
             },
             "line": {
              "color": "white"
             }
            },
            "header": {
             "fill": {
              "color": "#C8D4E3"
             },
             "line": {
              "color": "white"
             }
            },
            "type": "table"
           }
          ]
         },
         "layout": {
          "annotationdefaults": {
           "arrowcolor": "#2a3f5f",
           "arrowhead": 0,
           "arrowwidth": 1
          },
          "autotypenumbers": "strict",
          "coloraxis": {
           "colorbar": {
            "outlinewidth": 0,
            "ticks": ""
           }
          },
          "colorscale": {
           "diverging": [
            [
             0,
             "#8e0152"
            ],
            [
             0.1,
             "#c51b7d"
            ],
            [
             0.2,
             "#de77ae"
            ],
            [
             0.3,
             "#f1b6da"
            ],
            [
             0.4,
             "#fde0ef"
            ],
            [
             0.5,
             "#f7f7f7"
            ],
            [
             0.6,
             "#e6f5d0"
            ],
            [
             0.7,
             "#b8e186"
            ],
            [
             0.8,
             "#7fbc41"
            ],
            [
             0.9,
             "#4d9221"
            ],
            [
             1,
             "#276419"
            ]
           ],
           "sequential": [
            [
             0,
             "#0d0887"
            ],
            [
             0.1111111111111111,
             "#46039f"
            ],
            [
             0.2222222222222222,
             "#7201a8"
            ],
            [
             0.3333333333333333,
             "#9c179e"
            ],
            [
             0.4444444444444444,
             "#bd3786"
            ],
            [
             0.5555555555555556,
             "#d8576b"
            ],
            [
             0.6666666666666666,
             "#ed7953"
            ],
            [
             0.7777777777777778,
             "#fb9f3a"
            ],
            [
             0.8888888888888888,
             "#fdca26"
            ],
            [
             1,
             "#f0f921"
            ]
           ],
           "sequentialminus": [
            [
             0,
             "#0d0887"
            ],
            [
             0.1111111111111111,
             "#46039f"
            ],
            [
             0.2222222222222222,
             "#7201a8"
            ],
            [
             0.3333333333333333,
             "#9c179e"
            ],
            [
             0.4444444444444444,
             "#bd3786"
            ],
            [
             0.5555555555555556,
             "#d8576b"
            ],
            [
             0.6666666666666666,
             "#ed7953"
            ],
            [
             0.7777777777777778,
             "#fb9f3a"
            ],
            [
             0.8888888888888888,
             "#fdca26"
            ],
            [
             1,
             "#f0f921"
            ]
           ]
          },
          "colorway": [
           "#636efa",
           "#EF553B",
           "#00cc96",
           "#ab63fa",
           "#FFA15A",
           "#19d3f3",
           "#FF6692",
           "#B6E880",
           "#FF97FF",
           "#FECB52"
          ],
          "font": {
           "color": "#2a3f5f"
          },
          "geo": {
           "bgcolor": "white",
           "lakecolor": "white",
           "landcolor": "#E5ECF6",
           "showlakes": true,
           "showland": true,
           "subunitcolor": "white"
          },
          "hoverlabel": {
           "align": "left"
          },
          "hovermode": "closest",
          "mapbox": {
           "style": "light"
          },
          "paper_bgcolor": "white",
          "plot_bgcolor": "#E5ECF6",
          "polar": {
           "angularaxis": {
            "gridcolor": "white",
            "linecolor": "white",
            "ticks": ""
           },
           "bgcolor": "#E5ECF6",
           "radialaxis": {
            "gridcolor": "white",
            "linecolor": "white",
            "ticks": ""
           }
          },
          "scene": {
           "xaxis": {
            "backgroundcolor": "#E5ECF6",
            "gridcolor": "white",
            "gridwidth": 2,
            "linecolor": "white",
            "showbackground": true,
            "ticks": "",
            "zerolinecolor": "white"
           },
           "yaxis": {
            "backgroundcolor": "#E5ECF6",
            "gridcolor": "white",
            "gridwidth": 2,
            "linecolor": "white",
            "showbackground": true,
            "ticks": "",
            "zerolinecolor": "white"
           },
           "zaxis": {
            "backgroundcolor": "#E5ECF6",
            "gridcolor": "white",
            "gridwidth": 2,
            "linecolor": "white",
            "showbackground": true,
            "ticks": "",
            "zerolinecolor": "white"
           }
          },
          "shapedefaults": {
           "line": {
            "color": "#2a3f5f"
           }
          },
          "ternary": {
           "aaxis": {
            "gridcolor": "white",
            "linecolor": "white",
            "ticks": ""
           },
           "baxis": {
            "gridcolor": "white",
            "linecolor": "white",
            "ticks": ""
           },
           "bgcolor": "#E5ECF6",
           "caxis": {
            "gridcolor": "white",
            "linecolor": "white",
            "ticks": ""
           }
          },
          "title": {
           "x": 0.05
          },
          "xaxis": {
           "automargin": true,
           "gridcolor": "white",
           "linecolor": "white",
           "ticks": "",
           "title": {
            "standoff": 15
           },
           "zerolinecolor": "white",
           "zerolinewidth": 2
          },
          "yaxis": {
           "automargin": true,
           "gridcolor": "white",
           "linecolor": "white",
           "ticks": "",
           "title": {
            "standoff": 15
           },
           "zerolinecolor": "white",
           "zerolinewidth": 2
          }
         }
        },
        "title": {
         "text": "Top 10 Domestic Consumers of Coffee by Country",
         "x": 0.5
        },
        "width": 800,
        "xaxis": {
         "anchor": "y",
         "categoryarray": [
          "Brazil",
          "Indonesia",
          "Ethiopia",
          "Mexico",
          "Philippines",
          "Colombia",
          "Venezuela",
          "India",
          "Viet Nam",
          "Thailand"
         ],
         "categoryorder": "array",
         "domain": [
          0,
          1
         ],
         "title": {
          "text": "Country"
         }
        },
        "yaxis": {
         "anchor": "x",
         "domain": [
          0,
          1
         ],
         "title": {
          "text": "Total Domestic Consumption"
         }
        }
       }
      },
      "text/html": [
       "<div>                            <div id=\"7de89d57-486f-4133-a8e1-d4af8ade30b3\" class=\"plotly-graph-div\" style=\"height:600px; width:800px;\"></div>            <script type=\"text/javascript\">                require([\"plotly\"], function(Plotly) {                    window.PLOTLYENV=window.PLOTLYENV || {};                                    if (document.getElementById(\"7de89d57-486f-4133-a8e1-d4af8ade30b3\")) {                    Plotly.newPlot(                        \"7de89d57-486f-4133-a8e1-d4af8ade30b3\",                        [{\"alignmentgroup\":\"True\",\"hovertemplate\":\"Country=%{x}<br>Total Domestic Consumption=%{y}<extra></extra>\",\"legendgroup\":\"Brazil\",\"marker\":{\"color\":\"rgb(136, 204, 238)\",\"pattern\":{\"shape\":\"\"}},\"name\":\"Brazil\",\"offsetgroup\":\"Brazil\",\"orientation\":\"v\",\"showlegend\":true,\"textposition\":\"auto\",\"x\":[\"Brazil\"],\"xaxis\":\"x\",\"y\":[27824700000],\"yaxis\":\"y\",\"type\":\"bar\"},{\"alignmentgroup\":\"True\",\"hovertemplate\":\"Country=%{x}<br>Total Domestic Consumption=%{y}<extra></extra>\",\"legendgroup\":\"Indonesia\",\"marker\":{\"color\":\"rgb(204, 102, 119)\",\"pattern\":{\"shape\":\"\"}},\"name\":\"Indonesia\",\"offsetgroup\":\"Indonesia\",\"orientation\":\"v\",\"showlegend\":true,\"textposition\":\"auto\",\"x\":[\"Indonesia\"],\"xaxis\":\"x\",\"y\":[4920480000],\"yaxis\":\"y\",\"type\":\"bar\"},{\"alignmentgroup\":\"True\",\"hovertemplate\":\"Country=%{x}<br>Total Domestic Consumption=%{y}<extra></extra>\",\"legendgroup\":\"Ethiopia\",\"marker\":{\"color\":\"rgb(221, 204, 119)\",\"pattern\":{\"shape\":\"\"}},\"name\":\"Ethiopia\",\"offsetgroup\":\"Ethiopia\",\"orientation\":\"v\",\"showlegend\":true,\"textposition\":\"auto\",\"x\":[\"Ethiopia\"],\"xaxis\":\"x\",\"y\":[4536540000],\"yaxis\":\"y\",\"type\":\"bar\"},{\"alignmentgroup\":\"True\",\"hovertemplate\":\"Country=%{x}<br>Total Domestic Consumption=%{y}<extra></extra>\",\"legendgroup\":\"Mexico\",\"marker\":{\"color\":\"rgb(17, 119, 51)\",\"pattern\":{\"shape\":\"\"}},\"name\":\"Mexico\",\"offsetgroup\":\"Mexico\",\"orientation\":\"v\",\"showlegend\":true,\"textposition\":\"auto\",\"x\":[\"Mexico\"],\"xaxis\":\"x\",\"y\":[3189660000],\"yaxis\":\"y\",\"type\":\"bar\"},{\"alignmentgroup\":\"True\",\"hovertemplate\":\"Country=%{x}<br>Total Domestic Consumption=%{y}<extra></extra>\",\"legendgroup\":\"Philippines\",\"marker\":{\"color\":\"rgb(51, 34, 136)\",\"pattern\":{\"shape\":\"\"}},\"name\":\"Philippines\",\"offsetgroup\":\"Philippines\",\"orientation\":\"v\",\"showlegend\":true,\"textposition\":\"auto\",\"x\":[\"Philippines\"],\"xaxis\":\"x\",\"y\":[2807280000],\"yaxis\":\"y\",\"type\":\"bar\"},{\"alignmentgroup\":\"True\",\"hovertemplate\":\"Country=%{x}<br>Total Domestic Consumption=%{y}<extra></extra>\",\"legendgroup\":\"Colombia\",\"marker\":{\"color\":\"rgb(170, 68, 153)\",\"pattern\":{\"shape\":\"\"}},\"name\":\"Colombia\",\"offsetgroup\":\"Colombia\",\"orientation\":\"v\",\"showlegend\":true,\"textposition\":\"auto\",\"x\":[\"Colombia\"],\"xaxis\":\"x\",\"y\":[2536776384],\"yaxis\":\"y\",\"type\":\"bar\"},{\"alignmentgroup\":\"True\",\"hovertemplate\":\"Country=%{x}<br>Total Domestic Consumption=%{y}<extra></extra>\",\"legendgroup\":\"Venezuela\",\"marker\":{\"color\":\"rgb(68, 170, 153)\",\"pattern\":{\"shape\":\"\"}},\"name\":\"Venezuela\",\"offsetgroup\":\"Venezuela\",\"orientation\":\"v\",\"showlegend\":true,\"textposition\":\"auto\",\"x\":[\"Venezuela\"],\"xaxis\":\"x\",\"y\":[2386067999],\"yaxis\":\"y\",\"type\":\"bar\"},{\"alignmentgroup\":\"True\",\"hovertemplate\":\"Country=%{x}<br>Total Domestic Consumption=%{y}<extra></extra>\",\"legendgroup\":\"India\",\"marker\":{\"color\":\"rgb(153, 153, 51)\",\"pattern\":{\"shape\":\"\"}},\"name\":\"India\",\"offsetgroup\":\"India\",\"orientation\":\"v\",\"showlegend\":true,\"textposition\":\"auto\",\"x\":[\"India\"],\"xaxis\":\"x\",\"y\":[2093460000],\"yaxis\":\"y\",\"type\":\"bar\"},{\"alignmentgroup\":\"True\",\"hovertemplate\":\"Country=%{x}<br>Total Domestic Consumption=%{y}<extra></extra>\",\"legendgroup\":\"Viet Nam\",\"marker\":{\"color\":\"rgb(136, 34, 85)\",\"pattern\":{\"shape\":\"\"}},\"name\":\"Viet Nam\",\"offsetgroup\":\"Viet Nam\",\"orientation\":\"v\",\"showlegend\":true,\"textposition\":\"auto\",\"x\":[\"Viet Nam\"],\"xaxis\":\"x\",\"y\":[1920928320],\"yaxis\":\"y\",\"type\":\"bar\"},{\"alignmentgroup\":\"True\",\"hovertemplate\":\"Country=%{x}<br>Total Domestic Consumption=%{y}<extra></extra>\",\"legendgroup\":\"Thailand\",\"marker\":{\"color\":\"rgb(102, 17, 0)\",\"pattern\":{\"shape\":\"\"}},\"name\":\"Thailand\",\"offsetgroup\":\"Thailand\",\"orientation\":\"v\",\"showlegend\":true,\"textposition\":\"auto\",\"x\":[\"Thailand\"],\"xaxis\":\"x\",\"y\":[1248600000],\"yaxis\":\"y\",\"type\":\"bar\"}],                        {\"template\":{\"data\":{\"histogram2dcontour\":[{\"type\":\"histogram2dcontour\",\"colorbar\":{\"outlinewidth\":0,\"ticks\":\"\"},\"colorscale\":[[0.0,\"#0d0887\"],[0.1111111111111111,\"#46039f\"],[0.2222222222222222,\"#7201a8\"],[0.3333333333333333,\"#9c179e\"],[0.4444444444444444,\"#bd3786\"],[0.5555555555555556,\"#d8576b\"],[0.6666666666666666,\"#ed7953\"],[0.7777777777777778,\"#fb9f3a\"],[0.8888888888888888,\"#fdca26\"],[1.0,\"#f0f921\"]]}],\"choropleth\":[{\"type\":\"choropleth\",\"colorbar\":{\"outlinewidth\":0,\"ticks\":\"\"}}],\"histogram2d\":[{\"type\":\"histogram2d\",\"colorbar\":{\"outlinewidth\":0,\"ticks\":\"\"},\"colorscale\":[[0.0,\"#0d0887\"],[0.1111111111111111,\"#46039f\"],[0.2222222222222222,\"#7201a8\"],[0.3333333333333333,\"#9c179e\"],[0.4444444444444444,\"#bd3786\"],[0.5555555555555556,\"#d8576b\"],[0.6666666666666666,\"#ed7953\"],[0.7777777777777778,\"#fb9f3a\"],[0.8888888888888888,\"#fdca26\"],[1.0,\"#f0f921\"]]}],\"heatmap\":[{\"type\":\"heatmap\",\"colorbar\":{\"outlinewidth\":0,\"ticks\":\"\"},\"colorscale\":[[0.0,\"#0d0887\"],[0.1111111111111111,\"#46039f\"],[0.2222222222222222,\"#7201a8\"],[0.3333333333333333,\"#9c179e\"],[0.4444444444444444,\"#bd3786\"],[0.5555555555555556,\"#d8576b\"],[0.6666666666666666,\"#ed7953\"],[0.7777777777777778,\"#fb9f3a\"],[0.8888888888888888,\"#fdca26\"],[1.0,\"#f0f921\"]]}],\"heatmapgl\":[{\"type\":\"heatmapgl\",\"colorbar\":{\"outlinewidth\":0,\"ticks\":\"\"},\"colorscale\":[[0.0,\"#0d0887\"],[0.1111111111111111,\"#46039f\"],[0.2222222222222222,\"#7201a8\"],[0.3333333333333333,\"#9c179e\"],[0.4444444444444444,\"#bd3786\"],[0.5555555555555556,\"#d8576b\"],[0.6666666666666666,\"#ed7953\"],[0.7777777777777778,\"#fb9f3a\"],[0.8888888888888888,\"#fdca26\"],[1.0,\"#f0f921\"]]}],\"contourcarpet\":[{\"type\":\"contourcarpet\",\"colorbar\":{\"outlinewidth\":0,\"ticks\":\"\"}}],\"contour\":[{\"type\":\"contour\",\"colorbar\":{\"outlinewidth\":0,\"ticks\":\"\"},\"colorscale\":[[0.0,\"#0d0887\"],[0.1111111111111111,\"#46039f\"],[0.2222222222222222,\"#7201a8\"],[0.3333333333333333,\"#9c179e\"],[0.4444444444444444,\"#bd3786\"],[0.5555555555555556,\"#d8576b\"],[0.6666666666666666,\"#ed7953\"],[0.7777777777777778,\"#fb9f3a\"],[0.8888888888888888,\"#fdca26\"],[1.0,\"#f0f921\"]]}],\"surface\":[{\"type\":\"surface\",\"colorbar\":{\"outlinewidth\":0,\"ticks\":\"\"},\"colorscale\":[[0.0,\"#0d0887\"],[0.1111111111111111,\"#46039f\"],[0.2222222222222222,\"#7201a8\"],[0.3333333333333333,\"#9c179e\"],[0.4444444444444444,\"#bd3786\"],[0.5555555555555556,\"#d8576b\"],[0.6666666666666666,\"#ed7953\"],[0.7777777777777778,\"#fb9f3a\"],[0.8888888888888888,\"#fdca26\"],[1.0,\"#f0f921\"]]}],\"mesh3d\":[{\"type\":\"mesh3d\",\"colorbar\":{\"outlinewidth\":0,\"ticks\":\"\"}}],\"scatter\":[{\"fillpattern\":{\"fillmode\":\"overlay\",\"size\":10,\"solidity\":0.2},\"type\":\"scatter\"}],\"parcoords\":[{\"type\":\"parcoords\",\"line\":{\"colorbar\":{\"outlinewidth\":0,\"ticks\":\"\"}}}],\"scatterpolargl\":[{\"type\":\"scatterpolargl\",\"marker\":{\"colorbar\":{\"outlinewidth\":0,\"ticks\":\"\"}}}],\"bar\":[{\"error_x\":{\"color\":\"#2a3f5f\"},\"error_y\":{\"color\":\"#2a3f5f\"},\"marker\":{\"line\":{\"color\":\"#E5ECF6\",\"width\":0.5},\"pattern\":{\"fillmode\":\"overlay\",\"size\":10,\"solidity\":0.2}},\"type\":\"bar\"}],\"scattergeo\":[{\"type\":\"scattergeo\",\"marker\":{\"colorbar\":{\"outlinewidth\":0,\"ticks\":\"\"}}}],\"scatterpolar\":[{\"type\":\"scatterpolar\",\"marker\":{\"colorbar\":{\"outlinewidth\":0,\"ticks\":\"\"}}}],\"histogram\":[{\"marker\":{\"pattern\":{\"fillmode\":\"overlay\",\"size\":10,\"solidity\":0.2}},\"type\":\"histogram\"}],\"scattergl\":[{\"type\":\"scattergl\",\"marker\":{\"colorbar\":{\"outlinewidth\":0,\"ticks\":\"\"}}}],\"scatter3d\":[{\"type\":\"scatter3d\",\"line\":{\"colorbar\":{\"outlinewidth\":0,\"ticks\":\"\"}},\"marker\":{\"colorbar\":{\"outlinewidth\":0,\"ticks\":\"\"}}}],\"scattermapbox\":[{\"type\":\"scattermapbox\",\"marker\":{\"colorbar\":{\"outlinewidth\":0,\"ticks\":\"\"}}}],\"scatterternary\":[{\"type\":\"scatterternary\",\"marker\":{\"colorbar\":{\"outlinewidth\":0,\"ticks\":\"\"}}}],\"scattercarpet\":[{\"type\":\"scattercarpet\",\"marker\":{\"colorbar\":{\"outlinewidth\":0,\"ticks\":\"\"}}}],\"carpet\":[{\"aaxis\":{\"endlinecolor\":\"#2a3f5f\",\"gridcolor\":\"white\",\"linecolor\":\"white\",\"minorgridcolor\":\"white\",\"startlinecolor\":\"#2a3f5f\"},\"baxis\":{\"endlinecolor\":\"#2a3f5f\",\"gridcolor\":\"white\",\"linecolor\":\"white\",\"minorgridcolor\":\"white\",\"startlinecolor\":\"#2a3f5f\"},\"type\":\"carpet\"}],\"table\":[{\"cells\":{\"fill\":{\"color\":\"#EBF0F8\"},\"line\":{\"color\":\"white\"}},\"header\":{\"fill\":{\"color\":\"#C8D4E3\"},\"line\":{\"color\":\"white\"}},\"type\":\"table\"}],\"barpolar\":[{\"marker\":{\"line\":{\"color\":\"#E5ECF6\",\"width\":0.5},\"pattern\":{\"fillmode\":\"overlay\",\"size\":10,\"solidity\":0.2}},\"type\":\"barpolar\"}],\"pie\":[{\"automargin\":true,\"type\":\"pie\"}]},\"layout\":{\"autotypenumbers\":\"strict\",\"colorway\":[\"#636efa\",\"#EF553B\",\"#00cc96\",\"#ab63fa\",\"#FFA15A\",\"#19d3f3\",\"#FF6692\",\"#B6E880\",\"#FF97FF\",\"#FECB52\"],\"font\":{\"color\":\"#2a3f5f\"},\"hovermode\":\"closest\",\"hoverlabel\":{\"align\":\"left\"},\"paper_bgcolor\":\"white\",\"plot_bgcolor\":\"#E5ECF6\",\"polar\":{\"bgcolor\":\"#E5ECF6\",\"angularaxis\":{\"gridcolor\":\"white\",\"linecolor\":\"white\",\"ticks\":\"\"},\"radialaxis\":{\"gridcolor\":\"white\",\"linecolor\":\"white\",\"ticks\":\"\"}},\"ternary\":{\"bgcolor\":\"#E5ECF6\",\"aaxis\":{\"gridcolor\":\"white\",\"linecolor\":\"white\",\"ticks\":\"\"},\"baxis\":{\"gridcolor\":\"white\",\"linecolor\":\"white\",\"ticks\":\"\"},\"caxis\":{\"gridcolor\":\"white\",\"linecolor\":\"white\",\"ticks\":\"\"}},\"coloraxis\":{\"colorbar\":{\"outlinewidth\":0,\"ticks\":\"\"}},\"colorscale\":{\"sequential\":[[0.0,\"#0d0887\"],[0.1111111111111111,\"#46039f\"],[0.2222222222222222,\"#7201a8\"],[0.3333333333333333,\"#9c179e\"],[0.4444444444444444,\"#bd3786\"],[0.5555555555555556,\"#d8576b\"],[0.6666666666666666,\"#ed7953\"],[0.7777777777777778,\"#fb9f3a\"],[0.8888888888888888,\"#fdca26\"],[1.0,\"#f0f921\"]],\"sequentialminus\":[[0.0,\"#0d0887\"],[0.1111111111111111,\"#46039f\"],[0.2222222222222222,\"#7201a8\"],[0.3333333333333333,\"#9c179e\"],[0.4444444444444444,\"#bd3786\"],[0.5555555555555556,\"#d8576b\"],[0.6666666666666666,\"#ed7953\"],[0.7777777777777778,\"#fb9f3a\"],[0.8888888888888888,\"#fdca26\"],[1.0,\"#f0f921\"]],\"diverging\":[[0,\"#8e0152\"],[0.1,\"#c51b7d\"],[0.2,\"#de77ae\"],[0.3,\"#f1b6da\"],[0.4,\"#fde0ef\"],[0.5,\"#f7f7f7\"],[0.6,\"#e6f5d0\"],[0.7,\"#b8e186\"],[0.8,\"#7fbc41\"],[0.9,\"#4d9221\"],[1,\"#276419\"]]},\"xaxis\":{\"gridcolor\":\"white\",\"linecolor\":\"white\",\"ticks\":\"\",\"title\":{\"standoff\":15},\"zerolinecolor\":\"white\",\"automargin\":true,\"zerolinewidth\":2},\"yaxis\":{\"gridcolor\":\"white\",\"linecolor\":\"white\",\"ticks\":\"\",\"title\":{\"standoff\":15},\"zerolinecolor\":\"white\",\"automargin\":true,\"zerolinewidth\":2},\"scene\":{\"xaxis\":{\"backgroundcolor\":\"#E5ECF6\",\"gridcolor\":\"white\",\"linecolor\":\"white\",\"showbackground\":true,\"ticks\":\"\",\"zerolinecolor\":\"white\",\"gridwidth\":2},\"yaxis\":{\"backgroundcolor\":\"#E5ECF6\",\"gridcolor\":\"white\",\"linecolor\":\"white\",\"showbackground\":true,\"ticks\":\"\",\"zerolinecolor\":\"white\",\"gridwidth\":2},\"zaxis\":{\"backgroundcolor\":\"#E5ECF6\",\"gridcolor\":\"white\",\"linecolor\":\"white\",\"showbackground\":true,\"ticks\":\"\",\"zerolinecolor\":\"white\",\"gridwidth\":2}},\"shapedefaults\":{\"line\":{\"color\":\"#2a3f5f\"}},\"annotationdefaults\":{\"arrowcolor\":\"#2a3f5f\",\"arrowhead\":0,\"arrowwidth\":1},\"geo\":{\"bgcolor\":\"white\",\"landcolor\":\"#E5ECF6\",\"subunitcolor\":\"white\",\"showland\":true,\"showlakes\":true,\"lakecolor\":\"white\"},\"title\":{\"x\":0.05},\"mapbox\":{\"style\":\"light\"}}},\"xaxis\":{\"anchor\":\"y\",\"domain\":[0.0,1.0],\"title\":{\"text\":\"Country\"},\"categoryorder\":\"array\",\"categoryarray\":[\"Brazil\",\"Indonesia\",\"Ethiopia\",\"Mexico\",\"Philippines\",\"Colombia\",\"Venezuela\",\"India\",\"Viet Nam\",\"Thailand\"]},\"yaxis\":{\"anchor\":\"x\",\"domain\":[0.0,1.0],\"title\":{\"text\":\"Total Domestic Consumption\"}},\"legend\":{\"title\":{\"text\":\"Country\"},\"tracegroupgap\":0},\"title\":{\"text\":\"Top 10 Domestic Consumers of Coffee by Country\",\"x\":0.5},\"barmode\":\"relative\",\"height\":600,\"width\":800},                        {\"responsive\": true}                    ).then(function(){\n",
       "                            \n",
       "var gd = document.getElementById('7de89d57-486f-4133-a8e1-d4af8ade30b3');\n",
       "var x = new MutationObserver(function (mutations, observer) {{\n",
       "        var display = window.getComputedStyle(gd).display;\n",
       "        if (!display || display === 'none') {{\n",
       "            console.log([gd, 'removed!']);\n",
       "            Plotly.purge(gd);\n",
       "            observer.disconnect();\n",
       "        }}\n",
       "}});\n",
       "\n",
       "// Listen for the removal of the full notebook cells\n",
       "var notebookContainer = gd.closest('#notebook-container');\n",
       "if (notebookContainer) {{\n",
       "    x.observe(notebookContainer, {childList: true});\n",
       "}}\n",
       "\n",
       "// Listen for the clearing of the current output cell\n",
       "var outputEl = gd.closest('.output');\n",
       "if (outputEl) {{\n",
       "    x.observe(outputEl, {childList: true});\n",
       "}}\n",
       "\n",
       "                        })                };                });            </script>        </div>"
      ]
     },
     "metadata": {},
     "output_type": "display_data"
    }
   ],
   "source": [
    "# Lets graph the countries with the most domestic consumption\n",
    "\n",
    "fig1 = px.bar(top_dom_consumption_countries, x = 'country', y = 'total_domestic_consumption', color = 'country',\n",
    "                color_discrete_sequence = px.colors.qualitative.Safe, labels = {\"country\": \"Country\",\n",
    "                \"total_domestic_consumption\": \"Total Domestic Consumption\"},\n",
    "                title=\"Top 10 Domestic Consumers of Coffee by Country\", width=800, height=600)\n",
    "\n",
    "fig1.update_layout(title_x=0.5)\n",
    "fig1.show()"
   ]
  },
  {
   "cell_type": "code",
   "execution_count": 52,
   "id": "ab7343ac",
   "metadata": {},
   "outputs": [
    {
     "data": {
      "text/plain": [
       "Arabica            22\n",
       "Robusta            15\n",
       "Robusta/Arabica    10\n",
       "Arabica/Robusta     8\n",
       "Name: coffee_type, dtype: int64"
      ]
     },
     "execution_count": 52,
     "metadata": {},
     "output_type": "execute_result"
    }
   ],
   "source": [
    "# Lets inspect coffee type\n",
    "\n",
    "dom_con_coffee_type = coffee_domestic_consumption_0['coffee_type'].value_counts()\n",
    "dom_con_coffee_type\n"
   ]
  },
  {
   "cell_type": "code",
   "execution_count": 63,
   "id": "d37873a5",
   "metadata": {},
   "outputs": [
    {
     "data": {
      "application/vnd.plotly.v1+json": {
       "config": {
        "plotlyServerURL": "https://plot.ly"
       },
       "data": [
        {
         "alignmentgroup": "True",
         "hovertemplate": "coffee_type=Arabica/Robusta<br>Country=%{x}<br>Total Domestic Consumption=%{y}<extra></extra>",
         "legendgroup": "Arabica/Robusta",
         "marker": {
          "color": "rgb(136, 204, 238)",
          "pattern": {
           "shape": ""
          }
         },
         "name": "Arabica/Robusta",
         "offsetgroup": "Arabica/Robusta",
         "orientation": "v",
         "showlegend": true,
         "textposition": "auto",
         "type": "bar",
         "x": [
          "Brazil",
          "Mexico",
          "Dominican Republic",
          "Guatemala"
         ],
         "xaxis": "x",
         "y": [
          27824700000,
          3189660000,
          642823380,
          590880000
         ],
         "yaxis": "y"
        },
        {
         "alignmentgroup": "True",
         "hovertemplate": "coffee_type=Robusta/Arabica<br>Country=%{x}<br>Total Domestic Consumption=%{y}<extra></extra>",
         "legendgroup": "Robusta/Arabica",
         "marker": {
          "color": "rgb(204, 102, 119)",
          "pattern": {
           "shape": ""
          }
         },
         "name": "Robusta/Arabica",
         "offsetgroup": "Robusta/Arabica",
         "orientation": "v",
         "showlegend": true,
         "textposition": "auto",
         "type": "bar",
         "x": [
          "Indonesia",
          "Philippines",
          "India",
          "Viet Nam",
          "Thailand"
         ],
         "xaxis": "x",
         "y": [
          4920480000,
          2807280000,
          2093460000,
          1920928320,
          1248600000
         ],
         "yaxis": "y"
        },
        {
         "alignmentgroup": "True",
         "hovertemplate": "coffee_type=Arabica<br>Country=%{x}<br>Total Domestic Consumption=%{y}<extra></extra>",
         "legendgroup": "Arabica",
         "marker": {
          "color": "rgb(221, 204, 119)",
          "pattern": {
           "shape": ""
          }
         },
         "name": "Arabica",
         "offsetgroup": "Arabica",
         "orientation": "v",
         "showlegend": true,
         "textposition": "auto",
         "type": "bar",
         "x": [
          "Ethiopia",
          "Colombia",
          "Venezuela",
          "Costa Rica",
          "Haiti",
          "Honduras",
          "El Salvador",
          "Peru",
          "Cuba"
         ],
         "xaxis": "x",
         "y": [
          4536540000,
          2536776384,
          2386067999,
          665335200,
          600600000,
          471850680,
          417242040,
          402000000,
          384006000
         ],
         "yaxis": "y"
        },
        {
         "alignmentgroup": "True",
         "hovertemplate": "coffee_type=Robusta<br>Country=%{x}<br>Total Domestic Consumption=%{y}<extra></extra>",
         "legendgroup": "Robusta",
         "marker": {
          "color": "rgb(17, 119, 51)",
          "pattern": {
           "shape": ""
          }
         },
         "name": "Robusta",
         "offsetgroup": "Robusta",
         "orientation": "v",
         "showlegend": true,
         "textposition": "auto",
         "type": "bar",
         "x": [
          "Madagascar",
          "Côte d'Ivoire"
         ],
         "xaxis": "x",
         "y": [
          588705960,
          410260140
         ],
         "yaxis": "y"
        }
       ],
       "layout": {
        "barmode": "relative",
        "height": 600,
        "legend": {
         "title": {
          "text": "coffee_type"
         },
         "tracegroupgap": 0
        },
        "template": {
         "data": {
          "bar": [
           {
            "error_x": {
             "color": "#2a3f5f"
            },
            "error_y": {
             "color": "#2a3f5f"
            },
            "marker": {
             "line": {
              "color": "#E5ECF6",
              "width": 0.5
             },
             "pattern": {
              "fillmode": "overlay",
              "size": 10,
              "solidity": 0.2
             }
            },
            "type": "bar"
           }
          ],
          "barpolar": [
           {
            "marker": {
             "line": {
              "color": "#E5ECF6",
              "width": 0.5
             },
             "pattern": {
              "fillmode": "overlay",
              "size": 10,
              "solidity": 0.2
             }
            },
            "type": "barpolar"
           }
          ],
          "carpet": [
           {
            "aaxis": {
             "endlinecolor": "#2a3f5f",
             "gridcolor": "white",
             "linecolor": "white",
             "minorgridcolor": "white",
             "startlinecolor": "#2a3f5f"
            },
            "baxis": {
             "endlinecolor": "#2a3f5f",
             "gridcolor": "white",
             "linecolor": "white",
             "minorgridcolor": "white",
             "startlinecolor": "#2a3f5f"
            },
            "type": "carpet"
           }
          ],
          "choropleth": [
           {
            "colorbar": {
             "outlinewidth": 0,
             "ticks": ""
            },
            "type": "choropleth"
           }
          ],
          "contour": [
           {
            "colorbar": {
             "outlinewidth": 0,
             "ticks": ""
            },
            "colorscale": [
             [
              0,
              "#0d0887"
             ],
             [
              0.1111111111111111,
              "#46039f"
             ],
             [
              0.2222222222222222,
              "#7201a8"
             ],
             [
              0.3333333333333333,
              "#9c179e"
             ],
             [
              0.4444444444444444,
              "#bd3786"
             ],
             [
              0.5555555555555556,
              "#d8576b"
             ],
             [
              0.6666666666666666,
              "#ed7953"
             ],
             [
              0.7777777777777778,
              "#fb9f3a"
             ],
             [
              0.8888888888888888,
              "#fdca26"
             ],
             [
              1,
              "#f0f921"
             ]
            ],
            "type": "contour"
           }
          ],
          "contourcarpet": [
           {
            "colorbar": {
             "outlinewidth": 0,
             "ticks": ""
            },
            "type": "contourcarpet"
           }
          ],
          "heatmap": [
           {
            "colorbar": {
             "outlinewidth": 0,
             "ticks": ""
            },
            "colorscale": [
             [
              0,
              "#0d0887"
             ],
             [
              0.1111111111111111,
              "#46039f"
             ],
             [
              0.2222222222222222,
              "#7201a8"
             ],
             [
              0.3333333333333333,
              "#9c179e"
             ],
             [
              0.4444444444444444,
              "#bd3786"
             ],
             [
              0.5555555555555556,
              "#d8576b"
             ],
             [
              0.6666666666666666,
              "#ed7953"
             ],
             [
              0.7777777777777778,
              "#fb9f3a"
             ],
             [
              0.8888888888888888,
              "#fdca26"
             ],
             [
              1,
              "#f0f921"
             ]
            ],
            "type": "heatmap"
           }
          ],
          "heatmapgl": [
           {
            "colorbar": {
             "outlinewidth": 0,
             "ticks": ""
            },
            "colorscale": [
             [
              0,
              "#0d0887"
             ],
             [
              0.1111111111111111,
              "#46039f"
             ],
             [
              0.2222222222222222,
              "#7201a8"
             ],
             [
              0.3333333333333333,
              "#9c179e"
             ],
             [
              0.4444444444444444,
              "#bd3786"
             ],
             [
              0.5555555555555556,
              "#d8576b"
             ],
             [
              0.6666666666666666,
              "#ed7953"
             ],
             [
              0.7777777777777778,
              "#fb9f3a"
             ],
             [
              0.8888888888888888,
              "#fdca26"
             ],
             [
              1,
              "#f0f921"
             ]
            ],
            "type": "heatmapgl"
           }
          ],
          "histogram": [
           {
            "marker": {
             "pattern": {
              "fillmode": "overlay",
              "size": 10,
              "solidity": 0.2
             }
            },
            "type": "histogram"
           }
          ],
          "histogram2d": [
           {
            "colorbar": {
             "outlinewidth": 0,
             "ticks": ""
            },
            "colorscale": [
             [
              0,
              "#0d0887"
             ],
             [
              0.1111111111111111,
              "#46039f"
             ],
             [
              0.2222222222222222,
              "#7201a8"
             ],
             [
              0.3333333333333333,
              "#9c179e"
             ],
             [
              0.4444444444444444,
              "#bd3786"
             ],
             [
              0.5555555555555556,
              "#d8576b"
             ],
             [
              0.6666666666666666,
              "#ed7953"
             ],
             [
              0.7777777777777778,
              "#fb9f3a"
             ],
             [
              0.8888888888888888,
              "#fdca26"
             ],
             [
              1,
              "#f0f921"
             ]
            ],
            "type": "histogram2d"
           }
          ],
          "histogram2dcontour": [
           {
            "colorbar": {
             "outlinewidth": 0,
             "ticks": ""
            },
            "colorscale": [
             [
              0,
              "#0d0887"
             ],
             [
              0.1111111111111111,
              "#46039f"
             ],
             [
              0.2222222222222222,
              "#7201a8"
             ],
             [
              0.3333333333333333,
              "#9c179e"
             ],
             [
              0.4444444444444444,
              "#bd3786"
             ],
             [
              0.5555555555555556,
              "#d8576b"
             ],
             [
              0.6666666666666666,
              "#ed7953"
             ],
             [
              0.7777777777777778,
              "#fb9f3a"
             ],
             [
              0.8888888888888888,
              "#fdca26"
             ],
             [
              1,
              "#f0f921"
             ]
            ],
            "type": "histogram2dcontour"
           }
          ],
          "mesh3d": [
           {
            "colorbar": {
             "outlinewidth": 0,
             "ticks": ""
            },
            "type": "mesh3d"
           }
          ],
          "parcoords": [
           {
            "line": {
             "colorbar": {
              "outlinewidth": 0,
              "ticks": ""
             }
            },
            "type": "parcoords"
           }
          ],
          "pie": [
           {
            "automargin": true,
            "type": "pie"
           }
          ],
          "scatter": [
           {
            "fillpattern": {
             "fillmode": "overlay",
             "size": 10,
             "solidity": 0.2
            },
            "type": "scatter"
           }
          ],
          "scatter3d": [
           {
            "line": {
             "colorbar": {
              "outlinewidth": 0,
              "ticks": ""
             }
            },
            "marker": {
             "colorbar": {
              "outlinewidth": 0,
              "ticks": ""
             }
            },
            "type": "scatter3d"
           }
          ],
          "scattercarpet": [
           {
            "marker": {
             "colorbar": {
              "outlinewidth": 0,
              "ticks": ""
             }
            },
            "type": "scattercarpet"
           }
          ],
          "scattergeo": [
           {
            "marker": {
             "colorbar": {
              "outlinewidth": 0,
              "ticks": ""
             }
            },
            "type": "scattergeo"
           }
          ],
          "scattergl": [
           {
            "marker": {
             "colorbar": {
              "outlinewidth": 0,
              "ticks": ""
             }
            },
            "type": "scattergl"
           }
          ],
          "scattermapbox": [
           {
            "marker": {
             "colorbar": {
              "outlinewidth": 0,
              "ticks": ""
             }
            },
            "type": "scattermapbox"
           }
          ],
          "scatterpolar": [
           {
            "marker": {
             "colorbar": {
              "outlinewidth": 0,
              "ticks": ""
             }
            },
            "type": "scatterpolar"
           }
          ],
          "scatterpolargl": [
           {
            "marker": {
             "colorbar": {
              "outlinewidth": 0,
              "ticks": ""
             }
            },
            "type": "scatterpolargl"
           }
          ],
          "scatterternary": [
           {
            "marker": {
             "colorbar": {
              "outlinewidth": 0,
              "ticks": ""
             }
            },
            "type": "scatterternary"
           }
          ],
          "surface": [
           {
            "colorbar": {
             "outlinewidth": 0,
             "ticks": ""
            },
            "colorscale": [
             [
              0,
              "#0d0887"
             ],
             [
              0.1111111111111111,
              "#46039f"
             ],
             [
              0.2222222222222222,
              "#7201a8"
             ],
             [
              0.3333333333333333,
              "#9c179e"
             ],
             [
              0.4444444444444444,
              "#bd3786"
             ],
             [
              0.5555555555555556,
              "#d8576b"
             ],
             [
              0.6666666666666666,
              "#ed7953"
             ],
             [
              0.7777777777777778,
              "#fb9f3a"
             ],
             [
              0.8888888888888888,
              "#fdca26"
             ],
             [
              1,
              "#f0f921"
             ]
            ],
            "type": "surface"
           }
          ],
          "table": [
           {
            "cells": {
             "fill": {
              "color": "#EBF0F8"
             },
             "line": {
              "color": "white"
             }
            },
            "header": {
             "fill": {
              "color": "#C8D4E3"
             },
             "line": {
              "color": "white"
             }
            },
            "type": "table"
           }
          ]
         },
         "layout": {
          "annotationdefaults": {
           "arrowcolor": "#2a3f5f",
           "arrowhead": 0,
           "arrowwidth": 1
          },
          "autotypenumbers": "strict",
          "coloraxis": {
           "colorbar": {
            "outlinewidth": 0,
            "ticks": ""
           }
          },
          "colorscale": {
           "diverging": [
            [
             0,
             "#8e0152"
            ],
            [
             0.1,
             "#c51b7d"
            ],
            [
             0.2,
             "#de77ae"
            ],
            [
             0.3,
             "#f1b6da"
            ],
            [
             0.4,
             "#fde0ef"
            ],
            [
             0.5,
             "#f7f7f7"
            ],
            [
             0.6,
             "#e6f5d0"
            ],
            [
             0.7,
             "#b8e186"
            ],
            [
             0.8,
             "#7fbc41"
            ],
            [
             0.9,
             "#4d9221"
            ],
            [
             1,
             "#276419"
            ]
           ],
           "sequential": [
            [
             0,
             "#0d0887"
            ],
            [
             0.1111111111111111,
             "#46039f"
            ],
            [
             0.2222222222222222,
             "#7201a8"
            ],
            [
             0.3333333333333333,
             "#9c179e"
            ],
            [
             0.4444444444444444,
             "#bd3786"
            ],
            [
             0.5555555555555556,
             "#d8576b"
            ],
            [
             0.6666666666666666,
             "#ed7953"
            ],
            [
             0.7777777777777778,
             "#fb9f3a"
            ],
            [
             0.8888888888888888,
             "#fdca26"
            ],
            [
             1,
             "#f0f921"
            ]
           ],
           "sequentialminus": [
            [
             0,
             "#0d0887"
            ],
            [
             0.1111111111111111,
             "#46039f"
            ],
            [
             0.2222222222222222,
             "#7201a8"
            ],
            [
             0.3333333333333333,
             "#9c179e"
            ],
            [
             0.4444444444444444,
             "#bd3786"
            ],
            [
             0.5555555555555556,
             "#d8576b"
            ],
            [
             0.6666666666666666,
             "#ed7953"
            ],
            [
             0.7777777777777778,
             "#fb9f3a"
            ],
            [
             0.8888888888888888,
             "#fdca26"
            ],
            [
             1,
             "#f0f921"
            ]
           ]
          },
          "colorway": [
           "#636efa",
           "#EF553B",
           "#00cc96",
           "#ab63fa",
           "#FFA15A",
           "#19d3f3",
           "#FF6692",
           "#B6E880",
           "#FF97FF",
           "#FECB52"
          ],
          "font": {
           "color": "#2a3f5f"
          },
          "geo": {
           "bgcolor": "white",
           "lakecolor": "white",
           "landcolor": "#E5ECF6",
           "showlakes": true,
           "showland": true,
           "subunitcolor": "white"
          },
          "hoverlabel": {
           "align": "left"
          },
          "hovermode": "closest",
          "mapbox": {
           "style": "light"
          },
          "paper_bgcolor": "white",
          "plot_bgcolor": "#E5ECF6",
          "polar": {
           "angularaxis": {
            "gridcolor": "white",
            "linecolor": "white",
            "ticks": ""
           },
           "bgcolor": "#E5ECF6",
           "radialaxis": {
            "gridcolor": "white",
            "linecolor": "white",
            "ticks": ""
           }
          },
          "scene": {
           "xaxis": {
            "backgroundcolor": "#E5ECF6",
            "gridcolor": "white",
            "gridwidth": 2,
            "linecolor": "white",
            "showbackground": true,
            "ticks": "",
            "zerolinecolor": "white"
           },
           "yaxis": {
            "backgroundcolor": "#E5ECF6",
            "gridcolor": "white",
            "gridwidth": 2,
            "linecolor": "white",
            "showbackground": true,
            "ticks": "",
            "zerolinecolor": "white"
           },
           "zaxis": {
            "backgroundcolor": "#E5ECF6",
            "gridcolor": "white",
            "gridwidth": 2,
            "linecolor": "white",
            "showbackground": true,
            "ticks": "",
            "zerolinecolor": "white"
           }
          },
          "shapedefaults": {
           "line": {
            "color": "#2a3f5f"
           }
          },
          "ternary": {
           "aaxis": {
            "gridcolor": "white",
            "linecolor": "white",
            "ticks": ""
           },
           "baxis": {
            "gridcolor": "white",
            "linecolor": "white",
            "ticks": ""
           },
           "bgcolor": "#E5ECF6",
           "caxis": {
            "gridcolor": "white",
            "linecolor": "white",
            "ticks": ""
           }
          },
          "title": {
           "x": 0.05
          },
          "xaxis": {
           "automargin": true,
           "gridcolor": "white",
           "linecolor": "white",
           "ticks": "",
           "title": {
            "standoff": 15
           },
           "zerolinecolor": "white",
           "zerolinewidth": 2
          },
          "yaxis": {
           "automargin": true,
           "gridcolor": "white",
           "linecolor": "white",
           "ticks": "",
           "title": {
            "standoff": 15
           },
           "zerolinecolor": "white",
           "zerolinewidth": 2
          }
         }
        },
        "title": {
         "text": "Top 20 Domestic Consumers of Coffee by Coffee Type",
         "x": 0.5
        },
        "width": 1000,
        "xaxis": {
         "anchor": "y",
         "domain": [
          0,
          1
         ],
         "title": {
          "text": "Country"
         }
        },
        "yaxis": {
         "anchor": "x",
         "domain": [
          0,
          1
         ],
         "title": {
          "text": "Total Domestic Consumption"
         }
        }
       }
      },
      "text/html": [
       "<div>                            <div id=\"2d32401e-e145-4d65-aa48-66e932aa8b36\" class=\"plotly-graph-div\" style=\"height:600px; width:1000px;\"></div>            <script type=\"text/javascript\">                require([\"plotly\"], function(Plotly) {                    window.PLOTLYENV=window.PLOTLYENV || {};                                    if (document.getElementById(\"2d32401e-e145-4d65-aa48-66e932aa8b36\")) {                    Plotly.newPlot(                        \"2d32401e-e145-4d65-aa48-66e932aa8b36\",                        [{\"alignmentgroup\":\"True\",\"hovertemplate\":\"coffee_type=Arabica/Robusta<br>Country=%{x}<br>Total Domestic Consumption=%{y}<extra></extra>\",\"legendgroup\":\"Arabica/Robusta\",\"marker\":{\"color\":\"rgb(136, 204, 238)\",\"pattern\":{\"shape\":\"\"}},\"name\":\"Arabica/Robusta\",\"offsetgroup\":\"Arabica/Robusta\",\"orientation\":\"v\",\"showlegend\":true,\"textposition\":\"auto\",\"x\":[\"Brazil\",\"Mexico\",\"Dominican Republic\",\"Guatemala\"],\"xaxis\":\"x\",\"y\":[27824700000,3189660000,642823380,590880000],\"yaxis\":\"y\",\"type\":\"bar\"},{\"alignmentgroup\":\"True\",\"hovertemplate\":\"coffee_type=Robusta/Arabica<br>Country=%{x}<br>Total Domestic Consumption=%{y}<extra></extra>\",\"legendgroup\":\"Robusta/Arabica\",\"marker\":{\"color\":\"rgb(204, 102, 119)\",\"pattern\":{\"shape\":\"\"}},\"name\":\"Robusta/Arabica\",\"offsetgroup\":\"Robusta/Arabica\",\"orientation\":\"v\",\"showlegend\":true,\"textposition\":\"auto\",\"x\":[\"Indonesia\",\"Philippines\",\"India\",\"Viet Nam\",\"Thailand\"],\"xaxis\":\"x\",\"y\":[4920480000,2807280000,2093460000,1920928320,1248600000],\"yaxis\":\"y\",\"type\":\"bar\"},{\"alignmentgroup\":\"True\",\"hovertemplate\":\"coffee_type=Arabica<br>Country=%{x}<br>Total Domestic Consumption=%{y}<extra></extra>\",\"legendgroup\":\"Arabica\",\"marker\":{\"color\":\"rgb(221, 204, 119)\",\"pattern\":{\"shape\":\"\"}},\"name\":\"Arabica\",\"offsetgroup\":\"Arabica\",\"orientation\":\"v\",\"showlegend\":true,\"textposition\":\"auto\",\"x\":[\"Ethiopia\",\"Colombia\",\"Venezuela\",\"Costa Rica\",\"Haiti\",\"Honduras\",\"El Salvador\",\"Peru\",\"Cuba\"],\"xaxis\":\"x\",\"y\":[4536540000,2536776384,2386067999,665335200,600600000,471850680,417242040,402000000,384006000],\"yaxis\":\"y\",\"type\":\"bar\"},{\"alignmentgroup\":\"True\",\"hovertemplate\":\"coffee_type=Robusta<br>Country=%{x}<br>Total Domestic Consumption=%{y}<extra></extra>\",\"legendgroup\":\"Robusta\",\"marker\":{\"color\":\"rgb(17, 119, 51)\",\"pattern\":{\"shape\":\"\"}},\"name\":\"Robusta\",\"offsetgroup\":\"Robusta\",\"orientation\":\"v\",\"showlegend\":true,\"textposition\":\"auto\",\"x\":[\"Madagascar\",\"C\\u00f4te d'Ivoire\"],\"xaxis\":\"x\",\"y\":[588705960,410260140],\"yaxis\":\"y\",\"type\":\"bar\"}],                        {\"template\":{\"data\":{\"histogram2dcontour\":[{\"type\":\"histogram2dcontour\",\"colorbar\":{\"outlinewidth\":0,\"ticks\":\"\"},\"colorscale\":[[0.0,\"#0d0887\"],[0.1111111111111111,\"#46039f\"],[0.2222222222222222,\"#7201a8\"],[0.3333333333333333,\"#9c179e\"],[0.4444444444444444,\"#bd3786\"],[0.5555555555555556,\"#d8576b\"],[0.6666666666666666,\"#ed7953\"],[0.7777777777777778,\"#fb9f3a\"],[0.8888888888888888,\"#fdca26\"],[1.0,\"#f0f921\"]]}],\"choropleth\":[{\"type\":\"choropleth\",\"colorbar\":{\"outlinewidth\":0,\"ticks\":\"\"}}],\"histogram2d\":[{\"type\":\"histogram2d\",\"colorbar\":{\"outlinewidth\":0,\"ticks\":\"\"},\"colorscale\":[[0.0,\"#0d0887\"],[0.1111111111111111,\"#46039f\"],[0.2222222222222222,\"#7201a8\"],[0.3333333333333333,\"#9c179e\"],[0.4444444444444444,\"#bd3786\"],[0.5555555555555556,\"#d8576b\"],[0.6666666666666666,\"#ed7953\"],[0.7777777777777778,\"#fb9f3a\"],[0.8888888888888888,\"#fdca26\"],[1.0,\"#f0f921\"]]}],\"heatmap\":[{\"type\":\"heatmap\",\"colorbar\":{\"outlinewidth\":0,\"ticks\":\"\"},\"colorscale\":[[0.0,\"#0d0887\"],[0.1111111111111111,\"#46039f\"],[0.2222222222222222,\"#7201a8\"],[0.3333333333333333,\"#9c179e\"],[0.4444444444444444,\"#bd3786\"],[0.5555555555555556,\"#d8576b\"],[0.6666666666666666,\"#ed7953\"],[0.7777777777777778,\"#fb9f3a\"],[0.8888888888888888,\"#fdca26\"],[1.0,\"#f0f921\"]]}],\"heatmapgl\":[{\"type\":\"heatmapgl\",\"colorbar\":{\"outlinewidth\":0,\"ticks\":\"\"},\"colorscale\":[[0.0,\"#0d0887\"],[0.1111111111111111,\"#46039f\"],[0.2222222222222222,\"#7201a8\"],[0.3333333333333333,\"#9c179e\"],[0.4444444444444444,\"#bd3786\"],[0.5555555555555556,\"#d8576b\"],[0.6666666666666666,\"#ed7953\"],[0.7777777777777778,\"#fb9f3a\"],[0.8888888888888888,\"#fdca26\"],[1.0,\"#f0f921\"]]}],\"contourcarpet\":[{\"type\":\"contourcarpet\",\"colorbar\":{\"outlinewidth\":0,\"ticks\":\"\"}}],\"contour\":[{\"type\":\"contour\",\"colorbar\":{\"outlinewidth\":0,\"ticks\":\"\"},\"colorscale\":[[0.0,\"#0d0887\"],[0.1111111111111111,\"#46039f\"],[0.2222222222222222,\"#7201a8\"],[0.3333333333333333,\"#9c179e\"],[0.4444444444444444,\"#bd3786\"],[0.5555555555555556,\"#d8576b\"],[0.6666666666666666,\"#ed7953\"],[0.7777777777777778,\"#fb9f3a\"],[0.8888888888888888,\"#fdca26\"],[1.0,\"#f0f921\"]]}],\"surface\":[{\"type\":\"surface\",\"colorbar\":{\"outlinewidth\":0,\"ticks\":\"\"},\"colorscale\":[[0.0,\"#0d0887\"],[0.1111111111111111,\"#46039f\"],[0.2222222222222222,\"#7201a8\"],[0.3333333333333333,\"#9c179e\"],[0.4444444444444444,\"#bd3786\"],[0.5555555555555556,\"#d8576b\"],[0.6666666666666666,\"#ed7953\"],[0.7777777777777778,\"#fb9f3a\"],[0.8888888888888888,\"#fdca26\"],[1.0,\"#f0f921\"]]}],\"mesh3d\":[{\"type\":\"mesh3d\",\"colorbar\":{\"outlinewidth\":0,\"ticks\":\"\"}}],\"scatter\":[{\"fillpattern\":{\"fillmode\":\"overlay\",\"size\":10,\"solidity\":0.2},\"type\":\"scatter\"}],\"parcoords\":[{\"type\":\"parcoords\",\"line\":{\"colorbar\":{\"outlinewidth\":0,\"ticks\":\"\"}}}],\"scatterpolargl\":[{\"type\":\"scatterpolargl\",\"marker\":{\"colorbar\":{\"outlinewidth\":0,\"ticks\":\"\"}}}],\"bar\":[{\"error_x\":{\"color\":\"#2a3f5f\"},\"error_y\":{\"color\":\"#2a3f5f\"},\"marker\":{\"line\":{\"color\":\"#E5ECF6\",\"width\":0.5},\"pattern\":{\"fillmode\":\"overlay\",\"size\":10,\"solidity\":0.2}},\"type\":\"bar\"}],\"scattergeo\":[{\"type\":\"scattergeo\",\"marker\":{\"colorbar\":{\"outlinewidth\":0,\"ticks\":\"\"}}}],\"scatterpolar\":[{\"type\":\"scatterpolar\",\"marker\":{\"colorbar\":{\"outlinewidth\":0,\"ticks\":\"\"}}}],\"histogram\":[{\"marker\":{\"pattern\":{\"fillmode\":\"overlay\",\"size\":10,\"solidity\":0.2}},\"type\":\"histogram\"}],\"scattergl\":[{\"type\":\"scattergl\",\"marker\":{\"colorbar\":{\"outlinewidth\":0,\"ticks\":\"\"}}}],\"scatter3d\":[{\"type\":\"scatter3d\",\"line\":{\"colorbar\":{\"outlinewidth\":0,\"ticks\":\"\"}},\"marker\":{\"colorbar\":{\"outlinewidth\":0,\"ticks\":\"\"}}}],\"scattermapbox\":[{\"type\":\"scattermapbox\",\"marker\":{\"colorbar\":{\"outlinewidth\":0,\"ticks\":\"\"}}}],\"scatterternary\":[{\"type\":\"scatterternary\",\"marker\":{\"colorbar\":{\"outlinewidth\":0,\"ticks\":\"\"}}}],\"scattercarpet\":[{\"type\":\"scattercarpet\",\"marker\":{\"colorbar\":{\"outlinewidth\":0,\"ticks\":\"\"}}}],\"carpet\":[{\"aaxis\":{\"endlinecolor\":\"#2a3f5f\",\"gridcolor\":\"white\",\"linecolor\":\"white\",\"minorgridcolor\":\"white\",\"startlinecolor\":\"#2a3f5f\"},\"baxis\":{\"endlinecolor\":\"#2a3f5f\",\"gridcolor\":\"white\",\"linecolor\":\"white\",\"minorgridcolor\":\"white\",\"startlinecolor\":\"#2a3f5f\"},\"type\":\"carpet\"}],\"table\":[{\"cells\":{\"fill\":{\"color\":\"#EBF0F8\"},\"line\":{\"color\":\"white\"}},\"header\":{\"fill\":{\"color\":\"#C8D4E3\"},\"line\":{\"color\":\"white\"}},\"type\":\"table\"}],\"barpolar\":[{\"marker\":{\"line\":{\"color\":\"#E5ECF6\",\"width\":0.5},\"pattern\":{\"fillmode\":\"overlay\",\"size\":10,\"solidity\":0.2}},\"type\":\"barpolar\"}],\"pie\":[{\"automargin\":true,\"type\":\"pie\"}]},\"layout\":{\"autotypenumbers\":\"strict\",\"colorway\":[\"#636efa\",\"#EF553B\",\"#00cc96\",\"#ab63fa\",\"#FFA15A\",\"#19d3f3\",\"#FF6692\",\"#B6E880\",\"#FF97FF\",\"#FECB52\"],\"font\":{\"color\":\"#2a3f5f\"},\"hovermode\":\"closest\",\"hoverlabel\":{\"align\":\"left\"},\"paper_bgcolor\":\"white\",\"plot_bgcolor\":\"#E5ECF6\",\"polar\":{\"bgcolor\":\"#E5ECF6\",\"angularaxis\":{\"gridcolor\":\"white\",\"linecolor\":\"white\",\"ticks\":\"\"},\"radialaxis\":{\"gridcolor\":\"white\",\"linecolor\":\"white\",\"ticks\":\"\"}},\"ternary\":{\"bgcolor\":\"#E5ECF6\",\"aaxis\":{\"gridcolor\":\"white\",\"linecolor\":\"white\",\"ticks\":\"\"},\"baxis\":{\"gridcolor\":\"white\",\"linecolor\":\"white\",\"ticks\":\"\"},\"caxis\":{\"gridcolor\":\"white\",\"linecolor\":\"white\",\"ticks\":\"\"}},\"coloraxis\":{\"colorbar\":{\"outlinewidth\":0,\"ticks\":\"\"}},\"colorscale\":{\"sequential\":[[0.0,\"#0d0887\"],[0.1111111111111111,\"#46039f\"],[0.2222222222222222,\"#7201a8\"],[0.3333333333333333,\"#9c179e\"],[0.4444444444444444,\"#bd3786\"],[0.5555555555555556,\"#d8576b\"],[0.6666666666666666,\"#ed7953\"],[0.7777777777777778,\"#fb9f3a\"],[0.8888888888888888,\"#fdca26\"],[1.0,\"#f0f921\"]],\"sequentialminus\":[[0.0,\"#0d0887\"],[0.1111111111111111,\"#46039f\"],[0.2222222222222222,\"#7201a8\"],[0.3333333333333333,\"#9c179e\"],[0.4444444444444444,\"#bd3786\"],[0.5555555555555556,\"#d8576b\"],[0.6666666666666666,\"#ed7953\"],[0.7777777777777778,\"#fb9f3a\"],[0.8888888888888888,\"#fdca26\"],[1.0,\"#f0f921\"]],\"diverging\":[[0,\"#8e0152\"],[0.1,\"#c51b7d\"],[0.2,\"#de77ae\"],[0.3,\"#f1b6da\"],[0.4,\"#fde0ef\"],[0.5,\"#f7f7f7\"],[0.6,\"#e6f5d0\"],[0.7,\"#b8e186\"],[0.8,\"#7fbc41\"],[0.9,\"#4d9221\"],[1,\"#276419\"]]},\"xaxis\":{\"gridcolor\":\"white\",\"linecolor\":\"white\",\"ticks\":\"\",\"title\":{\"standoff\":15},\"zerolinecolor\":\"white\",\"automargin\":true,\"zerolinewidth\":2},\"yaxis\":{\"gridcolor\":\"white\",\"linecolor\":\"white\",\"ticks\":\"\",\"title\":{\"standoff\":15},\"zerolinecolor\":\"white\",\"automargin\":true,\"zerolinewidth\":2},\"scene\":{\"xaxis\":{\"backgroundcolor\":\"#E5ECF6\",\"gridcolor\":\"white\",\"linecolor\":\"white\",\"showbackground\":true,\"ticks\":\"\",\"zerolinecolor\":\"white\",\"gridwidth\":2},\"yaxis\":{\"backgroundcolor\":\"#E5ECF6\",\"gridcolor\":\"white\",\"linecolor\":\"white\",\"showbackground\":true,\"ticks\":\"\",\"zerolinecolor\":\"white\",\"gridwidth\":2},\"zaxis\":{\"backgroundcolor\":\"#E5ECF6\",\"gridcolor\":\"white\",\"linecolor\":\"white\",\"showbackground\":true,\"ticks\":\"\",\"zerolinecolor\":\"white\",\"gridwidth\":2}},\"shapedefaults\":{\"line\":{\"color\":\"#2a3f5f\"}},\"annotationdefaults\":{\"arrowcolor\":\"#2a3f5f\",\"arrowhead\":0,\"arrowwidth\":1},\"geo\":{\"bgcolor\":\"white\",\"landcolor\":\"#E5ECF6\",\"subunitcolor\":\"white\",\"showland\":true,\"showlakes\":true,\"lakecolor\":\"white\"},\"title\":{\"x\":0.05},\"mapbox\":{\"style\":\"light\"}}},\"xaxis\":{\"anchor\":\"y\",\"domain\":[0.0,1.0],\"title\":{\"text\":\"Country\"}},\"yaxis\":{\"anchor\":\"x\",\"domain\":[0.0,1.0],\"title\":{\"text\":\"Total Domestic Consumption\"}},\"legend\":{\"title\":{\"text\":\"coffee_type\"},\"tracegroupgap\":0},\"title\":{\"text\":\"Top 20 Domestic Consumers of Coffee by Coffee Type\",\"x\":0.5},\"barmode\":\"relative\",\"height\":600,\"width\":1000},                        {\"responsive\": true}                    ).then(function(){\n",
       "                            \n",
       "var gd = document.getElementById('2d32401e-e145-4d65-aa48-66e932aa8b36');\n",
       "var x = new MutationObserver(function (mutations, observer) {{\n",
       "        var display = window.getComputedStyle(gd).display;\n",
       "        if (!display || display === 'none') {{\n",
       "            console.log([gd, 'removed!']);\n",
       "            Plotly.purge(gd);\n",
       "            observer.disconnect();\n",
       "        }}\n",
       "}});\n",
       "\n",
       "// Listen for the removal of the full notebook cells\n",
       "var notebookContainer = gd.closest('#notebook-container');\n",
       "if (notebookContainer) {{\n",
       "    x.observe(notebookContainer, {childList: true});\n",
       "}}\n",
       "\n",
       "// Listen for the clearing of the current output cell\n",
       "var outputEl = gd.closest('.output');\n",
       "if (outputEl) {{\n",
       "    x.observe(outputEl, {childList: true});\n",
       "}}\n",
       "\n",
       "                        })                };                });            </script>        </div>"
      ]
     },
     "metadata": {},
     "output_type": "display_data"
    }
   ],
   "source": [
    "# Lets graph top consumers by coffee type\n",
    "top_dom_con_by_coffee_type = coffee_domestic_consumption_0[['country', 'total_domestic_consumption', 'coffee_type']]\n",
    "top_dom_con_by_coffee_type = top_dom_con_by_coffee_type.sort_values(by=['total_domestic_consumption'], ascending = False)\n",
    "top_dom_con_by_coffee_type = top_dom_con_by_coffee_type.head(20)\n",
    "\n",
    "fig2 = px.bar(top_dom_con_by_coffee_type, x = 'country', y = 'total_domestic_consumption', color = 'coffee_type',\n",
    "                color_discrete_sequence = px.colors.qualitative.Safe, labels = {\"country\": \"Country\",\n",
    "                \"total_domestic_consumption\": \"Total Domestic Consumption\"},\n",
    "                title=\"Top 20 Domestic Consumers of Coffee by Coffee Type\", width=1000, height=600)\n",
    "\n",
    "fig2.update_layout(title_x=0.5)\n",
    "fig2.show()\n",
    "\n",
    "\n"
   ]
  },
  {
   "cell_type": "code",
   "execution_count": 65,
   "id": "59dbb3a5",
   "metadata": {},
   "outputs": [
    {
     "data": {
      "text/html": [
       "<div>\n",
       "<style scoped>\n",
       "    .dataframe tbody tr th:only-of-type {\n",
       "        vertical-align: middle;\n",
       "    }\n",
       "\n",
       "    .dataframe tbody tr th {\n",
       "        vertical-align: top;\n",
       "    }\n",
       "\n",
       "    .dataframe thead th {\n",
       "        text-align: right;\n",
       "    }\n",
       "</style>\n",
       "<table border=\"1\" class=\"dataframe\">\n",
       "  <thead>\n",
       "    <tr style=\"text-align: right;\">\n",
       "      <th></th>\n",
       "      <th>Brazil</th>\n",
       "      <th>Indonesia</th>\n",
       "      <th>Ethiopia</th>\n",
       "      <th>Mexico</th>\n",
       "      <th>Philippines</th>\n",
       "      <th>Colombia</th>\n",
       "      <th>Venezuela</th>\n",
       "      <th>India</th>\n",
       "      <th>Viet Nam</th>\n",
       "      <th>Thailand</th>\n",
       "      <th>Costa Rica</th>\n",
       "      <th>Dominican Republic</th>\n",
       "      <th>Haiti</th>\n",
       "      <th>Guatemala</th>\n",
       "      <th>Madagascar</th>\n",
       "      <th>Honduras</th>\n",
       "      <th>El Salvador</th>\n",
       "      <th>Côte d'Ivoire</th>\n",
       "      <th>Peru</th>\n",
       "      <th>Cuba</th>\n",
       "      <th>Ecuador</th>\n",
       "      <th>Democratic Republic of Congo</th>\n",
       "      <th>Nicaragua</th>\n",
       "      <th>Uganda</th>\n",
       "      <th>Lao People's Democratic Republic</th>\n",
       "      <th>Cameroon</th>\n",
       "      <th>Panama</th>\n",
       "      <th>Yemen</th>\n",
       "      <th>Kenya</th>\n",
       "      <th>Guinea</th>\n",
       "      <th>Tanzania</th>\n",
       "      <th>Bolivia (Plurinational State of)</th>\n",
       "      <th>Nigeria</th>\n",
       "      <th>Sri Lanka</th>\n",
       "      <th>Angola</th>\n",
       "      <th>Paraguay</th>\n",
       "      <th>Central African Republic</th>\n",
       "      <th>Trinidad &amp; Tobago</th>\n",
       "      <th>Jamaica</th>\n",
       "      <th>Sierra Leone</th>\n",
       "      <th>Ghana</th>\n",
       "      <th>Guyana</th>\n",
       "      <th>Liberia</th>\n",
       "      <th>Zimbabwe</th>\n",
       "      <th>Congo</th>\n",
       "      <th>Papua New Guinea</th>\n",
       "      <th>Burundi</th>\n",
       "      <th>Malawi</th>\n",
       "      <th>Togo</th>\n",
       "      <th>Rwanda</th>\n",
       "      <th>Gabon</th>\n",
       "      <th>Zambia</th>\n",
       "      <th>Timor-Leste</th>\n",
       "      <th>Nepal</th>\n",
       "      <th>Equatorial Guinea</th>\n",
       "    </tr>\n",
       "    <tr>\n",
       "      <th>year</th>\n",
       "      <th></th>\n",
       "      <th></th>\n",
       "      <th></th>\n",
       "      <th></th>\n",
       "      <th></th>\n",
       "      <th></th>\n",
       "      <th></th>\n",
       "      <th></th>\n",
       "      <th></th>\n",
       "      <th></th>\n",
       "      <th></th>\n",
       "      <th></th>\n",
       "      <th></th>\n",
       "      <th></th>\n",
       "      <th></th>\n",
       "      <th></th>\n",
       "      <th></th>\n",
       "      <th></th>\n",
       "      <th></th>\n",
       "      <th></th>\n",
       "      <th></th>\n",
       "      <th></th>\n",
       "      <th></th>\n",
       "      <th></th>\n",
       "      <th></th>\n",
       "      <th></th>\n",
       "      <th></th>\n",
       "      <th></th>\n",
       "      <th></th>\n",
       "      <th></th>\n",
       "      <th></th>\n",
       "      <th></th>\n",
       "      <th></th>\n",
       "      <th></th>\n",
       "      <th></th>\n",
       "      <th></th>\n",
       "      <th></th>\n",
       "      <th></th>\n",
       "      <th></th>\n",
       "      <th></th>\n",
       "      <th></th>\n",
       "      <th></th>\n",
       "      <th></th>\n",
       "      <th></th>\n",
       "      <th></th>\n",
       "      <th></th>\n",
       "      <th></th>\n",
       "      <th></th>\n",
       "      <th></th>\n",
       "      <th></th>\n",
       "      <th></th>\n",
       "      <th></th>\n",
       "      <th></th>\n",
       "      <th></th>\n",
       "      <th></th>\n",
       "    </tr>\n",
       "  </thead>\n",
       "  <tbody>\n",
       "    <tr>\n",
       "      <th>1990/91</th>\n",
       "      <td>1200000</td>\n",
       "      <td>1500000</td>\n",
       "      <td>492000000</td>\n",
       "      <td>120000</td>\n",
       "      <td>21000000</td>\n",
       "      <td>74520000</td>\n",
       "      <td>21000000</td>\n",
       "      <td>120000</td>\n",
       "      <td>180000</td>\n",
       "      <td>900000</td>\n",
       "      <td>11400000</td>\n",
       "      <td>60000</td>\n",
       "      <td>0</td>\n",
       "      <td>480000</td>\n",
       "      <td>180000</td>\n",
       "      <td>12780000</td>\n",
       "      <td>19200000</td>\n",
       "      <td>13200000</td>\n",
       "      <td>43200000</td>\n",
       "      <td>240000</td>\n",
       "      <td>90000</td>\n",
       "      <td>4998000</td>\n",
       "      <td>1680000</td>\n",
       "      <td>74100000</td>\n",
       "      <td>22500000</td>\n",
       "      <td>3000000</td>\n",
       "      <td>12000000</td>\n",
       "      <td>10800000</td>\n",
       "      <td>0</td>\n",
       "      <td>72000000</td>\n",
       "      <td>102000</td>\n",
       "      <td>1020000</td>\n",
       "      <td>18000000</td>\n",
       "      <td>1500000</td>\n",
       "      <td>0</td>\n",
       "      <td>11289240</td>\n",
       "      <td>54180000</td>\n",
       "      <td>420000</td>\n",
       "      <td>3000000</td>\n",
       "      <td>0</td>\n",
       "      <td>180000</td>\n",
       "      <td>82440000</td>\n",
       "      <td>0</td>\n",
       "      <td>2040000</td>\n",
       "      <td>1650000</td>\n",
       "      <td>3780000</td>\n",
       "      <td>540000</td>\n",
       "      <td>4000020</td>\n",
       "      <td>11280000</td>\n",
       "      <td>60000</td>\n",
       "      <td>480000</td>\n",
       "      <td>4200000</td>\n",
       "      <td>46943400</td>\n",
       "      <td>9000000</td>\n",
       "      <td>0</td>\n",
       "    </tr>\n",
       "    <tr>\n",
       "      <th>1991/92</th>\n",
       "      <td>1800000</td>\n",
       "      <td>1620000</td>\n",
       "      <td>510000000</td>\n",
       "      <td>96000</td>\n",
       "      <td>21000000</td>\n",
       "      <td>76800000</td>\n",
       "      <td>18000000</td>\n",
       "      <td>120000</td>\n",
       "      <td>180000</td>\n",
       "      <td>900000</td>\n",
       "      <td>11400000</td>\n",
       "      <td>60000</td>\n",
       "      <td>0</td>\n",
       "      <td>480000</td>\n",
       "      <td>160020</td>\n",
       "      <td>12780000</td>\n",
       "      <td>19200000</td>\n",
       "      <td>19800000</td>\n",
       "      <td>45000000</td>\n",
       "      <td>210000</td>\n",
       "      <td>90000</td>\n",
       "      <td>4999980</td>\n",
       "      <td>1680000</td>\n",
       "      <td>76140000</td>\n",
       "      <td>22500000</td>\n",
       "      <td>3000000</td>\n",
       "      <td>12000000</td>\n",
       "      <td>10800000</td>\n",
       "      <td>0</td>\n",
       "      <td>75840000</td>\n",
       "      <td>60000</td>\n",
       "      <td>1020000</td>\n",
       "      <td>18000000</td>\n",
       "      <td>1500000</td>\n",
       "      <td>0</td>\n",
       "      <td>15426000</td>\n",
       "      <td>55000020</td>\n",
       "      <td>660000</td>\n",
       "      <td>3000000</td>\n",
       "      <td>0</td>\n",
       "      <td>180000</td>\n",
       "      <td>72000000</td>\n",
       "      <td>0</td>\n",
       "      <td>8280000</td>\n",
       "      <td>2145000</td>\n",
       "      <td>4020000</td>\n",
       "      <td>540000</td>\n",
       "      <td>4020000</td>\n",
       "      <td>13200000</td>\n",
       "      <td>60000</td>\n",
       "      <td>690000</td>\n",
       "      <td>4500000</td>\n",
       "      <td>48928800</td>\n",
       "      <td>13800000</td>\n",
       "      <td>0</td>\n",
       "    </tr>\n",
       "    <tr>\n",
       "      <th>1992/93</th>\n",
       "      <td>2100000</td>\n",
       "      <td>1650000</td>\n",
       "      <td>534000000</td>\n",
       "      <td>102000</td>\n",
       "      <td>21000000</td>\n",
       "      <td>79140000</td>\n",
       "      <td>21000000</td>\n",
       "      <td>120000</td>\n",
       "      <td>180000</td>\n",
       "      <td>900000</td>\n",
       "      <td>12000000</td>\n",
       "      <td>60000</td>\n",
       "      <td>0</td>\n",
       "      <td>480000</td>\n",
       "      <td>160020</td>\n",
       "      <td>11700000</td>\n",
       "      <td>19200000</td>\n",
       "      <td>19800000</td>\n",
       "      <td>45000000</td>\n",
       "      <td>1152000</td>\n",
       "      <td>85920</td>\n",
       "      <td>4999980</td>\n",
       "      <td>1680000</td>\n",
       "      <td>78180000</td>\n",
       "      <td>22500000</td>\n",
       "      <td>3000000</td>\n",
       "      <td>12000000</td>\n",
       "      <td>13800000</td>\n",
       "      <td>0</td>\n",
       "      <td>79860000</td>\n",
       "      <td>48000</td>\n",
       "      <td>1020000</td>\n",
       "      <td>18000000</td>\n",
       "      <td>3750000</td>\n",
       "      <td>0</td>\n",
       "      <td>14400000</td>\n",
       "      <td>55020000</td>\n",
       "      <td>360000</td>\n",
       "      <td>3000000</td>\n",
       "      <td>0</td>\n",
       "      <td>180000</td>\n",
       "      <td>78000000</td>\n",
       "      <td>0</td>\n",
       "      <td>3936000</td>\n",
       "      <td>2145000</td>\n",
       "      <td>4020000</td>\n",
       "      <td>540000</td>\n",
       "      <td>1680000</td>\n",
       "      <td>13980000</td>\n",
       "      <td>60000</td>\n",
       "      <td>600000</td>\n",
       "      <td>4500000</td>\n",
       "      <td>50998200</td>\n",
       "      <td>15000000</td>\n",
       "      <td>0</td>\n",
       "    </tr>\n",
       "    <tr>\n",
       "      <th>1993/94</th>\n",
       "      <td>1200000</td>\n",
       "      <td>1710000</td>\n",
       "      <td>546000000</td>\n",
       "      <td>114600</td>\n",
       "      <td>21000000</td>\n",
       "      <td>81540000</td>\n",
       "      <td>21600000</td>\n",
       "      <td>120000</td>\n",
       "      <td>120000</td>\n",
       "      <td>1200000</td>\n",
       "      <td>12000000</td>\n",
       "      <td>60000</td>\n",
       "      <td>0</td>\n",
       "      <td>499980</td>\n",
       "      <td>180000</td>\n",
       "      <td>11646000</td>\n",
       "      <td>19200000</td>\n",
       "      <td>19800000</td>\n",
       "      <td>46200000</td>\n",
       "      <td>1050000</td>\n",
       "      <td>60000</td>\n",
       "      <td>6000000</td>\n",
       "      <td>1500000</td>\n",
       "      <td>80340000</td>\n",
       "      <td>22500000</td>\n",
       "      <td>3000000</td>\n",
       "      <td>12000000</td>\n",
       "      <td>13800000</td>\n",
       "      <td>0</td>\n",
       "      <td>84120000</td>\n",
       "      <td>48000</td>\n",
       "      <td>1020000</td>\n",
       "      <td>18600000</td>\n",
       "      <td>1980000</td>\n",
       "      <td>0</td>\n",
       "      <td>13800000</td>\n",
       "      <td>49999980</td>\n",
       "      <td>576000</td>\n",
       "      <td>3000000</td>\n",
       "      <td>0</td>\n",
       "      <td>300000</td>\n",
       "      <td>64200000</td>\n",
       "      <td>0</td>\n",
       "      <td>6534000</td>\n",
       "      <td>2400000</td>\n",
       "      <td>4020000</td>\n",
       "      <td>300000</td>\n",
       "      <td>1200000</td>\n",
       "      <td>15000000</td>\n",
       "      <td>60000</td>\n",
       "      <td>600000</td>\n",
       "      <td>4500000</td>\n",
       "      <td>53155800</td>\n",
       "      <td>16020000</td>\n",
       "      <td>0</td>\n",
       "    </tr>\n",
       "    <tr>\n",
       "      <th>1994/95</th>\n",
       "      <td>1500000</td>\n",
       "      <td>1770000</td>\n",
       "      <td>558000000</td>\n",
       "      <td>120000</td>\n",
       "      <td>21000000</td>\n",
       "      <td>84000000</td>\n",
       "      <td>9999960</td>\n",
       "      <td>120000</td>\n",
       "      <td>120000</td>\n",
       "      <td>1200000</td>\n",
       "      <td>12000000</td>\n",
       "      <td>60000</td>\n",
       "      <td>0</td>\n",
       "      <td>499980</td>\n",
       "      <td>180000</td>\n",
       "      <td>11640000</td>\n",
       "      <td>19800000</td>\n",
       "      <td>19800000</td>\n",
       "      <td>47400000</td>\n",
       "      <td>1050000</td>\n",
       "      <td>90000</td>\n",
       "      <td>6000000</td>\n",
       "      <td>900000</td>\n",
       "      <td>82500000</td>\n",
       "      <td>22500000</td>\n",
       "      <td>3000000</td>\n",
       "      <td>12000000</td>\n",
       "      <td>13800000</td>\n",
       "      <td>0</td>\n",
       "      <td>88560000</td>\n",
       "      <td>60000</td>\n",
       "      <td>1680000</td>\n",
       "      <td>18600000</td>\n",
       "      <td>3000000</td>\n",
       "      <td>0</td>\n",
       "      <td>15180000</td>\n",
       "      <td>50100000</td>\n",
       "      <td>900000</td>\n",
       "      <td>3000000</td>\n",
       "      <td>0</td>\n",
       "      <td>300000</td>\n",
       "      <td>61200000</td>\n",
       "      <td>0</td>\n",
       "      <td>5376000</td>\n",
       "      <td>2400000</td>\n",
       "      <td>4600020</td>\n",
       "      <td>300000</td>\n",
       "      <td>1200000</td>\n",
       "      <td>16980000</td>\n",
       "      <td>60000</td>\n",
       "      <td>840000</td>\n",
       "      <td>4800000</td>\n",
       "      <td>55404000</td>\n",
       "      <td>16020000</td>\n",
       "      <td>0</td>\n",
       "    </tr>\n",
       "  </tbody>\n",
       "</table>\n",
       "</div>"
      ],
      "text/plain": [
       "          Brazil Indonesia   Ethiopia  Mexico Philippines  Colombia Venezuela  \\\n",
       "year                                                                            \n",
       "1990/91  1200000   1500000  492000000  120000    21000000  74520000  21000000   \n",
       "1991/92  1800000   1620000  510000000   96000    21000000  76800000  18000000   \n",
       "1992/93  2100000   1650000  534000000  102000    21000000  79140000  21000000   \n",
       "1993/94  1200000   1710000  546000000  114600    21000000  81540000  21600000   \n",
       "1994/95  1500000   1770000  558000000  120000    21000000  84000000   9999960   \n",
       "\n",
       "          India Viet Nam Thailand Costa Rica Dominican Republic Haiti  \\\n",
       "year                                                                    \n",
       "1990/91  120000   180000   900000   11400000              60000     0   \n",
       "1991/92  120000   180000   900000   11400000              60000     0   \n",
       "1992/93  120000   180000   900000   12000000              60000     0   \n",
       "1993/94  120000   120000  1200000   12000000              60000     0   \n",
       "1994/95  120000   120000  1200000   12000000              60000     0   \n",
       "\n",
       "        Guatemala Madagascar  Honduras El Salvador Côte d'Ivoire      Peru  \\\n",
       "year                                                                         \n",
       "1990/91    480000     180000  12780000    19200000      13200000  43200000   \n",
       "1991/92    480000     160020  12780000    19200000      19800000  45000000   \n",
       "1992/93    480000     160020  11700000    19200000      19800000  45000000   \n",
       "1993/94    499980     180000  11646000    19200000      19800000  46200000   \n",
       "1994/95    499980     180000  11640000    19800000      19800000  47400000   \n",
       "\n",
       "            Cuba Ecuador Democratic Republic of Congo Nicaragua    Uganda  \\\n",
       "year                                                                        \n",
       "1990/91   240000   90000                      4998000   1680000  74100000   \n",
       "1991/92   210000   90000                      4999980   1680000  76140000   \n",
       "1992/93  1152000   85920                      4999980   1680000  78180000   \n",
       "1993/94  1050000   60000                      6000000   1500000  80340000   \n",
       "1994/95  1050000   90000                      6000000    900000  82500000   \n",
       "\n",
       "        Lao People's Democratic Republic Cameroon    Panama     Yemen Kenya  \\\n",
       "year                                                                          \n",
       "1990/91                         22500000  3000000  12000000  10800000     0   \n",
       "1991/92                         22500000  3000000  12000000  10800000     0   \n",
       "1992/93                         22500000  3000000  12000000  13800000     0   \n",
       "1993/94                         22500000  3000000  12000000  13800000     0   \n",
       "1994/95                         22500000  3000000  12000000  13800000     0   \n",
       "\n",
       "           Guinea Tanzania Bolivia (Plurinational State of)   Nigeria  \\\n",
       "year                                                                    \n",
       "1990/91  72000000   102000                          1020000  18000000   \n",
       "1991/92  75840000    60000                          1020000  18000000   \n",
       "1992/93  79860000    48000                          1020000  18000000   \n",
       "1993/94  84120000    48000                          1020000  18600000   \n",
       "1994/95  88560000    60000                          1680000  18600000   \n",
       "\n",
       "        Sri Lanka Angola  Paraguay Central African Republic Trinidad & Tobago  \\\n",
       "year                                                                            \n",
       "1990/91   1500000      0  11289240                 54180000            420000   \n",
       "1991/92   1500000      0  15426000                 55000020            660000   \n",
       "1992/93   3750000      0  14400000                 55020000            360000   \n",
       "1993/94   1980000      0  13800000                 49999980            576000   \n",
       "1994/95   3000000      0  15180000                 50100000            900000   \n",
       "\n",
       "         Jamaica Sierra Leone   Ghana    Guyana Liberia Zimbabwe    Congo  \\\n",
       "year                                                                        \n",
       "1990/91  3000000            0  180000  82440000       0  2040000  1650000   \n",
       "1991/92  3000000            0  180000  72000000       0  8280000  2145000   \n",
       "1992/93  3000000            0  180000  78000000       0  3936000  2145000   \n",
       "1993/94  3000000            0  300000  64200000       0  6534000  2400000   \n",
       "1994/95  3000000            0  300000  61200000       0  5376000  2400000   \n",
       "\n",
       "        Papua New Guinea Burundi   Malawi      Togo Rwanda   Gabon   Zambia  \\\n",
       "year                                                                          \n",
       "1990/91          3780000  540000  4000020  11280000  60000  480000  4200000   \n",
       "1991/92          4020000  540000  4020000  13200000  60000  690000  4500000   \n",
       "1992/93          4020000  540000  1680000  13980000  60000  600000  4500000   \n",
       "1993/94          4020000  300000  1200000  15000000  60000  600000  4500000   \n",
       "1994/95          4600020  300000  1200000  16980000  60000  840000  4800000   \n",
       "\n",
       "        Timor-Leste     Nepal Equatorial Guinea  \n",
       "year                                             \n",
       "1990/91    46943400   9000000                 0  \n",
       "1991/92    48928800  13800000                 0  \n",
       "1992/93    50998200  15000000                 0  \n",
       "1993/94    53155800  16020000                 0  \n",
       "1994/95    55404000  16020000                 0  "
      ]
     },
     "execution_count": 65,
     "metadata": {},
     "output_type": "execute_result"
    }
   ],
   "source": [
    "coffee_domestic_consumption_1 = coffee_domestic_consumption_0[['country', 'total_domestic_consumption']].sort_values(by=['total_domestic_consumption'], ascending=False)\n",
    "coffee_domestic_consumption_2 = coffee_domestic_consumption_0[coffee_domestic_consumption_0.country.isin(coffee_domestic_consumption_1['country'].unique())]\n",
    "\n",
    "coffee_domestic_consumption_2 = coffee_domestic_consumption_2.T\n",
    "coffee_domestic_consumption_2.drop(['country', 'total_domestic_consumption', 'coffee_type'], axis = 0, inplace = True)\n",
    "coffee_domestic_consumption_2.index.name = \"year\"\n",
    "coffee_domestic_consumption_2.columns = coffee_domestic_consumption_1['country'].values\n",
    "coffee_domestic_consumption_2.head()\n"
   ]
  },
  {
   "cell_type": "code",
   "execution_count": 70,
   "id": "513c33a2",
   "metadata": {
    "scrolled": false
   },
   "outputs": [
    {
     "data": {
      "application/vnd.plotly.v1+json": {
       "config": {
        "plotlyServerURL": "https://plot.ly"
       },
       "data": [
        {
         "hovertemplate": "Country=Brazil<br>Year=%{x}<br>Total Domestic Consumption=%{y}<extra></extra>",
         "legendgroup": "Brazil",
         "line": {
          "color": "rgb(136, 204, 238)",
          "dash": "solid"
         },
         "marker": {
          "symbol": "circle"
         },
         "mode": "lines",
         "name": "Brazil",
         "showlegend": true,
         "type": "scattergl",
         "x": [
          "1990/91",
          "1991/92",
          "1992/93",
          "1993/94",
          "1994/95",
          "1995/96",
          "1996/97",
          "1997/98",
          "1998/99",
          "1999/00",
          "2000/01",
          "2001/02",
          "2002/03",
          "2003/04",
          "2004/05",
          "2005/06",
          "2006/07",
          "2007/08",
          "2008/09",
          "2009/10",
          "2010/11",
          "2011/12",
          "2012/13",
          "2013/14",
          "2014/15",
          "2015/16",
          "2016/17",
          "2017/18",
          "2018/19",
          "2019/20"
         ],
         "xaxis": "x",
         "y": [
          1200000,
          1800000,
          2100000,
          1200000,
          1500000,
          600000,
          1200000,
          2400000,
          1800000,
          1200000,
          1200000,
          1200000,
          1200000,
          900000,
          900000,
          900000,
          1800000,
          1800000,
          1800000,
          1800000,
          1800000,
          1800000,
          1800000,
          1800000,
          1800000,
          1800000,
          1800000,
          1800000,
          1800000,
          1800000
         ],
         "yaxis": "y"
        },
        {
         "hovertemplate": "Country=Indonesia<br>Year=%{x}<br>Total Domestic Consumption=%{y}<extra></extra>",
         "legendgroup": "Indonesia",
         "line": {
          "color": "rgb(204, 102, 119)",
          "dash": "solid"
         },
         "marker": {
          "symbol": "circle"
         },
         "mode": "lines",
         "name": "Indonesia",
         "showlegend": true,
         "type": "scattergl",
         "x": [
          "1990/91",
          "1991/92",
          "1992/93",
          "1993/94",
          "1994/95",
          "1995/96",
          "1996/97",
          "1997/98",
          "1998/99",
          "1999/00",
          "2000/01",
          "2001/02",
          "2002/03",
          "2003/04",
          "2004/05",
          "2005/06",
          "2006/07",
          "2007/08",
          "2008/09",
          "2009/10",
          "2010/11",
          "2011/12",
          "2012/13",
          "2013/14",
          "2014/15",
          "2015/16",
          "2016/17",
          "2017/18",
          "2018/19",
          "2019/20"
         ],
         "xaxis": "x",
         "y": [
          1500000,
          1620000,
          1650000,
          1710000,
          1770000,
          1830000,
          1890000,
          1950000,
          1980000,
          2040000,
          2100000,
          2190000,
          2250000,
          2310000,
          2700000,
          2460000,
          2520000,
          2610000,
          2700000,
          2760000,
          2850000,
          2940000,
          3030000,
          3120000,
          3210000,
          3300000,
          3420000,
          3510000,
          3600000,
          3660000
         ],
         "yaxis": "y"
        },
        {
         "hovertemplate": "Country=Ethiopia<br>Year=%{x}<br>Total Domestic Consumption=%{y}<extra></extra>",
         "legendgroup": "Ethiopia",
         "line": {
          "color": "rgb(221, 204, 119)",
          "dash": "solid"
         },
         "marker": {
          "symbol": "circle"
         },
         "mode": "lines",
         "name": "Ethiopia",
         "showlegend": true,
         "type": "scattergl",
         "x": [
          "1990/91",
          "1991/92",
          "1992/93",
          "1993/94",
          "1994/95",
          "1995/96",
          "1996/97",
          "1997/98",
          "1998/99",
          "1999/00",
          "2000/01",
          "2001/02",
          "2002/03",
          "2003/04",
          "2004/05",
          "2005/06",
          "2006/07",
          "2007/08",
          "2008/09",
          "2009/10",
          "2010/11",
          "2011/12",
          "2012/13",
          "2013/14",
          "2014/15",
          "2015/16",
          "2016/17",
          "2017/18",
          "2018/19",
          "2019/20"
         ],
         "xaxis": "x",
         "y": [
          492000000,
          510000000,
          534000000,
          546000000,
          558000000,
          606000000,
          660000000,
          690000000,
          732000000,
          762000000,
          792000000,
          815400000,
          825000000,
          852000000,
          896760000,
          932280000,
          979860000,
          1026600000,
          1059600000,
          1103400000,
          1147920000,
          1183200000,
          1219800000,
          1205100000,
          1219980000,
          1230480000,
          1273500000,
          1319820000,
          1332000000,
          1320000000
         ],
         "yaxis": "y"
        },
        {
         "hovertemplate": "Country=Mexico<br>Year=%{x}<br>Total Domestic Consumption=%{y}<extra></extra>",
         "legendgroup": "Mexico",
         "line": {
          "color": "rgb(17, 119, 51)",
          "dash": "solid"
         },
         "marker": {
          "symbol": "circle"
         },
         "mode": "lines",
         "name": "Mexico",
         "showlegend": true,
         "type": "scattergl",
         "x": [
          "1990/91",
          "1991/92",
          "1992/93",
          "1993/94",
          "1994/95",
          "1995/96",
          "1996/97",
          "1997/98",
          "1998/99",
          "1999/00",
          "2000/01",
          "2001/02",
          "2002/03",
          "2003/04",
          "2004/05",
          "2005/06",
          "2006/07",
          "2007/08",
          "2008/09",
          "2009/10",
          "2010/11",
          "2011/12",
          "2012/13",
          "2013/14",
          "2014/15",
          "2015/16",
          "2016/17",
          "2017/18",
          "2018/19",
          "2019/20"
         ],
         "xaxis": "x",
         "y": [
          120000,
          96000,
          102000,
          114600,
          120000,
          120000,
          120000,
          120000,
          120000,
          120000,
          120000,
          120000,
          120000,
          120000,
          120000,
          114360,
          93600,
          81420,
          86100,
          83940,
          120000,
          120000,
          120000,
          120000,
          120000,
          120000,
          120000,
          120000,
          120000,
          120000
         ],
         "yaxis": "y"
        },
        {
         "hovertemplate": "Country=Philippines<br>Year=%{x}<br>Total Domestic Consumption=%{y}<extra></extra>",
         "legendgroup": "Philippines",
         "line": {
          "color": "rgb(51, 34, 136)",
          "dash": "solid"
         },
         "marker": {
          "symbol": "circle"
         },
         "mode": "lines",
         "name": "Philippines",
         "showlegend": true,
         "type": "scattergl",
         "x": [
          "1990/91",
          "1991/92",
          "1992/93",
          "1993/94",
          "1994/95",
          "1995/96",
          "1996/97",
          "1997/98",
          "1998/99",
          "1999/00",
          "2000/01",
          "2001/02",
          "2002/03",
          "2003/04",
          "2004/05",
          "2005/06",
          "2006/07",
          "2007/08",
          "2008/09",
          "2009/10",
          "2010/11",
          "2011/12",
          "2012/13",
          "2013/14",
          "2014/15",
          "2015/16",
          "2016/17",
          "2017/18",
          "2018/19",
          "2019/20"
         ],
         "xaxis": "x",
         "y": [
          21000000,
          21000000,
          21000000,
          21000000,
          21000000,
          21000000,
          18000000,
          18000000,
          18000000,
          13800000,
          12000000,
          12000000,
          9000000,
          9000000,
          9000000,
          9000000,
          9000000,
          9000000,
          9000000,
          9000000,
          9000000,
          9000000,
          9000000,
          9300000,
          9300000,
          9300000,
          9300000,
          9300000,
          9300000,
          8940000
         ],
         "yaxis": "y"
        },
        {
         "hovertemplate": "Country=Colombia<br>Year=%{x}<br>Total Domestic Consumption=%{y}<extra></extra>",
         "legendgroup": "Colombia",
         "line": {
          "color": "rgb(170, 68, 153)",
          "dash": "solid"
         },
         "marker": {
          "symbol": "circle"
         },
         "mode": "lines",
         "name": "Colombia",
         "showlegend": true,
         "type": "scattergl",
         "x": [
          "1990/91",
          "1991/92",
          "1992/93",
          "1993/94",
          "1994/95",
          "1995/96",
          "1996/97",
          "1997/98",
          "1998/99",
          "1999/00",
          "2000/01",
          "2001/02",
          "2002/03",
          "2003/04",
          "2004/05",
          "2005/06",
          "2006/07",
          "2007/08",
          "2008/09",
          "2009/10",
          "2010/11",
          "2011/12",
          "2012/13",
          "2013/14",
          "2014/15",
          "2015/16",
          "2016/17",
          "2017/18",
          "2018/19",
          "2019/20"
         ],
         "xaxis": "x",
         "y": [
          74520000,
          76800000,
          79140000,
          81540000,
          84000000,
          86580000,
          89160000,
          91920000,
          94680000,
          97560000,
          100560000,
          120000000,
          106740000,
          109980000,
          120000000,
          150000000,
          169980000,
          199980000,
          199980000,
          199980000,
          199980000,
          220020000,
          234000000,
          255000000,
          265020000,
          273000000,
          279000000,
          285000000,
          288000000,
          288360000
         ],
         "yaxis": "y"
        },
        {
         "hovertemplate": "Country=Venezuela<br>Year=%{x}<br>Total Domestic Consumption=%{y}<extra></extra>",
         "legendgroup": "Venezuela",
         "line": {
          "color": "rgb(68, 170, 153)",
          "dash": "solid"
         },
         "marker": {
          "symbol": "circle"
         },
         "mode": "lines",
         "name": "Venezuela",
         "showlegend": true,
         "type": "scattergl",
         "x": [
          "1990/91",
          "1991/92",
          "1992/93",
          "1993/94",
          "1994/95",
          "1995/96",
          "1996/97",
          "1997/98",
          "1998/99",
          "1999/00",
          "2000/01",
          "2001/02",
          "2002/03",
          "2003/04",
          "2004/05",
          "2005/06",
          "2006/07",
          "2007/08",
          "2008/09",
          "2009/10",
          "2010/11",
          "2011/12",
          "2012/13",
          "2013/14",
          "2014/15",
          "2015/16",
          "2016/17",
          "2017/18",
          "2018/19",
          "2019/20"
         ],
         "xaxis": "x",
         "y": [
          21000000,
          18000000,
          21000000,
          21600000,
          9999960,
          10020000,
          10020000,
          10020000,
          10020000,
          3360000,
          5346000,
          7680000,
          13020000,
          19980000,
          28020000,
          28020000,
          28020000,
          28020000,
          28020000,
          28020000,
          28020000,
          27000000,
          25800000,
          24600000,
          23400000,
          22200000,
          21600000,
          21900000,
          22500000,
          22500000
         ],
         "yaxis": "y"
        },
        {
         "hovertemplate": "Country=India<br>Year=%{x}<br>Total Domestic Consumption=%{y}<extra></extra>",
         "legendgroup": "India",
         "line": {
          "color": "rgb(153, 153, 51)",
          "dash": "solid"
         },
         "marker": {
          "symbol": "circle"
         },
         "mode": "lines",
         "name": "India",
         "showlegend": true,
         "type": "scattergl",
         "x": [
          "1990/91",
          "1991/92",
          "1992/93",
          "1993/94",
          "1994/95",
          "1995/96",
          "1996/97",
          "1997/98",
          "1998/99",
          "1999/00",
          "2000/01",
          "2001/02",
          "2002/03",
          "2003/04",
          "2004/05",
          "2005/06",
          "2006/07",
          "2007/08",
          "2008/09",
          "2009/10",
          "2010/11",
          "2011/12",
          "2012/13",
          "2013/14",
          "2014/15",
          "2015/16",
          "2016/17",
          "2017/18",
          "2018/19",
          "2019/20"
         ],
         "xaxis": "x",
         "y": [
          120000,
          120000,
          120000,
          120000,
          120000,
          120000,
          120000,
          120000,
          120000,
          60000,
          60000,
          60000,
          60000,
          60000,
          60000,
          60000,
          60000,
          60000,
          60000,
          60000,
          60000,
          60000,
          60000,
          60000,
          60000,
          60000,
          60000,
          60000,
          60000,
          60000
         ],
         "yaxis": "y"
        },
        {
         "hovertemplate": "Country=Viet Nam<br>Year=%{x}<br>Total Domestic Consumption=%{y}<extra></extra>",
         "legendgroup": "Viet Nam",
         "line": {
          "color": "rgb(136, 34, 85)",
          "dash": "solid"
         },
         "marker": {
          "symbol": "circle"
         },
         "mode": "lines",
         "name": "Viet Nam",
         "showlegend": true,
         "type": "scattergl",
         "x": [
          "1990/91",
          "1991/92",
          "1992/93",
          "1993/94",
          "1994/95",
          "1995/96",
          "1996/97",
          "1997/98",
          "1998/99",
          "1999/00",
          "2000/01",
          "2001/02",
          "2002/03",
          "2003/04",
          "2004/05",
          "2005/06",
          "2006/07",
          "2007/08",
          "2008/09",
          "2009/10",
          "2010/11",
          "2011/12",
          "2012/13",
          "2013/14",
          "2014/15",
          "2015/16",
          "2016/17",
          "2017/18",
          "2018/19",
          "2019/20"
         ],
         "xaxis": "x",
         "y": [
          180000,
          180000,
          180000,
          120000,
          120000,
          120000,
          120000,
          120000,
          60000,
          120000,
          120000,
          120000,
          120000,
          120000,
          120000,
          120000,
          120000,
          120000,
          120000,
          120000,
          85800,
          74160,
          102660,
          122340,
          115440,
          108000,
          120000,
          120000,
          120000,
          120000
         ],
         "yaxis": "y"
        },
        {
         "hovertemplate": "Country=Thailand<br>Year=%{x}<br>Total Domestic Consumption=%{y}<extra></extra>",
         "legendgroup": "Thailand",
         "line": {
          "color": "rgb(102, 17, 0)",
          "dash": "solid"
         },
         "marker": {
          "symbol": "circle"
         },
         "mode": "lines",
         "name": "Thailand",
         "showlegend": true,
         "type": "scattergl",
         "x": [
          "1990/91",
          "1991/92",
          "1992/93",
          "1993/94",
          "1994/95",
          "1995/96",
          "1996/97",
          "1997/98",
          "1998/99",
          "1999/00",
          "2000/01",
          "2001/02",
          "2002/03",
          "2003/04",
          "2004/05",
          "2005/06",
          "2006/07",
          "2007/08",
          "2008/09",
          "2009/10",
          "2010/11",
          "2011/12",
          "2012/13",
          "2013/14",
          "2014/15",
          "2015/16",
          "2016/17",
          "2017/18",
          "2018/19",
          "2019/20"
         ],
         "xaxis": "x",
         "y": [
          900000,
          900000,
          900000,
          1200000,
          1200000,
          1200000,
          1200000,
          1200000,
          1200000,
          1200000,
          1200000,
          1200000,
          1200000,
          1200000,
          1200000,
          1200000,
          1200000,
          1200000,
          1200000,
          1200000,
          1200000,
          1200000,
          1200000,
          1200000,
          1200000,
          1200000,
          1200000,
          1200000,
          1200000,
          1200000
         ],
         "yaxis": "y"
        },
        {
         "hovertemplate": "Country=Costa Rica<br>Year=%{x}<br>Total Domestic Consumption=%{y}<extra></extra>",
         "legendgroup": "Costa Rica",
         "line": {
          "color": "rgb(136, 136, 136)",
          "dash": "solid"
         },
         "marker": {
          "symbol": "circle"
         },
         "mode": "lines",
         "name": "Costa Rica",
         "showlegend": true,
         "type": "scattergl",
         "x": [
          "1990/91",
          "1991/92",
          "1992/93",
          "1993/94",
          "1994/95",
          "1995/96",
          "1996/97",
          "1997/98",
          "1998/99",
          "1999/00",
          "2000/01",
          "2001/02",
          "2002/03",
          "2003/04",
          "2004/05",
          "2005/06",
          "2006/07",
          "2007/08",
          "2008/09",
          "2009/10",
          "2010/11",
          "2011/12",
          "2012/13",
          "2013/14",
          "2014/15",
          "2015/16",
          "2016/17",
          "2017/18",
          "2018/19",
          "2019/20"
         ],
         "xaxis": "x",
         "y": [
          11400000,
          11400000,
          12000000,
          12000000,
          12000000,
          12000000,
          12000000,
          12000000,
          12000000,
          12000000,
          12000000,
          12000000,
          13200000,
          13200000,
          13200000,
          13200000,
          13200000,
          13200000,
          15000000,
          15000000,
          15000000,
          15000000,
          15000000,
          15000000,
          15000000,
          15000000,
          15000000,
          15000000,
          15000000,
          15000000
         ],
         "yaxis": "y"
        },
        {
         "hovertemplate": "Country=Dominican Republic<br>Year=%{x}<br>Total Domestic Consumption=%{y}<extra></extra>",
         "legendgroup": "Dominican Republic",
         "line": {
          "color": "rgb(136, 204, 238)",
          "dash": "solid"
         },
         "marker": {
          "symbol": "circle"
         },
         "mode": "lines",
         "name": "Dominican Republic",
         "showlegend": true,
         "type": "scattergl",
         "x": [
          "1990/91",
          "1991/92",
          "1992/93",
          "1993/94",
          "1994/95",
          "1995/96",
          "1996/97",
          "1997/98",
          "1998/99",
          "1999/00",
          "2000/01",
          "2001/02",
          "2002/03",
          "2003/04",
          "2004/05",
          "2005/06",
          "2006/07",
          "2007/08",
          "2008/09",
          "2009/10",
          "2010/11",
          "2011/12",
          "2012/13",
          "2013/14",
          "2014/15",
          "2015/16",
          "2016/17",
          "2017/18",
          "2018/19",
          "2019/20"
         ],
         "xaxis": "x",
         "y": [
          60000,
          60000,
          60000,
          60000,
          60000,
          60000,
          60000,
          180000,
          180000,
          120000,
          120000,
          120000,
          19980,
          19980,
          60000,
          60000,
          60000,
          60000,
          60000,
          60000,
          60000,
          60000,
          60000,
          60000,
          60000,
          60000,
          60000,
          60000,
          60000,
          60000
         ],
         "yaxis": "y"
        },
        {
         "hovertemplate": "Country=Haiti<br>Year=%{x}<br>Total Domestic Consumption=%{y}<extra></extra>",
         "legendgroup": "Haiti",
         "line": {
          "color": "rgb(204, 102, 119)",
          "dash": "solid"
         },
         "marker": {
          "symbol": "circle"
         },
         "mode": "lines",
         "name": "Haiti",
         "showlegend": true,
         "type": "scattergl",
         "x": [
          "1990/91",
          "1991/92",
          "1992/93",
          "1993/94",
          "1994/95",
          "1995/96",
          "1996/97",
          "1997/98",
          "1998/99",
          "1999/00",
          "2000/01",
          "2001/02",
          "2002/03",
          "2003/04",
          "2004/05",
          "2005/06",
          "2006/07",
          "2007/08",
          "2008/09",
          "2009/10",
          "2010/11",
          "2011/12",
          "2012/13",
          "2013/14",
          "2014/15",
          "2015/16",
          "2016/17",
          "2017/18",
          "2018/19",
          "2019/20"
         ],
         "xaxis": "x",
         "y": [
          0,
          0,
          0,
          0,
          0,
          0,
          0,
          0,
          0,
          0,
          0,
          0,
          0,
          0,
          0,
          0,
          0,
          0,
          0,
          0,
          29400,
          29400,
          29400,
          29400,
          29400,
          29400,
          29400,
          29400,
          29400,
          29400
         ],
         "yaxis": "y"
        },
        {
         "hovertemplate": "Country=Guatemala<br>Year=%{x}<br>Total Domestic Consumption=%{y}<extra></extra>",
         "legendgroup": "Guatemala",
         "line": {
          "color": "rgb(221, 204, 119)",
          "dash": "solid"
         },
         "marker": {
          "symbol": "circle"
         },
         "mode": "lines",
         "name": "Guatemala",
         "showlegend": true,
         "type": "scattergl",
         "x": [
          "1990/91",
          "1991/92",
          "1992/93",
          "1993/94",
          "1994/95",
          "1995/96",
          "1996/97",
          "1997/98",
          "1998/99",
          "1999/00",
          "2000/01",
          "2001/02",
          "2002/03",
          "2003/04",
          "2004/05",
          "2005/06",
          "2006/07",
          "2007/08",
          "2008/09",
          "2009/10",
          "2010/11",
          "2011/12",
          "2012/13",
          "2013/14",
          "2014/15",
          "2015/16",
          "2016/17",
          "2017/18",
          "2018/19",
          "2019/20"
         ],
         "xaxis": "x",
         "y": [
          480000,
          480000,
          480000,
          499980,
          499980,
          396000,
          240000,
          240000,
          240000,
          240000,
          240000,
          240000,
          240000,
          240000,
          240000,
          240000,
          240000,
          240000,
          240000,
          240000,
          240000,
          240000,
          240000,
          240000,
          240000,
          240000,
          240000,
          240000,
          240000,
          240000
         ],
         "yaxis": "y"
        },
        {
         "hovertemplate": "Country=Madagascar<br>Year=%{x}<br>Total Domestic Consumption=%{y}<extra></extra>",
         "legendgroup": "Madagascar",
         "line": {
          "color": "rgb(17, 119, 51)",
          "dash": "solid"
         },
         "marker": {
          "symbol": "circle"
         },
         "mode": "lines",
         "name": "Madagascar",
         "showlegend": true,
         "type": "scattergl",
         "x": [
          "1990/91",
          "1991/92",
          "1992/93",
          "1993/94",
          "1994/95",
          "1995/96",
          "1996/97",
          "1997/98",
          "1998/99",
          "1999/00",
          "2000/01",
          "2001/02",
          "2002/03",
          "2003/04",
          "2004/05",
          "2005/06",
          "2006/07",
          "2007/08",
          "2008/09",
          "2009/10",
          "2010/11",
          "2011/12",
          "2012/13",
          "2013/14",
          "2014/15",
          "2015/16",
          "2016/17",
          "2017/18",
          "2018/19",
          "2019/20"
         ],
         "xaxis": "x",
         "y": [
          180000,
          160020,
          160020,
          180000,
          180000,
          180000,
          180000,
          180000,
          180000,
          180000,
          180000,
          180000,
          180000,
          180000,
          180000,
          180000,
          180000,
          180000,
          180000,
          180000,
          180000,
          180000,
          180000,
          180000,
          180000,
          180000,
          180000,
          180000,
          180000,
          180000
         ],
         "yaxis": "y"
        },
        {
         "hovertemplate": "Country=Honduras<br>Year=%{x}<br>Total Domestic Consumption=%{y}<extra></extra>",
         "legendgroup": "Honduras",
         "line": {
          "color": "rgb(51, 34, 136)",
          "dash": "solid"
         },
         "marker": {
          "symbol": "circle"
         },
         "mode": "lines",
         "name": "Honduras",
         "showlegend": true,
         "type": "scattergl",
         "x": [
          "1990/91",
          "1991/92",
          "1992/93",
          "1993/94",
          "1994/95",
          "1995/96",
          "1996/97",
          "1997/98",
          "1998/99",
          "1999/00",
          "2000/01",
          "2001/02",
          "2002/03",
          "2003/04",
          "2004/05",
          "2005/06",
          "2006/07",
          "2007/08",
          "2008/09",
          "2009/10",
          "2010/11",
          "2011/12",
          "2012/13",
          "2013/14",
          "2014/15",
          "2015/16",
          "2016/17",
          "2017/18",
          "2018/19",
          "2019/20"
         ],
         "xaxis": "x",
         "y": [
          12780000,
          12780000,
          11700000,
          11646000,
          11640000,
          11640000,
          11340000,
          11700000,
          12000000,
          12000000,
          12780000,
          13200000,
          13440000,
          13440000,
          13440000,
          13440000,
          13440000,
          13440000,
          13200000,
          13200000,
          13200000,
          13200000,
          13200000,
          13200000,
          13200000,
          13200000,
          13200000,
          13200000,
          13200000,
          12960000
         ],
         "yaxis": "y"
        },
        {
         "hovertemplate": "Country=El Salvador<br>Year=%{x}<br>Total Domestic Consumption=%{y}<extra></extra>",
         "legendgroup": "El Salvador",
         "line": {
          "color": "rgb(170, 68, 153)",
          "dash": "solid"
         },
         "marker": {
          "symbol": "circle"
         },
         "mode": "lines",
         "name": "El Salvador",
         "showlegend": true,
         "type": "scattergl",
         "x": [
          "1990/91",
          "1991/92",
          "1992/93",
          "1993/94",
          "1994/95",
          "1995/96",
          "1996/97",
          "1997/98",
          "1998/99",
          "1999/00",
          "2000/01",
          "2001/02",
          "2002/03",
          "2003/04",
          "2004/05",
          "2005/06",
          "2006/07",
          "2007/08",
          "2008/09",
          "2009/10",
          "2010/11",
          "2011/12",
          "2012/13",
          "2013/14",
          "2014/15",
          "2015/16",
          "2016/17",
          "2017/18",
          "2018/19",
          "2019/20"
         ],
         "xaxis": "x",
         "y": [
          19200000,
          19200000,
          19200000,
          19200000,
          19800000,
          21000000,
          19500000,
          19500000,
          19500000,
          19500000,
          19500000,
          20411880,
          20411880,
          20400000,
          22679880,
          22679880,
          22679880,
          22680000,
          22680000,
          22680000,
          22680000,
          22680000,
          22680000,
          22999980,
          23280000,
          23280000,
          23400000,
          23400000,
          23400000,
          22620000
         ],
         "yaxis": "y"
        },
        {
         "hovertemplate": "Country=Côte d'Ivoire<br>Year=%{x}<br>Total Domestic Consumption=%{y}<extra></extra>",
         "legendgroup": "Côte d'Ivoire",
         "line": {
          "color": "rgb(68, 170, 153)",
          "dash": "solid"
         },
         "marker": {
          "symbol": "circle"
         },
         "mode": "lines",
         "name": "Côte d'Ivoire",
         "showlegend": true,
         "type": "scattergl",
         "x": [
          "1990/91",
          "1991/92",
          "1992/93",
          "1993/94",
          "1994/95",
          "1995/96",
          "1996/97",
          "1997/98",
          "1998/99",
          "1999/00",
          "2000/01",
          "2001/02",
          "2002/03",
          "2003/04",
          "2004/05",
          "2005/06",
          "2006/07",
          "2007/08",
          "2008/09",
          "2009/10",
          "2010/11",
          "2011/12",
          "2012/13",
          "2013/14",
          "2014/15",
          "2015/16",
          "2016/17",
          "2017/18",
          "2018/19",
          "2019/20"
         ],
         "xaxis": "x",
         "y": [
          13200000,
          19800000,
          19800000,
          19800000,
          19800000,
          19800000,
          19800000,
          19800000,
          19800000,
          20400000,
          20400000,
          20400000,
          20400000,
          20400000,
          20400000,
          20400000,
          20400000,
          20400000,
          20400000,
          20400000,
          20400000,
          20400000,
          20400000,
          20400000,
          20400000,
          20400000,
          20400000,
          20400000,
          20700000,
          20700000
         ],
         "yaxis": "y"
        },
        {
         "hovertemplate": "Country=Peru<br>Year=%{x}<br>Total Domestic Consumption=%{y}<extra></extra>",
         "legendgroup": "Peru",
         "line": {
          "color": "rgb(153, 153, 51)",
          "dash": "solid"
         },
         "marker": {
          "symbol": "circle"
         },
         "mode": "lines",
         "name": "Peru",
         "showlegend": true,
         "type": "scattergl",
         "x": [
          "1990/91",
          "1991/92",
          "1992/93",
          "1993/94",
          "1994/95",
          "1995/96",
          "1996/97",
          "1997/98",
          "1998/99",
          "1999/00",
          "2000/01",
          "2001/02",
          "2002/03",
          "2003/04",
          "2004/05",
          "2005/06",
          "2006/07",
          "2007/08",
          "2008/09",
          "2009/10",
          "2010/11",
          "2011/12",
          "2012/13",
          "2013/14",
          "2014/15",
          "2015/16",
          "2016/17",
          "2017/18",
          "2018/19",
          "2019/20"
         ],
         "xaxis": "x",
         "y": [
          43200000,
          45000000,
          45000000,
          46200000,
          47400000,
          48600000,
          49860000,
          51180000,
          48600000,
          51720000,
          49200000,
          49260000,
          49740000,
          55020000,
          61200000,
          62400000,
          63600000,
          63600000,
          103200000,
          109200000,
          127500000,
          130500000,
          139500000,
          153000000,
          168000000,
          180000000,
          181800000,
          190800000,
          198000000,
          195000000
         ],
         "yaxis": "y"
        },
        {
         "hovertemplate": "Country=Cuba<br>Year=%{x}<br>Total Domestic Consumption=%{y}<extra></extra>",
         "legendgroup": "Cuba",
         "line": {
          "color": "rgb(136, 34, 85)",
          "dash": "solid"
         },
         "marker": {
          "symbol": "circle"
         },
         "mode": "lines",
         "name": "Cuba",
         "showlegend": true,
         "type": "scattergl",
         "x": [
          "1990/91",
          "1991/92",
          "1992/93",
          "1993/94",
          "1994/95",
          "1995/96",
          "1996/97",
          "1997/98",
          "1998/99",
          "1999/00",
          "2000/01",
          "2001/02",
          "2002/03",
          "2003/04",
          "2004/05",
          "2005/06",
          "2006/07",
          "2007/08",
          "2008/09",
          "2009/10",
          "2010/11",
          "2011/12",
          "2012/13",
          "2013/14",
          "2014/15",
          "2015/16",
          "2016/17",
          "2017/18",
          "2018/19",
          "2019/20"
         ],
         "xaxis": "x",
         "y": [
          240000,
          210000,
          1152000,
          1050000,
          1050000,
          816000,
          996000,
          1020000,
          1020000,
          840000,
          900000,
          900000,
          900000,
          1620000,
          2220000,
          2820000,
          2820000,
          2820000,
          2820000,
          2820000,
          2820000,
          3537000,
          4302000,
          4408020,
          4603020,
          5523000,
          5478000,
          5500020,
          5520000,
          5700000
         ],
         "yaxis": "y"
        },
        {
         "hovertemplate": "Country=Ecuador<br>Year=%{x}<br>Total Domestic Consumption=%{y}<extra></extra>",
         "legendgroup": "Ecuador",
         "line": {
          "color": "rgb(102, 17, 0)",
          "dash": "solid"
         },
         "marker": {
          "symbol": "circle"
         },
         "mode": "lines",
         "name": "Ecuador",
         "showlegend": true,
         "type": "scattergl",
         "x": [
          "1990/91",
          "1991/92",
          "1992/93",
          "1993/94",
          "1994/95",
          "1995/96",
          "1996/97",
          "1997/98",
          "1998/99",
          "1999/00",
          "2000/01",
          "2001/02",
          "2002/03",
          "2003/04",
          "2004/05",
          "2005/06",
          "2006/07",
          "2007/08",
          "2008/09",
          "2009/10",
          "2010/11",
          "2011/12",
          "2012/13",
          "2013/14",
          "2014/15",
          "2015/16",
          "2016/17",
          "2017/18",
          "2018/19",
          "2019/20"
         ],
         "xaxis": "x",
         "y": [
          90000,
          90000,
          85920,
          60000,
          90000,
          36000,
          60000,
          36000,
          36000,
          36000,
          36000,
          36000,
          36000,
          36000,
          36000,
          36000,
          36000,
          60000,
          60000,
          0,
          0,
          0,
          0,
          0,
          0,
          0,
          0,
          0,
          0,
          0
         ],
         "yaxis": "y"
        },
        {
         "hovertemplate": "Country=Democratic Republic of Congo<br>Year=%{x}<br>Total Domestic Consumption=%{y}<extra></extra>",
         "legendgroup": "Democratic Republic of Congo",
         "line": {
          "color": "rgb(136, 136, 136)",
          "dash": "solid"
         },
         "marker": {
          "symbol": "circle"
         },
         "mode": "lines",
         "name": "Democratic Republic of Congo",
         "showlegend": true,
         "type": "scattergl",
         "x": [
          "1990/91",
          "1991/92",
          "1992/93",
          "1993/94",
          "1994/95",
          "1995/96",
          "1996/97",
          "1997/98",
          "1998/99",
          "1999/00",
          "2000/01",
          "2001/02",
          "2002/03",
          "2003/04",
          "2004/05",
          "2005/06",
          "2006/07",
          "2007/08",
          "2008/09",
          "2009/10",
          "2010/11",
          "2011/12",
          "2012/13",
          "2013/14",
          "2014/15",
          "2015/16",
          "2016/17",
          "2017/18",
          "2018/19",
          "2019/20"
         ],
         "xaxis": "x",
         "y": [
          4998000,
          4999980,
          4999980,
          6000000,
          6000000,
          6000000,
          6000000,
          6000000,
          6000000,
          6000000,
          4500000,
          4140000,
          4140000,
          4140000,
          4140000,
          4140000,
          4140000,
          4140000,
          4140000,
          4140000,
          4099980,
          4201020,
          4303980,
          4408980,
          4519020,
          4560000,
          4620000,
          4680000,
          4680000,
          4620000
         ],
         "yaxis": "y"
        },
        {
         "hovertemplate": "Country=Nicaragua<br>Year=%{x}<br>Total Domestic Consumption=%{y}<extra></extra>",
         "legendgroup": "Nicaragua",
         "line": {
          "color": "rgb(136, 204, 238)",
          "dash": "solid"
         },
         "marker": {
          "symbol": "circle"
         },
         "mode": "lines",
         "name": "Nicaragua",
         "showlegend": true,
         "type": "scattergl",
         "x": [
          "1990/91",
          "1991/92",
          "1992/93",
          "1993/94",
          "1994/95",
          "1995/96",
          "1996/97",
          "1997/98",
          "1998/99",
          "1999/00",
          "2000/01",
          "2001/02",
          "2002/03",
          "2003/04",
          "2004/05",
          "2005/06",
          "2006/07",
          "2007/08",
          "2008/09",
          "2009/10",
          "2010/11",
          "2011/12",
          "2012/13",
          "2013/14",
          "2014/15",
          "2015/16",
          "2016/17",
          "2017/18",
          "2018/19",
          "2019/20"
         ],
         "xaxis": "x",
         "y": [
          1680000,
          1680000,
          1680000,
          1500000,
          900000,
          600000,
          600000,
          600000,
          1140000,
          1260000,
          180000,
          180000,
          227220,
          227220,
          180000,
          180000,
          180000,
          199980,
          300000,
          499980,
          600000,
          799980,
          1000020,
          1200000,
          1200000,
          1200000,
          1200000,
          1200000,
          1200000,
          1200000
         ],
         "yaxis": "y"
        },
        {
         "hovertemplate": "Country=Uganda<br>Year=%{x}<br>Total Domestic Consumption=%{y}<extra></extra>",
         "legendgroup": "Uganda",
         "line": {
          "color": "rgb(204, 102, 119)",
          "dash": "solid"
         },
         "marker": {
          "symbol": "circle"
         },
         "mode": "lines",
         "name": "Uganda",
         "showlegend": true,
         "type": "scattergl",
         "x": [
          "1990/91",
          "1991/92",
          "1992/93",
          "1993/94",
          "1994/95",
          "1995/96",
          "1996/97",
          "1997/98",
          "1998/99",
          "1999/00",
          "2000/01",
          "2001/02",
          "2002/03",
          "2003/04",
          "2004/05",
          "2005/06",
          "2006/07",
          "2007/08",
          "2008/09",
          "2009/10",
          "2010/11",
          "2011/12",
          "2012/13",
          "2013/14",
          "2014/15",
          "2015/16",
          "2016/17",
          "2017/18",
          "2018/19",
          "2019/20"
         ],
         "xaxis": "x",
         "y": [
          74100000,
          76140000,
          78180000,
          80340000,
          82500000,
          81540000,
          80580000,
          79680000,
          78720000,
          77820000,
          76920000,
          76020000,
          75120000,
          74220000,
          73380000,
          72540000,
          71677980,
          76855380,
          77430000,
          76468740,
          78661440,
          86103900,
          90854520,
          97021200,
          99927060,
          103222380,
          104186484,
          107596260,
          107484600,
          121486440
         ],
         "yaxis": "y"
        },
        {
         "hovertemplate": "Country=Lao People's Democratic Republic<br>Year=%{x}<br>Total Domestic Consumption=%{y}<extra></extra>",
         "legendgroup": "Lao People's Democratic Republic",
         "line": {
          "color": "rgb(221, 204, 119)",
          "dash": "solid"
         },
         "marker": {
          "symbol": "circle"
         },
         "mode": "lines",
         "name": "Lao People's Democratic Republic",
         "showlegend": true,
         "type": "scattergl",
         "x": [
          "1990/91",
          "1991/92",
          "1992/93",
          "1993/94",
          "1994/95",
          "1995/96",
          "1996/97",
          "1997/98",
          "1998/99",
          "1999/00",
          "2000/01",
          "2001/02",
          "2002/03",
          "2003/04",
          "2004/05",
          "2005/06",
          "2006/07",
          "2007/08",
          "2008/09",
          "2009/10",
          "2010/11",
          "2011/12",
          "2012/13",
          "2013/14",
          "2014/15",
          "2015/16",
          "2016/17",
          "2017/18",
          "2018/19",
          "2019/20"
         ],
         "xaxis": "x",
         "y": [
          22500000,
          22500000,
          22500000,
          22500000,
          22500000,
          22500000,
          22500000,
          22500000,
          22500000,
          22500000,
          22500000,
          22500000,
          22500000,
          22500000,
          22500000,
          22500000,
          22500000,
          22500000,
          16071540,
          17726460,
          24433260,
          22853280,
          25385820,
          20103600,
          22844520,
          26929260,
          19767420,
          21200040,
          21900000,
          21120000
         ],
         "yaxis": "y"
        },
        {
         "hovertemplate": "Country=Cameroon<br>Year=%{x}<br>Total Domestic Consumption=%{y}<extra></extra>",
         "legendgroup": "Cameroon",
         "line": {
          "color": "rgb(17, 119, 51)",
          "dash": "solid"
         },
         "marker": {
          "symbol": "circle"
         },
         "mode": "lines",
         "name": "Cameroon",
         "showlegend": true,
         "type": "scattergl",
         "x": [
          "1990/91",
          "1991/92",
          "1992/93",
          "1993/94",
          "1994/95",
          "1995/96",
          "1996/97",
          "1997/98",
          "1998/99",
          "1999/00",
          "2000/01",
          "2001/02",
          "2002/03",
          "2003/04",
          "2004/05",
          "2005/06",
          "2006/07",
          "2007/08",
          "2008/09",
          "2009/10",
          "2010/11",
          "2011/12",
          "2012/13",
          "2013/14",
          "2014/15",
          "2015/16",
          "2016/17",
          "2017/18",
          "2018/19",
          "2019/20"
         ],
         "xaxis": "x",
         "y": [
          3000000,
          3000000,
          3000000,
          3000000,
          3000000,
          3000000,
          3000000,
          3000000,
          3000000,
          3000000,
          19000020,
          19000020,
          19000020,
          19000020,
          19000020,
          19000020,
          19000020,
          19020000,
          19020000,
          19020000,
          19020000,
          19020000,
          19020000,
          19020000,
          19020000,
          19020000,
          19020000,
          19020000,
          19020000,
          19020000
         ],
         "yaxis": "y"
        },
        {
         "hovertemplate": "Country=Panama<br>Year=%{x}<br>Total Domestic Consumption=%{y}<extra></extra>",
         "legendgroup": "Panama",
         "line": {
          "color": "rgb(51, 34, 136)",
          "dash": "solid"
         },
         "marker": {
          "symbol": "circle"
         },
         "mode": "lines",
         "name": "Panama",
         "showlegend": true,
         "type": "scattergl",
         "x": [
          "1990/91",
          "1991/92",
          "1992/93",
          "1993/94",
          "1994/95",
          "1995/96",
          "1996/97",
          "1997/98",
          "1998/99",
          "1999/00",
          "2000/01",
          "2001/02",
          "2002/03",
          "2003/04",
          "2004/05",
          "2005/06",
          "2006/07",
          "2007/08",
          "2008/09",
          "2009/10",
          "2010/11",
          "2011/12",
          "2012/13",
          "2013/14",
          "2014/15",
          "2015/16",
          "2016/17",
          "2017/18",
          "2018/19",
          "2019/20"
         ],
         "xaxis": "x",
         "y": [
          12000000,
          12000000,
          12000000,
          12000000,
          12000000,
          12000000,
          12000000,
          12000000,
          12000000,
          12000000,
          12000000,
          12000000,
          12000000,
          12000000,
          12000000,
          12000000,
          12000000,
          12000000,
          12000000,
          12000000,
          12000000,
          12000000,
          12000000,
          12000000,
          12000000,
          12000000,
          12000000,
          12000000,
          12000000,
          11880000
         ],
         "yaxis": "y"
        },
        {
         "hovertemplate": "Country=Yemen<br>Year=%{x}<br>Total Domestic Consumption=%{y}<extra></extra>",
         "legendgroup": "Yemen",
         "line": {
          "color": "rgb(170, 68, 153)",
          "dash": "solid"
         },
         "marker": {
          "symbol": "circle"
         },
         "mode": "lines",
         "name": "Yemen",
         "showlegend": true,
         "type": "scattergl",
         "x": [
          "1990/91",
          "1991/92",
          "1992/93",
          "1993/94",
          "1994/95",
          "1995/96",
          "1996/97",
          "1997/98",
          "1998/99",
          "1999/00",
          "2000/01",
          "2001/02",
          "2002/03",
          "2003/04",
          "2004/05",
          "2005/06",
          "2006/07",
          "2007/08",
          "2008/09",
          "2009/10",
          "2010/11",
          "2011/12",
          "2012/13",
          "2013/14",
          "2014/15",
          "2015/16",
          "2016/17",
          "2017/18",
          "2018/19",
          "2019/20"
         ],
         "xaxis": "x",
         "y": [
          10800000,
          10800000,
          13800000,
          13800000,
          13800000,
          16200000,
          13800000,
          11500020,
          11500020,
          9198000,
          8640000,
          9198000,
          9198000,
          9198000,
          10350000,
          13446000,
          15228000,
          15030000,
          14658000,
          16098000,
          16560000,
          16404000,
          16596000,
          16500000,
          16800000,
          17100000,
          17520000,
          18000000,
          18000000,
          17520000
         ],
         "yaxis": "y"
        },
        {
         "hovertemplate": "Country=Kenya<br>Year=%{x}<br>Total Domestic Consumption=%{y}<extra></extra>",
         "legendgroup": "Kenya",
         "line": {
          "color": "rgb(68, 170, 153)",
          "dash": "solid"
         },
         "marker": {
          "symbol": "circle"
         },
         "mode": "lines",
         "name": "Kenya",
         "showlegend": true,
         "type": "scattergl",
         "x": [
          "1990/91",
          "1991/92",
          "1992/93",
          "1993/94",
          "1994/95",
          "1995/96",
          "1996/97",
          "1997/98",
          "1998/99",
          "1999/00",
          "2000/01",
          "2001/02",
          "2002/03",
          "2003/04",
          "2004/05",
          "2005/06",
          "2006/07",
          "2007/08",
          "2008/09",
          "2009/10",
          "2010/11",
          "2011/12",
          "2012/13",
          "2013/14",
          "2014/15",
          "2015/16",
          "2016/17",
          "2017/18",
          "2018/19",
          "2019/20"
         ],
         "xaxis": "x",
         "y": [
          0,
          0,
          0,
          0,
          0,
          0,
          0,
          0,
          0,
          0,
          0,
          0,
          0,
          0,
          0,
          0,
          0,
          0,
          0,
          0,
          0,
          0,
          0,
          0,
          0,
          0,
          0,
          0,
          0,
          0
         ],
         "yaxis": "y"
        },
        {
         "hovertemplate": "Country=Guinea<br>Year=%{x}<br>Total Domestic Consumption=%{y}<extra></extra>",
         "legendgroup": "Guinea",
         "line": {
          "color": "rgb(153, 153, 51)",
          "dash": "solid"
         },
         "marker": {
          "symbol": "circle"
         },
         "mode": "lines",
         "name": "Guinea",
         "showlegend": true,
         "type": "scattergl",
         "x": [
          "1990/91",
          "1991/92",
          "1992/93",
          "1993/94",
          "1994/95",
          "1995/96",
          "1996/97",
          "1997/98",
          "1998/99",
          "1999/00",
          "2000/01",
          "2001/02",
          "2002/03",
          "2003/04",
          "2004/05",
          "2005/06",
          "2006/07",
          "2007/08",
          "2008/09",
          "2009/10",
          "2010/11",
          "2011/12",
          "2012/13",
          "2013/14",
          "2014/15",
          "2015/16",
          "2016/17",
          "2017/18",
          "2018/19",
          "2019/20"
         ],
         "xaxis": "x",
         "y": [
          72000000,
          75840000,
          79860000,
          84120000,
          88560000,
          93300000,
          98220000,
          103440000,
          108960000,
          114720000,
          120840000,
          127260000,
          134040000,
          141180000,
          148680000,
          156540000,
          164880000,
          173640000,
          182880000,
          186540000,
          190260000,
          194100000,
          197940000,
          201900000,
          205980000,
          210060000,
          214260000,
          218580000,
          221100000,
          226860000
         ],
         "yaxis": "y"
        },
        {
         "hovertemplate": "Country=Tanzania<br>Year=%{x}<br>Total Domestic Consumption=%{y}<extra></extra>",
         "legendgroup": "Tanzania",
         "line": {
          "color": "rgb(136, 34, 85)",
          "dash": "solid"
         },
         "marker": {
          "symbol": "circle"
         },
         "mode": "lines",
         "name": "Tanzania",
         "showlegend": true,
         "type": "scattergl",
         "x": [
          "1990/91",
          "1991/92",
          "1992/93",
          "1993/94",
          "1994/95",
          "1995/96",
          "1996/97",
          "1997/98",
          "1998/99",
          "1999/00",
          "2000/01",
          "2001/02",
          "2002/03",
          "2003/04",
          "2004/05",
          "2005/06",
          "2006/07",
          "2007/08",
          "2008/09",
          "2009/10",
          "2010/11",
          "2011/12",
          "2012/13",
          "2013/14",
          "2014/15",
          "2015/16",
          "2016/17",
          "2017/18",
          "2018/19",
          "2019/20"
         ],
         "xaxis": "x",
         "y": [
          102000,
          60000,
          48000,
          48000,
          60000,
          48000,
          49980,
          48000,
          48000,
          42900,
          18000,
          18000,
          18000,
          18000,
          18000,
          18000,
          18000,
          18000,
          16500,
          15000,
          56820,
          61920,
          58020,
          34980,
          31020,
          30000,
          30000,
          30000,
          30000,
          30000
         ],
         "yaxis": "y"
        },
        {
         "hovertemplate": "Country=Bolivia (Plurinational State of)<br>Year=%{x}<br>Total Domestic Consumption=%{y}<extra></extra>",
         "legendgroup": "Bolivia (Plurinational State of)",
         "line": {
          "color": "rgb(102, 17, 0)",
          "dash": "solid"
         },
         "marker": {
          "symbol": "circle"
         },
         "mode": "lines",
         "name": "Bolivia (Plurinational State of)",
         "showlegend": true,
         "type": "scattergl",
         "x": [
          "1990/91",
          "1991/92",
          "1992/93",
          "1993/94",
          "1994/95",
          "1995/96",
          "1996/97",
          "1997/98",
          "1998/99",
          "1999/00",
          "2000/01",
          "2001/02",
          "2002/03",
          "2003/04",
          "2004/05",
          "2005/06",
          "2006/07",
          "2007/08",
          "2008/09",
          "2009/10",
          "2010/11",
          "2011/12",
          "2012/13",
          "2013/14",
          "2014/15",
          "2015/16",
          "2016/17",
          "2017/18",
          "2018/19",
          "2019/20"
         ],
         "xaxis": "x",
         "y": [
          1020000,
          1020000,
          1020000,
          1020000,
          1680000,
          1680000,
          180000,
          180000,
          60000,
          60000,
          60000,
          60000,
          60000,
          60000,
          95400,
          95400,
          60000,
          120000,
          120000,
          120000,
          120000,
          120000,
          120000,
          120000,
          120000,
          120000,
          120000,
          120000,
          120000,
          120000
         ],
         "yaxis": "y"
        },
        {
         "hovertemplate": "Country=Nigeria<br>Year=%{x}<br>Total Domestic Consumption=%{y}<extra></extra>",
         "legendgroup": "Nigeria",
         "line": {
          "color": "rgb(136, 136, 136)",
          "dash": "solid"
         },
         "marker": {
          "symbol": "circle"
         },
         "mode": "lines",
         "name": "Nigeria",
         "showlegend": true,
         "type": "scattergl",
         "x": [
          "1990/91",
          "1991/92",
          "1992/93",
          "1993/94",
          "1994/95",
          "1995/96",
          "1996/97",
          "1997/98",
          "1998/99",
          "1999/00",
          "2000/01",
          "2001/02",
          "2002/03",
          "2003/04",
          "2004/05",
          "2005/06",
          "2006/07",
          "2007/08",
          "2008/09",
          "2009/10",
          "2010/11",
          "2011/12",
          "2012/13",
          "2013/14",
          "2014/15",
          "2015/16",
          "2016/17",
          "2017/18",
          "2018/19",
          "2019/20"
         ],
         "xaxis": "x",
         "y": [
          18000000,
          18000000,
          18000000,
          18600000,
          18600000,
          18600000,
          18000000,
          18000000,
          18000000,
          18000000,
          18000000,
          18000000,
          18000000,
          18000000,
          18000000,
          18000000,
          18000000,
          18000000,
          20100000,
          19200000,
          20400000,
          21000000,
          21600000,
          22200000,
          22800000,
          23400000,
          23400000,
          23700000,
          23700000,
          23580000
         ],
         "yaxis": "y"
        },
        {
         "hovertemplate": "Country=Sri Lanka<br>Year=%{x}<br>Total Domestic Consumption=%{y}<extra></extra>",
         "legendgroup": "Sri Lanka",
         "line": {
          "color": "rgb(136, 204, 238)",
          "dash": "solid"
         },
         "marker": {
          "symbol": "circle"
         },
         "mode": "lines",
         "name": "Sri Lanka",
         "showlegend": true,
         "type": "scattergl",
         "x": [
          "1990/91",
          "1991/92",
          "1992/93",
          "1993/94",
          "1994/95",
          "1995/96",
          "1996/97",
          "1997/98",
          "1998/99",
          "1999/00",
          "2000/01",
          "2001/02",
          "2002/03",
          "2003/04",
          "2004/05",
          "2005/06",
          "2006/07",
          "2007/08",
          "2008/09",
          "2009/10",
          "2010/11",
          "2011/12",
          "2012/13",
          "2013/14",
          "2014/15",
          "2015/16",
          "2016/17",
          "2017/18",
          "2018/19",
          "2019/20"
         ],
         "xaxis": "x",
         "y": [
          1500000,
          1500000,
          3750000,
          1980000,
          3000000,
          3000000,
          3000000,
          3000000,
          3000000,
          3000000,
          3000000,
          3000000,
          3000000,
          3000000,
          3000000,
          3000000,
          3000000,
          3000000,
          3000000,
          3000000,
          3000000,
          3000000,
          3000000,
          3000000,
          3000000,
          3000000,
          3000000,
          3000000,
          3000000,
          3000000
         ],
         "yaxis": "y"
        },
        {
         "hovertemplate": "Country=Angola<br>Year=%{x}<br>Total Domestic Consumption=%{y}<extra></extra>",
         "legendgroup": "Angola",
         "line": {
          "color": "rgb(204, 102, 119)",
          "dash": "solid"
         },
         "marker": {
          "symbol": "circle"
         },
         "mode": "lines",
         "name": "Angola",
         "showlegend": true,
         "type": "scattergl",
         "x": [
          "1990/91",
          "1991/92",
          "1992/93",
          "1993/94",
          "1994/95",
          "1995/96",
          "1996/97",
          "1997/98",
          "1998/99",
          "1999/00",
          "2000/01",
          "2001/02",
          "2002/03",
          "2003/04",
          "2004/05",
          "2005/06",
          "2006/07",
          "2007/08",
          "2008/09",
          "2009/10",
          "2010/11",
          "2011/12",
          "2012/13",
          "2013/14",
          "2014/15",
          "2015/16",
          "2016/17",
          "2017/18",
          "2018/19",
          "2019/20"
         ],
         "xaxis": "x",
         "y": [
          0,
          0,
          0,
          0,
          0,
          0,
          0,
          0,
          292020,
          261000,
          112980,
          250020,
          261000,
          285000,
          330000,
          336000,
          343020,
          420000,
          508020,
          493980,
          510000,
          516000,
          522000,
          528000,
          534000,
          540000,
          540000,
          540000,
          540000,
          540000
         ],
         "yaxis": "y"
        },
        {
         "hovertemplate": "Country=Paraguay<br>Year=%{x}<br>Total Domestic Consumption=%{y}<extra></extra>",
         "legendgroup": "Paraguay",
         "line": {
          "color": "rgb(221, 204, 119)",
          "dash": "solid"
         },
         "marker": {
          "symbol": "circle"
         },
         "mode": "lines",
         "name": "Paraguay",
         "showlegend": true,
         "type": "scattergl",
         "x": [
          "1990/91",
          "1991/92",
          "1992/93",
          "1993/94",
          "1994/95",
          "1995/96",
          "1996/97",
          "1997/98",
          "1998/99",
          "1999/00",
          "2000/01",
          "2001/02",
          "2002/03",
          "2003/04",
          "2004/05",
          "2005/06",
          "2006/07",
          "2007/08",
          "2008/09",
          "2009/10",
          "2010/11",
          "2011/12",
          "2012/13",
          "2013/14",
          "2014/15",
          "2015/16",
          "2016/17",
          "2017/18",
          "2018/19",
          "2019/20"
         ],
         "xaxis": "x",
         "y": [
          11289240,
          15426000,
          14400000,
          13800000,
          15180000,
          9660000,
          10075440,
          9660000,
          8280000,
          10080000,
          13800000,
          12000000,
          12000000,
          12000000,
          13800000,
          13800000,
          13800000,
          14700000,
          16099980,
          18400020,
          20100000,
          20400000,
          20700000,
          21000000,
          21300000,
          21900000,
          22200000,
          22500000,
          22500000,
          21000000
         ],
         "yaxis": "y"
        },
        {
         "hovertemplate": "Country=Central African Republic<br>Year=%{x}<br>Total Domestic Consumption=%{y}<extra></extra>",
         "legendgroup": "Central African Republic",
         "line": {
          "color": "rgb(17, 119, 51)",
          "dash": "solid"
         },
         "marker": {
          "symbol": "circle"
         },
         "mode": "lines",
         "name": "Central African Republic",
         "showlegend": true,
         "type": "scattergl",
         "x": [
          "1990/91",
          "1991/92",
          "1992/93",
          "1993/94",
          "1994/95",
          "1995/96",
          "1996/97",
          "1997/98",
          "1998/99",
          "1999/00",
          "2000/01",
          "2001/02",
          "2002/03",
          "2003/04",
          "2004/05",
          "2005/06",
          "2006/07",
          "2007/08",
          "2008/09",
          "2009/10",
          "2010/11",
          "2011/12",
          "2012/13",
          "2013/14",
          "2014/15",
          "2015/16",
          "2016/17",
          "2017/18",
          "2018/19",
          "2019/20"
         ],
         "xaxis": "x",
         "y": [
          54180000,
          55000020,
          55020000,
          49999980,
          50100000,
          50220000,
          50280000,
          50340000,
          54000000,
          55500000,
          58500000,
          64020000,
          67980000,
          70020000,
          72120000,
          74280000,
          76500000,
          81000000,
          76500000,
          79500000,
          79500000,
          79500000,
          82500000,
          84000000,
          85800000,
          87000000,
          86400000,
          88200000,
          88500000,
          87000000
         ],
         "yaxis": "y"
        },
        {
         "hovertemplate": "Country=Trinidad & Tobago<br>Year=%{x}<br>Total Domestic Consumption=%{y}<extra></extra>",
         "legendgroup": "Trinidad & Tobago",
         "line": {
          "color": "rgb(51, 34, 136)",
          "dash": "solid"
         },
         "marker": {
          "symbol": "circle"
         },
         "mode": "lines",
         "name": "Trinidad & Tobago",
         "showlegend": true,
         "type": "scattergl",
         "x": [
          "1990/91",
          "1991/92",
          "1992/93",
          "1993/94",
          "1994/95",
          "1995/96",
          "1996/97",
          "1997/98",
          "1998/99",
          "1999/00",
          "2000/01",
          "2001/02",
          "2002/03",
          "2003/04",
          "2004/05",
          "2005/06",
          "2006/07",
          "2007/08",
          "2008/09",
          "2009/10",
          "2010/11",
          "2011/12",
          "2012/13",
          "2013/14",
          "2014/15",
          "2015/16",
          "2016/17",
          "2017/18",
          "2018/19",
          "2019/20"
         ],
         "xaxis": "x",
         "y": [
          420000,
          660000,
          360000,
          576000,
          900000,
          900000,
          1080000,
          1200000,
          888000,
          660000,
          724020,
          600000,
          540000,
          540000,
          540000,
          540000,
          540000,
          540000,
          540000,
          540000,
          540000,
          540000,
          540000,
          540000,
          540000,
          540000,
          540000,
          540000,
          540000,
          540000
         ],
         "yaxis": "y"
        },
        {
         "hovertemplate": "Country=Jamaica<br>Year=%{x}<br>Total Domestic Consumption=%{y}<extra></extra>",
         "legendgroup": "Jamaica",
         "line": {
          "color": "rgb(170, 68, 153)",
          "dash": "solid"
         },
         "marker": {
          "symbol": "circle"
         },
         "mode": "lines",
         "name": "Jamaica",
         "showlegend": true,
         "type": "scattergl",
         "x": [
          "1990/91",
          "1991/92",
          "1992/93",
          "1993/94",
          "1994/95",
          "1995/96",
          "1996/97",
          "1997/98",
          "1998/99",
          "1999/00",
          "2000/01",
          "2001/02",
          "2002/03",
          "2003/04",
          "2004/05",
          "2005/06",
          "2006/07",
          "2007/08",
          "2008/09",
          "2009/10",
          "2010/11",
          "2011/12",
          "2012/13",
          "2013/14",
          "2014/15",
          "2015/16",
          "2016/17",
          "2017/18",
          "2018/19",
          "2019/20"
         ],
         "xaxis": "x",
         "y": [
          3000000,
          3000000,
          3000000,
          3000000,
          3000000,
          3000000,
          3000000,
          3000000,
          3000000,
          3000000,
          3000000,
          3000000,
          3000000,
          3000000,
          3000000,
          3000000,
          3000000,
          3000000,
          3000000,
          3000000,
          3000000,
          3000000,
          3000000,
          3300000,
          3300000,
          3600000,
          3600000,
          3900000,
          4200000,
          4290000
         ],
         "yaxis": "y"
        },
        {
         "hovertemplate": "Country=Sierra Leone<br>Year=%{x}<br>Total Domestic Consumption=%{y}<extra></extra>",
         "legendgroup": "Sierra Leone",
         "line": {
          "color": "rgb(68, 170, 153)",
          "dash": "solid"
         },
         "marker": {
          "symbol": "circle"
         },
         "mode": "lines",
         "name": "Sierra Leone",
         "showlegend": true,
         "type": "scattergl",
         "x": [
          "1990/91",
          "1991/92",
          "1992/93",
          "1993/94",
          "1994/95",
          "1995/96",
          "1996/97",
          "1997/98",
          "1998/99",
          "1999/00",
          "2000/01",
          "2001/02",
          "2002/03",
          "2003/04",
          "2004/05",
          "2005/06",
          "2006/07",
          "2007/08",
          "2008/09",
          "2009/10",
          "2010/11",
          "2011/12",
          "2012/13",
          "2013/14",
          "2014/15",
          "2015/16",
          "2016/17",
          "2017/18",
          "2018/19",
          "2019/20"
         ],
         "xaxis": "x",
         "y": [
          0,
          0,
          0,
          0,
          0,
          0,
          0,
          0,
          0,
          0,
          0,
          0,
          9480000,
          6180000,
          8100000,
          8400000,
          8400000,
          8400000,
          9000000,
          9000000,
          9000000,
          9000000,
          9000000,
          9000000,
          9000000,
          9000000,
          9000000,
          9300000,
          9300000,
          9420000
         ],
         "yaxis": "y"
        },
        {
         "hovertemplate": "Country=Ghana<br>Year=%{x}<br>Total Domestic Consumption=%{y}<extra></extra>",
         "legendgroup": "Ghana",
         "line": {
          "color": "rgb(153, 153, 51)",
          "dash": "solid"
         },
         "marker": {
          "symbol": "circle"
         },
         "mode": "lines",
         "name": "Ghana",
         "showlegend": true,
         "type": "scattergl",
         "x": [
          "1990/91",
          "1991/92",
          "1992/93",
          "1993/94",
          "1994/95",
          "1995/96",
          "1996/97",
          "1997/98",
          "1998/99",
          "1999/00",
          "2000/01",
          "2001/02",
          "2002/03",
          "2003/04",
          "2004/05",
          "2005/06",
          "2006/07",
          "2007/08",
          "2008/09",
          "2009/10",
          "2010/11",
          "2011/12",
          "2012/13",
          "2013/14",
          "2014/15",
          "2015/16",
          "2016/17",
          "2017/18",
          "2018/19",
          "2019/20"
         ],
         "xaxis": "x",
         "y": [
          180000,
          180000,
          180000,
          300000,
          300000,
          300000,
          300000,
          300000,
          300000,
          300000,
          300000,
          300000,
          300000,
          300000,
          300000,
          300000,
          300000,
          300000,
          300000,
          300000,
          300000,
          300000,
          300000,
          300000,
          300000,
          300000,
          300000,
          300000,
          300000,
          300000
         ],
         "yaxis": "y"
        },
        {
         "hovertemplate": "Country=Guyana<br>Year=%{x}<br>Total Domestic Consumption=%{y}<extra></extra>",
         "legendgroup": "Guyana",
         "line": {
          "color": "rgb(136, 34, 85)",
          "dash": "solid"
         },
         "marker": {
          "symbol": "circle"
         },
         "mode": "lines",
         "name": "Guyana",
         "showlegend": true,
         "type": "scattergl",
         "x": [
          "1990/91",
          "1991/92",
          "1992/93",
          "1993/94",
          "1994/95",
          "1995/96",
          "1996/97",
          "1997/98",
          "1998/99",
          "1999/00",
          "2000/01",
          "2001/02",
          "2002/03",
          "2003/04",
          "2004/05",
          "2005/06",
          "2006/07",
          "2007/08",
          "2008/09",
          "2009/10",
          "2010/11",
          "2011/12",
          "2012/13",
          "2013/14",
          "2014/15",
          "2015/16",
          "2016/17",
          "2017/18",
          "2018/19",
          "2019/20"
         ],
         "xaxis": "x",
         "y": [
          82440000,
          72000000,
          78000000,
          64200000,
          61200000,
          70740000,
          74100000,
          72060000,
          66480000,
          69000000,
          78300000,
          90000000,
          90000000,
          90000000,
          90000000,
          103500000,
          120000000,
          132000000,
          132000000,
          132000000,
          141240000,
          141240000,
          141240000,
          139260000,
          140820000,
          139740000,
          141600000,
          144000000,
          147000000,
          145500000
         ],
         "yaxis": "y"
        },
        {
         "hovertemplate": "Country=Liberia<br>Year=%{x}<br>Total Domestic Consumption=%{y}<extra></extra>",
         "legendgroup": "Liberia",
         "line": {
          "color": "rgb(102, 17, 0)",
          "dash": "solid"
         },
         "marker": {
          "symbol": "circle"
         },
         "mode": "lines",
         "name": "Liberia",
         "showlegend": true,
         "type": "scattergl",
         "x": [
          "1990/91",
          "1991/92",
          "1992/93",
          "1993/94",
          "1994/95",
          "1995/96",
          "1996/97",
          "1997/98",
          "1998/99",
          "1999/00",
          "2000/01",
          "2001/02",
          "2002/03",
          "2003/04",
          "2004/05",
          "2005/06",
          "2006/07",
          "2007/08",
          "2008/09",
          "2009/10",
          "2010/11",
          "2011/12",
          "2012/13",
          "2013/14",
          "2014/15",
          "2015/16",
          "2016/17",
          "2017/18",
          "2018/19",
          "2019/20"
         ],
         "xaxis": "x",
         "y": [
          0,
          0,
          0,
          0,
          0,
          0,
          0,
          0,
          0,
          0,
          0,
          0,
          0,
          0,
          0,
          0,
          0,
          0,
          0,
          0,
          0,
          0,
          0,
          0,
          0,
          0,
          0,
          0,
          0,
          0
         ],
         "yaxis": "y"
        },
        {
         "hovertemplate": "Country=Zimbabwe<br>Year=%{x}<br>Total Domestic Consumption=%{y}<extra></extra>",
         "legendgroup": "Zimbabwe",
         "line": {
          "color": "rgb(136, 136, 136)",
          "dash": "solid"
         },
         "marker": {
          "symbol": "circle"
         },
         "mode": "lines",
         "name": "Zimbabwe",
         "showlegend": true,
         "type": "scattergl",
         "x": [
          "1990/91",
          "1991/92",
          "1992/93",
          "1993/94",
          "1994/95",
          "1995/96",
          "1996/97",
          "1997/98",
          "1998/99",
          "1999/00",
          "2000/01",
          "2001/02",
          "2002/03",
          "2003/04",
          "2004/05",
          "2005/06",
          "2006/07",
          "2007/08",
          "2008/09",
          "2009/10",
          "2010/11",
          "2011/12",
          "2012/13",
          "2013/14",
          "2014/15",
          "2015/16",
          "2016/17",
          "2017/18",
          "2018/19",
          "2019/20"
         ],
         "xaxis": "x",
         "y": [
          2040000,
          8280000,
          3936000,
          6534000,
          5376000,
          6690000,
          5722200,
          7380000,
          7590000,
          7818000,
          10495800,
          10639380,
          10777440,
          10914900,
          11056680,
          11203140,
          11351100,
          11498700,
          11648820,
          11797320,
          12164700,
          12315660,
          12471840,
          12573660,
          12704520,
          12836760,
          13003680,
          13080000,
          13200000,
          12600000
         ],
         "yaxis": "y"
        },
        {
         "hovertemplate": "Country=Congo<br>Year=%{x}<br>Total Domestic Consumption=%{y}<extra></extra>",
         "legendgroup": "Congo",
         "line": {
          "color": "rgb(136, 204, 238)",
          "dash": "solid"
         },
         "marker": {
          "symbol": "circle"
         },
         "mode": "lines",
         "name": "Congo",
         "showlegend": true,
         "type": "scattergl",
         "x": [
          "1990/91",
          "1991/92",
          "1992/93",
          "1993/94",
          "1994/95",
          "1995/96",
          "1996/97",
          "1997/98",
          "1998/99",
          "1999/00",
          "2000/01",
          "2001/02",
          "2002/03",
          "2003/04",
          "2004/05",
          "2005/06",
          "2006/07",
          "2007/08",
          "2008/09",
          "2009/10",
          "2010/11",
          "2011/12",
          "2012/13",
          "2013/14",
          "2014/15",
          "2015/16",
          "2016/17",
          "2017/18",
          "2018/19",
          "2019/20"
         ],
         "xaxis": "x",
         "y": [
          1650000,
          2145000,
          2145000,
          2400000,
          2400000,
          2400000,
          2400000,
          2400000,
          2400000,
          2400000,
          2400000,
          2400000,
          2400000,
          2400000,
          2400000,
          2400000,
          2400000,
          2400000,
          2400000,
          2400000,
          2400000,
          2400000,
          2400000,
          2400000,
          2400000,
          2400000,
          2400000,
          2400000,
          2400000,
          2400000
         ],
         "yaxis": "y"
        },
        {
         "hovertemplate": "Country=Papua New Guinea<br>Year=%{x}<br>Total Domestic Consumption=%{y}<extra></extra>",
         "legendgroup": "Papua New Guinea",
         "line": {
          "color": "rgb(204, 102, 119)",
          "dash": "solid"
         },
         "marker": {
          "symbol": "circle"
         },
         "mode": "lines",
         "name": "Papua New Guinea",
         "showlegend": true,
         "type": "scattergl",
         "x": [
          "1990/91",
          "1991/92",
          "1992/93",
          "1993/94",
          "1994/95",
          "1995/96",
          "1996/97",
          "1997/98",
          "1998/99",
          "1999/00",
          "2000/01",
          "2001/02",
          "2002/03",
          "2003/04",
          "2004/05",
          "2005/06",
          "2006/07",
          "2007/08",
          "2008/09",
          "2009/10",
          "2010/11",
          "2011/12",
          "2012/13",
          "2013/14",
          "2014/15",
          "2015/16",
          "2016/17",
          "2017/18",
          "2018/19",
          "2019/20"
         ],
         "xaxis": "x",
         "y": [
          3780000,
          4020000,
          4020000,
          4020000,
          4600020,
          4600020,
          4600020,
          4836900,
          4020000,
          4020000,
          4020000,
          4020000,
          4020000,
          4020000,
          4020000,
          4020000,
          4020000,
          4020000,
          4020000,
          4020000,
          4020000,
          4020000,
          4020000,
          4020000,
          4020000,
          4020000,
          4020000,
          4020000,
          4020000,
          4020000
         ],
         "yaxis": "y"
        },
        {
         "hovertemplate": "Country=Burundi<br>Year=%{x}<br>Total Domestic Consumption=%{y}<extra></extra>",
         "legendgroup": "Burundi",
         "line": {
          "color": "rgb(221, 204, 119)",
          "dash": "solid"
         },
         "marker": {
          "symbol": "circle"
         },
         "mode": "lines",
         "name": "Burundi",
         "showlegend": true,
         "type": "scattergl",
         "x": [
          "1990/91",
          "1991/92",
          "1992/93",
          "1993/94",
          "1994/95",
          "1995/96",
          "1996/97",
          "1997/98",
          "1998/99",
          "1999/00",
          "2000/01",
          "2001/02",
          "2002/03",
          "2003/04",
          "2004/05",
          "2005/06",
          "2006/07",
          "2007/08",
          "2008/09",
          "2009/10",
          "2010/11",
          "2011/12",
          "2012/13",
          "2013/14",
          "2014/15",
          "2015/16",
          "2016/17",
          "2017/18",
          "2018/19",
          "2019/20"
         ],
         "xaxis": "x",
         "y": [
          540000,
          540000,
          540000,
          300000,
          300000,
          480000,
          480000,
          300000,
          300000,
          300000,
          300000,
          300000,
          300000,
          300000,
          300000,
          300000,
          300000,
          300000,
          300000,
          300000,
          300000,
          300000,
          300000,
          300000,
          300000,
          300000,
          300000,
          300000,
          300000,
          300000
         ],
         "yaxis": "y"
        },
        {
         "hovertemplate": "Country=Malawi<br>Year=%{x}<br>Total Domestic Consumption=%{y}<extra></extra>",
         "legendgroup": "Malawi",
         "line": {
          "color": "rgb(17, 119, 51)",
          "dash": "solid"
         },
         "marker": {
          "symbol": "circle"
         },
         "mode": "lines",
         "name": "Malawi",
         "showlegend": true,
         "type": "scattergl",
         "x": [
          "1990/91",
          "1991/92",
          "1992/93",
          "1993/94",
          "1994/95",
          "1995/96",
          "1996/97",
          "1997/98",
          "1998/99",
          "1999/00",
          "2000/01",
          "2001/02",
          "2002/03",
          "2003/04",
          "2004/05",
          "2005/06",
          "2006/07",
          "2007/08",
          "2008/09",
          "2009/10",
          "2010/11",
          "2011/12",
          "2012/13",
          "2013/14",
          "2014/15",
          "2015/16",
          "2016/17",
          "2017/18",
          "2018/19",
          "2019/20"
         ],
         "xaxis": "x",
         "y": [
          4000020,
          4020000,
          1680000,
          1200000,
          1200000,
          1200000,
          1200000,
          1200000,
          1800000,
          1800000,
          1800000,
          1800000,
          1800000,
          1800000,
          1800000,
          1800000,
          1800000,
          1800000,
          1800000,
          1800000,
          2100000,
          2100000,
          2100000,
          2100000,
          2100000,
          2100000,
          2100000,
          2100000,
          2100000,
          2100000
         ],
         "yaxis": "y"
        },
        {
         "hovertemplate": "Country=Togo<br>Year=%{x}<br>Total Domestic Consumption=%{y}<extra></extra>",
         "legendgroup": "Togo",
         "line": {
          "color": "rgb(51, 34, 136)",
          "dash": "solid"
         },
         "marker": {
          "symbol": "circle"
         },
         "mode": "lines",
         "name": "Togo",
         "showlegend": true,
         "type": "scattergl",
         "x": [
          "1990/91",
          "1991/92",
          "1992/93",
          "1993/94",
          "1994/95",
          "1995/96",
          "1996/97",
          "1997/98",
          "1998/99",
          "1999/00",
          "2000/01",
          "2001/02",
          "2002/03",
          "2003/04",
          "2004/05",
          "2005/06",
          "2006/07",
          "2007/08",
          "2008/09",
          "2009/10",
          "2010/11",
          "2011/12",
          "2012/13",
          "2013/14",
          "2014/15",
          "2015/16",
          "2016/17",
          "2017/18",
          "2018/19",
          "2019/20"
         ],
         "xaxis": "x",
         "y": [
          11280000,
          13200000,
          13980000,
          15000000,
          16980000,
          25020000,
          19980000,
          23400000,
          25980000,
          25980000,
          30000000,
          30000000,
          30000000,
          30000000,
          30000000,
          30000000,
          30000000,
          33000000,
          36000000,
          42000000,
          46500000,
          66000000,
          67800000,
          72000000,
          75000000,
          78000000,
          81000000,
          82500000,
          84000000,
          84000000
         ],
         "yaxis": "y"
        },
        {
         "hovertemplate": "Country=Rwanda<br>Year=%{x}<br>Total Domestic Consumption=%{y}<extra></extra>",
         "legendgroup": "Rwanda",
         "line": {
          "color": "rgb(170, 68, 153)",
          "dash": "solid"
         },
         "marker": {
          "symbol": "circle"
         },
         "mode": "lines",
         "name": "Rwanda",
         "showlegend": true,
         "type": "scattergl",
         "x": [
          "1990/91",
          "1991/92",
          "1992/93",
          "1993/94",
          "1994/95",
          "1995/96",
          "1996/97",
          "1997/98",
          "1998/99",
          "1999/00",
          "2000/01",
          "2001/02",
          "2002/03",
          "2003/04",
          "2004/05",
          "2005/06",
          "2006/07",
          "2007/08",
          "2008/09",
          "2009/10",
          "2010/11",
          "2011/12",
          "2012/13",
          "2013/14",
          "2014/15",
          "2015/16",
          "2016/17",
          "2017/18",
          "2018/19",
          "2019/20"
         ],
         "xaxis": "x",
         "y": [
          60000,
          60000,
          60000,
          60000,
          60000,
          60000,
          60000,
          60000,
          120000,
          120000,
          120000,
          120000,
          120000,
          120000,
          120000,
          120000,
          120000,
          120000,
          120000,
          120000,
          120000,
          12600,
          14520,
          14280,
          11700,
          13200,
          15240,
          15240,
          15240,
          15600
         ],
         "yaxis": "y"
        },
        {
         "hovertemplate": "Country=Gabon<br>Year=%{x}<br>Total Domestic Consumption=%{y}<extra></extra>",
         "legendgroup": "Gabon",
         "line": {
          "color": "rgb(68, 170, 153)",
          "dash": "solid"
         },
         "marker": {
          "symbol": "circle"
         },
         "mode": "lines",
         "name": "Gabon",
         "showlegend": true,
         "type": "scattergl",
         "x": [
          "1990/91",
          "1991/92",
          "1992/93",
          "1993/94",
          "1994/95",
          "1995/96",
          "1996/97",
          "1997/98",
          "1998/99",
          "1999/00",
          "2000/01",
          "2001/02",
          "2002/03",
          "2003/04",
          "2004/05",
          "2005/06",
          "2006/07",
          "2007/08",
          "2008/09",
          "2009/10",
          "2010/11",
          "2011/12",
          "2012/13",
          "2013/14",
          "2014/15",
          "2015/16",
          "2016/17",
          "2017/18",
          "2018/19",
          "2019/20"
         ],
         "xaxis": "x",
         "y": [
          480000,
          690000,
          600000,
          600000,
          840000,
          840000,
          840000,
          840000,
          840000,
          840000,
          840000,
          840000,
          840000,
          840000,
          840000,
          840000,
          660000,
          660000,
          660000,
          660000,
          600000,
          600000,
          600000,
          600000,
          600000,
          600000,
          600000,
          600000,
          600000,
          600000
         ],
         "yaxis": "y"
        },
        {
         "hovertemplate": "Country=Zambia<br>Year=%{x}<br>Total Domestic Consumption=%{y}<extra></extra>",
         "legendgroup": "Zambia",
         "line": {
          "color": "rgb(153, 153, 51)",
          "dash": "solid"
         },
         "marker": {
          "symbol": "circle"
         },
         "mode": "lines",
         "name": "Zambia",
         "showlegend": true,
         "type": "scattergl",
         "x": [
          "1990/91",
          "1991/92",
          "1992/93",
          "1993/94",
          "1994/95",
          "1995/96",
          "1996/97",
          "1997/98",
          "1998/99",
          "1999/00",
          "2000/01",
          "2001/02",
          "2002/03",
          "2003/04",
          "2004/05",
          "2005/06",
          "2006/07",
          "2007/08",
          "2008/09",
          "2009/10",
          "2010/11",
          "2011/12",
          "2012/13",
          "2013/14",
          "2014/15",
          "2015/16",
          "2016/17",
          "2017/18",
          "2018/19",
          "2019/20"
         ],
         "xaxis": "x",
         "y": [
          4200000,
          4500000,
          4500000,
          4500000,
          4800000,
          4800000,
          4800000,
          6071400,
          6960000,
          7140000,
          8520000,
          8460000,
          8400000,
          7860000,
          8400000,
          9000000,
          10500000,
          10815000,
          11100000,
          11322000,
          12240000,
          12600000,
          12960000,
          13248000,
          13752000,
          14040000,
          14400000,
          14688000,
          15000000,
          15240000
         ],
         "yaxis": "y"
        },
        {
         "hovertemplate": "Country=Timor-Leste<br>Year=%{x}<br>Total Domestic Consumption=%{y}<extra></extra>",
         "legendgroup": "Timor-Leste",
         "line": {
          "color": "rgb(136, 34, 85)",
          "dash": "solid"
         },
         "marker": {
          "symbol": "circle"
         },
         "mode": "lines",
         "name": "Timor-Leste",
         "showlegend": true,
         "type": "scattergl",
         "x": [
          "1990/91",
          "1991/92",
          "1992/93",
          "1993/94",
          "1994/95",
          "1995/96",
          "1996/97",
          "1997/98",
          "1998/99",
          "1999/00",
          "2000/01",
          "2001/02",
          "2002/03",
          "2003/04",
          "2004/05",
          "2005/06",
          "2006/07",
          "2007/08",
          "2008/09",
          "2009/10",
          "2010/11",
          "2011/12",
          "2012/13",
          "2013/14",
          "2014/15",
          "2015/16",
          "2016/17",
          "2017/18",
          "2018/19",
          "2019/20"
         ],
         "xaxis": "x",
         "y": [
          46943400,
          48928800,
          50998200,
          53155800,
          55404000,
          57747600,
          60190800,
          62736599,
          65390400,
          68156400,
          71039400,
          74044200,
          77176200,
          80440800,
          83843400,
          87390000,
          91086600,
          94939800,
          98955600,
          99000000,
          99000000,
          99000000,
          99000000,
          99000000,
          99000000,
          99000000,
          99000000,
          96000000,
          93000000,
          76500000
         ],
         "yaxis": "y"
        },
        {
         "hovertemplate": "Country=Nepal<br>Year=%{x}<br>Total Domestic Consumption=%{y}<extra></extra>",
         "legendgroup": "Nepal",
         "line": {
          "color": "rgb(102, 17, 0)",
          "dash": "solid"
         },
         "marker": {
          "symbol": "circle"
         },
         "mode": "lines",
         "name": "Nepal",
         "showlegend": true,
         "type": "scattergl",
         "x": [
          "1990/91",
          "1991/92",
          "1992/93",
          "1993/94",
          "1994/95",
          "1995/96",
          "1996/97",
          "1997/98",
          "1998/99",
          "1999/00",
          "2000/01",
          "2001/02",
          "2002/03",
          "2003/04",
          "2004/05",
          "2005/06",
          "2006/07",
          "2007/08",
          "2008/09",
          "2009/10",
          "2010/11",
          "2011/12",
          "2012/13",
          "2013/14",
          "2014/15",
          "2015/16",
          "2016/17",
          "2017/18",
          "2018/19",
          "2019/20"
         ],
         "xaxis": "x",
         "y": [
          9000000,
          13800000,
          15000000,
          16020000,
          16020000,
          16910700,
          17850960,
          18843480,
          19891140,
          21000000,
          24097500,
          27651900,
          31130520,
          36410760,
          41781360,
          48000000,
          55020000,
          56280000,
          61260000,
          72480000,
          94980000,
          99000000,
          109500000,
          120000000,
          132000000,
          138000000,
          144000000,
          150000000,
          156000000,
          159000000
         ],
         "yaxis": "y"
        },
        {
         "hovertemplate": "Country=Equatorial Guinea<br>Year=%{x}<br>Total Domestic Consumption=%{y}<extra></extra>",
         "legendgroup": "Equatorial Guinea",
         "line": {
          "color": "rgb(136, 136, 136)",
          "dash": "solid"
         },
         "marker": {
          "symbol": "circle"
         },
         "mode": "lines",
         "name": "Equatorial Guinea",
         "showlegend": true,
         "type": "scattergl",
         "x": [
          "1990/91",
          "1991/92",
          "1992/93",
          "1993/94",
          "1994/95",
          "1995/96",
          "1996/97",
          "1997/98",
          "1998/99",
          "1999/00",
          "2000/01",
          "2001/02",
          "2002/03",
          "2003/04",
          "2004/05",
          "2005/06",
          "2006/07",
          "2007/08",
          "2008/09",
          "2009/10",
          "2010/11",
          "2011/12",
          "2012/13",
          "2013/14",
          "2014/15",
          "2015/16",
          "2016/17",
          "2017/18",
          "2018/19",
          "2019/20"
         ],
         "xaxis": "x",
         "y": [
          0,
          0,
          0,
          0,
          0,
          0,
          0,
          0,
          0,
          0,
          0,
          0,
          0,
          8760000,
          8160000,
          8280000,
          8280000,
          7800000,
          7800000,
          7800000,
          7800000,
          7800000,
          7800000,
          7800000,
          7500000,
          6900000,
          6000000,
          5400000,
          3900000,
          3840000
         ],
         "yaxis": "y"
        }
       ],
       "layout": {
        "height": 600,
        "legend": {
         "title": {
          "text": "Country"
         },
         "tracegroupgap": 0
        },
        "template": {
         "data": {
          "bar": [
           {
            "error_x": {
             "color": "#2a3f5f"
            },
            "error_y": {
             "color": "#2a3f5f"
            },
            "marker": {
             "line": {
              "color": "#E5ECF6",
              "width": 0.5
             },
             "pattern": {
              "fillmode": "overlay",
              "size": 10,
              "solidity": 0.2
             }
            },
            "type": "bar"
           }
          ],
          "barpolar": [
           {
            "marker": {
             "line": {
              "color": "#E5ECF6",
              "width": 0.5
             },
             "pattern": {
              "fillmode": "overlay",
              "size": 10,
              "solidity": 0.2
             }
            },
            "type": "barpolar"
           }
          ],
          "carpet": [
           {
            "aaxis": {
             "endlinecolor": "#2a3f5f",
             "gridcolor": "white",
             "linecolor": "white",
             "minorgridcolor": "white",
             "startlinecolor": "#2a3f5f"
            },
            "baxis": {
             "endlinecolor": "#2a3f5f",
             "gridcolor": "white",
             "linecolor": "white",
             "minorgridcolor": "white",
             "startlinecolor": "#2a3f5f"
            },
            "type": "carpet"
           }
          ],
          "choropleth": [
           {
            "colorbar": {
             "outlinewidth": 0,
             "ticks": ""
            },
            "type": "choropleth"
           }
          ],
          "contour": [
           {
            "colorbar": {
             "outlinewidth": 0,
             "ticks": ""
            },
            "colorscale": [
             [
              0,
              "#0d0887"
             ],
             [
              0.1111111111111111,
              "#46039f"
             ],
             [
              0.2222222222222222,
              "#7201a8"
             ],
             [
              0.3333333333333333,
              "#9c179e"
             ],
             [
              0.4444444444444444,
              "#bd3786"
             ],
             [
              0.5555555555555556,
              "#d8576b"
             ],
             [
              0.6666666666666666,
              "#ed7953"
             ],
             [
              0.7777777777777778,
              "#fb9f3a"
             ],
             [
              0.8888888888888888,
              "#fdca26"
             ],
             [
              1,
              "#f0f921"
             ]
            ],
            "type": "contour"
           }
          ],
          "contourcarpet": [
           {
            "colorbar": {
             "outlinewidth": 0,
             "ticks": ""
            },
            "type": "contourcarpet"
           }
          ],
          "heatmap": [
           {
            "colorbar": {
             "outlinewidth": 0,
             "ticks": ""
            },
            "colorscale": [
             [
              0,
              "#0d0887"
             ],
             [
              0.1111111111111111,
              "#46039f"
             ],
             [
              0.2222222222222222,
              "#7201a8"
             ],
             [
              0.3333333333333333,
              "#9c179e"
             ],
             [
              0.4444444444444444,
              "#bd3786"
             ],
             [
              0.5555555555555556,
              "#d8576b"
             ],
             [
              0.6666666666666666,
              "#ed7953"
             ],
             [
              0.7777777777777778,
              "#fb9f3a"
             ],
             [
              0.8888888888888888,
              "#fdca26"
             ],
             [
              1,
              "#f0f921"
             ]
            ],
            "type": "heatmap"
           }
          ],
          "heatmapgl": [
           {
            "colorbar": {
             "outlinewidth": 0,
             "ticks": ""
            },
            "colorscale": [
             [
              0,
              "#0d0887"
             ],
             [
              0.1111111111111111,
              "#46039f"
             ],
             [
              0.2222222222222222,
              "#7201a8"
             ],
             [
              0.3333333333333333,
              "#9c179e"
             ],
             [
              0.4444444444444444,
              "#bd3786"
             ],
             [
              0.5555555555555556,
              "#d8576b"
             ],
             [
              0.6666666666666666,
              "#ed7953"
             ],
             [
              0.7777777777777778,
              "#fb9f3a"
             ],
             [
              0.8888888888888888,
              "#fdca26"
             ],
             [
              1,
              "#f0f921"
             ]
            ],
            "type": "heatmapgl"
           }
          ],
          "histogram": [
           {
            "marker": {
             "pattern": {
              "fillmode": "overlay",
              "size": 10,
              "solidity": 0.2
             }
            },
            "type": "histogram"
           }
          ],
          "histogram2d": [
           {
            "colorbar": {
             "outlinewidth": 0,
             "ticks": ""
            },
            "colorscale": [
             [
              0,
              "#0d0887"
             ],
             [
              0.1111111111111111,
              "#46039f"
             ],
             [
              0.2222222222222222,
              "#7201a8"
             ],
             [
              0.3333333333333333,
              "#9c179e"
             ],
             [
              0.4444444444444444,
              "#bd3786"
             ],
             [
              0.5555555555555556,
              "#d8576b"
             ],
             [
              0.6666666666666666,
              "#ed7953"
             ],
             [
              0.7777777777777778,
              "#fb9f3a"
             ],
             [
              0.8888888888888888,
              "#fdca26"
             ],
             [
              1,
              "#f0f921"
             ]
            ],
            "type": "histogram2d"
           }
          ],
          "histogram2dcontour": [
           {
            "colorbar": {
             "outlinewidth": 0,
             "ticks": ""
            },
            "colorscale": [
             [
              0,
              "#0d0887"
             ],
             [
              0.1111111111111111,
              "#46039f"
             ],
             [
              0.2222222222222222,
              "#7201a8"
             ],
             [
              0.3333333333333333,
              "#9c179e"
             ],
             [
              0.4444444444444444,
              "#bd3786"
             ],
             [
              0.5555555555555556,
              "#d8576b"
             ],
             [
              0.6666666666666666,
              "#ed7953"
             ],
             [
              0.7777777777777778,
              "#fb9f3a"
             ],
             [
              0.8888888888888888,
              "#fdca26"
             ],
             [
              1,
              "#f0f921"
             ]
            ],
            "type": "histogram2dcontour"
           }
          ],
          "mesh3d": [
           {
            "colorbar": {
             "outlinewidth": 0,
             "ticks": ""
            },
            "type": "mesh3d"
           }
          ],
          "parcoords": [
           {
            "line": {
             "colorbar": {
              "outlinewidth": 0,
              "ticks": ""
             }
            },
            "type": "parcoords"
           }
          ],
          "pie": [
           {
            "automargin": true,
            "type": "pie"
           }
          ],
          "scatter": [
           {
            "fillpattern": {
             "fillmode": "overlay",
             "size": 10,
             "solidity": 0.2
            },
            "type": "scatter"
           }
          ],
          "scatter3d": [
           {
            "line": {
             "colorbar": {
              "outlinewidth": 0,
              "ticks": ""
             }
            },
            "marker": {
             "colorbar": {
              "outlinewidth": 0,
              "ticks": ""
             }
            },
            "type": "scatter3d"
           }
          ],
          "scattercarpet": [
           {
            "marker": {
             "colorbar": {
              "outlinewidth": 0,
              "ticks": ""
             }
            },
            "type": "scattercarpet"
           }
          ],
          "scattergeo": [
           {
            "marker": {
             "colorbar": {
              "outlinewidth": 0,
              "ticks": ""
             }
            },
            "type": "scattergeo"
           }
          ],
          "scattergl": [
           {
            "marker": {
             "colorbar": {
              "outlinewidth": 0,
              "ticks": ""
             }
            },
            "type": "scattergl"
           }
          ],
          "scattermapbox": [
           {
            "marker": {
             "colorbar": {
              "outlinewidth": 0,
              "ticks": ""
             }
            },
            "type": "scattermapbox"
           }
          ],
          "scatterpolar": [
           {
            "marker": {
             "colorbar": {
              "outlinewidth": 0,
              "ticks": ""
             }
            },
            "type": "scatterpolar"
           }
          ],
          "scatterpolargl": [
           {
            "marker": {
             "colorbar": {
              "outlinewidth": 0,
              "ticks": ""
             }
            },
            "type": "scatterpolargl"
           }
          ],
          "scatterternary": [
           {
            "marker": {
             "colorbar": {
              "outlinewidth": 0,
              "ticks": ""
             }
            },
            "type": "scatterternary"
           }
          ],
          "surface": [
           {
            "colorbar": {
             "outlinewidth": 0,
             "ticks": ""
            },
            "colorscale": [
             [
              0,
              "#0d0887"
             ],
             [
              0.1111111111111111,
              "#46039f"
             ],
             [
              0.2222222222222222,
              "#7201a8"
             ],
             [
              0.3333333333333333,
              "#9c179e"
             ],
             [
              0.4444444444444444,
              "#bd3786"
             ],
             [
              0.5555555555555556,
              "#d8576b"
             ],
             [
              0.6666666666666666,
              "#ed7953"
             ],
             [
              0.7777777777777778,
              "#fb9f3a"
             ],
             [
              0.8888888888888888,
              "#fdca26"
             ],
             [
              1,
              "#f0f921"
             ]
            ],
            "type": "surface"
           }
          ],
          "table": [
           {
            "cells": {
             "fill": {
              "color": "#EBF0F8"
             },
             "line": {
              "color": "white"
             }
            },
            "header": {
             "fill": {
              "color": "#C8D4E3"
             },
             "line": {
              "color": "white"
             }
            },
            "type": "table"
           }
          ]
         },
         "layout": {
          "annotationdefaults": {
           "arrowcolor": "#2a3f5f",
           "arrowhead": 0,
           "arrowwidth": 1
          },
          "autotypenumbers": "strict",
          "coloraxis": {
           "colorbar": {
            "outlinewidth": 0,
            "ticks": ""
           }
          },
          "colorscale": {
           "diverging": [
            [
             0,
             "#8e0152"
            ],
            [
             0.1,
             "#c51b7d"
            ],
            [
             0.2,
             "#de77ae"
            ],
            [
             0.3,
             "#f1b6da"
            ],
            [
             0.4,
             "#fde0ef"
            ],
            [
             0.5,
             "#f7f7f7"
            ],
            [
             0.6,
             "#e6f5d0"
            ],
            [
             0.7,
             "#b8e186"
            ],
            [
             0.8,
             "#7fbc41"
            ],
            [
             0.9,
             "#4d9221"
            ],
            [
             1,
             "#276419"
            ]
           ],
           "sequential": [
            [
             0,
             "#0d0887"
            ],
            [
             0.1111111111111111,
             "#46039f"
            ],
            [
             0.2222222222222222,
             "#7201a8"
            ],
            [
             0.3333333333333333,
             "#9c179e"
            ],
            [
             0.4444444444444444,
             "#bd3786"
            ],
            [
             0.5555555555555556,
             "#d8576b"
            ],
            [
             0.6666666666666666,
             "#ed7953"
            ],
            [
             0.7777777777777778,
             "#fb9f3a"
            ],
            [
             0.8888888888888888,
             "#fdca26"
            ],
            [
             1,
             "#f0f921"
            ]
           ],
           "sequentialminus": [
            [
             0,
             "#0d0887"
            ],
            [
             0.1111111111111111,
             "#46039f"
            ],
            [
             0.2222222222222222,
             "#7201a8"
            ],
            [
             0.3333333333333333,
             "#9c179e"
            ],
            [
             0.4444444444444444,
             "#bd3786"
            ],
            [
             0.5555555555555556,
             "#d8576b"
            ],
            [
             0.6666666666666666,
             "#ed7953"
            ],
            [
             0.7777777777777778,
             "#fb9f3a"
            ],
            [
             0.8888888888888888,
             "#fdca26"
            ],
            [
             1,
             "#f0f921"
            ]
           ]
          },
          "colorway": [
           "#636efa",
           "#EF553B",
           "#00cc96",
           "#ab63fa",
           "#FFA15A",
           "#19d3f3",
           "#FF6692",
           "#B6E880",
           "#FF97FF",
           "#FECB52"
          ],
          "font": {
           "color": "#2a3f5f"
          },
          "geo": {
           "bgcolor": "white",
           "lakecolor": "white",
           "landcolor": "#E5ECF6",
           "showlakes": true,
           "showland": true,
           "subunitcolor": "white"
          },
          "hoverlabel": {
           "align": "left"
          },
          "hovermode": "closest",
          "mapbox": {
           "style": "light"
          },
          "paper_bgcolor": "white",
          "plot_bgcolor": "#E5ECF6",
          "polar": {
           "angularaxis": {
            "gridcolor": "white",
            "linecolor": "white",
            "ticks": ""
           },
           "bgcolor": "#E5ECF6",
           "radialaxis": {
            "gridcolor": "white",
            "linecolor": "white",
            "ticks": ""
           }
          },
          "scene": {
           "xaxis": {
            "backgroundcolor": "#E5ECF6",
            "gridcolor": "white",
            "gridwidth": 2,
            "linecolor": "white",
            "showbackground": true,
            "ticks": "",
            "zerolinecolor": "white"
           },
           "yaxis": {
            "backgroundcolor": "#E5ECF6",
            "gridcolor": "white",
            "gridwidth": 2,
            "linecolor": "white",
            "showbackground": true,
            "ticks": "",
            "zerolinecolor": "white"
           },
           "zaxis": {
            "backgroundcolor": "#E5ECF6",
            "gridcolor": "white",
            "gridwidth": 2,
            "linecolor": "white",
            "showbackground": true,
            "ticks": "",
            "zerolinecolor": "white"
           }
          },
          "shapedefaults": {
           "line": {
            "color": "#2a3f5f"
           }
          },
          "ternary": {
           "aaxis": {
            "gridcolor": "white",
            "linecolor": "white",
            "ticks": ""
           },
           "baxis": {
            "gridcolor": "white",
            "linecolor": "white",
            "ticks": ""
           },
           "bgcolor": "#E5ECF6",
           "caxis": {
            "gridcolor": "white",
            "linecolor": "white",
            "ticks": ""
           }
          },
          "title": {
           "x": 0.05
          },
          "xaxis": {
           "automargin": true,
           "gridcolor": "white",
           "linecolor": "white",
           "ticks": "",
           "title": {
            "standoff": 15
           },
           "zerolinecolor": "white",
           "zerolinewidth": 2
          },
          "yaxis": {
           "automargin": true,
           "gridcolor": "white",
           "linecolor": "white",
           "ticks": "",
           "title": {
            "standoff": 15
           },
           "zerolinecolor": "white",
           "zerolinewidth": 2
          }
         }
        },
        "title": {
         "text": "Domestic Consumption Rates over Time",
         "x": 0.4
        },
        "width": 1000,
        "xaxis": {
         "anchor": "y",
         "domain": [
          0,
          1
         ],
         "title": {
          "text": "Year"
         }
        },
        "yaxis": {
         "anchor": "x",
         "domain": [
          0,
          1
         ],
         "title": {
          "text": "Total Domestic Consumption"
         }
        }
       }
      },
      "text/html": [
       "<div>                            <div id=\"0f78882b-b375-4a87-8699-9563b5c41b35\" class=\"plotly-graph-div\" style=\"height:600px; width:1000px;\"></div>            <script type=\"text/javascript\">                require([\"plotly\"], function(Plotly) {                    window.PLOTLYENV=window.PLOTLYENV || {};                                    if (document.getElementById(\"0f78882b-b375-4a87-8699-9563b5c41b35\")) {                    Plotly.newPlot(                        \"0f78882b-b375-4a87-8699-9563b5c41b35\",                        [{\"hovertemplate\":\"Country=Brazil<br>Year=%{x}<br>Total Domestic Consumption=%{y}<extra></extra>\",\"legendgroup\":\"Brazil\",\"line\":{\"color\":\"rgb(136, 204, 238)\",\"dash\":\"solid\"},\"marker\":{\"symbol\":\"circle\"},\"mode\":\"lines\",\"name\":\"Brazil\",\"showlegend\":true,\"x\":[\"1990/91\",\"1991/92\",\"1992/93\",\"1993/94\",\"1994/95\",\"1995/96\",\"1996/97\",\"1997/98\",\"1998/99\",\"1999/00\",\"2000/01\",\"2001/02\",\"2002/03\",\"2003/04\",\"2004/05\",\"2005/06\",\"2006/07\",\"2007/08\",\"2008/09\",\"2009/10\",\"2010/11\",\"2011/12\",\"2012/13\",\"2013/14\",\"2014/15\",\"2015/16\",\"2016/17\",\"2017/18\",\"2018/19\",\"2019/20\"],\"xaxis\":\"x\",\"y\":[1200000,1800000,2100000,1200000,1500000,600000,1200000,2400000,1800000,1200000,1200000,1200000,1200000,900000,900000,900000,1800000,1800000,1800000,1800000,1800000,1800000,1800000,1800000,1800000,1800000,1800000,1800000,1800000,1800000],\"yaxis\":\"y\",\"type\":\"scattergl\"},{\"hovertemplate\":\"Country=Indonesia<br>Year=%{x}<br>Total Domestic Consumption=%{y}<extra></extra>\",\"legendgroup\":\"Indonesia\",\"line\":{\"color\":\"rgb(204, 102, 119)\",\"dash\":\"solid\"},\"marker\":{\"symbol\":\"circle\"},\"mode\":\"lines\",\"name\":\"Indonesia\",\"showlegend\":true,\"x\":[\"1990/91\",\"1991/92\",\"1992/93\",\"1993/94\",\"1994/95\",\"1995/96\",\"1996/97\",\"1997/98\",\"1998/99\",\"1999/00\",\"2000/01\",\"2001/02\",\"2002/03\",\"2003/04\",\"2004/05\",\"2005/06\",\"2006/07\",\"2007/08\",\"2008/09\",\"2009/10\",\"2010/11\",\"2011/12\",\"2012/13\",\"2013/14\",\"2014/15\",\"2015/16\",\"2016/17\",\"2017/18\",\"2018/19\",\"2019/20\"],\"xaxis\":\"x\",\"y\":[1500000,1620000,1650000,1710000,1770000,1830000,1890000,1950000,1980000,2040000,2100000,2190000,2250000,2310000,2700000,2460000,2520000,2610000,2700000,2760000,2850000,2940000,3030000,3120000,3210000,3300000,3420000,3510000,3600000,3660000],\"yaxis\":\"y\",\"type\":\"scattergl\"},{\"hovertemplate\":\"Country=Ethiopia<br>Year=%{x}<br>Total Domestic Consumption=%{y}<extra></extra>\",\"legendgroup\":\"Ethiopia\",\"line\":{\"color\":\"rgb(221, 204, 119)\",\"dash\":\"solid\"},\"marker\":{\"symbol\":\"circle\"},\"mode\":\"lines\",\"name\":\"Ethiopia\",\"showlegend\":true,\"x\":[\"1990/91\",\"1991/92\",\"1992/93\",\"1993/94\",\"1994/95\",\"1995/96\",\"1996/97\",\"1997/98\",\"1998/99\",\"1999/00\",\"2000/01\",\"2001/02\",\"2002/03\",\"2003/04\",\"2004/05\",\"2005/06\",\"2006/07\",\"2007/08\",\"2008/09\",\"2009/10\",\"2010/11\",\"2011/12\",\"2012/13\",\"2013/14\",\"2014/15\",\"2015/16\",\"2016/17\",\"2017/18\",\"2018/19\",\"2019/20\"],\"xaxis\":\"x\",\"y\":[492000000,510000000,534000000,546000000,558000000,606000000,660000000,690000000,732000000,762000000,792000000,815400000,825000000,852000000,896760000,932280000,979860000,1026600000,1059600000,1103400000,1147920000,1183200000,1219800000,1205100000,1219980000,1230480000,1273500000,1319820000,1332000000,1320000000],\"yaxis\":\"y\",\"type\":\"scattergl\"},{\"hovertemplate\":\"Country=Mexico<br>Year=%{x}<br>Total Domestic Consumption=%{y}<extra></extra>\",\"legendgroup\":\"Mexico\",\"line\":{\"color\":\"rgb(17, 119, 51)\",\"dash\":\"solid\"},\"marker\":{\"symbol\":\"circle\"},\"mode\":\"lines\",\"name\":\"Mexico\",\"showlegend\":true,\"x\":[\"1990/91\",\"1991/92\",\"1992/93\",\"1993/94\",\"1994/95\",\"1995/96\",\"1996/97\",\"1997/98\",\"1998/99\",\"1999/00\",\"2000/01\",\"2001/02\",\"2002/03\",\"2003/04\",\"2004/05\",\"2005/06\",\"2006/07\",\"2007/08\",\"2008/09\",\"2009/10\",\"2010/11\",\"2011/12\",\"2012/13\",\"2013/14\",\"2014/15\",\"2015/16\",\"2016/17\",\"2017/18\",\"2018/19\",\"2019/20\"],\"xaxis\":\"x\",\"y\":[120000,96000,102000,114600,120000,120000,120000,120000,120000,120000,120000,120000,120000,120000,120000,114360,93600,81420,86100,83940,120000,120000,120000,120000,120000,120000,120000,120000,120000,120000],\"yaxis\":\"y\",\"type\":\"scattergl\"},{\"hovertemplate\":\"Country=Philippines<br>Year=%{x}<br>Total Domestic Consumption=%{y}<extra></extra>\",\"legendgroup\":\"Philippines\",\"line\":{\"color\":\"rgb(51, 34, 136)\",\"dash\":\"solid\"},\"marker\":{\"symbol\":\"circle\"},\"mode\":\"lines\",\"name\":\"Philippines\",\"showlegend\":true,\"x\":[\"1990/91\",\"1991/92\",\"1992/93\",\"1993/94\",\"1994/95\",\"1995/96\",\"1996/97\",\"1997/98\",\"1998/99\",\"1999/00\",\"2000/01\",\"2001/02\",\"2002/03\",\"2003/04\",\"2004/05\",\"2005/06\",\"2006/07\",\"2007/08\",\"2008/09\",\"2009/10\",\"2010/11\",\"2011/12\",\"2012/13\",\"2013/14\",\"2014/15\",\"2015/16\",\"2016/17\",\"2017/18\",\"2018/19\",\"2019/20\"],\"xaxis\":\"x\",\"y\":[21000000,21000000,21000000,21000000,21000000,21000000,18000000,18000000,18000000,13800000,12000000,12000000,9000000,9000000,9000000,9000000,9000000,9000000,9000000,9000000,9000000,9000000,9000000,9300000,9300000,9300000,9300000,9300000,9300000,8940000],\"yaxis\":\"y\",\"type\":\"scattergl\"},{\"hovertemplate\":\"Country=Colombia<br>Year=%{x}<br>Total Domestic Consumption=%{y}<extra></extra>\",\"legendgroup\":\"Colombia\",\"line\":{\"color\":\"rgb(170, 68, 153)\",\"dash\":\"solid\"},\"marker\":{\"symbol\":\"circle\"},\"mode\":\"lines\",\"name\":\"Colombia\",\"showlegend\":true,\"x\":[\"1990/91\",\"1991/92\",\"1992/93\",\"1993/94\",\"1994/95\",\"1995/96\",\"1996/97\",\"1997/98\",\"1998/99\",\"1999/00\",\"2000/01\",\"2001/02\",\"2002/03\",\"2003/04\",\"2004/05\",\"2005/06\",\"2006/07\",\"2007/08\",\"2008/09\",\"2009/10\",\"2010/11\",\"2011/12\",\"2012/13\",\"2013/14\",\"2014/15\",\"2015/16\",\"2016/17\",\"2017/18\",\"2018/19\",\"2019/20\"],\"xaxis\":\"x\",\"y\":[74520000,76800000,79140000,81540000,84000000,86580000,89160000,91920000,94680000,97560000,100560000,120000000,106740000,109980000,120000000,150000000,169980000,199980000,199980000,199980000,199980000,220020000,234000000,255000000,265020000,273000000,279000000,285000000,288000000,288360000],\"yaxis\":\"y\",\"type\":\"scattergl\"},{\"hovertemplate\":\"Country=Venezuela<br>Year=%{x}<br>Total Domestic Consumption=%{y}<extra></extra>\",\"legendgroup\":\"Venezuela\",\"line\":{\"color\":\"rgb(68, 170, 153)\",\"dash\":\"solid\"},\"marker\":{\"symbol\":\"circle\"},\"mode\":\"lines\",\"name\":\"Venezuela\",\"showlegend\":true,\"x\":[\"1990/91\",\"1991/92\",\"1992/93\",\"1993/94\",\"1994/95\",\"1995/96\",\"1996/97\",\"1997/98\",\"1998/99\",\"1999/00\",\"2000/01\",\"2001/02\",\"2002/03\",\"2003/04\",\"2004/05\",\"2005/06\",\"2006/07\",\"2007/08\",\"2008/09\",\"2009/10\",\"2010/11\",\"2011/12\",\"2012/13\",\"2013/14\",\"2014/15\",\"2015/16\",\"2016/17\",\"2017/18\",\"2018/19\",\"2019/20\"],\"xaxis\":\"x\",\"y\":[21000000,18000000,21000000,21600000,9999960,10020000,10020000,10020000,10020000,3360000,5346000,7680000,13020000,19980000,28020000,28020000,28020000,28020000,28020000,28020000,28020000,27000000,25800000,24600000,23400000,22200000,21600000,21900000,22500000,22500000],\"yaxis\":\"y\",\"type\":\"scattergl\"},{\"hovertemplate\":\"Country=India<br>Year=%{x}<br>Total Domestic Consumption=%{y}<extra></extra>\",\"legendgroup\":\"India\",\"line\":{\"color\":\"rgb(153, 153, 51)\",\"dash\":\"solid\"},\"marker\":{\"symbol\":\"circle\"},\"mode\":\"lines\",\"name\":\"India\",\"showlegend\":true,\"x\":[\"1990/91\",\"1991/92\",\"1992/93\",\"1993/94\",\"1994/95\",\"1995/96\",\"1996/97\",\"1997/98\",\"1998/99\",\"1999/00\",\"2000/01\",\"2001/02\",\"2002/03\",\"2003/04\",\"2004/05\",\"2005/06\",\"2006/07\",\"2007/08\",\"2008/09\",\"2009/10\",\"2010/11\",\"2011/12\",\"2012/13\",\"2013/14\",\"2014/15\",\"2015/16\",\"2016/17\",\"2017/18\",\"2018/19\",\"2019/20\"],\"xaxis\":\"x\",\"y\":[120000,120000,120000,120000,120000,120000,120000,120000,120000,60000,60000,60000,60000,60000,60000,60000,60000,60000,60000,60000,60000,60000,60000,60000,60000,60000,60000,60000,60000,60000],\"yaxis\":\"y\",\"type\":\"scattergl\"},{\"hovertemplate\":\"Country=Viet Nam<br>Year=%{x}<br>Total Domestic Consumption=%{y}<extra></extra>\",\"legendgroup\":\"Viet Nam\",\"line\":{\"color\":\"rgb(136, 34, 85)\",\"dash\":\"solid\"},\"marker\":{\"symbol\":\"circle\"},\"mode\":\"lines\",\"name\":\"Viet Nam\",\"showlegend\":true,\"x\":[\"1990/91\",\"1991/92\",\"1992/93\",\"1993/94\",\"1994/95\",\"1995/96\",\"1996/97\",\"1997/98\",\"1998/99\",\"1999/00\",\"2000/01\",\"2001/02\",\"2002/03\",\"2003/04\",\"2004/05\",\"2005/06\",\"2006/07\",\"2007/08\",\"2008/09\",\"2009/10\",\"2010/11\",\"2011/12\",\"2012/13\",\"2013/14\",\"2014/15\",\"2015/16\",\"2016/17\",\"2017/18\",\"2018/19\",\"2019/20\"],\"xaxis\":\"x\",\"y\":[180000,180000,180000,120000,120000,120000,120000,120000,60000,120000,120000,120000,120000,120000,120000,120000,120000,120000,120000,120000,85800,74160,102660,122340,115440,108000,120000,120000,120000,120000],\"yaxis\":\"y\",\"type\":\"scattergl\"},{\"hovertemplate\":\"Country=Thailand<br>Year=%{x}<br>Total Domestic Consumption=%{y}<extra></extra>\",\"legendgroup\":\"Thailand\",\"line\":{\"color\":\"rgb(102, 17, 0)\",\"dash\":\"solid\"},\"marker\":{\"symbol\":\"circle\"},\"mode\":\"lines\",\"name\":\"Thailand\",\"showlegend\":true,\"x\":[\"1990/91\",\"1991/92\",\"1992/93\",\"1993/94\",\"1994/95\",\"1995/96\",\"1996/97\",\"1997/98\",\"1998/99\",\"1999/00\",\"2000/01\",\"2001/02\",\"2002/03\",\"2003/04\",\"2004/05\",\"2005/06\",\"2006/07\",\"2007/08\",\"2008/09\",\"2009/10\",\"2010/11\",\"2011/12\",\"2012/13\",\"2013/14\",\"2014/15\",\"2015/16\",\"2016/17\",\"2017/18\",\"2018/19\",\"2019/20\"],\"xaxis\":\"x\",\"y\":[900000,900000,900000,1200000,1200000,1200000,1200000,1200000,1200000,1200000,1200000,1200000,1200000,1200000,1200000,1200000,1200000,1200000,1200000,1200000,1200000,1200000,1200000,1200000,1200000,1200000,1200000,1200000,1200000,1200000],\"yaxis\":\"y\",\"type\":\"scattergl\"},{\"hovertemplate\":\"Country=Costa Rica<br>Year=%{x}<br>Total Domestic Consumption=%{y}<extra></extra>\",\"legendgroup\":\"Costa Rica\",\"line\":{\"color\":\"rgb(136, 136, 136)\",\"dash\":\"solid\"},\"marker\":{\"symbol\":\"circle\"},\"mode\":\"lines\",\"name\":\"Costa Rica\",\"showlegend\":true,\"x\":[\"1990/91\",\"1991/92\",\"1992/93\",\"1993/94\",\"1994/95\",\"1995/96\",\"1996/97\",\"1997/98\",\"1998/99\",\"1999/00\",\"2000/01\",\"2001/02\",\"2002/03\",\"2003/04\",\"2004/05\",\"2005/06\",\"2006/07\",\"2007/08\",\"2008/09\",\"2009/10\",\"2010/11\",\"2011/12\",\"2012/13\",\"2013/14\",\"2014/15\",\"2015/16\",\"2016/17\",\"2017/18\",\"2018/19\",\"2019/20\"],\"xaxis\":\"x\",\"y\":[11400000,11400000,12000000,12000000,12000000,12000000,12000000,12000000,12000000,12000000,12000000,12000000,13200000,13200000,13200000,13200000,13200000,13200000,15000000,15000000,15000000,15000000,15000000,15000000,15000000,15000000,15000000,15000000,15000000,15000000],\"yaxis\":\"y\",\"type\":\"scattergl\"},{\"hovertemplate\":\"Country=Dominican Republic<br>Year=%{x}<br>Total Domestic Consumption=%{y}<extra></extra>\",\"legendgroup\":\"Dominican Republic\",\"line\":{\"color\":\"rgb(136, 204, 238)\",\"dash\":\"solid\"},\"marker\":{\"symbol\":\"circle\"},\"mode\":\"lines\",\"name\":\"Dominican Republic\",\"showlegend\":true,\"x\":[\"1990/91\",\"1991/92\",\"1992/93\",\"1993/94\",\"1994/95\",\"1995/96\",\"1996/97\",\"1997/98\",\"1998/99\",\"1999/00\",\"2000/01\",\"2001/02\",\"2002/03\",\"2003/04\",\"2004/05\",\"2005/06\",\"2006/07\",\"2007/08\",\"2008/09\",\"2009/10\",\"2010/11\",\"2011/12\",\"2012/13\",\"2013/14\",\"2014/15\",\"2015/16\",\"2016/17\",\"2017/18\",\"2018/19\",\"2019/20\"],\"xaxis\":\"x\",\"y\":[60000,60000,60000,60000,60000,60000,60000,180000,180000,120000,120000,120000,19980,19980,60000,60000,60000,60000,60000,60000,60000,60000,60000,60000,60000,60000,60000,60000,60000,60000],\"yaxis\":\"y\",\"type\":\"scattergl\"},{\"hovertemplate\":\"Country=Haiti<br>Year=%{x}<br>Total Domestic Consumption=%{y}<extra></extra>\",\"legendgroup\":\"Haiti\",\"line\":{\"color\":\"rgb(204, 102, 119)\",\"dash\":\"solid\"},\"marker\":{\"symbol\":\"circle\"},\"mode\":\"lines\",\"name\":\"Haiti\",\"showlegend\":true,\"x\":[\"1990/91\",\"1991/92\",\"1992/93\",\"1993/94\",\"1994/95\",\"1995/96\",\"1996/97\",\"1997/98\",\"1998/99\",\"1999/00\",\"2000/01\",\"2001/02\",\"2002/03\",\"2003/04\",\"2004/05\",\"2005/06\",\"2006/07\",\"2007/08\",\"2008/09\",\"2009/10\",\"2010/11\",\"2011/12\",\"2012/13\",\"2013/14\",\"2014/15\",\"2015/16\",\"2016/17\",\"2017/18\",\"2018/19\",\"2019/20\"],\"xaxis\":\"x\",\"y\":[0,0,0,0,0,0,0,0,0,0,0,0,0,0,0,0,0,0,0,0,29400,29400,29400,29400,29400,29400,29400,29400,29400,29400],\"yaxis\":\"y\",\"type\":\"scattergl\"},{\"hovertemplate\":\"Country=Guatemala<br>Year=%{x}<br>Total Domestic Consumption=%{y}<extra></extra>\",\"legendgroup\":\"Guatemala\",\"line\":{\"color\":\"rgb(221, 204, 119)\",\"dash\":\"solid\"},\"marker\":{\"symbol\":\"circle\"},\"mode\":\"lines\",\"name\":\"Guatemala\",\"showlegend\":true,\"x\":[\"1990/91\",\"1991/92\",\"1992/93\",\"1993/94\",\"1994/95\",\"1995/96\",\"1996/97\",\"1997/98\",\"1998/99\",\"1999/00\",\"2000/01\",\"2001/02\",\"2002/03\",\"2003/04\",\"2004/05\",\"2005/06\",\"2006/07\",\"2007/08\",\"2008/09\",\"2009/10\",\"2010/11\",\"2011/12\",\"2012/13\",\"2013/14\",\"2014/15\",\"2015/16\",\"2016/17\",\"2017/18\",\"2018/19\",\"2019/20\"],\"xaxis\":\"x\",\"y\":[480000,480000,480000,499980,499980,396000,240000,240000,240000,240000,240000,240000,240000,240000,240000,240000,240000,240000,240000,240000,240000,240000,240000,240000,240000,240000,240000,240000,240000,240000],\"yaxis\":\"y\",\"type\":\"scattergl\"},{\"hovertemplate\":\"Country=Madagascar<br>Year=%{x}<br>Total Domestic Consumption=%{y}<extra></extra>\",\"legendgroup\":\"Madagascar\",\"line\":{\"color\":\"rgb(17, 119, 51)\",\"dash\":\"solid\"},\"marker\":{\"symbol\":\"circle\"},\"mode\":\"lines\",\"name\":\"Madagascar\",\"showlegend\":true,\"x\":[\"1990/91\",\"1991/92\",\"1992/93\",\"1993/94\",\"1994/95\",\"1995/96\",\"1996/97\",\"1997/98\",\"1998/99\",\"1999/00\",\"2000/01\",\"2001/02\",\"2002/03\",\"2003/04\",\"2004/05\",\"2005/06\",\"2006/07\",\"2007/08\",\"2008/09\",\"2009/10\",\"2010/11\",\"2011/12\",\"2012/13\",\"2013/14\",\"2014/15\",\"2015/16\",\"2016/17\",\"2017/18\",\"2018/19\",\"2019/20\"],\"xaxis\":\"x\",\"y\":[180000,160020,160020,180000,180000,180000,180000,180000,180000,180000,180000,180000,180000,180000,180000,180000,180000,180000,180000,180000,180000,180000,180000,180000,180000,180000,180000,180000,180000,180000],\"yaxis\":\"y\",\"type\":\"scattergl\"},{\"hovertemplate\":\"Country=Honduras<br>Year=%{x}<br>Total Domestic Consumption=%{y}<extra></extra>\",\"legendgroup\":\"Honduras\",\"line\":{\"color\":\"rgb(51, 34, 136)\",\"dash\":\"solid\"},\"marker\":{\"symbol\":\"circle\"},\"mode\":\"lines\",\"name\":\"Honduras\",\"showlegend\":true,\"x\":[\"1990/91\",\"1991/92\",\"1992/93\",\"1993/94\",\"1994/95\",\"1995/96\",\"1996/97\",\"1997/98\",\"1998/99\",\"1999/00\",\"2000/01\",\"2001/02\",\"2002/03\",\"2003/04\",\"2004/05\",\"2005/06\",\"2006/07\",\"2007/08\",\"2008/09\",\"2009/10\",\"2010/11\",\"2011/12\",\"2012/13\",\"2013/14\",\"2014/15\",\"2015/16\",\"2016/17\",\"2017/18\",\"2018/19\",\"2019/20\"],\"xaxis\":\"x\",\"y\":[12780000,12780000,11700000,11646000,11640000,11640000,11340000,11700000,12000000,12000000,12780000,13200000,13440000,13440000,13440000,13440000,13440000,13440000,13200000,13200000,13200000,13200000,13200000,13200000,13200000,13200000,13200000,13200000,13200000,12960000],\"yaxis\":\"y\",\"type\":\"scattergl\"},{\"hovertemplate\":\"Country=El Salvador<br>Year=%{x}<br>Total Domestic Consumption=%{y}<extra></extra>\",\"legendgroup\":\"El Salvador\",\"line\":{\"color\":\"rgb(170, 68, 153)\",\"dash\":\"solid\"},\"marker\":{\"symbol\":\"circle\"},\"mode\":\"lines\",\"name\":\"El Salvador\",\"showlegend\":true,\"x\":[\"1990/91\",\"1991/92\",\"1992/93\",\"1993/94\",\"1994/95\",\"1995/96\",\"1996/97\",\"1997/98\",\"1998/99\",\"1999/00\",\"2000/01\",\"2001/02\",\"2002/03\",\"2003/04\",\"2004/05\",\"2005/06\",\"2006/07\",\"2007/08\",\"2008/09\",\"2009/10\",\"2010/11\",\"2011/12\",\"2012/13\",\"2013/14\",\"2014/15\",\"2015/16\",\"2016/17\",\"2017/18\",\"2018/19\",\"2019/20\"],\"xaxis\":\"x\",\"y\":[19200000,19200000,19200000,19200000,19800000,21000000,19500000,19500000,19500000,19500000,19500000,20411880,20411880,20400000,22679880,22679880,22679880,22680000,22680000,22680000,22680000,22680000,22680000,22999980,23280000,23280000,23400000,23400000,23400000,22620000],\"yaxis\":\"y\",\"type\":\"scattergl\"},{\"hovertemplate\":\"Country=C\\u00f4te d'Ivoire<br>Year=%{x}<br>Total Domestic Consumption=%{y}<extra></extra>\",\"legendgroup\":\"C\\u00f4te d'Ivoire\",\"line\":{\"color\":\"rgb(68, 170, 153)\",\"dash\":\"solid\"},\"marker\":{\"symbol\":\"circle\"},\"mode\":\"lines\",\"name\":\"C\\u00f4te d'Ivoire\",\"showlegend\":true,\"x\":[\"1990/91\",\"1991/92\",\"1992/93\",\"1993/94\",\"1994/95\",\"1995/96\",\"1996/97\",\"1997/98\",\"1998/99\",\"1999/00\",\"2000/01\",\"2001/02\",\"2002/03\",\"2003/04\",\"2004/05\",\"2005/06\",\"2006/07\",\"2007/08\",\"2008/09\",\"2009/10\",\"2010/11\",\"2011/12\",\"2012/13\",\"2013/14\",\"2014/15\",\"2015/16\",\"2016/17\",\"2017/18\",\"2018/19\",\"2019/20\"],\"xaxis\":\"x\",\"y\":[13200000,19800000,19800000,19800000,19800000,19800000,19800000,19800000,19800000,20400000,20400000,20400000,20400000,20400000,20400000,20400000,20400000,20400000,20400000,20400000,20400000,20400000,20400000,20400000,20400000,20400000,20400000,20400000,20700000,20700000],\"yaxis\":\"y\",\"type\":\"scattergl\"},{\"hovertemplate\":\"Country=Peru<br>Year=%{x}<br>Total Domestic Consumption=%{y}<extra></extra>\",\"legendgroup\":\"Peru\",\"line\":{\"color\":\"rgb(153, 153, 51)\",\"dash\":\"solid\"},\"marker\":{\"symbol\":\"circle\"},\"mode\":\"lines\",\"name\":\"Peru\",\"showlegend\":true,\"x\":[\"1990/91\",\"1991/92\",\"1992/93\",\"1993/94\",\"1994/95\",\"1995/96\",\"1996/97\",\"1997/98\",\"1998/99\",\"1999/00\",\"2000/01\",\"2001/02\",\"2002/03\",\"2003/04\",\"2004/05\",\"2005/06\",\"2006/07\",\"2007/08\",\"2008/09\",\"2009/10\",\"2010/11\",\"2011/12\",\"2012/13\",\"2013/14\",\"2014/15\",\"2015/16\",\"2016/17\",\"2017/18\",\"2018/19\",\"2019/20\"],\"xaxis\":\"x\",\"y\":[43200000,45000000,45000000,46200000,47400000,48600000,49860000,51180000,48600000,51720000,49200000,49260000,49740000,55020000,61200000,62400000,63600000,63600000,103200000,109200000,127500000,130500000,139500000,153000000,168000000,180000000,181800000,190800000,198000000,195000000],\"yaxis\":\"y\",\"type\":\"scattergl\"},{\"hovertemplate\":\"Country=Cuba<br>Year=%{x}<br>Total Domestic Consumption=%{y}<extra></extra>\",\"legendgroup\":\"Cuba\",\"line\":{\"color\":\"rgb(136, 34, 85)\",\"dash\":\"solid\"},\"marker\":{\"symbol\":\"circle\"},\"mode\":\"lines\",\"name\":\"Cuba\",\"showlegend\":true,\"x\":[\"1990/91\",\"1991/92\",\"1992/93\",\"1993/94\",\"1994/95\",\"1995/96\",\"1996/97\",\"1997/98\",\"1998/99\",\"1999/00\",\"2000/01\",\"2001/02\",\"2002/03\",\"2003/04\",\"2004/05\",\"2005/06\",\"2006/07\",\"2007/08\",\"2008/09\",\"2009/10\",\"2010/11\",\"2011/12\",\"2012/13\",\"2013/14\",\"2014/15\",\"2015/16\",\"2016/17\",\"2017/18\",\"2018/19\",\"2019/20\"],\"xaxis\":\"x\",\"y\":[240000,210000,1152000,1050000,1050000,816000,996000,1020000,1020000,840000,900000,900000,900000,1620000,2220000,2820000,2820000,2820000,2820000,2820000,2820000,3537000,4302000,4408020,4603020,5523000,5478000,5500020,5520000,5700000],\"yaxis\":\"y\",\"type\":\"scattergl\"},{\"hovertemplate\":\"Country=Ecuador<br>Year=%{x}<br>Total Domestic Consumption=%{y}<extra></extra>\",\"legendgroup\":\"Ecuador\",\"line\":{\"color\":\"rgb(102, 17, 0)\",\"dash\":\"solid\"},\"marker\":{\"symbol\":\"circle\"},\"mode\":\"lines\",\"name\":\"Ecuador\",\"showlegend\":true,\"x\":[\"1990/91\",\"1991/92\",\"1992/93\",\"1993/94\",\"1994/95\",\"1995/96\",\"1996/97\",\"1997/98\",\"1998/99\",\"1999/00\",\"2000/01\",\"2001/02\",\"2002/03\",\"2003/04\",\"2004/05\",\"2005/06\",\"2006/07\",\"2007/08\",\"2008/09\",\"2009/10\",\"2010/11\",\"2011/12\",\"2012/13\",\"2013/14\",\"2014/15\",\"2015/16\",\"2016/17\",\"2017/18\",\"2018/19\",\"2019/20\"],\"xaxis\":\"x\",\"y\":[90000,90000,85920,60000,90000,36000,60000,36000,36000,36000,36000,36000,36000,36000,36000,36000,36000,60000,60000,0,0,0,0,0,0,0,0,0,0,0],\"yaxis\":\"y\",\"type\":\"scattergl\"},{\"hovertemplate\":\"Country=Democratic Republic of Congo<br>Year=%{x}<br>Total Domestic Consumption=%{y}<extra></extra>\",\"legendgroup\":\"Democratic Republic of Congo\",\"line\":{\"color\":\"rgb(136, 136, 136)\",\"dash\":\"solid\"},\"marker\":{\"symbol\":\"circle\"},\"mode\":\"lines\",\"name\":\"Democratic Republic of Congo\",\"showlegend\":true,\"x\":[\"1990/91\",\"1991/92\",\"1992/93\",\"1993/94\",\"1994/95\",\"1995/96\",\"1996/97\",\"1997/98\",\"1998/99\",\"1999/00\",\"2000/01\",\"2001/02\",\"2002/03\",\"2003/04\",\"2004/05\",\"2005/06\",\"2006/07\",\"2007/08\",\"2008/09\",\"2009/10\",\"2010/11\",\"2011/12\",\"2012/13\",\"2013/14\",\"2014/15\",\"2015/16\",\"2016/17\",\"2017/18\",\"2018/19\",\"2019/20\"],\"xaxis\":\"x\",\"y\":[4998000,4999980,4999980,6000000,6000000,6000000,6000000,6000000,6000000,6000000,4500000,4140000,4140000,4140000,4140000,4140000,4140000,4140000,4140000,4140000,4099980,4201020,4303980,4408980,4519020,4560000,4620000,4680000,4680000,4620000],\"yaxis\":\"y\",\"type\":\"scattergl\"},{\"hovertemplate\":\"Country=Nicaragua<br>Year=%{x}<br>Total Domestic Consumption=%{y}<extra></extra>\",\"legendgroup\":\"Nicaragua\",\"line\":{\"color\":\"rgb(136, 204, 238)\",\"dash\":\"solid\"},\"marker\":{\"symbol\":\"circle\"},\"mode\":\"lines\",\"name\":\"Nicaragua\",\"showlegend\":true,\"x\":[\"1990/91\",\"1991/92\",\"1992/93\",\"1993/94\",\"1994/95\",\"1995/96\",\"1996/97\",\"1997/98\",\"1998/99\",\"1999/00\",\"2000/01\",\"2001/02\",\"2002/03\",\"2003/04\",\"2004/05\",\"2005/06\",\"2006/07\",\"2007/08\",\"2008/09\",\"2009/10\",\"2010/11\",\"2011/12\",\"2012/13\",\"2013/14\",\"2014/15\",\"2015/16\",\"2016/17\",\"2017/18\",\"2018/19\",\"2019/20\"],\"xaxis\":\"x\",\"y\":[1680000,1680000,1680000,1500000,900000,600000,600000,600000,1140000,1260000,180000,180000,227220,227220,180000,180000,180000,199980,300000,499980,600000,799980,1000020,1200000,1200000,1200000,1200000,1200000,1200000,1200000],\"yaxis\":\"y\",\"type\":\"scattergl\"},{\"hovertemplate\":\"Country=Uganda<br>Year=%{x}<br>Total Domestic Consumption=%{y}<extra></extra>\",\"legendgroup\":\"Uganda\",\"line\":{\"color\":\"rgb(204, 102, 119)\",\"dash\":\"solid\"},\"marker\":{\"symbol\":\"circle\"},\"mode\":\"lines\",\"name\":\"Uganda\",\"showlegend\":true,\"x\":[\"1990/91\",\"1991/92\",\"1992/93\",\"1993/94\",\"1994/95\",\"1995/96\",\"1996/97\",\"1997/98\",\"1998/99\",\"1999/00\",\"2000/01\",\"2001/02\",\"2002/03\",\"2003/04\",\"2004/05\",\"2005/06\",\"2006/07\",\"2007/08\",\"2008/09\",\"2009/10\",\"2010/11\",\"2011/12\",\"2012/13\",\"2013/14\",\"2014/15\",\"2015/16\",\"2016/17\",\"2017/18\",\"2018/19\",\"2019/20\"],\"xaxis\":\"x\",\"y\":[74100000,76140000,78180000,80340000,82500000,81540000,80580000,79680000,78720000,77820000,76920000,76020000,75120000,74220000,73380000,72540000,71677980,76855380,77430000,76468740,78661440,86103900,90854520,97021200,99927060,103222380,104186484,107596260,107484600,121486440],\"yaxis\":\"y\",\"type\":\"scattergl\"},{\"hovertemplate\":\"Country=Lao People's Democratic Republic<br>Year=%{x}<br>Total Domestic Consumption=%{y}<extra></extra>\",\"legendgroup\":\"Lao People's Democratic Republic\",\"line\":{\"color\":\"rgb(221, 204, 119)\",\"dash\":\"solid\"},\"marker\":{\"symbol\":\"circle\"},\"mode\":\"lines\",\"name\":\"Lao People's Democratic Republic\",\"showlegend\":true,\"x\":[\"1990/91\",\"1991/92\",\"1992/93\",\"1993/94\",\"1994/95\",\"1995/96\",\"1996/97\",\"1997/98\",\"1998/99\",\"1999/00\",\"2000/01\",\"2001/02\",\"2002/03\",\"2003/04\",\"2004/05\",\"2005/06\",\"2006/07\",\"2007/08\",\"2008/09\",\"2009/10\",\"2010/11\",\"2011/12\",\"2012/13\",\"2013/14\",\"2014/15\",\"2015/16\",\"2016/17\",\"2017/18\",\"2018/19\",\"2019/20\"],\"xaxis\":\"x\",\"y\":[22500000,22500000,22500000,22500000,22500000,22500000,22500000,22500000,22500000,22500000,22500000,22500000,22500000,22500000,22500000,22500000,22500000,22500000,16071540,17726460,24433260,22853280,25385820,20103600,22844520,26929260,19767420,21200040,21900000,21120000],\"yaxis\":\"y\",\"type\":\"scattergl\"},{\"hovertemplate\":\"Country=Cameroon<br>Year=%{x}<br>Total Domestic Consumption=%{y}<extra></extra>\",\"legendgroup\":\"Cameroon\",\"line\":{\"color\":\"rgb(17, 119, 51)\",\"dash\":\"solid\"},\"marker\":{\"symbol\":\"circle\"},\"mode\":\"lines\",\"name\":\"Cameroon\",\"showlegend\":true,\"x\":[\"1990/91\",\"1991/92\",\"1992/93\",\"1993/94\",\"1994/95\",\"1995/96\",\"1996/97\",\"1997/98\",\"1998/99\",\"1999/00\",\"2000/01\",\"2001/02\",\"2002/03\",\"2003/04\",\"2004/05\",\"2005/06\",\"2006/07\",\"2007/08\",\"2008/09\",\"2009/10\",\"2010/11\",\"2011/12\",\"2012/13\",\"2013/14\",\"2014/15\",\"2015/16\",\"2016/17\",\"2017/18\",\"2018/19\",\"2019/20\"],\"xaxis\":\"x\",\"y\":[3000000,3000000,3000000,3000000,3000000,3000000,3000000,3000000,3000000,3000000,19000020,19000020,19000020,19000020,19000020,19000020,19000020,19020000,19020000,19020000,19020000,19020000,19020000,19020000,19020000,19020000,19020000,19020000,19020000,19020000],\"yaxis\":\"y\",\"type\":\"scattergl\"},{\"hovertemplate\":\"Country=Panama<br>Year=%{x}<br>Total Domestic Consumption=%{y}<extra></extra>\",\"legendgroup\":\"Panama\",\"line\":{\"color\":\"rgb(51, 34, 136)\",\"dash\":\"solid\"},\"marker\":{\"symbol\":\"circle\"},\"mode\":\"lines\",\"name\":\"Panama\",\"showlegend\":true,\"x\":[\"1990/91\",\"1991/92\",\"1992/93\",\"1993/94\",\"1994/95\",\"1995/96\",\"1996/97\",\"1997/98\",\"1998/99\",\"1999/00\",\"2000/01\",\"2001/02\",\"2002/03\",\"2003/04\",\"2004/05\",\"2005/06\",\"2006/07\",\"2007/08\",\"2008/09\",\"2009/10\",\"2010/11\",\"2011/12\",\"2012/13\",\"2013/14\",\"2014/15\",\"2015/16\",\"2016/17\",\"2017/18\",\"2018/19\",\"2019/20\"],\"xaxis\":\"x\",\"y\":[12000000,12000000,12000000,12000000,12000000,12000000,12000000,12000000,12000000,12000000,12000000,12000000,12000000,12000000,12000000,12000000,12000000,12000000,12000000,12000000,12000000,12000000,12000000,12000000,12000000,12000000,12000000,12000000,12000000,11880000],\"yaxis\":\"y\",\"type\":\"scattergl\"},{\"hovertemplate\":\"Country=Yemen<br>Year=%{x}<br>Total Domestic Consumption=%{y}<extra></extra>\",\"legendgroup\":\"Yemen\",\"line\":{\"color\":\"rgb(170, 68, 153)\",\"dash\":\"solid\"},\"marker\":{\"symbol\":\"circle\"},\"mode\":\"lines\",\"name\":\"Yemen\",\"showlegend\":true,\"x\":[\"1990/91\",\"1991/92\",\"1992/93\",\"1993/94\",\"1994/95\",\"1995/96\",\"1996/97\",\"1997/98\",\"1998/99\",\"1999/00\",\"2000/01\",\"2001/02\",\"2002/03\",\"2003/04\",\"2004/05\",\"2005/06\",\"2006/07\",\"2007/08\",\"2008/09\",\"2009/10\",\"2010/11\",\"2011/12\",\"2012/13\",\"2013/14\",\"2014/15\",\"2015/16\",\"2016/17\",\"2017/18\",\"2018/19\",\"2019/20\"],\"xaxis\":\"x\",\"y\":[10800000,10800000,13800000,13800000,13800000,16200000,13800000,11500020,11500020,9198000,8640000,9198000,9198000,9198000,10350000,13446000,15228000,15030000,14658000,16098000,16560000,16404000,16596000,16500000,16800000,17100000,17520000,18000000,18000000,17520000],\"yaxis\":\"y\",\"type\":\"scattergl\"},{\"hovertemplate\":\"Country=Kenya<br>Year=%{x}<br>Total Domestic Consumption=%{y}<extra></extra>\",\"legendgroup\":\"Kenya\",\"line\":{\"color\":\"rgb(68, 170, 153)\",\"dash\":\"solid\"},\"marker\":{\"symbol\":\"circle\"},\"mode\":\"lines\",\"name\":\"Kenya\",\"showlegend\":true,\"x\":[\"1990/91\",\"1991/92\",\"1992/93\",\"1993/94\",\"1994/95\",\"1995/96\",\"1996/97\",\"1997/98\",\"1998/99\",\"1999/00\",\"2000/01\",\"2001/02\",\"2002/03\",\"2003/04\",\"2004/05\",\"2005/06\",\"2006/07\",\"2007/08\",\"2008/09\",\"2009/10\",\"2010/11\",\"2011/12\",\"2012/13\",\"2013/14\",\"2014/15\",\"2015/16\",\"2016/17\",\"2017/18\",\"2018/19\",\"2019/20\"],\"xaxis\":\"x\",\"y\":[0,0,0,0,0,0,0,0,0,0,0,0,0,0,0,0,0,0,0,0,0,0,0,0,0,0,0,0,0,0],\"yaxis\":\"y\",\"type\":\"scattergl\"},{\"hovertemplate\":\"Country=Guinea<br>Year=%{x}<br>Total Domestic Consumption=%{y}<extra></extra>\",\"legendgroup\":\"Guinea\",\"line\":{\"color\":\"rgb(153, 153, 51)\",\"dash\":\"solid\"},\"marker\":{\"symbol\":\"circle\"},\"mode\":\"lines\",\"name\":\"Guinea\",\"showlegend\":true,\"x\":[\"1990/91\",\"1991/92\",\"1992/93\",\"1993/94\",\"1994/95\",\"1995/96\",\"1996/97\",\"1997/98\",\"1998/99\",\"1999/00\",\"2000/01\",\"2001/02\",\"2002/03\",\"2003/04\",\"2004/05\",\"2005/06\",\"2006/07\",\"2007/08\",\"2008/09\",\"2009/10\",\"2010/11\",\"2011/12\",\"2012/13\",\"2013/14\",\"2014/15\",\"2015/16\",\"2016/17\",\"2017/18\",\"2018/19\",\"2019/20\"],\"xaxis\":\"x\",\"y\":[72000000,75840000,79860000,84120000,88560000,93300000,98220000,103440000,108960000,114720000,120840000,127260000,134040000,141180000,148680000,156540000,164880000,173640000,182880000,186540000,190260000,194100000,197940000,201900000,205980000,210060000,214260000,218580000,221100000,226860000],\"yaxis\":\"y\",\"type\":\"scattergl\"},{\"hovertemplate\":\"Country=Tanzania<br>Year=%{x}<br>Total Domestic Consumption=%{y}<extra></extra>\",\"legendgroup\":\"Tanzania\",\"line\":{\"color\":\"rgb(136, 34, 85)\",\"dash\":\"solid\"},\"marker\":{\"symbol\":\"circle\"},\"mode\":\"lines\",\"name\":\"Tanzania\",\"showlegend\":true,\"x\":[\"1990/91\",\"1991/92\",\"1992/93\",\"1993/94\",\"1994/95\",\"1995/96\",\"1996/97\",\"1997/98\",\"1998/99\",\"1999/00\",\"2000/01\",\"2001/02\",\"2002/03\",\"2003/04\",\"2004/05\",\"2005/06\",\"2006/07\",\"2007/08\",\"2008/09\",\"2009/10\",\"2010/11\",\"2011/12\",\"2012/13\",\"2013/14\",\"2014/15\",\"2015/16\",\"2016/17\",\"2017/18\",\"2018/19\",\"2019/20\"],\"xaxis\":\"x\",\"y\":[102000,60000,48000,48000,60000,48000,49980,48000,48000,42900,18000,18000,18000,18000,18000,18000,18000,18000,16500,15000,56820,61920,58020,34980,31020,30000,30000,30000,30000,30000],\"yaxis\":\"y\",\"type\":\"scattergl\"},{\"hovertemplate\":\"Country=Bolivia (Plurinational State of)<br>Year=%{x}<br>Total Domestic Consumption=%{y}<extra></extra>\",\"legendgroup\":\"Bolivia (Plurinational State of)\",\"line\":{\"color\":\"rgb(102, 17, 0)\",\"dash\":\"solid\"},\"marker\":{\"symbol\":\"circle\"},\"mode\":\"lines\",\"name\":\"Bolivia (Plurinational State of)\",\"showlegend\":true,\"x\":[\"1990/91\",\"1991/92\",\"1992/93\",\"1993/94\",\"1994/95\",\"1995/96\",\"1996/97\",\"1997/98\",\"1998/99\",\"1999/00\",\"2000/01\",\"2001/02\",\"2002/03\",\"2003/04\",\"2004/05\",\"2005/06\",\"2006/07\",\"2007/08\",\"2008/09\",\"2009/10\",\"2010/11\",\"2011/12\",\"2012/13\",\"2013/14\",\"2014/15\",\"2015/16\",\"2016/17\",\"2017/18\",\"2018/19\",\"2019/20\"],\"xaxis\":\"x\",\"y\":[1020000,1020000,1020000,1020000,1680000,1680000,180000,180000,60000,60000,60000,60000,60000,60000,95400,95400,60000,120000,120000,120000,120000,120000,120000,120000,120000,120000,120000,120000,120000,120000],\"yaxis\":\"y\",\"type\":\"scattergl\"},{\"hovertemplate\":\"Country=Nigeria<br>Year=%{x}<br>Total Domestic Consumption=%{y}<extra></extra>\",\"legendgroup\":\"Nigeria\",\"line\":{\"color\":\"rgb(136, 136, 136)\",\"dash\":\"solid\"},\"marker\":{\"symbol\":\"circle\"},\"mode\":\"lines\",\"name\":\"Nigeria\",\"showlegend\":true,\"x\":[\"1990/91\",\"1991/92\",\"1992/93\",\"1993/94\",\"1994/95\",\"1995/96\",\"1996/97\",\"1997/98\",\"1998/99\",\"1999/00\",\"2000/01\",\"2001/02\",\"2002/03\",\"2003/04\",\"2004/05\",\"2005/06\",\"2006/07\",\"2007/08\",\"2008/09\",\"2009/10\",\"2010/11\",\"2011/12\",\"2012/13\",\"2013/14\",\"2014/15\",\"2015/16\",\"2016/17\",\"2017/18\",\"2018/19\",\"2019/20\"],\"xaxis\":\"x\",\"y\":[18000000,18000000,18000000,18600000,18600000,18600000,18000000,18000000,18000000,18000000,18000000,18000000,18000000,18000000,18000000,18000000,18000000,18000000,20100000,19200000,20400000,21000000,21600000,22200000,22800000,23400000,23400000,23700000,23700000,23580000],\"yaxis\":\"y\",\"type\":\"scattergl\"},{\"hovertemplate\":\"Country=Sri Lanka<br>Year=%{x}<br>Total Domestic Consumption=%{y}<extra></extra>\",\"legendgroup\":\"Sri Lanka\",\"line\":{\"color\":\"rgb(136, 204, 238)\",\"dash\":\"solid\"},\"marker\":{\"symbol\":\"circle\"},\"mode\":\"lines\",\"name\":\"Sri Lanka\",\"showlegend\":true,\"x\":[\"1990/91\",\"1991/92\",\"1992/93\",\"1993/94\",\"1994/95\",\"1995/96\",\"1996/97\",\"1997/98\",\"1998/99\",\"1999/00\",\"2000/01\",\"2001/02\",\"2002/03\",\"2003/04\",\"2004/05\",\"2005/06\",\"2006/07\",\"2007/08\",\"2008/09\",\"2009/10\",\"2010/11\",\"2011/12\",\"2012/13\",\"2013/14\",\"2014/15\",\"2015/16\",\"2016/17\",\"2017/18\",\"2018/19\",\"2019/20\"],\"xaxis\":\"x\",\"y\":[1500000,1500000,3750000,1980000,3000000,3000000,3000000,3000000,3000000,3000000,3000000,3000000,3000000,3000000,3000000,3000000,3000000,3000000,3000000,3000000,3000000,3000000,3000000,3000000,3000000,3000000,3000000,3000000,3000000,3000000],\"yaxis\":\"y\",\"type\":\"scattergl\"},{\"hovertemplate\":\"Country=Angola<br>Year=%{x}<br>Total Domestic Consumption=%{y}<extra></extra>\",\"legendgroup\":\"Angola\",\"line\":{\"color\":\"rgb(204, 102, 119)\",\"dash\":\"solid\"},\"marker\":{\"symbol\":\"circle\"},\"mode\":\"lines\",\"name\":\"Angola\",\"showlegend\":true,\"x\":[\"1990/91\",\"1991/92\",\"1992/93\",\"1993/94\",\"1994/95\",\"1995/96\",\"1996/97\",\"1997/98\",\"1998/99\",\"1999/00\",\"2000/01\",\"2001/02\",\"2002/03\",\"2003/04\",\"2004/05\",\"2005/06\",\"2006/07\",\"2007/08\",\"2008/09\",\"2009/10\",\"2010/11\",\"2011/12\",\"2012/13\",\"2013/14\",\"2014/15\",\"2015/16\",\"2016/17\",\"2017/18\",\"2018/19\",\"2019/20\"],\"xaxis\":\"x\",\"y\":[0,0,0,0,0,0,0,0,292020,261000,112980,250020,261000,285000,330000,336000,343020,420000,508020,493980,510000,516000,522000,528000,534000,540000,540000,540000,540000,540000],\"yaxis\":\"y\",\"type\":\"scattergl\"},{\"hovertemplate\":\"Country=Paraguay<br>Year=%{x}<br>Total Domestic Consumption=%{y}<extra></extra>\",\"legendgroup\":\"Paraguay\",\"line\":{\"color\":\"rgb(221, 204, 119)\",\"dash\":\"solid\"},\"marker\":{\"symbol\":\"circle\"},\"mode\":\"lines\",\"name\":\"Paraguay\",\"showlegend\":true,\"x\":[\"1990/91\",\"1991/92\",\"1992/93\",\"1993/94\",\"1994/95\",\"1995/96\",\"1996/97\",\"1997/98\",\"1998/99\",\"1999/00\",\"2000/01\",\"2001/02\",\"2002/03\",\"2003/04\",\"2004/05\",\"2005/06\",\"2006/07\",\"2007/08\",\"2008/09\",\"2009/10\",\"2010/11\",\"2011/12\",\"2012/13\",\"2013/14\",\"2014/15\",\"2015/16\",\"2016/17\",\"2017/18\",\"2018/19\",\"2019/20\"],\"xaxis\":\"x\",\"y\":[11289240,15426000,14400000,13800000,15180000,9660000,10075440,9660000,8280000,10080000,13800000,12000000,12000000,12000000,13800000,13800000,13800000,14700000,16099980,18400020,20100000,20400000,20700000,21000000,21300000,21900000,22200000,22500000,22500000,21000000],\"yaxis\":\"y\",\"type\":\"scattergl\"},{\"hovertemplate\":\"Country=Central African Republic<br>Year=%{x}<br>Total Domestic Consumption=%{y}<extra></extra>\",\"legendgroup\":\"Central African Republic\",\"line\":{\"color\":\"rgb(17, 119, 51)\",\"dash\":\"solid\"},\"marker\":{\"symbol\":\"circle\"},\"mode\":\"lines\",\"name\":\"Central African Republic\",\"showlegend\":true,\"x\":[\"1990/91\",\"1991/92\",\"1992/93\",\"1993/94\",\"1994/95\",\"1995/96\",\"1996/97\",\"1997/98\",\"1998/99\",\"1999/00\",\"2000/01\",\"2001/02\",\"2002/03\",\"2003/04\",\"2004/05\",\"2005/06\",\"2006/07\",\"2007/08\",\"2008/09\",\"2009/10\",\"2010/11\",\"2011/12\",\"2012/13\",\"2013/14\",\"2014/15\",\"2015/16\",\"2016/17\",\"2017/18\",\"2018/19\",\"2019/20\"],\"xaxis\":\"x\",\"y\":[54180000,55000020,55020000,49999980,50100000,50220000,50280000,50340000,54000000,55500000,58500000,64020000,67980000,70020000,72120000,74280000,76500000,81000000,76500000,79500000,79500000,79500000,82500000,84000000,85800000,87000000,86400000,88200000,88500000,87000000],\"yaxis\":\"y\",\"type\":\"scattergl\"},{\"hovertemplate\":\"Country=Trinidad & Tobago<br>Year=%{x}<br>Total Domestic Consumption=%{y}<extra></extra>\",\"legendgroup\":\"Trinidad & Tobago\",\"line\":{\"color\":\"rgb(51, 34, 136)\",\"dash\":\"solid\"},\"marker\":{\"symbol\":\"circle\"},\"mode\":\"lines\",\"name\":\"Trinidad & Tobago\",\"showlegend\":true,\"x\":[\"1990/91\",\"1991/92\",\"1992/93\",\"1993/94\",\"1994/95\",\"1995/96\",\"1996/97\",\"1997/98\",\"1998/99\",\"1999/00\",\"2000/01\",\"2001/02\",\"2002/03\",\"2003/04\",\"2004/05\",\"2005/06\",\"2006/07\",\"2007/08\",\"2008/09\",\"2009/10\",\"2010/11\",\"2011/12\",\"2012/13\",\"2013/14\",\"2014/15\",\"2015/16\",\"2016/17\",\"2017/18\",\"2018/19\",\"2019/20\"],\"xaxis\":\"x\",\"y\":[420000,660000,360000,576000,900000,900000,1080000,1200000,888000,660000,724020,600000,540000,540000,540000,540000,540000,540000,540000,540000,540000,540000,540000,540000,540000,540000,540000,540000,540000,540000],\"yaxis\":\"y\",\"type\":\"scattergl\"},{\"hovertemplate\":\"Country=Jamaica<br>Year=%{x}<br>Total Domestic Consumption=%{y}<extra></extra>\",\"legendgroup\":\"Jamaica\",\"line\":{\"color\":\"rgb(170, 68, 153)\",\"dash\":\"solid\"},\"marker\":{\"symbol\":\"circle\"},\"mode\":\"lines\",\"name\":\"Jamaica\",\"showlegend\":true,\"x\":[\"1990/91\",\"1991/92\",\"1992/93\",\"1993/94\",\"1994/95\",\"1995/96\",\"1996/97\",\"1997/98\",\"1998/99\",\"1999/00\",\"2000/01\",\"2001/02\",\"2002/03\",\"2003/04\",\"2004/05\",\"2005/06\",\"2006/07\",\"2007/08\",\"2008/09\",\"2009/10\",\"2010/11\",\"2011/12\",\"2012/13\",\"2013/14\",\"2014/15\",\"2015/16\",\"2016/17\",\"2017/18\",\"2018/19\",\"2019/20\"],\"xaxis\":\"x\",\"y\":[3000000,3000000,3000000,3000000,3000000,3000000,3000000,3000000,3000000,3000000,3000000,3000000,3000000,3000000,3000000,3000000,3000000,3000000,3000000,3000000,3000000,3000000,3000000,3300000,3300000,3600000,3600000,3900000,4200000,4290000],\"yaxis\":\"y\",\"type\":\"scattergl\"},{\"hovertemplate\":\"Country=Sierra Leone<br>Year=%{x}<br>Total Domestic Consumption=%{y}<extra></extra>\",\"legendgroup\":\"Sierra Leone\",\"line\":{\"color\":\"rgb(68, 170, 153)\",\"dash\":\"solid\"},\"marker\":{\"symbol\":\"circle\"},\"mode\":\"lines\",\"name\":\"Sierra Leone\",\"showlegend\":true,\"x\":[\"1990/91\",\"1991/92\",\"1992/93\",\"1993/94\",\"1994/95\",\"1995/96\",\"1996/97\",\"1997/98\",\"1998/99\",\"1999/00\",\"2000/01\",\"2001/02\",\"2002/03\",\"2003/04\",\"2004/05\",\"2005/06\",\"2006/07\",\"2007/08\",\"2008/09\",\"2009/10\",\"2010/11\",\"2011/12\",\"2012/13\",\"2013/14\",\"2014/15\",\"2015/16\",\"2016/17\",\"2017/18\",\"2018/19\",\"2019/20\"],\"xaxis\":\"x\",\"y\":[0,0,0,0,0,0,0,0,0,0,0,0,9480000,6180000,8100000,8400000,8400000,8400000,9000000,9000000,9000000,9000000,9000000,9000000,9000000,9000000,9000000,9300000,9300000,9420000],\"yaxis\":\"y\",\"type\":\"scattergl\"},{\"hovertemplate\":\"Country=Ghana<br>Year=%{x}<br>Total Domestic Consumption=%{y}<extra></extra>\",\"legendgroup\":\"Ghana\",\"line\":{\"color\":\"rgb(153, 153, 51)\",\"dash\":\"solid\"},\"marker\":{\"symbol\":\"circle\"},\"mode\":\"lines\",\"name\":\"Ghana\",\"showlegend\":true,\"x\":[\"1990/91\",\"1991/92\",\"1992/93\",\"1993/94\",\"1994/95\",\"1995/96\",\"1996/97\",\"1997/98\",\"1998/99\",\"1999/00\",\"2000/01\",\"2001/02\",\"2002/03\",\"2003/04\",\"2004/05\",\"2005/06\",\"2006/07\",\"2007/08\",\"2008/09\",\"2009/10\",\"2010/11\",\"2011/12\",\"2012/13\",\"2013/14\",\"2014/15\",\"2015/16\",\"2016/17\",\"2017/18\",\"2018/19\",\"2019/20\"],\"xaxis\":\"x\",\"y\":[180000,180000,180000,300000,300000,300000,300000,300000,300000,300000,300000,300000,300000,300000,300000,300000,300000,300000,300000,300000,300000,300000,300000,300000,300000,300000,300000,300000,300000,300000],\"yaxis\":\"y\",\"type\":\"scattergl\"},{\"hovertemplate\":\"Country=Guyana<br>Year=%{x}<br>Total Domestic Consumption=%{y}<extra></extra>\",\"legendgroup\":\"Guyana\",\"line\":{\"color\":\"rgb(136, 34, 85)\",\"dash\":\"solid\"},\"marker\":{\"symbol\":\"circle\"},\"mode\":\"lines\",\"name\":\"Guyana\",\"showlegend\":true,\"x\":[\"1990/91\",\"1991/92\",\"1992/93\",\"1993/94\",\"1994/95\",\"1995/96\",\"1996/97\",\"1997/98\",\"1998/99\",\"1999/00\",\"2000/01\",\"2001/02\",\"2002/03\",\"2003/04\",\"2004/05\",\"2005/06\",\"2006/07\",\"2007/08\",\"2008/09\",\"2009/10\",\"2010/11\",\"2011/12\",\"2012/13\",\"2013/14\",\"2014/15\",\"2015/16\",\"2016/17\",\"2017/18\",\"2018/19\",\"2019/20\"],\"xaxis\":\"x\",\"y\":[82440000,72000000,78000000,64200000,61200000,70740000,74100000,72060000,66480000,69000000,78300000,90000000,90000000,90000000,90000000,103500000,120000000,132000000,132000000,132000000,141240000,141240000,141240000,139260000,140820000,139740000,141600000,144000000,147000000,145500000],\"yaxis\":\"y\",\"type\":\"scattergl\"},{\"hovertemplate\":\"Country=Liberia<br>Year=%{x}<br>Total Domestic Consumption=%{y}<extra></extra>\",\"legendgroup\":\"Liberia\",\"line\":{\"color\":\"rgb(102, 17, 0)\",\"dash\":\"solid\"},\"marker\":{\"symbol\":\"circle\"},\"mode\":\"lines\",\"name\":\"Liberia\",\"showlegend\":true,\"x\":[\"1990/91\",\"1991/92\",\"1992/93\",\"1993/94\",\"1994/95\",\"1995/96\",\"1996/97\",\"1997/98\",\"1998/99\",\"1999/00\",\"2000/01\",\"2001/02\",\"2002/03\",\"2003/04\",\"2004/05\",\"2005/06\",\"2006/07\",\"2007/08\",\"2008/09\",\"2009/10\",\"2010/11\",\"2011/12\",\"2012/13\",\"2013/14\",\"2014/15\",\"2015/16\",\"2016/17\",\"2017/18\",\"2018/19\",\"2019/20\"],\"xaxis\":\"x\",\"y\":[0,0,0,0,0,0,0,0,0,0,0,0,0,0,0,0,0,0,0,0,0,0,0,0,0,0,0,0,0,0],\"yaxis\":\"y\",\"type\":\"scattergl\"},{\"hovertemplate\":\"Country=Zimbabwe<br>Year=%{x}<br>Total Domestic Consumption=%{y}<extra></extra>\",\"legendgroup\":\"Zimbabwe\",\"line\":{\"color\":\"rgb(136, 136, 136)\",\"dash\":\"solid\"},\"marker\":{\"symbol\":\"circle\"},\"mode\":\"lines\",\"name\":\"Zimbabwe\",\"showlegend\":true,\"x\":[\"1990/91\",\"1991/92\",\"1992/93\",\"1993/94\",\"1994/95\",\"1995/96\",\"1996/97\",\"1997/98\",\"1998/99\",\"1999/00\",\"2000/01\",\"2001/02\",\"2002/03\",\"2003/04\",\"2004/05\",\"2005/06\",\"2006/07\",\"2007/08\",\"2008/09\",\"2009/10\",\"2010/11\",\"2011/12\",\"2012/13\",\"2013/14\",\"2014/15\",\"2015/16\",\"2016/17\",\"2017/18\",\"2018/19\",\"2019/20\"],\"xaxis\":\"x\",\"y\":[2040000,8280000,3936000,6534000,5376000,6690000,5722200,7380000,7590000,7818000,10495800,10639380,10777440,10914900,11056680,11203140,11351100,11498700,11648820,11797320,12164700,12315660,12471840,12573660,12704520,12836760,13003680,13080000,13200000,12600000],\"yaxis\":\"y\",\"type\":\"scattergl\"},{\"hovertemplate\":\"Country=Congo<br>Year=%{x}<br>Total Domestic Consumption=%{y}<extra></extra>\",\"legendgroup\":\"Congo\",\"line\":{\"color\":\"rgb(136, 204, 238)\",\"dash\":\"solid\"},\"marker\":{\"symbol\":\"circle\"},\"mode\":\"lines\",\"name\":\"Congo\",\"showlegend\":true,\"x\":[\"1990/91\",\"1991/92\",\"1992/93\",\"1993/94\",\"1994/95\",\"1995/96\",\"1996/97\",\"1997/98\",\"1998/99\",\"1999/00\",\"2000/01\",\"2001/02\",\"2002/03\",\"2003/04\",\"2004/05\",\"2005/06\",\"2006/07\",\"2007/08\",\"2008/09\",\"2009/10\",\"2010/11\",\"2011/12\",\"2012/13\",\"2013/14\",\"2014/15\",\"2015/16\",\"2016/17\",\"2017/18\",\"2018/19\",\"2019/20\"],\"xaxis\":\"x\",\"y\":[1650000,2145000,2145000,2400000,2400000,2400000,2400000,2400000,2400000,2400000,2400000,2400000,2400000,2400000,2400000,2400000,2400000,2400000,2400000,2400000,2400000,2400000,2400000,2400000,2400000,2400000,2400000,2400000,2400000,2400000],\"yaxis\":\"y\",\"type\":\"scattergl\"},{\"hovertemplate\":\"Country=Papua New Guinea<br>Year=%{x}<br>Total Domestic Consumption=%{y}<extra></extra>\",\"legendgroup\":\"Papua New Guinea\",\"line\":{\"color\":\"rgb(204, 102, 119)\",\"dash\":\"solid\"},\"marker\":{\"symbol\":\"circle\"},\"mode\":\"lines\",\"name\":\"Papua New Guinea\",\"showlegend\":true,\"x\":[\"1990/91\",\"1991/92\",\"1992/93\",\"1993/94\",\"1994/95\",\"1995/96\",\"1996/97\",\"1997/98\",\"1998/99\",\"1999/00\",\"2000/01\",\"2001/02\",\"2002/03\",\"2003/04\",\"2004/05\",\"2005/06\",\"2006/07\",\"2007/08\",\"2008/09\",\"2009/10\",\"2010/11\",\"2011/12\",\"2012/13\",\"2013/14\",\"2014/15\",\"2015/16\",\"2016/17\",\"2017/18\",\"2018/19\",\"2019/20\"],\"xaxis\":\"x\",\"y\":[3780000,4020000,4020000,4020000,4600020,4600020,4600020,4836900,4020000,4020000,4020000,4020000,4020000,4020000,4020000,4020000,4020000,4020000,4020000,4020000,4020000,4020000,4020000,4020000,4020000,4020000,4020000,4020000,4020000,4020000],\"yaxis\":\"y\",\"type\":\"scattergl\"},{\"hovertemplate\":\"Country=Burundi<br>Year=%{x}<br>Total Domestic Consumption=%{y}<extra></extra>\",\"legendgroup\":\"Burundi\",\"line\":{\"color\":\"rgb(221, 204, 119)\",\"dash\":\"solid\"},\"marker\":{\"symbol\":\"circle\"},\"mode\":\"lines\",\"name\":\"Burundi\",\"showlegend\":true,\"x\":[\"1990/91\",\"1991/92\",\"1992/93\",\"1993/94\",\"1994/95\",\"1995/96\",\"1996/97\",\"1997/98\",\"1998/99\",\"1999/00\",\"2000/01\",\"2001/02\",\"2002/03\",\"2003/04\",\"2004/05\",\"2005/06\",\"2006/07\",\"2007/08\",\"2008/09\",\"2009/10\",\"2010/11\",\"2011/12\",\"2012/13\",\"2013/14\",\"2014/15\",\"2015/16\",\"2016/17\",\"2017/18\",\"2018/19\",\"2019/20\"],\"xaxis\":\"x\",\"y\":[540000,540000,540000,300000,300000,480000,480000,300000,300000,300000,300000,300000,300000,300000,300000,300000,300000,300000,300000,300000,300000,300000,300000,300000,300000,300000,300000,300000,300000,300000],\"yaxis\":\"y\",\"type\":\"scattergl\"},{\"hovertemplate\":\"Country=Malawi<br>Year=%{x}<br>Total Domestic Consumption=%{y}<extra></extra>\",\"legendgroup\":\"Malawi\",\"line\":{\"color\":\"rgb(17, 119, 51)\",\"dash\":\"solid\"},\"marker\":{\"symbol\":\"circle\"},\"mode\":\"lines\",\"name\":\"Malawi\",\"showlegend\":true,\"x\":[\"1990/91\",\"1991/92\",\"1992/93\",\"1993/94\",\"1994/95\",\"1995/96\",\"1996/97\",\"1997/98\",\"1998/99\",\"1999/00\",\"2000/01\",\"2001/02\",\"2002/03\",\"2003/04\",\"2004/05\",\"2005/06\",\"2006/07\",\"2007/08\",\"2008/09\",\"2009/10\",\"2010/11\",\"2011/12\",\"2012/13\",\"2013/14\",\"2014/15\",\"2015/16\",\"2016/17\",\"2017/18\",\"2018/19\",\"2019/20\"],\"xaxis\":\"x\",\"y\":[4000020,4020000,1680000,1200000,1200000,1200000,1200000,1200000,1800000,1800000,1800000,1800000,1800000,1800000,1800000,1800000,1800000,1800000,1800000,1800000,2100000,2100000,2100000,2100000,2100000,2100000,2100000,2100000,2100000,2100000],\"yaxis\":\"y\",\"type\":\"scattergl\"},{\"hovertemplate\":\"Country=Togo<br>Year=%{x}<br>Total Domestic Consumption=%{y}<extra></extra>\",\"legendgroup\":\"Togo\",\"line\":{\"color\":\"rgb(51, 34, 136)\",\"dash\":\"solid\"},\"marker\":{\"symbol\":\"circle\"},\"mode\":\"lines\",\"name\":\"Togo\",\"showlegend\":true,\"x\":[\"1990/91\",\"1991/92\",\"1992/93\",\"1993/94\",\"1994/95\",\"1995/96\",\"1996/97\",\"1997/98\",\"1998/99\",\"1999/00\",\"2000/01\",\"2001/02\",\"2002/03\",\"2003/04\",\"2004/05\",\"2005/06\",\"2006/07\",\"2007/08\",\"2008/09\",\"2009/10\",\"2010/11\",\"2011/12\",\"2012/13\",\"2013/14\",\"2014/15\",\"2015/16\",\"2016/17\",\"2017/18\",\"2018/19\",\"2019/20\"],\"xaxis\":\"x\",\"y\":[11280000,13200000,13980000,15000000,16980000,25020000,19980000,23400000,25980000,25980000,30000000,30000000,30000000,30000000,30000000,30000000,30000000,33000000,36000000,42000000,46500000,66000000,67800000,72000000,75000000,78000000,81000000,82500000,84000000,84000000],\"yaxis\":\"y\",\"type\":\"scattergl\"},{\"hovertemplate\":\"Country=Rwanda<br>Year=%{x}<br>Total Domestic Consumption=%{y}<extra></extra>\",\"legendgroup\":\"Rwanda\",\"line\":{\"color\":\"rgb(170, 68, 153)\",\"dash\":\"solid\"},\"marker\":{\"symbol\":\"circle\"},\"mode\":\"lines\",\"name\":\"Rwanda\",\"showlegend\":true,\"x\":[\"1990/91\",\"1991/92\",\"1992/93\",\"1993/94\",\"1994/95\",\"1995/96\",\"1996/97\",\"1997/98\",\"1998/99\",\"1999/00\",\"2000/01\",\"2001/02\",\"2002/03\",\"2003/04\",\"2004/05\",\"2005/06\",\"2006/07\",\"2007/08\",\"2008/09\",\"2009/10\",\"2010/11\",\"2011/12\",\"2012/13\",\"2013/14\",\"2014/15\",\"2015/16\",\"2016/17\",\"2017/18\",\"2018/19\",\"2019/20\"],\"xaxis\":\"x\",\"y\":[60000,60000,60000,60000,60000,60000,60000,60000,120000,120000,120000,120000,120000,120000,120000,120000,120000,120000,120000,120000,120000,12600,14520,14280,11700,13200,15240,15240,15240,15600],\"yaxis\":\"y\",\"type\":\"scattergl\"},{\"hovertemplate\":\"Country=Gabon<br>Year=%{x}<br>Total Domestic Consumption=%{y}<extra></extra>\",\"legendgroup\":\"Gabon\",\"line\":{\"color\":\"rgb(68, 170, 153)\",\"dash\":\"solid\"},\"marker\":{\"symbol\":\"circle\"},\"mode\":\"lines\",\"name\":\"Gabon\",\"showlegend\":true,\"x\":[\"1990/91\",\"1991/92\",\"1992/93\",\"1993/94\",\"1994/95\",\"1995/96\",\"1996/97\",\"1997/98\",\"1998/99\",\"1999/00\",\"2000/01\",\"2001/02\",\"2002/03\",\"2003/04\",\"2004/05\",\"2005/06\",\"2006/07\",\"2007/08\",\"2008/09\",\"2009/10\",\"2010/11\",\"2011/12\",\"2012/13\",\"2013/14\",\"2014/15\",\"2015/16\",\"2016/17\",\"2017/18\",\"2018/19\",\"2019/20\"],\"xaxis\":\"x\",\"y\":[480000,690000,600000,600000,840000,840000,840000,840000,840000,840000,840000,840000,840000,840000,840000,840000,660000,660000,660000,660000,600000,600000,600000,600000,600000,600000,600000,600000,600000,600000],\"yaxis\":\"y\",\"type\":\"scattergl\"},{\"hovertemplate\":\"Country=Zambia<br>Year=%{x}<br>Total Domestic Consumption=%{y}<extra></extra>\",\"legendgroup\":\"Zambia\",\"line\":{\"color\":\"rgb(153, 153, 51)\",\"dash\":\"solid\"},\"marker\":{\"symbol\":\"circle\"},\"mode\":\"lines\",\"name\":\"Zambia\",\"showlegend\":true,\"x\":[\"1990/91\",\"1991/92\",\"1992/93\",\"1993/94\",\"1994/95\",\"1995/96\",\"1996/97\",\"1997/98\",\"1998/99\",\"1999/00\",\"2000/01\",\"2001/02\",\"2002/03\",\"2003/04\",\"2004/05\",\"2005/06\",\"2006/07\",\"2007/08\",\"2008/09\",\"2009/10\",\"2010/11\",\"2011/12\",\"2012/13\",\"2013/14\",\"2014/15\",\"2015/16\",\"2016/17\",\"2017/18\",\"2018/19\",\"2019/20\"],\"xaxis\":\"x\",\"y\":[4200000,4500000,4500000,4500000,4800000,4800000,4800000,6071400,6960000,7140000,8520000,8460000,8400000,7860000,8400000,9000000,10500000,10815000,11100000,11322000,12240000,12600000,12960000,13248000,13752000,14040000,14400000,14688000,15000000,15240000],\"yaxis\":\"y\",\"type\":\"scattergl\"},{\"hovertemplate\":\"Country=Timor-Leste<br>Year=%{x}<br>Total Domestic Consumption=%{y}<extra></extra>\",\"legendgroup\":\"Timor-Leste\",\"line\":{\"color\":\"rgb(136, 34, 85)\",\"dash\":\"solid\"},\"marker\":{\"symbol\":\"circle\"},\"mode\":\"lines\",\"name\":\"Timor-Leste\",\"showlegend\":true,\"x\":[\"1990/91\",\"1991/92\",\"1992/93\",\"1993/94\",\"1994/95\",\"1995/96\",\"1996/97\",\"1997/98\",\"1998/99\",\"1999/00\",\"2000/01\",\"2001/02\",\"2002/03\",\"2003/04\",\"2004/05\",\"2005/06\",\"2006/07\",\"2007/08\",\"2008/09\",\"2009/10\",\"2010/11\",\"2011/12\",\"2012/13\",\"2013/14\",\"2014/15\",\"2015/16\",\"2016/17\",\"2017/18\",\"2018/19\",\"2019/20\"],\"xaxis\":\"x\",\"y\":[46943400,48928800,50998200,53155800,55404000,57747600,60190800,62736599,65390400,68156400,71039400,74044200,77176200,80440800,83843400,87390000,91086600,94939800,98955600,99000000,99000000,99000000,99000000,99000000,99000000,99000000,99000000,96000000,93000000,76500000],\"yaxis\":\"y\",\"type\":\"scattergl\"},{\"hovertemplate\":\"Country=Nepal<br>Year=%{x}<br>Total Domestic Consumption=%{y}<extra></extra>\",\"legendgroup\":\"Nepal\",\"line\":{\"color\":\"rgb(102, 17, 0)\",\"dash\":\"solid\"},\"marker\":{\"symbol\":\"circle\"},\"mode\":\"lines\",\"name\":\"Nepal\",\"showlegend\":true,\"x\":[\"1990/91\",\"1991/92\",\"1992/93\",\"1993/94\",\"1994/95\",\"1995/96\",\"1996/97\",\"1997/98\",\"1998/99\",\"1999/00\",\"2000/01\",\"2001/02\",\"2002/03\",\"2003/04\",\"2004/05\",\"2005/06\",\"2006/07\",\"2007/08\",\"2008/09\",\"2009/10\",\"2010/11\",\"2011/12\",\"2012/13\",\"2013/14\",\"2014/15\",\"2015/16\",\"2016/17\",\"2017/18\",\"2018/19\",\"2019/20\"],\"xaxis\":\"x\",\"y\":[9000000,13800000,15000000,16020000,16020000,16910700,17850960,18843480,19891140,21000000,24097500,27651900,31130520,36410760,41781360,48000000,55020000,56280000,61260000,72480000,94980000,99000000,109500000,120000000,132000000,138000000,144000000,150000000,156000000,159000000],\"yaxis\":\"y\",\"type\":\"scattergl\"},{\"hovertemplate\":\"Country=Equatorial Guinea<br>Year=%{x}<br>Total Domestic Consumption=%{y}<extra></extra>\",\"legendgroup\":\"Equatorial Guinea\",\"line\":{\"color\":\"rgb(136, 136, 136)\",\"dash\":\"solid\"},\"marker\":{\"symbol\":\"circle\"},\"mode\":\"lines\",\"name\":\"Equatorial Guinea\",\"showlegend\":true,\"x\":[\"1990/91\",\"1991/92\",\"1992/93\",\"1993/94\",\"1994/95\",\"1995/96\",\"1996/97\",\"1997/98\",\"1998/99\",\"1999/00\",\"2000/01\",\"2001/02\",\"2002/03\",\"2003/04\",\"2004/05\",\"2005/06\",\"2006/07\",\"2007/08\",\"2008/09\",\"2009/10\",\"2010/11\",\"2011/12\",\"2012/13\",\"2013/14\",\"2014/15\",\"2015/16\",\"2016/17\",\"2017/18\",\"2018/19\",\"2019/20\"],\"xaxis\":\"x\",\"y\":[0,0,0,0,0,0,0,0,0,0,0,0,0,8760000,8160000,8280000,8280000,7800000,7800000,7800000,7800000,7800000,7800000,7800000,7500000,6900000,6000000,5400000,3900000,3840000],\"yaxis\":\"y\",\"type\":\"scattergl\"}],                        {\"template\":{\"data\":{\"histogram2dcontour\":[{\"type\":\"histogram2dcontour\",\"colorbar\":{\"outlinewidth\":0,\"ticks\":\"\"},\"colorscale\":[[0.0,\"#0d0887\"],[0.1111111111111111,\"#46039f\"],[0.2222222222222222,\"#7201a8\"],[0.3333333333333333,\"#9c179e\"],[0.4444444444444444,\"#bd3786\"],[0.5555555555555556,\"#d8576b\"],[0.6666666666666666,\"#ed7953\"],[0.7777777777777778,\"#fb9f3a\"],[0.8888888888888888,\"#fdca26\"],[1.0,\"#f0f921\"]]}],\"choropleth\":[{\"type\":\"choropleth\",\"colorbar\":{\"outlinewidth\":0,\"ticks\":\"\"}}],\"histogram2d\":[{\"type\":\"histogram2d\",\"colorbar\":{\"outlinewidth\":0,\"ticks\":\"\"},\"colorscale\":[[0.0,\"#0d0887\"],[0.1111111111111111,\"#46039f\"],[0.2222222222222222,\"#7201a8\"],[0.3333333333333333,\"#9c179e\"],[0.4444444444444444,\"#bd3786\"],[0.5555555555555556,\"#d8576b\"],[0.6666666666666666,\"#ed7953\"],[0.7777777777777778,\"#fb9f3a\"],[0.8888888888888888,\"#fdca26\"],[1.0,\"#f0f921\"]]}],\"heatmap\":[{\"type\":\"heatmap\",\"colorbar\":{\"outlinewidth\":0,\"ticks\":\"\"},\"colorscale\":[[0.0,\"#0d0887\"],[0.1111111111111111,\"#46039f\"],[0.2222222222222222,\"#7201a8\"],[0.3333333333333333,\"#9c179e\"],[0.4444444444444444,\"#bd3786\"],[0.5555555555555556,\"#d8576b\"],[0.6666666666666666,\"#ed7953\"],[0.7777777777777778,\"#fb9f3a\"],[0.8888888888888888,\"#fdca26\"],[1.0,\"#f0f921\"]]}],\"heatmapgl\":[{\"type\":\"heatmapgl\",\"colorbar\":{\"outlinewidth\":0,\"ticks\":\"\"},\"colorscale\":[[0.0,\"#0d0887\"],[0.1111111111111111,\"#46039f\"],[0.2222222222222222,\"#7201a8\"],[0.3333333333333333,\"#9c179e\"],[0.4444444444444444,\"#bd3786\"],[0.5555555555555556,\"#d8576b\"],[0.6666666666666666,\"#ed7953\"],[0.7777777777777778,\"#fb9f3a\"],[0.8888888888888888,\"#fdca26\"],[1.0,\"#f0f921\"]]}],\"contourcarpet\":[{\"type\":\"contourcarpet\",\"colorbar\":{\"outlinewidth\":0,\"ticks\":\"\"}}],\"contour\":[{\"type\":\"contour\",\"colorbar\":{\"outlinewidth\":0,\"ticks\":\"\"},\"colorscale\":[[0.0,\"#0d0887\"],[0.1111111111111111,\"#46039f\"],[0.2222222222222222,\"#7201a8\"],[0.3333333333333333,\"#9c179e\"],[0.4444444444444444,\"#bd3786\"],[0.5555555555555556,\"#d8576b\"],[0.6666666666666666,\"#ed7953\"],[0.7777777777777778,\"#fb9f3a\"],[0.8888888888888888,\"#fdca26\"],[1.0,\"#f0f921\"]]}],\"surface\":[{\"type\":\"surface\",\"colorbar\":{\"outlinewidth\":0,\"ticks\":\"\"},\"colorscale\":[[0.0,\"#0d0887\"],[0.1111111111111111,\"#46039f\"],[0.2222222222222222,\"#7201a8\"],[0.3333333333333333,\"#9c179e\"],[0.4444444444444444,\"#bd3786\"],[0.5555555555555556,\"#d8576b\"],[0.6666666666666666,\"#ed7953\"],[0.7777777777777778,\"#fb9f3a\"],[0.8888888888888888,\"#fdca26\"],[1.0,\"#f0f921\"]]}],\"mesh3d\":[{\"type\":\"mesh3d\",\"colorbar\":{\"outlinewidth\":0,\"ticks\":\"\"}}],\"scatter\":[{\"fillpattern\":{\"fillmode\":\"overlay\",\"size\":10,\"solidity\":0.2},\"type\":\"scatter\"}],\"parcoords\":[{\"type\":\"parcoords\",\"line\":{\"colorbar\":{\"outlinewidth\":0,\"ticks\":\"\"}}}],\"scatterpolargl\":[{\"type\":\"scatterpolargl\",\"marker\":{\"colorbar\":{\"outlinewidth\":0,\"ticks\":\"\"}}}],\"bar\":[{\"error_x\":{\"color\":\"#2a3f5f\"},\"error_y\":{\"color\":\"#2a3f5f\"},\"marker\":{\"line\":{\"color\":\"#E5ECF6\",\"width\":0.5},\"pattern\":{\"fillmode\":\"overlay\",\"size\":10,\"solidity\":0.2}},\"type\":\"bar\"}],\"scattergeo\":[{\"type\":\"scattergeo\",\"marker\":{\"colorbar\":{\"outlinewidth\":0,\"ticks\":\"\"}}}],\"scatterpolar\":[{\"type\":\"scatterpolar\",\"marker\":{\"colorbar\":{\"outlinewidth\":0,\"ticks\":\"\"}}}],\"histogram\":[{\"marker\":{\"pattern\":{\"fillmode\":\"overlay\",\"size\":10,\"solidity\":0.2}},\"type\":\"histogram\"}],\"scattergl\":[{\"type\":\"scattergl\",\"marker\":{\"colorbar\":{\"outlinewidth\":0,\"ticks\":\"\"}}}],\"scatter3d\":[{\"type\":\"scatter3d\",\"line\":{\"colorbar\":{\"outlinewidth\":0,\"ticks\":\"\"}},\"marker\":{\"colorbar\":{\"outlinewidth\":0,\"ticks\":\"\"}}}],\"scattermapbox\":[{\"type\":\"scattermapbox\",\"marker\":{\"colorbar\":{\"outlinewidth\":0,\"ticks\":\"\"}}}],\"scatterternary\":[{\"type\":\"scatterternary\",\"marker\":{\"colorbar\":{\"outlinewidth\":0,\"ticks\":\"\"}}}],\"scattercarpet\":[{\"type\":\"scattercarpet\",\"marker\":{\"colorbar\":{\"outlinewidth\":0,\"ticks\":\"\"}}}],\"carpet\":[{\"aaxis\":{\"endlinecolor\":\"#2a3f5f\",\"gridcolor\":\"white\",\"linecolor\":\"white\",\"minorgridcolor\":\"white\",\"startlinecolor\":\"#2a3f5f\"},\"baxis\":{\"endlinecolor\":\"#2a3f5f\",\"gridcolor\":\"white\",\"linecolor\":\"white\",\"minorgridcolor\":\"white\",\"startlinecolor\":\"#2a3f5f\"},\"type\":\"carpet\"}],\"table\":[{\"cells\":{\"fill\":{\"color\":\"#EBF0F8\"},\"line\":{\"color\":\"white\"}},\"header\":{\"fill\":{\"color\":\"#C8D4E3\"},\"line\":{\"color\":\"white\"}},\"type\":\"table\"}],\"barpolar\":[{\"marker\":{\"line\":{\"color\":\"#E5ECF6\",\"width\":0.5},\"pattern\":{\"fillmode\":\"overlay\",\"size\":10,\"solidity\":0.2}},\"type\":\"barpolar\"}],\"pie\":[{\"automargin\":true,\"type\":\"pie\"}]},\"layout\":{\"autotypenumbers\":\"strict\",\"colorway\":[\"#636efa\",\"#EF553B\",\"#00cc96\",\"#ab63fa\",\"#FFA15A\",\"#19d3f3\",\"#FF6692\",\"#B6E880\",\"#FF97FF\",\"#FECB52\"],\"font\":{\"color\":\"#2a3f5f\"},\"hovermode\":\"closest\",\"hoverlabel\":{\"align\":\"left\"},\"paper_bgcolor\":\"white\",\"plot_bgcolor\":\"#E5ECF6\",\"polar\":{\"bgcolor\":\"#E5ECF6\",\"angularaxis\":{\"gridcolor\":\"white\",\"linecolor\":\"white\",\"ticks\":\"\"},\"radialaxis\":{\"gridcolor\":\"white\",\"linecolor\":\"white\",\"ticks\":\"\"}},\"ternary\":{\"bgcolor\":\"#E5ECF6\",\"aaxis\":{\"gridcolor\":\"white\",\"linecolor\":\"white\",\"ticks\":\"\"},\"baxis\":{\"gridcolor\":\"white\",\"linecolor\":\"white\",\"ticks\":\"\"},\"caxis\":{\"gridcolor\":\"white\",\"linecolor\":\"white\",\"ticks\":\"\"}},\"coloraxis\":{\"colorbar\":{\"outlinewidth\":0,\"ticks\":\"\"}},\"colorscale\":{\"sequential\":[[0.0,\"#0d0887\"],[0.1111111111111111,\"#46039f\"],[0.2222222222222222,\"#7201a8\"],[0.3333333333333333,\"#9c179e\"],[0.4444444444444444,\"#bd3786\"],[0.5555555555555556,\"#d8576b\"],[0.6666666666666666,\"#ed7953\"],[0.7777777777777778,\"#fb9f3a\"],[0.8888888888888888,\"#fdca26\"],[1.0,\"#f0f921\"]],\"sequentialminus\":[[0.0,\"#0d0887\"],[0.1111111111111111,\"#46039f\"],[0.2222222222222222,\"#7201a8\"],[0.3333333333333333,\"#9c179e\"],[0.4444444444444444,\"#bd3786\"],[0.5555555555555556,\"#d8576b\"],[0.6666666666666666,\"#ed7953\"],[0.7777777777777778,\"#fb9f3a\"],[0.8888888888888888,\"#fdca26\"],[1.0,\"#f0f921\"]],\"diverging\":[[0,\"#8e0152\"],[0.1,\"#c51b7d\"],[0.2,\"#de77ae\"],[0.3,\"#f1b6da\"],[0.4,\"#fde0ef\"],[0.5,\"#f7f7f7\"],[0.6,\"#e6f5d0\"],[0.7,\"#b8e186\"],[0.8,\"#7fbc41\"],[0.9,\"#4d9221\"],[1,\"#276419\"]]},\"xaxis\":{\"gridcolor\":\"white\",\"linecolor\":\"white\",\"ticks\":\"\",\"title\":{\"standoff\":15},\"zerolinecolor\":\"white\",\"automargin\":true,\"zerolinewidth\":2},\"yaxis\":{\"gridcolor\":\"white\",\"linecolor\":\"white\",\"ticks\":\"\",\"title\":{\"standoff\":15},\"zerolinecolor\":\"white\",\"automargin\":true,\"zerolinewidth\":2},\"scene\":{\"xaxis\":{\"backgroundcolor\":\"#E5ECF6\",\"gridcolor\":\"white\",\"linecolor\":\"white\",\"showbackground\":true,\"ticks\":\"\",\"zerolinecolor\":\"white\",\"gridwidth\":2},\"yaxis\":{\"backgroundcolor\":\"#E5ECF6\",\"gridcolor\":\"white\",\"linecolor\":\"white\",\"showbackground\":true,\"ticks\":\"\",\"zerolinecolor\":\"white\",\"gridwidth\":2},\"zaxis\":{\"backgroundcolor\":\"#E5ECF6\",\"gridcolor\":\"white\",\"linecolor\":\"white\",\"showbackground\":true,\"ticks\":\"\",\"zerolinecolor\":\"white\",\"gridwidth\":2}},\"shapedefaults\":{\"line\":{\"color\":\"#2a3f5f\"}},\"annotationdefaults\":{\"arrowcolor\":\"#2a3f5f\",\"arrowhead\":0,\"arrowwidth\":1},\"geo\":{\"bgcolor\":\"white\",\"landcolor\":\"#E5ECF6\",\"subunitcolor\":\"white\",\"showland\":true,\"showlakes\":true,\"lakecolor\":\"white\"},\"title\":{\"x\":0.05},\"mapbox\":{\"style\":\"light\"}}},\"xaxis\":{\"anchor\":\"y\",\"domain\":[0.0,1.0],\"title\":{\"text\":\"Year\"}},\"yaxis\":{\"anchor\":\"x\",\"domain\":[0.0,1.0],\"title\":{\"text\":\"Total Domestic Consumption\"}},\"legend\":{\"title\":{\"text\":\"Country\"},\"tracegroupgap\":0},\"title\":{\"text\":\"Domestic Consumption Rates over Time\",\"x\":0.4},\"height\":600,\"width\":1000},                        {\"responsive\": true}                    ).then(function(){\n",
       "                            \n",
       "var gd = document.getElementById('0f78882b-b375-4a87-8699-9563b5c41b35');\n",
       "var x = new MutationObserver(function (mutations, observer) {{\n",
       "        var display = window.getComputedStyle(gd).display;\n",
       "        if (!display || display === 'none') {{\n",
       "            console.log([gd, 'removed!']);\n",
       "            Plotly.purge(gd);\n",
       "            observer.disconnect();\n",
       "        }}\n",
       "}});\n",
       "\n",
       "// Listen for the removal of the full notebook cells\n",
       "var notebookContainer = gd.closest('#notebook-container');\n",
       "if (notebookContainer) {{\n",
       "    x.observe(notebookContainer, {childList: true});\n",
       "}}\n",
       "\n",
       "// Listen for the clearing of the current output cell\n",
       "var outputEl = gd.closest('.output');\n",
       "if (outputEl) {{\n",
       "    x.observe(outputEl, {childList: true});\n",
       "}}\n",
       "\n",
       "                        })                };                });            </script>        </div>"
      ]
     },
     "metadata": {},
     "output_type": "display_data"
    }
   ],
   "source": [
    "# Lets graph a time series of domestic consumption by country\n",
    "\n",
    "fig3 = px.line(coffee_domestic_consumption_2, x = coffee_domestic_consumption_2.index,\n",
    "               y = coffee_domestic_consumption_2.columns[0:],color_discrete_sequence = px.colors.qualitative.Safe,\n",
    "               labels = {\"year\": \"Year\", \"value\": \"Total Domestic Consumption\", \"variable\": \"Country\"},\n",
    "               title=\"Domestic Consumption Rates over Time\", width=1000, height=600)\n",
    "\n",
    "fig3.update_layout(title_x=0.4)\n",
    "fig3.show()\n"
   ]
  },
  {
   "cell_type": "markdown",
   "id": "10aa8375",
   "metadata": {},
   "source": [
    "<font size=\"5\">Export info here</font>\n"
   ]
  },
  {
   "cell_type": "code",
   "execution_count": 19,
   "id": "173376bd",
   "metadata": {},
   "outputs": [
    {
     "data": {
      "text/html": [
       "<div>\n",
       "<style scoped>\n",
       "    .dataframe tbody tr th:only-of-type {\n",
       "        vertical-align: middle;\n",
       "    }\n",
       "\n",
       "    .dataframe tbody tr th {\n",
       "        vertical-align: top;\n",
       "    }\n",
       "\n",
       "    .dataframe thead th {\n",
       "        text-align: right;\n",
       "    }\n",
       "</style>\n",
       "<table border=\"1\" class=\"dataframe\">\n",
       "  <thead>\n",
       "    <tr style=\"text-align: right;\">\n",
       "      <th></th>\n",
       "      <th>Country</th>\n",
       "      <th>1990</th>\n",
       "      <th>1991</th>\n",
       "      <th>1992</th>\n",
       "      <th>1993</th>\n",
       "      <th>1994</th>\n",
       "      <th>1995</th>\n",
       "      <th>1996</th>\n",
       "      <th>1997</th>\n",
       "      <th>1998</th>\n",
       "      <th>1999</th>\n",
       "      <th>2000</th>\n",
       "      <th>2001</th>\n",
       "      <th>2002</th>\n",
       "      <th>2003</th>\n",
       "      <th>2004</th>\n",
       "      <th>2005</th>\n",
       "      <th>2006</th>\n",
       "      <th>2007</th>\n",
       "      <th>2008</th>\n",
       "      <th>2009</th>\n",
       "      <th>2010</th>\n",
       "      <th>2011</th>\n",
       "      <th>2012</th>\n",
       "      <th>2013</th>\n",
       "      <th>2014</th>\n",
       "      <th>2015</th>\n",
       "      <th>2016</th>\n",
       "      <th>2017</th>\n",
       "      <th>2018</th>\n",
       "      <th>2019</th>\n",
       "      <th>Total_export</th>\n",
       "    </tr>\n",
       "  </thead>\n",
       "  <tbody>\n",
       "    <tr>\n",
       "      <th>0</th>\n",
       "      <td>Angola</td>\n",
       "      <td>5040000</td>\n",
       "      <td>4260000</td>\n",
       "      <td>4800000</td>\n",
       "      <td>2340000</td>\n",
       "      <td>480000</td>\n",
       "      <td>2460000</td>\n",
       "      <td>3120000</td>\n",
       "      <td>3000000</td>\n",
       "      <td>3240000</td>\n",
       "      <td>3000000</td>\n",
       "      <td>1320000</td>\n",
       "      <td>840000</td>\n",
       "      <td>540000</td>\n",
       "      <td>1020000</td>\n",
       "      <td>360000</td>\n",
       "      <td>300000</td>\n",
       "      <td>300000</td>\n",
       "      <td>240000</td>\n",
       "      <td>360000</td>\n",
       "      <td>420000</td>\n",
       "      <td>240000</td>\n",
       "      <td>480000</td>\n",
       "      <td>480000</td>\n",
       "      <td>360000</td>\n",
       "      <td>540000</td>\n",
       "      <td>660000</td>\n",
       "      <td>660000</td>\n",
       "      <td>540000</td>\n",
       "      <td>540000</td>\n",
       "      <td>1380000</td>\n",
       "      <td>43320000</td>\n",
       "    </tr>\n",
       "    <tr>\n",
       "      <th>1</th>\n",
       "      <td>Bolivia (Plurinational State of)</td>\n",
       "      <td>9360000</td>\n",
       "      <td>4440000</td>\n",
       "      <td>5760000</td>\n",
       "      <td>2820000</td>\n",
       "      <td>5040000</td>\n",
       "      <td>5640000</td>\n",
       "      <td>7380000</td>\n",
       "      <td>6660000</td>\n",
       "      <td>5820000</td>\n",
       "      <td>7440000</td>\n",
       "      <td>6360000</td>\n",
       "      <td>4200000</td>\n",
       "      <td>4740000</td>\n",
       "      <td>4380000</td>\n",
       "      <td>5580000</td>\n",
       "      <td>5040000</td>\n",
       "      <td>5580000</td>\n",
       "      <td>5040000</td>\n",
       "      <td>4080000</td>\n",
       "      <td>4980000</td>\n",
       "      <td>4680000</td>\n",
       "      <td>4440000</td>\n",
       "      <td>3780000</td>\n",
       "      <td>3300000</td>\n",
       "      <td>3720000</td>\n",
       "      <td>1800000</td>\n",
       "      <td>1320000</td>\n",
       "      <td>1560000</td>\n",
       "      <td>1320000</td>\n",
       "      <td>1200000</td>\n",
       "      <td>137460000</td>\n",
       "    </tr>\n",
       "  </tbody>\n",
       "</table>\n",
       "</div>"
      ],
      "text/plain": [
       "                            Country     1990     1991     1992     1993  \\\n",
       "0                            Angola  5040000  4260000  4800000  2340000   \n",
       "1  Bolivia (Plurinational State of)  9360000  4440000  5760000  2820000   \n",
       "\n",
       "      1994     1995     1996     1997     1998     1999     2000     2001  \\\n",
       "0   480000  2460000  3120000  3000000  3240000  3000000  1320000   840000   \n",
       "1  5040000  5640000  7380000  6660000  5820000  7440000  6360000  4200000   \n",
       "\n",
       "      2002     2003     2004     2005     2006     2007     2008     2009  \\\n",
       "0   540000  1020000   360000   300000   300000   240000   360000   420000   \n",
       "1  4740000  4380000  5580000  5040000  5580000  5040000  4080000  4980000   \n",
       "\n",
       "      2010     2011     2012     2013     2014     2015     2016     2017  \\\n",
       "0   240000   480000   480000   360000   540000   660000   660000   540000   \n",
       "1  4680000  4440000  3780000  3300000  3720000  1800000  1320000  1560000   \n",
       "\n",
       "      2018     2019  Total_export  \n",
       "0   540000  1380000      43320000  \n",
       "1  1320000  1200000     137460000  "
      ]
     },
     "execution_count": 19,
     "metadata": {},
     "output_type": "execute_result"
    }
   ],
   "source": [
    "coffee_export_0.head(2)"
   ]
  },
  {
   "cell_type": "code",
   "execution_count": 26,
   "id": "0abe4bc7",
   "metadata": {},
   "outputs": [
    {
     "name": "stdout",
     "output_type": "stream",
     "text": [
      "<class 'pandas.core.frame.DataFrame'>\n",
      "RangeIndex: 55 entries, 0 to 54\n",
      "Data columns (total 32 columns):\n",
      " #   Column        Non-Null Count  Dtype \n",
      "---  ------        --------------  ----- \n",
      " 0   Country       55 non-null     object\n",
      " 1   1990          55 non-null     int64 \n",
      " 2   1991          55 non-null     int64 \n",
      " 3   1992          55 non-null     int64 \n",
      " 4   1993          55 non-null     int64 \n",
      " 5   1994          55 non-null     int64 \n",
      " 6   1995          55 non-null     int64 \n",
      " 7   1996          55 non-null     int64 \n",
      " 8   1997          55 non-null     int64 \n",
      " 9   1998          55 non-null     int64 \n",
      " 10  1999          55 non-null     int64 \n",
      " 11  2000          55 non-null     int64 \n",
      " 12  2001          55 non-null     int64 \n",
      " 13  2002          55 non-null     int64 \n",
      " 14  2003          55 non-null     int64 \n",
      " 15  2004          55 non-null     int64 \n",
      " 16  2005          55 non-null     int64 \n",
      " 17  2006          55 non-null     int64 \n",
      " 18  2007          55 non-null     int64 \n",
      " 19  2008          55 non-null     int64 \n",
      " 20  2009          55 non-null     int64 \n",
      " 21  2010          55 non-null     int64 \n",
      " 22  2011          55 non-null     int64 \n",
      " 23  2012          55 non-null     int64 \n",
      " 24  2013          55 non-null     int64 \n",
      " 25  2014          55 non-null     int64 \n",
      " 26  2015          55 non-null     int64 \n",
      " 27  2016          55 non-null     int64 \n",
      " 28  2017          55 non-null     int64 \n",
      " 29  2018          55 non-null     int64 \n",
      " 30  2019          55 non-null     int64 \n",
      " 31  Total_export  55 non-null     int64 \n",
      "dtypes: int64(31), object(1)\n",
      "memory usage: 13.9+ KB\n"
     ]
    }
   ],
   "source": [
    "coffee_export_0.info()"
   ]
  },
  {
   "cell_type": "markdown",
   "id": "62b3ad4b",
   "metadata": {},
   "source": [
    "<font size=\"5\">Green Coffee Inventory info here</font>"
   ]
  },
  {
   "cell_type": "code",
   "execution_count": 20,
   "id": "3b22e6b6",
   "metadata": {},
   "outputs": [
    {
     "data": {
      "text/html": [
       "<div>\n",
       "<style scoped>\n",
       "    .dataframe tbody tr th:only-of-type {\n",
       "        vertical-align: middle;\n",
       "    }\n",
       "\n",
       "    .dataframe tbody tr th {\n",
       "        vertical-align: top;\n",
       "    }\n",
       "\n",
       "    .dataframe thead th {\n",
       "        text-align: right;\n",
       "    }\n",
       "</style>\n",
       "<table border=\"1\" class=\"dataframe\">\n",
       "  <thead>\n",
       "    <tr style=\"text-align: right;\">\n",
       "      <th></th>\n",
       "      <th>Country</th>\n",
       "      <th>1990</th>\n",
       "      <th>1991</th>\n",
       "      <th>1992</th>\n",
       "      <th>1993</th>\n",
       "      <th>1994</th>\n",
       "      <th>1995</th>\n",
       "      <th>1996</th>\n",
       "      <th>1997</th>\n",
       "      <th>1998</th>\n",
       "      <th>1999</th>\n",
       "      <th>2000</th>\n",
       "      <th>2001</th>\n",
       "      <th>2002</th>\n",
       "      <th>2003</th>\n",
       "      <th>2004</th>\n",
       "      <th>2005</th>\n",
       "      <th>2006</th>\n",
       "      <th>2007</th>\n",
       "      <th>2008</th>\n",
       "      <th>2009</th>\n",
       "      <th>2010</th>\n",
       "      <th>2011</th>\n",
       "      <th>2012</th>\n",
       "      <th>2013</th>\n",
       "      <th>2014</th>\n",
       "      <th>2015</th>\n",
       "      <th>2016</th>\n",
       "      <th>2017</th>\n",
       "      <th>2018</th>\n",
       "      <th>2019</th>\n",
       "      <th>Total_inventorie</th>\n",
       "    </tr>\n",
       "  </thead>\n",
       "  <tbody>\n",
       "    <tr>\n",
       "      <th>0</th>\n",
       "      <td>Austria</td>\n",
       "      <td>19980000</td>\n",
       "      <td>19980000</td>\n",
       "      <td>22020000</td>\n",
       "      <td>19980000</td>\n",
       "      <td>16980000</td>\n",
       "      <td>16440000</td>\n",
       "      <td>14760000</td>\n",
       "      <td>13860000</td>\n",
       "      <td>12600000</td>\n",
       "      <td>11280000</td>\n",
       "      <td>9720000</td>\n",
       "      <td>8520000</td>\n",
       "      <td>8100000</td>\n",
       "      <td>7860000</td>\n",
       "      <td>7800000</td>\n",
       "      <td>7740000</td>\n",
       "      <td>7560000</td>\n",
       "      <td>7680000</td>\n",
       "      <td>7740000</td>\n",
       "      <td>8280000</td>\n",
       "      <td>8460000</td>\n",
       "      <td>6660000</td>\n",
       "      <td>5820000</td>\n",
       "      <td>5520000</td>\n",
       "      <td>5760000</td>\n",
       "      <td>5760000</td>\n",
       "      <td>5400000</td>\n",
       "      <td>4800000</td>\n",
       "      <td>4800000</td>\n",
       "      <td>4800000</td>\n",
       "      <td>306660000</td>\n",
       "    </tr>\n",
       "    <tr>\n",
       "      <th>1</th>\n",
       "      <td>Cyprus</td>\n",
       "      <td>600000</td>\n",
       "      <td>720000</td>\n",
       "      <td>600000</td>\n",
       "      <td>480000</td>\n",
       "      <td>780000</td>\n",
       "      <td>780000</td>\n",
       "      <td>720000</td>\n",
       "      <td>360000</td>\n",
       "      <td>540000</td>\n",
       "      <td>540000</td>\n",
       "      <td>600000</td>\n",
       "      <td>720000</td>\n",
       "      <td>780000</td>\n",
       "      <td>780000</td>\n",
       "      <td>360000</td>\n",
       "      <td>420000</td>\n",
       "      <td>480000</td>\n",
       "      <td>480000</td>\n",
       "      <td>480000</td>\n",
       "      <td>300000</td>\n",
       "      <td>300000</td>\n",
       "      <td>360000</td>\n",
       "      <td>240000</td>\n",
       "      <td>420000</td>\n",
       "      <td>720000</td>\n",
       "      <td>360000</td>\n",
       "      <td>120000</td>\n",
       "      <td>180000</td>\n",
       "      <td>300000</td>\n",
       "      <td>0</td>\n",
       "      <td>14520000</td>\n",
       "    </tr>\n",
       "  </tbody>\n",
       "</table>\n",
       "</div>"
      ],
      "text/plain": [
       "      Country      1990      1991      1992      1993      1994      1995  \\\n",
       "0     Austria  19980000  19980000  22020000  19980000  16980000  16440000   \n",
       "1      Cyprus    600000    720000    600000    480000    780000    780000   \n",
       "\n",
       "       1996      1997      1998      1999     2000     2001     2002     2003  \\\n",
       "0  14760000  13860000  12600000  11280000  9720000  8520000  8100000  7860000   \n",
       "1    720000    360000    540000    540000   600000   720000   780000   780000   \n",
       "\n",
       "      2004     2005     2006     2007     2008     2009     2010     2011  \\\n",
       "0  7800000  7740000  7560000  7680000  7740000  8280000  8460000  6660000   \n",
       "1   360000   420000   480000   480000   480000   300000   300000   360000   \n",
       "\n",
       "      2012     2013     2014     2015     2016     2017     2018     2019  \\\n",
       "0  5820000  5520000  5760000  5760000  5400000  4800000  4800000  4800000   \n",
       "1   240000   420000   720000   360000   120000   180000   300000        0   \n",
       "\n",
       "   Total_inventorie  \n",
       "0         306660000  \n",
       "1          14520000  "
      ]
     },
     "execution_count": 20,
     "metadata": {},
     "output_type": "execute_result"
    }
   ],
   "source": [
    "green_coffee_inventory_0.head(2)"
   ]
  },
  {
   "cell_type": "code",
   "execution_count": 27,
   "id": "0778526e",
   "metadata": {},
   "outputs": [
    {
     "name": "stdout",
     "output_type": "stream",
     "text": [
      "<class 'pandas.core.frame.DataFrame'>\n",
      "RangeIndex: 18 entries, 0 to 17\n",
      "Data columns (total 32 columns):\n",
      " #   Column            Non-Null Count  Dtype \n",
      "---  ------            --------------  ----- \n",
      " 0   Country           18 non-null     object\n",
      " 1   1990              18 non-null     int64 \n",
      " 2   1991              18 non-null     int64 \n",
      " 3   1992              18 non-null     int64 \n",
      " 4   1993              18 non-null     int64 \n",
      " 5   1994              18 non-null     int64 \n",
      " 6   1995              18 non-null     int64 \n",
      " 7   1996              18 non-null     int64 \n",
      " 8   1997              18 non-null     int64 \n",
      " 9   1998              18 non-null     int64 \n",
      " 10  1999              18 non-null     int64 \n",
      " 11  2000              18 non-null     int64 \n",
      " 12  2001              18 non-null     int64 \n",
      " 13  2002              18 non-null     int64 \n",
      " 14  2003              18 non-null     int64 \n",
      " 15  2004              18 non-null     int64 \n",
      " 16  2005              18 non-null     int64 \n",
      " 17  2006              18 non-null     int64 \n",
      " 18  2007              18 non-null     int64 \n",
      " 19  2008              18 non-null     int64 \n",
      " 20  2009              18 non-null     int64 \n",
      " 21  2010              18 non-null     int64 \n",
      " 22  2011              18 non-null     int64 \n",
      " 23  2012              18 non-null     int64 \n",
      " 24  2013              18 non-null     int64 \n",
      " 25  2014              18 non-null     int64 \n",
      " 26  2015              18 non-null     int64 \n",
      " 27  2016              18 non-null     int64 \n",
      " 28  2017              18 non-null     int64 \n",
      " 29  2018              18 non-null     int64 \n",
      " 30  2019              18 non-null     int64 \n",
      " 31  Total_inventorie  18 non-null     int64 \n",
      "dtypes: int64(31), object(1)\n",
      "memory usage: 4.6+ KB\n"
     ]
    }
   ],
   "source": [
    "green_coffee_inventory_0.info()"
   ]
  },
  {
   "cell_type": "markdown",
   "id": "1b1f251f",
   "metadata": {},
   "source": [
    "<font size=\"5\">Import info here</font>"
   ]
  },
  {
   "cell_type": "code",
   "execution_count": 21,
   "id": "b6f51788",
   "metadata": {},
   "outputs": [
    {
     "data": {
      "text/html": [
       "<div>\n",
       "<style scoped>\n",
       "    .dataframe tbody tr th:only-of-type {\n",
       "        vertical-align: middle;\n",
       "    }\n",
       "\n",
       "    .dataframe tbody tr th {\n",
       "        vertical-align: top;\n",
       "    }\n",
       "\n",
       "    .dataframe thead th {\n",
       "        text-align: right;\n",
       "    }\n",
       "</style>\n",
       "<table border=\"1\" class=\"dataframe\">\n",
       "  <thead>\n",
       "    <tr style=\"text-align: right;\">\n",
       "      <th></th>\n",
       "      <th>Country</th>\n",
       "      <th>1990</th>\n",
       "      <th>1991</th>\n",
       "      <th>1992</th>\n",
       "      <th>1993</th>\n",
       "      <th>1994</th>\n",
       "      <th>1995</th>\n",
       "      <th>1996</th>\n",
       "      <th>1997</th>\n",
       "      <th>1998</th>\n",
       "      <th>1999</th>\n",
       "      <th>2000</th>\n",
       "      <th>2001</th>\n",
       "      <th>2002</th>\n",
       "      <th>2003</th>\n",
       "      <th>2004</th>\n",
       "      <th>2005</th>\n",
       "      <th>2006</th>\n",
       "      <th>2007</th>\n",
       "      <th>2008</th>\n",
       "      <th>2009</th>\n",
       "      <th>2010</th>\n",
       "      <th>2011</th>\n",
       "      <th>2012</th>\n",
       "      <th>2013</th>\n",
       "      <th>2014</th>\n",
       "      <th>2015</th>\n",
       "      <th>2016</th>\n",
       "      <th>2017</th>\n",
       "      <th>2018</th>\n",
       "      <th>2019</th>\n",
       "      <th>Total_import</th>\n",
       "    </tr>\n",
       "  </thead>\n",
       "  <tbody>\n",
       "    <tr>\n",
       "      <th>0</th>\n",
       "      <td>Austria</td>\n",
       "      <td>112800000</td>\n",
       "      <td>123480000</td>\n",
       "      <td>132360000</td>\n",
       "      <td>110160000</td>\n",
       "      <td>85020000</td>\n",
       "      <td>73860000</td>\n",
       "      <td>72600000</td>\n",
       "      <td>77640000</td>\n",
       "      <td>77580000</td>\n",
       "      <td>90000000</td>\n",
       "      <td>75420000</td>\n",
       "      <td>85920000</td>\n",
       "      <td>86820000</td>\n",
       "      <td>80160000</td>\n",
       "      <td>92280000</td>\n",
       "      <td>94620000</td>\n",
       "      <td>96060000</td>\n",
       "      <td>118080000</td>\n",
       "      <td>114060000</td>\n",
       "      <td>78540000</td>\n",
       "      <td>82140000</td>\n",
       "      <td>87120000</td>\n",
       "      <td>93540000</td>\n",
       "      <td>93300000</td>\n",
       "      <td>91500000</td>\n",
       "      <td>90780000</td>\n",
       "      <td>89700000</td>\n",
       "      <td>87600000</td>\n",
       "      <td>85740000</td>\n",
       "      <td>86880000</td>\n",
       "      <td>2765760000</td>\n",
       "    </tr>\n",
       "    <tr>\n",
       "      <th>1</th>\n",
       "      <td>Belgium</td>\n",
       "      <td>0</td>\n",
       "      <td>0</td>\n",
       "      <td>0</td>\n",
       "      <td>0</td>\n",
       "      <td>0</td>\n",
       "      <td>0</td>\n",
       "      <td>0</td>\n",
       "      <td>0</td>\n",
       "      <td>0</td>\n",
       "      <td>180180000</td>\n",
       "      <td>209460000</td>\n",
       "      <td>192540000</td>\n",
       "      <td>227520000</td>\n",
       "      <td>229080000</td>\n",
       "      <td>238080000</td>\n",
       "      <td>243780000</td>\n",
       "      <td>276300000</td>\n",
       "      <td>240840000</td>\n",
       "      <td>407520000</td>\n",
       "      <td>354960000</td>\n",
       "      <td>355440000</td>\n",
       "      <td>349680000</td>\n",
       "      <td>340080000</td>\n",
       "      <td>330120000</td>\n",
       "      <td>312720000</td>\n",
       "      <td>332040000</td>\n",
       "      <td>363120000</td>\n",
       "      <td>340620000</td>\n",
       "      <td>344520000</td>\n",
       "      <td>371940000</td>\n",
       "      <td>6240540000</td>\n",
       "    </tr>\n",
       "  </tbody>\n",
       "</table>\n",
       "</div>"
      ],
      "text/plain": [
       "      Country       1990       1991       1992       1993      1994      1995  \\\n",
       "0     Austria  112800000  123480000  132360000  110160000  85020000  73860000   \n",
       "1     Belgium          0          0          0          0         0         0   \n",
       "\n",
       "       1996      1997      1998       1999       2000       2001       2002  \\\n",
       "0  72600000  77640000  77580000   90000000   75420000   85920000   86820000   \n",
       "1         0         0         0  180180000  209460000  192540000  227520000   \n",
       "\n",
       "        2003       2004       2005       2006       2007       2008  \\\n",
       "0   80160000   92280000   94620000   96060000  118080000  114060000   \n",
       "1  229080000  238080000  243780000  276300000  240840000  407520000   \n",
       "\n",
       "        2009       2010       2011       2012       2013       2014  \\\n",
       "0   78540000   82140000   87120000   93540000   93300000   91500000   \n",
       "1  354960000  355440000  349680000  340080000  330120000  312720000   \n",
       "\n",
       "        2015       2016       2017       2018       2019  Total_import  \n",
       "0   90780000   89700000   87600000   85740000   86880000    2765760000  \n",
       "1  332040000  363120000  340620000  344520000  371940000    6240540000  "
      ]
     },
     "execution_count": 21,
     "metadata": {},
     "output_type": "execute_result"
    }
   ],
   "source": [
    "coffee_import_0.head(2)"
   ]
  },
  {
   "cell_type": "code",
   "execution_count": 28,
   "id": "38f294e7",
   "metadata": {},
   "outputs": [
    {
     "name": "stdout",
     "output_type": "stream",
     "text": [
      "<class 'pandas.core.frame.DataFrame'>\n",
      "RangeIndex: 35 entries, 0 to 34\n",
      "Data columns (total 32 columns):\n",
      " #   Column        Non-Null Count  Dtype \n",
      "---  ------        --------------  ----- \n",
      " 0   Country       35 non-null     object\n",
      " 1   1990          35 non-null     int64 \n",
      " 2   1991          35 non-null     int64 \n",
      " 3   1992          35 non-null     int64 \n",
      " 4   1993          35 non-null     int64 \n",
      " 5   1994          35 non-null     int64 \n",
      " 6   1995          35 non-null     int64 \n",
      " 7   1996          35 non-null     int64 \n",
      " 8   1997          35 non-null     int64 \n",
      " 9   1998          35 non-null     int64 \n",
      " 10  1999          35 non-null     int64 \n",
      " 11  2000          35 non-null     int64 \n",
      " 12  2001          35 non-null     int64 \n",
      " 13  2002          35 non-null     int64 \n",
      " 14  2003          35 non-null     int64 \n",
      " 15  2004          35 non-null     int64 \n",
      " 16  2005          35 non-null     int64 \n",
      " 17  2006          35 non-null     int64 \n",
      " 18  2007          35 non-null     int64 \n",
      " 19  2008          35 non-null     int64 \n",
      " 20  2009          35 non-null     int64 \n",
      " 21  2010          35 non-null     int64 \n",
      " 22  2011          35 non-null     int64 \n",
      " 23  2012          35 non-null     int64 \n",
      " 24  2013          35 non-null     int64 \n",
      " 25  2014          35 non-null     int64 \n",
      " 26  2015          35 non-null     int64 \n",
      " 27  2016          35 non-null     int64 \n",
      " 28  2017          35 non-null     int64 \n",
      " 29  2018          35 non-null     int64 \n",
      " 30  2019          35 non-null     int64 \n",
      " 31  Total_import  35 non-null     int64 \n",
      "dtypes: int64(31), object(1)\n",
      "memory usage: 8.9+ KB\n"
     ]
    }
   ],
   "source": [
    "coffee_import_0.info()"
   ]
  },
  {
   "cell_type": "markdown",
   "id": "b5c2ae3a",
   "metadata": {},
   "source": [
    "<font size=\"5\">Consumption info here</font>"
   ]
  },
  {
   "cell_type": "code",
   "execution_count": 22,
   "id": "6896e853",
   "metadata": {},
   "outputs": [
    {
     "data": {
      "text/html": [
       "<div>\n",
       "<style scoped>\n",
       "    .dataframe tbody tr th:only-of-type {\n",
       "        vertical-align: middle;\n",
       "    }\n",
       "\n",
       "    .dataframe tbody tr th {\n",
       "        vertical-align: top;\n",
       "    }\n",
       "\n",
       "    .dataframe thead th {\n",
       "        text-align: right;\n",
       "    }\n",
       "</style>\n",
       "<table border=\"1\" class=\"dataframe\">\n",
       "  <thead>\n",
       "    <tr style=\"text-align: right;\">\n",
       "      <th></th>\n",
       "      <th>Country</th>\n",
       "      <th>1990</th>\n",
       "      <th>1991</th>\n",
       "      <th>1992</th>\n",
       "      <th>1993</th>\n",
       "      <th>1994</th>\n",
       "      <th>1995</th>\n",
       "      <th>1996</th>\n",
       "      <th>1997</th>\n",
       "      <th>1998</th>\n",
       "      <th>1999</th>\n",
       "      <th>2000</th>\n",
       "      <th>2001</th>\n",
       "      <th>2002</th>\n",
       "      <th>2003</th>\n",
       "      <th>2004</th>\n",
       "      <th>2005</th>\n",
       "      <th>2006</th>\n",
       "      <th>2007</th>\n",
       "      <th>2008</th>\n",
       "      <th>2009</th>\n",
       "      <th>2010</th>\n",
       "      <th>2011</th>\n",
       "      <th>2012</th>\n",
       "      <th>2013</th>\n",
       "      <th>2014</th>\n",
       "      <th>2015</th>\n",
       "      <th>2016</th>\n",
       "      <th>2017</th>\n",
       "      <th>2018</th>\n",
       "      <th>2019</th>\n",
       "      <th>Total_import_consumption</th>\n",
       "    </tr>\n",
       "  </thead>\n",
       "  <tbody>\n",
       "    <tr>\n",
       "      <th>0</th>\n",
       "      <td>Austria</td>\n",
       "      <td>80400000</td>\n",
       "      <td>78120000</td>\n",
       "      <td>72720000</td>\n",
       "      <td>80100000</td>\n",
       "      <td>65160000</td>\n",
       "      <td>60720000</td>\n",
       "      <td>64560000</td>\n",
       "      <td>65220000</td>\n",
       "      <td>66300000</td>\n",
       "      <td>67380000</td>\n",
       "      <td>52500000</td>\n",
       "      <td>60780000</td>\n",
       "      <td>55560000</td>\n",
       "      <td>43200000</td>\n",
       "      <td>59760000</td>\n",
       "      <td>46320000</td>\n",
       "      <td>36720000</td>\n",
       "      <td>50820000</td>\n",
       "      <td>54480000</td>\n",
       "      <td>53160000</td>\n",
       "      <td>54180000</td>\n",
       "      <td>67020000</td>\n",
       "      <td>76140000</td>\n",
       "      <td>74940000</td>\n",
       "      <td>68100000</td>\n",
       "      <td>68160000</td>\n",
       "      <td>71580000</td>\n",
       "      <td>69720000</td>\n",
       "      <td>70320000</td>\n",
       "      <td>70380000</td>\n",
       "      <td>1904520000</td>\n",
       "    </tr>\n",
       "    <tr>\n",
       "      <th>1</th>\n",
       "      <td>Belgium</td>\n",
       "      <td>0</td>\n",
       "      <td>0</td>\n",
       "      <td>0</td>\n",
       "      <td>0</td>\n",
       "      <td>0</td>\n",
       "      <td>0</td>\n",
       "      <td>0</td>\n",
       "      <td>0</td>\n",
       "      <td>0</td>\n",
       "      <td>50040000</td>\n",
       "      <td>67980000</td>\n",
       "      <td>53040000</td>\n",
       "      <td>89040000</td>\n",
       "      <td>94740000</td>\n",
       "      <td>83760000</td>\n",
       "      <td>69480000</td>\n",
       "      <td>92220000</td>\n",
       "      <td>66180000</td>\n",
       "      <td>39000000</td>\n",
       "      <td>56040000</td>\n",
       "      <td>52260000</td>\n",
       "      <td>56040000</td>\n",
       "      <td>54900000</td>\n",
       "      <td>74700000</td>\n",
       "      <td>75540000</td>\n",
       "      <td>64440000</td>\n",
       "      <td>90120000</td>\n",
       "      <td>78000000</td>\n",
       "      <td>81900000</td>\n",
       "      <td>71100000</td>\n",
       "      <td>1460520000</td>\n",
       "    </tr>\n",
       "  </tbody>\n",
       "</table>\n",
       "</div>"
      ],
      "text/plain": [
       "      Country      1990      1991      1992      1993      1994      1995  \\\n",
       "0     Austria  80400000  78120000  72720000  80100000  65160000  60720000   \n",
       "1     Belgium         0         0         0         0         0         0   \n",
       "\n",
       "       1996      1997      1998      1999      2000      2001      2002  \\\n",
       "0  64560000  65220000  66300000  67380000  52500000  60780000  55560000   \n",
       "1         0         0         0  50040000  67980000  53040000  89040000   \n",
       "\n",
       "       2003      2004      2005      2006      2007      2008      2009  \\\n",
       "0  43200000  59760000  46320000  36720000  50820000  54480000  53160000   \n",
       "1  94740000  83760000  69480000  92220000  66180000  39000000  56040000   \n",
       "\n",
       "       2010      2011      2012      2013      2014      2015      2016  \\\n",
       "0  54180000  67020000  76140000  74940000  68100000  68160000  71580000   \n",
       "1  52260000  56040000  54900000  74700000  75540000  64440000  90120000   \n",
       "\n",
       "       2017      2018      2019  Total_import_consumption  \n",
       "0  69720000  70320000  70380000                1904520000  \n",
       "1  78000000  81900000  71100000                1460520000  "
      ]
     },
     "execution_count": 22,
     "metadata": {},
     "output_type": "execute_result"
    }
   ],
   "source": [
    "import_consumption_0.head(2)"
   ]
  },
  {
   "cell_type": "code",
   "execution_count": 29,
   "id": "262825ab",
   "metadata": {},
   "outputs": [
    {
     "name": "stdout",
     "output_type": "stream",
     "text": [
      "<class 'pandas.core.frame.DataFrame'>\n",
      "RangeIndex: 35 entries, 0 to 34\n",
      "Data columns (total 32 columns):\n",
      " #   Column                    Non-Null Count  Dtype \n",
      "---  ------                    --------------  ----- \n",
      " 0   Country                   35 non-null     object\n",
      " 1   1990                      35 non-null     int64 \n",
      " 2   1991                      35 non-null     int64 \n",
      " 3   1992                      35 non-null     int64 \n",
      " 4   1993                      35 non-null     int64 \n",
      " 5   1994                      35 non-null     int64 \n",
      " 6   1995                      35 non-null     int64 \n",
      " 7   1996                      35 non-null     int64 \n",
      " 8   1997                      35 non-null     int64 \n",
      " 9   1998                      35 non-null     int64 \n",
      " 10  1999                      35 non-null     int64 \n",
      " 11  2000                      35 non-null     int64 \n",
      " 12  2001                      35 non-null     int64 \n",
      " 13  2002                      35 non-null     int64 \n",
      " 14  2003                      35 non-null     int64 \n",
      " 15  2004                      35 non-null     int64 \n",
      " 16  2005                      35 non-null     int64 \n",
      " 17  2006                      35 non-null     int64 \n",
      " 18  2007                      35 non-null     int64 \n",
      " 19  2008                      35 non-null     int64 \n",
      " 20  2009                      35 non-null     int64 \n",
      " 21  2010                      35 non-null     int64 \n",
      " 22  2011                      35 non-null     int64 \n",
      " 23  2012                      35 non-null     int64 \n",
      " 24  2013                      35 non-null     int64 \n",
      " 25  2014                      35 non-null     int64 \n",
      " 26  2015                      35 non-null     int64 \n",
      " 27  2016                      35 non-null     int64 \n",
      " 28  2017                      35 non-null     int64 \n",
      " 29  2018                      35 non-null     int64 \n",
      " 30  2019                      35 non-null     int64 \n",
      " 31  Total_import_consumption  35 non-null     int64 \n",
      "dtypes: int64(31), object(1)\n",
      "memory usage: 8.9+ KB\n"
     ]
    }
   ],
   "source": [
    "import_consumption_0.info()"
   ]
  },
  {
   "cell_type": "markdown",
   "id": "7bad1161",
   "metadata": {},
   "source": [
    "<font size=\"5\">Production info here</font>"
   ]
  },
  {
   "cell_type": "code",
   "execution_count": 23,
   "id": "e048868e",
   "metadata": {},
   "outputs": [
    {
     "data": {
      "text/html": [
       "<div>\n",
       "<style scoped>\n",
       "    .dataframe tbody tr th:only-of-type {\n",
       "        vertical-align: middle;\n",
       "    }\n",
       "\n",
       "    .dataframe tbody tr th {\n",
       "        vertical-align: top;\n",
       "    }\n",
       "\n",
       "    .dataframe thead th {\n",
       "        text-align: right;\n",
       "    }\n",
       "</style>\n",
       "<table border=\"1\" class=\"dataframe\">\n",
       "  <thead>\n",
       "    <tr style=\"text-align: right;\">\n",
       "      <th></th>\n",
       "      <th>Country</th>\n",
       "      <th>Coffee type</th>\n",
       "      <th>1990/91</th>\n",
       "      <th>1991/92</th>\n",
       "      <th>1992/93</th>\n",
       "      <th>1993/94</th>\n",
       "      <th>1994/95</th>\n",
       "      <th>1995/96</th>\n",
       "      <th>1996/97</th>\n",
       "      <th>1997/98</th>\n",
       "      <th>1998/99</th>\n",
       "      <th>1999/00</th>\n",
       "      <th>2000/01</th>\n",
       "      <th>2001/02</th>\n",
       "      <th>2002/03</th>\n",
       "      <th>2003/04</th>\n",
       "      <th>2004/05</th>\n",
       "      <th>2005/06</th>\n",
       "      <th>2006/07</th>\n",
       "      <th>2007/08</th>\n",
       "      <th>2008/09</th>\n",
       "      <th>2009/10</th>\n",
       "      <th>2010/11</th>\n",
       "      <th>2011/12</th>\n",
       "      <th>2012/13</th>\n",
       "      <th>2013/14</th>\n",
       "      <th>2014/15</th>\n",
       "      <th>2015/16</th>\n",
       "      <th>2016/17</th>\n",
       "      <th>2017/18</th>\n",
       "      <th>2018/19</th>\n",
       "      <th>2019/20</th>\n",
       "      <th>Total_production</th>\n",
       "    </tr>\n",
       "  </thead>\n",
       "  <tbody>\n",
       "    <tr>\n",
       "      <th>0</th>\n",
       "      <td>Angola</td>\n",
       "      <td>Robusta/Arabica</td>\n",
       "      <td>3000000.0</td>\n",
       "      <td>4740000.0</td>\n",
       "      <td>4680000.0</td>\n",
       "      <td>1980000.0</td>\n",
       "      <td>4620000.0</td>\n",
       "      <td>3720000.0</td>\n",
       "      <td>4260000.0</td>\n",
       "      <td>3840000.0</td>\n",
       "      <td>5100000.0</td>\n",
       "      <td>3300000.0</td>\n",
       "      <td>3000000.0</td>\n",
       "      <td>1260000.0</td>\n",
       "      <td>3420000.0</td>\n",
       "      <td>2280000.0</td>\n",
       "      <td>900000.0</td>\n",
       "      <td>1500000.0</td>\n",
       "      <td>2100000.0</td>\n",
       "      <td>2160000.0</td>\n",
       "      <td>2280000.0</td>\n",
       "      <td>780000.0</td>\n",
       "      <td>2100000.0</td>\n",
       "      <td>1740000.0</td>\n",
       "      <td>1980000.0</td>\n",
       "      <td>2100000.0</td>\n",
       "      <td>2340000.0</td>\n",
       "      <td>2460000.0</td>\n",
       "      <td>2700000.0</td>\n",
       "      <td>2100000.0</td>\n",
       "      <td>2520000.0</td>\n",
       "      <td>3120000.0</td>\n",
       "      <td>82080000.0</td>\n",
       "    </tr>\n",
       "    <tr>\n",
       "      <th>1</th>\n",
       "      <td>Bolivia (Plurinational State of)</td>\n",
       "      <td>Arabica</td>\n",
       "      <td>7380000.0</td>\n",
       "      <td>6240000.0</td>\n",
       "      <td>7200000.0</td>\n",
       "      <td>3060000.0</td>\n",
       "      <td>7020000.0</td>\n",
       "      <td>8520000.0</td>\n",
       "      <td>7500000.0</td>\n",
       "      <td>8460000.0</td>\n",
       "      <td>8280000.0</td>\n",
       "      <td>9480000.0</td>\n",
       "      <td>8880000.0</td>\n",
       "      <td>5640000.0</td>\n",
       "      <td>7620000.0</td>\n",
       "      <td>6180000.0</td>\n",
       "      <td>9300000.0</td>\n",
       "      <td>6600000.0</td>\n",
       "      <td>8760000.0</td>\n",
       "      <td>6960000.0</td>\n",
       "      <td>7200000.0</td>\n",
       "      <td>7680000.0</td>\n",
       "      <td>7020000.0</td>\n",
       "      <td>7920000.0</td>\n",
       "      <td>6300000.0</td>\n",
       "      <td>7200000.0</td>\n",
       "      <td>6000000.0</td>\n",
       "      <td>5040000.0</td>\n",
       "      <td>4680000.0</td>\n",
       "      <td>5040000.0</td>\n",
       "      <td>4980000.0</td>\n",
       "      <td>4860000.0</td>\n",
       "      <td>207000000.0</td>\n",
       "    </tr>\n",
       "  </tbody>\n",
       "</table>\n",
       "</div>"
      ],
      "text/plain": [
       "                            Country      Coffee type    1990/91    1991/92  \\\n",
       "0                            Angola  Robusta/Arabica  3000000.0  4740000.0   \n",
       "1  Bolivia (Plurinational State of)          Arabica  7380000.0  6240000.0   \n",
       "\n",
       "     1992/93    1993/94    1994/95    1995/96    1996/97    1997/98  \\\n",
       "0  4680000.0  1980000.0  4620000.0  3720000.0  4260000.0  3840000.0   \n",
       "1  7200000.0  3060000.0  7020000.0  8520000.0  7500000.0  8460000.0   \n",
       "\n",
       "     1998/99    1999/00    2000/01    2001/02    2002/03    2003/04  \\\n",
       "0  5100000.0  3300000.0  3000000.0  1260000.0  3420000.0  2280000.0   \n",
       "1  8280000.0  9480000.0  8880000.0  5640000.0  7620000.0  6180000.0   \n",
       "\n",
       "     2004/05    2005/06    2006/07    2007/08    2008/09    2009/10  \\\n",
       "0   900000.0  1500000.0  2100000.0  2160000.0  2280000.0   780000.0   \n",
       "1  9300000.0  6600000.0  8760000.0  6960000.0  7200000.0  7680000.0   \n",
       "\n",
       "     2010/11    2011/12    2012/13    2013/14    2014/15    2015/16  \\\n",
       "0  2100000.0  1740000.0  1980000.0  2100000.0  2340000.0  2460000.0   \n",
       "1  7020000.0  7920000.0  6300000.0  7200000.0  6000000.0  5040000.0   \n",
       "\n",
       "     2016/17    2017/18    2018/19    2019/20  Total_production  \n",
       "0  2700000.0  2100000.0  2520000.0  3120000.0        82080000.0  \n",
       "1  4680000.0  5040000.0  4980000.0  4860000.0       207000000.0  "
      ]
     },
     "execution_count": 23,
     "metadata": {},
     "output_type": "execute_result"
    }
   ],
   "source": [
    "coffee_production_0.head(2)"
   ]
  },
  {
   "cell_type": "code",
   "execution_count": 30,
   "id": "00090e58",
   "metadata": {},
   "outputs": [
    {
     "name": "stdout",
     "output_type": "stream",
     "text": [
      "<class 'pandas.core.frame.DataFrame'>\n",
      "RangeIndex: 55 entries, 0 to 54\n",
      "Data columns (total 33 columns):\n",
      " #   Column            Non-Null Count  Dtype  \n",
      "---  ------            --------------  -----  \n",
      " 0   Country           55 non-null     object \n",
      " 1   Coffee type       55 non-null     object \n",
      " 2   1990/91           55 non-null     float64\n",
      " 3   1991/92           55 non-null     float64\n",
      " 4   1992/93           55 non-null     float64\n",
      " 5   1993/94           55 non-null     float64\n",
      " 6   1994/95           55 non-null     float64\n",
      " 7   1995/96           55 non-null     float64\n",
      " 8   1996/97           55 non-null     float64\n",
      " 9   1997/98           55 non-null     float64\n",
      " 10  1998/99           55 non-null     float64\n",
      " 11  1999/00           55 non-null     float64\n",
      " 12  2000/01           55 non-null     float64\n",
      " 13  2001/02           55 non-null     float64\n",
      " 14  2002/03           55 non-null     float64\n",
      " 15  2003/04           55 non-null     float64\n",
      " 16  2004/05           55 non-null     float64\n",
      " 17  2005/06           55 non-null     float64\n",
      " 18  2006/07           55 non-null     float64\n",
      " 19  2007/08           55 non-null     float64\n",
      " 20  2008/09           55 non-null     float64\n",
      " 21  2009/10           55 non-null     float64\n",
      " 22  2010/11           55 non-null     float64\n",
      " 23  2011/12           55 non-null     float64\n",
      " 24  2012/13           55 non-null     float64\n",
      " 25  2013/14           55 non-null     float64\n",
      " 26  2014/15           55 non-null     float64\n",
      " 27  2015/16           55 non-null     float64\n",
      " 28  2016/17           55 non-null     float64\n",
      " 29  2017/18           55 non-null     float64\n",
      " 30  2018/19           55 non-null     float64\n",
      " 31  2019/20           55 non-null     float64\n",
      " 32  Total_production  55 non-null     float64\n",
      "dtypes: float64(31), object(2)\n",
      "memory usage: 14.3+ KB\n"
     ]
    }
   ],
   "source": [
    "coffee_production_0.info()"
   ]
  },
  {
   "cell_type": "markdown",
   "id": "66c402dd",
   "metadata": {},
   "source": [
    "<font size=\"5\">Re Export info here</font>"
   ]
  },
  {
   "cell_type": "code",
   "execution_count": 24,
   "id": "ff880fea",
   "metadata": {},
   "outputs": [
    {
     "data": {
      "text/html": [
       "<div>\n",
       "<style scoped>\n",
       "    .dataframe tbody tr th:only-of-type {\n",
       "        vertical-align: middle;\n",
       "    }\n",
       "\n",
       "    .dataframe tbody tr th {\n",
       "        vertical-align: top;\n",
       "    }\n",
       "\n",
       "    .dataframe thead th {\n",
       "        text-align: right;\n",
       "    }\n",
       "</style>\n",
       "<table border=\"1\" class=\"dataframe\">\n",
       "  <thead>\n",
       "    <tr style=\"text-align: right;\">\n",
       "      <th></th>\n",
       "      <th>Country</th>\n",
       "      <th>1990</th>\n",
       "      <th>1991</th>\n",
       "      <th>1992</th>\n",
       "      <th>1993</th>\n",
       "      <th>1994</th>\n",
       "      <th>1995</th>\n",
       "      <th>1996</th>\n",
       "      <th>1997</th>\n",
       "      <th>1998</th>\n",
       "      <th>1999</th>\n",
       "      <th>2000</th>\n",
       "      <th>2001</th>\n",
       "      <th>2002</th>\n",
       "      <th>2003</th>\n",
       "      <th>2004</th>\n",
       "      <th>2005</th>\n",
       "      <th>2006</th>\n",
       "      <th>2007</th>\n",
       "      <th>2008</th>\n",
       "      <th>2009</th>\n",
       "      <th>2010</th>\n",
       "      <th>2011</th>\n",
       "      <th>2012</th>\n",
       "      <th>2013</th>\n",
       "      <th>2014</th>\n",
       "      <th>2015</th>\n",
       "      <th>2016</th>\n",
       "      <th>2017</th>\n",
       "      <th>2018</th>\n",
       "      <th>2019</th>\n",
       "      <th>Total_re_export</th>\n",
       "    </tr>\n",
       "  </thead>\n",
       "  <tbody>\n",
       "    <tr>\n",
       "      <th>0</th>\n",
       "      <td>Austria</td>\n",
       "      <td>24900000</td>\n",
       "      <td>45360000</td>\n",
       "      <td>57600000</td>\n",
       "      <td>32100000</td>\n",
       "      <td>22860000</td>\n",
       "      <td>13740000</td>\n",
       "      <td>9780000</td>\n",
       "      <td>13320000</td>\n",
       "      <td>12600000</td>\n",
       "      <td>23880000</td>\n",
       "      <td>24540000</td>\n",
       "      <td>26400000</td>\n",
       "      <td>31680000</td>\n",
       "      <td>37200000</td>\n",
       "      <td>32580000</td>\n",
       "      <td>48360000</td>\n",
       "      <td>59460000</td>\n",
       "      <td>67200000</td>\n",
       "      <td>59520000</td>\n",
       "      <td>24900000</td>\n",
       "      <td>27780000</td>\n",
       "      <td>21900000</td>\n",
       "      <td>18240000</td>\n",
       "      <td>18660000</td>\n",
       "      <td>23160000</td>\n",
       "      <td>22680000</td>\n",
       "      <td>18480000</td>\n",
       "      <td>18480000</td>\n",
       "      <td>15420000</td>\n",
       "      <td>16440000</td>\n",
       "      <td>869220000</td>\n",
       "    </tr>\n",
       "    <tr>\n",
       "      <th>1</th>\n",
       "      <td>Belgium</td>\n",
       "      <td>0</td>\n",
       "      <td>0</td>\n",
       "      <td>0</td>\n",
       "      <td>0</td>\n",
       "      <td>0</td>\n",
       "      <td>0</td>\n",
       "      <td>0</td>\n",
       "      <td>0</td>\n",
       "      <td>0</td>\n",
       "      <td>130140000</td>\n",
       "      <td>141420000</td>\n",
       "      <td>139440000</td>\n",
       "      <td>138480000</td>\n",
       "      <td>134280000</td>\n",
       "      <td>154320000</td>\n",
       "      <td>174300000</td>\n",
       "      <td>184020000</td>\n",
       "      <td>174660000</td>\n",
       "      <td>368520000</td>\n",
       "      <td>298860000</td>\n",
       "      <td>303180000</td>\n",
       "      <td>293640000</td>\n",
       "      <td>285240000</td>\n",
       "      <td>255420000</td>\n",
       "      <td>237180000</td>\n",
       "      <td>267600000</td>\n",
       "      <td>273000000</td>\n",
       "      <td>262620000</td>\n",
       "      <td>262620000</td>\n",
       "      <td>300840000</td>\n",
       "      <td>4779780000</td>\n",
       "    </tr>\n",
       "  </tbody>\n",
       "</table>\n",
       "</div>"
      ],
      "text/plain": [
       "      Country      1990      1991      1992      1993      1994      1995  \\\n",
       "0     Austria  24900000  45360000  57600000  32100000  22860000  13740000   \n",
       "1     Belgium         0         0         0         0         0         0   \n",
       "\n",
       "      1996      1997      1998       1999       2000       2001       2002  \\\n",
       "0  9780000  13320000  12600000   23880000   24540000   26400000   31680000   \n",
       "1        0         0         0  130140000  141420000  139440000  138480000   \n",
       "\n",
       "        2003       2004       2005       2006       2007       2008  \\\n",
       "0   37200000   32580000   48360000   59460000   67200000   59520000   \n",
       "1  134280000  154320000  174300000  184020000  174660000  368520000   \n",
       "\n",
       "        2009       2010       2011       2012       2013       2014  \\\n",
       "0   24900000   27780000   21900000   18240000   18660000   23160000   \n",
       "1  298860000  303180000  293640000  285240000  255420000  237180000   \n",
       "\n",
       "        2015       2016       2017       2018       2019  Total_re_export  \n",
       "0   22680000   18480000   18480000   15420000   16440000        869220000  \n",
       "1  267600000  273000000  262620000  262620000  300840000       4779780000  "
      ]
     },
     "execution_count": 24,
     "metadata": {},
     "output_type": "execute_result"
    }
   ],
   "source": [
    "coffee_re_export_0.head(2)"
   ]
  },
  {
   "cell_type": "code",
   "execution_count": 31,
   "id": "08a5255d",
   "metadata": {},
   "outputs": [
    {
     "name": "stdout",
     "output_type": "stream",
     "text": [
      "<class 'pandas.core.frame.DataFrame'>\n",
      "RangeIndex: 35 entries, 0 to 34\n",
      "Data columns (total 32 columns):\n",
      " #   Column           Non-Null Count  Dtype \n",
      "---  ------           --------------  ----- \n",
      " 0   Country          35 non-null     object\n",
      " 1   1990             35 non-null     int64 \n",
      " 2   1991             35 non-null     int64 \n",
      " 3   1992             35 non-null     int64 \n",
      " 4   1993             35 non-null     int64 \n",
      " 5   1994             35 non-null     int64 \n",
      " 6   1995             35 non-null     int64 \n",
      " 7   1996             35 non-null     int64 \n",
      " 8   1997             35 non-null     int64 \n",
      " 9   1998             35 non-null     int64 \n",
      " 10  1999             35 non-null     int64 \n",
      " 11  2000             35 non-null     int64 \n",
      " 12  2001             35 non-null     int64 \n",
      " 13  2002             35 non-null     int64 \n",
      " 14  2003             35 non-null     int64 \n",
      " 15  2004             35 non-null     int64 \n",
      " 16  2005             35 non-null     int64 \n",
      " 17  2006             35 non-null     int64 \n",
      " 18  2007             35 non-null     int64 \n",
      " 19  2008             35 non-null     int64 \n",
      " 20  2009             35 non-null     int64 \n",
      " 21  2010             35 non-null     int64 \n",
      " 22  2011             35 non-null     int64 \n",
      " 23  2012             35 non-null     int64 \n",
      " 24  2013             35 non-null     int64 \n",
      " 25  2014             35 non-null     int64 \n",
      " 26  2015             35 non-null     int64 \n",
      " 27  2016             35 non-null     int64 \n",
      " 28  2017             35 non-null     int64 \n",
      " 29  2018             35 non-null     int64 \n",
      " 30  2019             35 non-null     int64 \n",
      " 31  Total_re_export  35 non-null     int64 \n",
      "dtypes: int64(31), object(1)\n",
      "memory usage: 8.9+ KB\n"
     ]
    }
   ],
   "source": [
    "coffee_re_export_0.info()"
   ]
  },
  {
   "cell_type": "code",
   "execution_count": null,
   "id": "07224f71",
   "metadata": {},
   "outputs": [],
   "source": []
  }
 ],
 "metadata": {
  "kernelspec": {
   "display_name": "Python 3 (ipykernel)",
   "language": "python",
   "name": "python3"
  },
  "language_info": {
   "codemirror_mode": {
    "name": "ipython",
    "version": 3
   },
   "file_extension": ".py",
   "mimetype": "text/x-python",
   "name": "python",
   "nbconvert_exporter": "python",
   "pygments_lexer": "ipython3",
   "version": "3.10.9"
  }
 },
 "nbformat": 4,
 "nbformat_minor": 5
}
